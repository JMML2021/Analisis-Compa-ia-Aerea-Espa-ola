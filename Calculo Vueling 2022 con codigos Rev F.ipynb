{
  "cells": [
    {
      "cell_type": "markdown",
      "metadata": {
        "id": "view-in-github",
        "colab_type": "text"
      },
      "source": [
        "<a href=\"https://colab.research.google.com/github/JMML2021/Analisis-Compa-ia-Aerea-Espa-ola/blob/main/Calculo%20Vueling%202022%20con%20codigos%20Rev%20F.ipynb\" target=\"_parent\"><img src=\"https://colab.research.google.com/assets/colab-badge.svg\" alt=\"Open In Colab\"/></a>"
      ]
    },
    {
      "cell_type": "code",
      "execution_count": 3,
      "id": "bd57345b",
      "metadata": {
        "ExecuteTime": {
          "end_time": "2022-06-03T12:55:21.902609Z",
          "start_time": "2022-06-03T12:55:21.896597Z"
        },
        "id": "bd57345b"
      },
      "outputs": [],
      "source": [
        "import numpy as np\n",
        "import matplotlib as plt\n",
        "import pandas as pd\n",
        "import csv\n",
        "import seaborn as sns\n",
        "import datetime\n",
        "from datetime import timedelta\n",
        "from colorama import init, Fore, Back, Style\n"
      ]
    },
    {
      "cell_type": "markdown",
      "id": "969d44c3",
      "metadata": {
        "id": "969d44c3"
      },
      "source": [
        "# Cargar fichero de # Abrimos los ficheros "
      ]
    },
    {
      "cell_type": "code",
      "source": [
        "from google.colab import drive\n",
        "drive.mount('/content/drive')"
      ],
      "metadata": {
        "colab": {
          "base_uri": "https://localhost:8080/"
        },
        "id": "zOdozIiXonfu",
        "outputId": "5ab93720-4dec-4029-91be-da6f4648e9b1"
      },
      "id": "zOdozIiXonfu",
      "execution_count": 4,
      "outputs": [
        {
          "output_type": "stream",
          "name": "stdout",
          "text": [
            "Mounted at /content/drive\n"
          ]
        }
      ]
    },
    {
      "cell_type": "code",
      "source": [
        "path='/content/drive/MyDrive/2022.06.03 2022_delay + cierre puertas CORTO.xlsx'"
      ],
      "metadata": {
        "id": "BgkDA49LpshT"
      },
      "id": "BgkDA49LpshT",
      "execution_count": 5,
      "outputs": []
    },
    {
      "cell_type": "code",
      "source": [
        "path= '/content/drive/MyDrive/Ficheros de Vueling/2022.06.03 2022_delay + cierre puertas.xlsx'"
      ],
      "metadata": {
        "id": "Ddr5UGBYook-"
      },
      "id": "Ddr5UGBYook-",
      "execution_count": 6,
      "outputs": []
    },
    {
      "cell_type": "code",
      "source": [
        "# Abrir fichero de Github.\n",
        "#path='/content/drive/MyDrive/2022.06.03 2022_delay + cierre puertas CORTO.xlsx'\n",
        "Hoja = 'FLT_2022'\n",
        "\n",
        "df = pd.read_excel(path, sheet_name=Hoja)\n"
      ],
      "metadata": {
        "id": "CUatzBHvUZeM"
      },
      "id": "CUatzBHvUZeM",
      "execution_count": 7,
      "outputs": []
    },
    {
      "cell_type": "markdown",
      "source": [
        ""
      ],
      "metadata": {
        "id": "0ixwaVMEOdQ_"
      },
      "id": "0ixwaVMEOdQ_"
    },
    {
      "cell_type": "code",
      "source": [
        "# Los nombre de las columnas tienen muchos espacios en blanco\n",
        "\n",
        "nombreColumnas= df.columns\n",
        "nombreColumnas"
      ],
      "metadata": {
        "colab": {
          "base_uri": "https://localhost:8080/"
        },
        "id": "JHV2c6ltr7Tx",
        "outputId": "05f0f316-44ef-4606-8be9-397d025f8bb5"
      },
      "id": "JHV2c6ltr7Tx",
      "execution_count": 8,
      "outputs": [
        {
          "output_type": "execute_result",
          "data": {
            "text/plain": [
              "Index(['DATE                             ', 'FLT    ', 'REG   ', 'AC ', 'DEP',\n",
              "       'ARR', 'STD  ', 'STA  ', 'TKof ',\n",
              "       'TDwn                                                      ', 'ATD  ',\n",
              "       'ATA  ', 'BLOCK', 'FLThr', 'DStand', 'AStand', 'ACT PAX  ', 'LF ',\n",
              "       'Taxi-out', 'Taxi-In', 'SLOT       ', 'C1', 'DLY1 ', 'Sub1', 'C2',\n",
              "       'DLY2 ', 'Sub2', 'C3', 'DLY3 ', 'Sub3', 'C4', 'DLY4 ', 'Sub4', 'C1Arr',\n",
              "       'DLY1Arr', 'Close Pax Door', 'Close Cargo Door', 'Open Cargo/Pax Door',\n",
              "       'close pax door2', 'close cargo door2', 'open cargo/pax door2'],\n",
              "      dtype='object')"
            ]
          },
          "metadata": {},
          "execution_count": 8
        }
      ]
    },
    {
      "cell_type": "code",
      "source": [
        "# Aqui corrijo los nombre de las columnas\n",
        "nombreColumnaCorregido= ['DATE', 'FLT', 'REG', 'AC', 'DEP',\n",
        "       'ARR', 'STD', 'STA', 'TKof', 'TDwn', 'ATD',\n",
        "       'ATA', 'BLOCK', 'FLThr', 'DStand', 'AStand', 'ACT PAX', 'LF',\n",
        "       'Taxi-out', 'Taxi-In', 'SLOT', 'C1', 'DLY1', 'Sub1', 'C2',\n",
        "       'DLY2', 'Sub2', 'C3', 'DLY3', 'Sub3', 'C4', 'DLY4', 'Sub4', 'C1Arr',\n",
        "       'DLY1Arr', 'Close Pax Door', 'Close Cargo Door', 'Open Cargo/Pax Door',\n",
        "       'close pax door2', 'close cargo door2', 'open cargo/pax door2']"
      ],
      "metadata": {
        "id": "tN_LZY5ptL1c"
      },
      "id": "tN_LZY5ptL1c",
      "execution_count": 9,
      "outputs": []
    },
    {
      "cell_type": "code",
      "source": [
        "df['Close Pax Door']"
      ],
      "metadata": {
        "colab": {
          "base_uri": "https://localhost:8080/"
        },
        "id": "Hctq0DOGxKA_",
        "outputId": "35a699f8-6f35-4ca3-b817-8e23318888af"
      },
      "id": "Hctq0DOGxKA_",
      "execution_count": 10,
      "outputs": [
        {
          "output_type": "execute_result",
          "data": {
            "text/plain": [
              "0        2022-01-01 07:58:00.000\n",
              "1        2022-01-01 09:48:00.000\n",
              "2        2022-01-01 11:38:00.000\n",
              "3        2022-01-01 13:18:00.000\n",
              "4        2022-01-01 15:07:00.000\n",
              "                  ...           \n",
              "60487    2022-05-23 00:00:00.000\n",
              "60488    2022-05-23 00:00:00.000\n",
              "60489    2022-05-23 00:00:00.000\n",
              "60490    2022-05-23 00:00:00.000\n",
              "60491    2022-05-23 00:00:00.000\n",
              "Name: Close Pax Door, Length: 60492, dtype: object"
            ]
          },
          "metadata": {},
          "execution_count": 10
        }
      ]
    },
    {
      "cell_type": "code",
      "source": [
        "# Proceso para cambiar el nombre de las columnas por un bucle FOR\n",
        "for n, m in enumerate(nombreColumnas):\n",
        "  print(n, m,'*',nombreColumnaCorregido[n],'-')\n",
        "  df.rename({m: nombreColumnaCorregido[n]}, axis=1, inplace=True)"
      ],
      "metadata": {
        "colab": {
          "base_uri": "https://localhost:8080/"
        },
        "id": "QhpCcTPGsg4x",
        "outputId": "a8ea02ab-a48e-42ca-e43f-4bee2b8da5c6"
      },
      "id": "QhpCcTPGsg4x",
      "execution_count": 11,
      "outputs": [
        {
          "output_type": "stream",
          "name": "stdout",
          "text": [
            "0 DATE                              * DATE -\n",
            "1 FLT     * FLT -\n",
            "2 REG    * REG -\n",
            "3 AC  * AC -\n",
            "4 DEP * DEP -\n",
            "5 ARR * ARR -\n",
            "6 STD   * STD -\n",
            "7 STA   * STA -\n",
            "8 TKof  * TKof -\n",
            "9 TDwn                                                       * TDwn -\n",
            "10 ATD   * ATD -\n",
            "11 ATA   * ATA -\n",
            "12 BLOCK * BLOCK -\n",
            "13 FLThr * FLThr -\n",
            "14 DStand * DStand -\n",
            "15 AStand * AStand -\n",
            "16 ACT PAX   * ACT PAX -\n",
            "17 LF  * LF -\n",
            "18 Taxi-out * Taxi-out -\n",
            "19 Taxi-In * Taxi-In -\n",
            "20 SLOT        * SLOT -\n",
            "21 C1 * C1 -\n",
            "22 DLY1  * DLY1 -\n",
            "23 Sub1 * Sub1 -\n",
            "24 C2 * C2 -\n",
            "25 DLY2  * DLY2 -\n",
            "26 Sub2 * Sub2 -\n",
            "27 C3 * C3 -\n",
            "28 DLY3  * DLY3 -\n",
            "29 Sub3 * Sub3 -\n",
            "30 C4 * C4 -\n",
            "31 DLY4  * DLY4 -\n",
            "32 Sub4 * Sub4 -\n",
            "33 C1Arr * C1Arr -\n",
            "34 DLY1Arr * DLY1Arr -\n",
            "35 Close Pax Door * Close Pax Door -\n",
            "36 Close Cargo Door * Close Cargo Door -\n",
            "37 Open Cargo/Pax Door * Open Cargo/Pax Door -\n",
            "38 close pax door2 * close pax door2 -\n",
            "39 close cargo door2 * close cargo door2 -\n",
            "40 open cargo/pax door2 * open cargo/pax door2 -\n"
          ]
        }
      ]
    },
    {
      "cell_type": "code",
      "execution_count": 12,
      "id": "f94d940b",
      "metadata": {
        "ExecuteTime": {
          "end_time": "2022-06-03T12:55:22.041613Z",
          "start_time": "2022-06-03T12:55:22.041613Z"
        },
        "colab": {
          "base_uri": "https://localhost:8080/"
        },
        "id": "f94d940b",
        "outputId": "c3938bf5-4520-4bb3-8cf6-d4044033ccdc"
      },
      "outputs": [
        {
          "output_type": "stream",
          "name": "stdout",
          "text": [
            "   Secuencia       STD  DEP\n",
            "0        1.0  07:40:00  BIO\n",
            "1        2.0  09:40:00  SVQ\n",
            "2        3.0  11:40:00  BIO\n",
            "3        4.0  13:30:00  SCQ\n"
          ]
        }
      ],
      "source": [
        "df['Secuencia'] = df.groupby(['DATE', 'REG'])['STD'].rank()\n",
        "print(df[['Secuencia','STD', 'DEP']][0:4])"
      ]
    },
    {
      "cell_type": "code",
      "execution_count": 13,
      "id": "f8e5216e",
      "metadata": {
        "ExecuteTime": {
          "end_time": "2022-06-03T12:55:22.050590Z",
          "start_time": "2022-06-03T12:55:22.050590Z"
        },
        "id": "f8e5216e"
      },
      "outputs": [],
      "source": [
        "# Identifico los Aeropuertos principales.\n",
        "\n",
        "path =(r\"/content/drive/MyDrive/Flights Movement 2019-2022 MAR.xlsx\")\n",
        " \n",
        "df_Aeropuertos = pd.read_excel(path, sheet_name='Aeropuertos')\n",
        "df_Aeropuertos = df_Aeropuertos.drop(['Borrar'], axis=1)\n",
        "\n",
        "#df_Aeropuertos.head"
      ]
    },
    {
      "cell_type": "code",
      "execution_count": 14,
      "id": "aa58a93f",
      "metadata": {
        "ExecuteTime": {
          "end_time": "2022-06-03T12:55:22.052584Z",
          "start_time": "2022-06-03T12:55:22.052584Z"
        },
        "colab": {
          "base_uri": "https://localhost:8080/",
          "height": 696
        },
        "id": "aa58a93f",
        "outputId": "fd020db5-58e4-4c85-b8b5-daac88cc96fb"
      },
      "outputs": [
        {
          "output_type": "execute_result",
          "data": {
            "text/plain": [
              "            DATE   FLT     REG   AC  DEP  ARR       STD       STA      TKof  \\\n",
              "0     2022-01-01  2506  EC-JSY  320  BIO  SVQ  07:40:00  09:05:00  08:10:00   \n",
              "1     2022-01-01  2505  EC-JSY  320  SVQ  BIO  09:40:00  11:05:00  10:03:00   \n",
              "2     2022-01-01  1386  EC-JSY  320  BIO  SCQ  11:40:00  12:50:00  11:50:00   \n",
              "3     2022-01-01  1387  EC-JSY  320  SCQ  BIO  13:30:00  14:35:00  13:30:00   \n",
              "4     2022-01-01  3262  EC-JSY  320  BIO  TFN  15:15:00  18:20:00  15:23:00   \n",
              "...          ...   ...     ...  ...  ...  ...       ...       ...       ...   \n",
              "60487        NaT   NaN     NaN  NaN  NaN  NaN       NaN       NaN       NaN   \n",
              "60488        NaT   NaN     NaN  NaN  NaN  NaN       NaN       NaN       NaN   \n",
              "60489        NaT   NaN     NaN  NaN  NaN  NaN       NaN       NaN       NaN   \n",
              "60490        NaT   NaN     NaN  NaN  NaN  NaN       NaN       NaN       NaN   \n",
              "60491        NaT   NaN     NaN  NaN  NaN  NaN       NaN       NaN       NaN   \n",
              "\n",
              "           TDwn  ...  Sub4  C1Arr   DLY1Arr           Close Pax Door  \\\n",
              "0      09:17:00  ...            8  00:15:00  2022-01-01 07:58:00.000   \n",
              "1      11:07:00  ...            8  00:04:00  2022-01-01 09:48:00.000   \n",
              "2      12:40:00  ...                    NaN  2022-01-01 11:38:00.000   \n",
              "3      14:08:00  ...                    NaN  2022-01-01 13:18:00.000   \n",
              "4      18:07:00  ...                    NaN  2022-01-01 15:07:00.000   \n",
              "...         ...  ...   ...    ...       ...                      ...   \n",
              "60487       NaN  ...   NaN    NaN       NaN  2022-05-23 00:00:00.000   \n",
              "60488       NaN  ...   NaN    NaN       NaN  2022-05-23 00:00:00.000   \n",
              "60489       NaN  ...   NaN    NaN       NaN  2022-05-23 00:00:00.000   \n",
              "60490       NaN  ...   NaN    NaN       NaN  2022-05-23 00:00:00.000   \n",
              "60491       NaN  ...   NaN    NaN       NaN  2022-05-23 00:00:00.000   \n",
              "\n",
              "              Close Cargo Door      Open Cargo/Pax Door  close pax door2  \\\n",
              "0      2022-01-01 07:31:00.000  2022-01-01 09:23:00.000            07:58   \n",
              "1      2022-01-01 09:46:00.000  2022-01-01 11:11:00.000            09:48   \n",
              "2      2022-01-01 11:34:00.000  2022-01-01 12:46:00.000            11:38   \n",
              "3      2022-01-01 13:06:00.000  2022-01-01 14:12:00.000            13:18   \n",
              "4      2022-01-01 15:01:00.000  2022-01-01 18:14:00.000            15:07   \n",
              "...                        ...                      ...              ...   \n",
              "60487  2022-05-23 00:00:00.000                      NaN            00:00   \n",
              "60488  2022-05-23 00:00:00.000                      NaN            00:00   \n",
              "60489  2022-05-23 00:00:00.000                      NaN            00:00   \n",
              "60490  2022-05-23 00:00:00.000                      NaN            00:00   \n",
              "60491  2022-05-23 00:00:00.000                      NaN            00:00   \n",
              "\n",
              "       close cargo door2 open cargo/pax door2 Secuencia  \n",
              "0                  07:31                09:23       1.0  \n",
              "1                  09:46                11:11       2.0  \n",
              "2                  11:34                12:46       3.0  \n",
              "3                  13:06                14:12       4.0  \n",
              "4                  15:01                18:14       5.0  \n",
              "...                  ...                  ...       ...  \n",
              "60487              00:00                  NaN       NaN  \n",
              "60488              00:00                  NaN       NaN  \n",
              "60489              00:00                  NaN       NaN  \n",
              "60490              00:00                  NaN       NaN  \n",
              "60491              00:00                  NaN       NaN  \n",
              "\n",
              "[60492 rows x 42 columns]"
            ],
            "text/html": [
              "\n",
              "  <div id=\"df-38b698ad-4f51-4702-af18-25514e5f59de\">\n",
              "    <div class=\"colab-df-container\">\n",
              "      <div>\n",
              "<style scoped>\n",
              "    .dataframe tbody tr th:only-of-type {\n",
              "        vertical-align: middle;\n",
              "    }\n",
              "\n",
              "    .dataframe tbody tr th {\n",
              "        vertical-align: top;\n",
              "    }\n",
              "\n",
              "    .dataframe thead th {\n",
              "        text-align: right;\n",
              "    }\n",
              "</style>\n",
              "<table border=\"1\" class=\"dataframe\">\n",
              "  <thead>\n",
              "    <tr style=\"text-align: right;\">\n",
              "      <th></th>\n",
              "      <th>DATE</th>\n",
              "      <th>FLT</th>\n",
              "      <th>REG</th>\n",
              "      <th>AC</th>\n",
              "      <th>DEP</th>\n",
              "      <th>ARR</th>\n",
              "      <th>STD</th>\n",
              "      <th>STA</th>\n",
              "      <th>TKof</th>\n",
              "      <th>TDwn</th>\n",
              "      <th>...</th>\n",
              "      <th>Sub4</th>\n",
              "      <th>C1Arr</th>\n",
              "      <th>DLY1Arr</th>\n",
              "      <th>Close Pax Door</th>\n",
              "      <th>Close Cargo Door</th>\n",
              "      <th>Open Cargo/Pax Door</th>\n",
              "      <th>close pax door2</th>\n",
              "      <th>close cargo door2</th>\n",
              "      <th>open cargo/pax door2</th>\n",
              "      <th>Secuencia</th>\n",
              "    </tr>\n",
              "  </thead>\n",
              "  <tbody>\n",
              "    <tr>\n",
              "      <th>0</th>\n",
              "      <td>2022-01-01</td>\n",
              "      <td>2506</td>\n",
              "      <td>EC-JSY</td>\n",
              "      <td>320</td>\n",
              "      <td>BIO</td>\n",
              "      <td>SVQ</td>\n",
              "      <td>07:40:00</td>\n",
              "      <td>09:05:00</td>\n",
              "      <td>08:10:00</td>\n",
              "      <td>09:17:00</td>\n",
              "      <td>...</td>\n",
              "      <td></td>\n",
              "      <td>8</td>\n",
              "      <td>00:15:00</td>\n",
              "      <td>2022-01-01 07:58:00.000</td>\n",
              "      <td>2022-01-01 07:31:00.000</td>\n",
              "      <td>2022-01-01 09:23:00.000</td>\n",
              "      <td>07:58</td>\n",
              "      <td>07:31</td>\n",
              "      <td>09:23</td>\n",
              "      <td>1.0</td>\n",
              "    </tr>\n",
              "    <tr>\n",
              "      <th>1</th>\n",
              "      <td>2022-01-01</td>\n",
              "      <td>2505</td>\n",
              "      <td>EC-JSY</td>\n",
              "      <td>320</td>\n",
              "      <td>SVQ</td>\n",
              "      <td>BIO</td>\n",
              "      <td>09:40:00</td>\n",
              "      <td>11:05:00</td>\n",
              "      <td>10:03:00</td>\n",
              "      <td>11:07:00</td>\n",
              "      <td>...</td>\n",
              "      <td></td>\n",
              "      <td>8</td>\n",
              "      <td>00:04:00</td>\n",
              "      <td>2022-01-01 09:48:00.000</td>\n",
              "      <td>2022-01-01 09:46:00.000</td>\n",
              "      <td>2022-01-01 11:11:00.000</td>\n",
              "      <td>09:48</td>\n",
              "      <td>09:46</td>\n",
              "      <td>11:11</td>\n",
              "      <td>2.0</td>\n",
              "    </tr>\n",
              "    <tr>\n",
              "      <th>2</th>\n",
              "      <td>2022-01-01</td>\n",
              "      <td>1386</td>\n",
              "      <td>EC-JSY</td>\n",
              "      <td>320</td>\n",
              "      <td>BIO</td>\n",
              "      <td>SCQ</td>\n",
              "      <td>11:40:00</td>\n",
              "      <td>12:50:00</td>\n",
              "      <td>11:50:00</td>\n",
              "      <td>12:40:00</td>\n",
              "      <td>...</td>\n",
              "      <td></td>\n",
              "      <td></td>\n",
              "      <td>NaN</td>\n",
              "      <td>2022-01-01 11:38:00.000</td>\n",
              "      <td>2022-01-01 11:34:00.000</td>\n",
              "      <td>2022-01-01 12:46:00.000</td>\n",
              "      <td>11:38</td>\n",
              "      <td>11:34</td>\n",
              "      <td>12:46</td>\n",
              "      <td>3.0</td>\n",
              "    </tr>\n",
              "    <tr>\n",
              "      <th>3</th>\n",
              "      <td>2022-01-01</td>\n",
              "      <td>1387</td>\n",
              "      <td>EC-JSY</td>\n",
              "      <td>320</td>\n",
              "      <td>SCQ</td>\n",
              "      <td>BIO</td>\n",
              "      <td>13:30:00</td>\n",
              "      <td>14:35:00</td>\n",
              "      <td>13:30:00</td>\n",
              "      <td>14:08:00</td>\n",
              "      <td>...</td>\n",
              "      <td></td>\n",
              "      <td></td>\n",
              "      <td>NaN</td>\n",
              "      <td>2022-01-01 13:18:00.000</td>\n",
              "      <td>2022-01-01 13:06:00.000</td>\n",
              "      <td>2022-01-01 14:12:00.000</td>\n",
              "      <td>13:18</td>\n",
              "      <td>13:06</td>\n",
              "      <td>14:12</td>\n",
              "      <td>4.0</td>\n",
              "    </tr>\n",
              "    <tr>\n",
              "      <th>4</th>\n",
              "      <td>2022-01-01</td>\n",
              "      <td>3262</td>\n",
              "      <td>EC-JSY</td>\n",
              "      <td>320</td>\n",
              "      <td>BIO</td>\n",
              "      <td>TFN</td>\n",
              "      <td>15:15:00</td>\n",
              "      <td>18:20:00</td>\n",
              "      <td>15:23:00</td>\n",
              "      <td>18:07:00</td>\n",
              "      <td>...</td>\n",
              "      <td></td>\n",
              "      <td></td>\n",
              "      <td>NaN</td>\n",
              "      <td>2022-01-01 15:07:00.000</td>\n",
              "      <td>2022-01-01 15:01:00.000</td>\n",
              "      <td>2022-01-01 18:14:00.000</td>\n",
              "      <td>15:07</td>\n",
              "      <td>15:01</td>\n",
              "      <td>18:14</td>\n",
              "      <td>5.0</td>\n",
              "    </tr>\n",
              "    <tr>\n",
              "      <th>...</th>\n",
              "      <td>...</td>\n",
              "      <td>...</td>\n",
              "      <td>...</td>\n",
              "      <td>...</td>\n",
              "      <td>...</td>\n",
              "      <td>...</td>\n",
              "      <td>...</td>\n",
              "      <td>...</td>\n",
              "      <td>...</td>\n",
              "      <td>...</td>\n",
              "      <td>...</td>\n",
              "      <td>...</td>\n",
              "      <td>...</td>\n",
              "      <td>...</td>\n",
              "      <td>...</td>\n",
              "      <td>...</td>\n",
              "      <td>...</td>\n",
              "      <td>...</td>\n",
              "      <td>...</td>\n",
              "      <td>...</td>\n",
              "      <td>...</td>\n",
              "    </tr>\n",
              "    <tr>\n",
              "      <th>60487</th>\n",
              "      <td>NaT</td>\n",
              "      <td>NaN</td>\n",
              "      <td>NaN</td>\n",
              "      <td>NaN</td>\n",
              "      <td>NaN</td>\n",
              "      <td>NaN</td>\n",
              "      <td>NaN</td>\n",
              "      <td>NaN</td>\n",
              "      <td>NaN</td>\n",
              "      <td>NaN</td>\n",
              "      <td>...</td>\n",
              "      <td>NaN</td>\n",
              "      <td>NaN</td>\n",
              "      <td>NaN</td>\n",
              "      <td>2022-05-23 00:00:00.000</td>\n",
              "      <td>2022-05-23 00:00:00.000</td>\n",
              "      <td>NaN</td>\n",
              "      <td>00:00</td>\n",
              "      <td>00:00</td>\n",
              "      <td>NaN</td>\n",
              "      <td>NaN</td>\n",
              "    </tr>\n",
              "    <tr>\n",
              "      <th>60488</th>\n",
              "      <td>NaT</td>\n",
              "      <td>NaN</td>\n",
              "      <td>NaN</td>\n",
              "      <td>NaN</td>\n",
              "      <td>NaN</td>\n",
              "      <td>NaN</td>\n",
              "      <td>NaN</td>\n",
              "      <td>NaN</td>\n",
              "      <td>NaN</td>\n",
              "      <td>NaN</td>\n",
              "      <td>...</td>\n",
              "      <td>NaN</td>\n",
              "      <td>NaN</td>\n",
              "      <td>NaN</td>\n",
              "      <td>2022-05-23 00:00:00.000</td>\n",
              "      <td>2022-05-23 00:00:00.000</td>\n",
              "      <td>NaN</td>\n",
              "      <td>00:00</td>\n",
              "      <td>00:00</td>\n",
              "      <td>NaN</td>\n",
              "      <td>NaN</td>\n",
              "    </tr>\n",
              "    <tr>\n",
              "      <th>60489</th>\n",
              "      <td>NaT</td>\n",
              "      <td>NaN</td>\n",
              "      <td>NaN</td>\n",
              "      <td>NaN</td>\n",
              "      <td>NaN</td>\n",
              "      <td>NaN</td>\n",
              "      <td>NaN</td>\n",
              "      <td>NaN</td>\n",
              "      <td>NaN</td>\n",
              "      <td>NaN</td>\n",
              "      <td>...</td>\n",
              "      <td>NaN</td>\n",
              "      <td>NaN</td>\n",
              "      <td>NaN</td>\n",
              "      <td>2022-05-23 00:00:00.000</td>\n",
              "      <td>2022-05-23 00:00:00.000</td>\n",
              "      <td>NaN</td>\n",
              "      <td>00:00</td>\n",
              "      <td>00:00</td>\n",
              "      <td>NaN</td>\n",
              "      <td>NaN</td>\n",
              "    </tr>\n",
              "    <tr>\n",
              "      <th>60490</th>\n",
              "      <td>NaT</td>\n",
              "      <td>NaN</td>\n",
              "      <td>NaN</td>\n",
              "      <td>NaN</td>\n",
              "      <td>NaN</td>\n",
              "      <td>NaN</td>\n",
              "      <td>NaN</td>\n",
              "      <td>NaN</td>\n",
              "      <td>NaN</td>\n",
              "      <td>NaN</td>\n",
              "      <td>...</td>\n",
              "      <td>NaN</td>\n",
              "      <td>NaN</td>\n",
              "      <td>NaN</td>\n",
              "      <td>2022-05-23 00:00:00.000</td>\n",
              "      <td>2022-05-23 00:00:00.000</td>\n",
              "      <td>NaN</td>\n",
              "      <td>00:00</td>\n",
              "      <td>00:00</td>\n",
              "      <td>NaN</td>\n",
              "      <td>NaN</td>\n",
              "    </tr>\n",
              "    <tr>\n",
              "      <th>60491</th>\n",
              "      <td>NaT</td>\n",
              "      <td>NaN</td>\n",
              "      <td>NaN</td>\n",
              "      <td>NaN</td>\n",
              "      <td>NaN</td>\n",
              "      <td>NaN</td>\n",
              "      <td>NaN</td>\n",
              "      <td>NaN</td>\n",
              "      <td>NaN</td>\n",
              "      <td>NaN</td>\n",
              "      <td>...</td>\n",
              "      <td>NaN</td>\n",
              "      <td>NaN</td>\n",
              "      <td>NaN</td>\n",
              "      <td>2022-05-23 00:00:00.000</td>\n",
              "      <td>2022-05-23 00:00:00.000</td>\n",
              "      <td>NaN</td>\n",
              "      <td>00:00</td>\n",
              "      <td>00:00</td>\n",
              "      <td>NaN</td>\n",
              "      <td>NaN</td>\n",
              "    </tr>\n",
              "  </tbody>\n",
              "</table>\n",
              "<p>60492 rows × 42 columns</p>\n",
              "</div>\n",
              "      <button class=\"colab-df-convert\" onclick=\"convertToInteractive('df-38b698ad-4f51-4702-af18-25514e5f59de')\"\n",
              "              title=\"Convert this dataframe to an interactive table.\"\n",
              "              style=\"display:none;\">\n",
              "        \n",
              "  <svg xmlns=\"http://www.w3.org/2000/svg\" height=\"24px\"viewBox=\"0 0 24 24\"\n",
              "       width=\"24px\">\n",
              "    <path d=\"M0 0h24v24H0V0z\" fill=\"none\"/>\n",
              "    <path d=\"M18.56 5.44l.94 2.06.94-2.06 2.06-.94-2.06-.94-.94-2.06-.94 2.06-2.06.94zm-11 1L8.5 8.5l.94-2.06 2.06-.94-2.06-.94L8.5 2.5l-.94 2.06-2.06.94zm10 10l.94 2.06.94-2.06 2.06-.94-2.06-.94-.94-2.06-.94 2.06-2.06.94z\"/><path d=\"M17.41 7.96l-1.37-1.37c-.4-.4-.92-.59-1.43-.59-.52 0-1.04.2-1.43.59L10.3 9.45l-7.72 7.72c-.78.78-.78 2.05 0 2.83L4 21.41c.39.39.9.59 1.41.59.51 0 1.02-.2 1.41-.59l7.78-7.78 2.81-2.81c.8-.78.8-2.07 0-2.86zM5.41 20L4 18.59l7.72-7.72 1.47 1.35L5.41 20z\"/>\n",
              "  </svg>\n",
              "      </button>\n",
              "      \n",
              "  <style>\n",
              "    .colab-df-container {\n",
              "      display:flex;\n",
              "      flex-wrap:wrap;\n",
              "      gap: 12px;\n",
              "    }\n",
              "\n",
              "    .colab-df-convert {\n",
              "      background-color: #E8F0FE;\n",
              "      border: none;\n",
              "      border-radius: 50%;\n",
              "      cursor: pointer;\n",
              "      display: none;\n",
              "      fill: #1967D2;\n",
              "      height: 32px;\n",
              "      padding: 0 0 0 0;\n",
              "      width: 32px;\n",
              "    }\n",
              "\n",
              "    .colab-df-convert:hover {\n",
              "      background-color: #E2EBFA;\n",
              "      box-shadow: 0px 1px 2px rgba(60, 64, 67, 0.3), 0px 1px 3px 1px rgba(60, 64, 67, 0.15);\n",
              "      fill: #174EA6;\n",
              "    }\n",
              "\n",
              "    [theme=dark] .colab-df-convert {\n",
              "      background-color: #3B4455;\n",
              "      fill: #D2E3FC;\n",
              "    }\n",
              "\n",
              "    [theme=dark] .colab-df-convert:hover {\n",
              "      background-color: #434B5C;\n",
              "      box-shadow: 0px 1px 3px 1px rgba(0, 0, 0, 0.15);\n",
              "      filter: drop-shadow(0px 1px 2px rgba(0, 0, 0, 0.3));\n",
              "      fill: #FFFFFF;\n",
              "    }\n",
              "  </style>\n",
              "\n",
              "      <script>\n",
              "        const buttonEl =\n",
              "          document.querySelector('#df-38b698ad-4f51-4702-af18-25514e5f59de button.colab-df-convert');\n",
              "        buttonEl.style.display =\n",
              "          google.colab.kernel.accessAllowed ? 'block' : 'none';\n",
              "\n",
              "        async function convertToInteractive(key) {\n",
              "          const element = document.querySelector('#df-38b698ad-4f51-4702-af18-25514e5f59de');\n",
              "          const dataTable =\n",
              "            await google.colab.kernel.invokeFunction('convertToInteractive',\n",
              "                                                     [key], {});\n",
              "          if (!dataTable) return;\n",
              "\n",
              "          const docLinkHtml = 'Like what you see? Visit the ' +\n",
              "            '<a target=\"_blank\" href=https://colab.research.google.com/notebooks/data_table.ipynb>data table notebook</a>'\n",
              "            + ' to learn more about interactive tables.';\n",
              "          element.innerHTML = '';\n",
              "          dataTable['output_type'] = 'display_data';\n",
              "          await google.colab.output.renderOutput(dataTable, element);\n",
              "          const docLink = document.createElement('div');\n",
              "          docLink.innerHTML = docLinkHtml;\n",
              "          element.appendChild(docLink);\n",
              "        }\n",
              "      </script>\n",
              "    </div>\n",
              "  </div>\n",
              "  "
            ]
          },
          "metadata": {},
          "execution_count": 14
        }
      ],
      "source": [
        "df"
      ]
    },
    {
      "cell_type": "code",
      "source": [
        "df.columns"
      ],
      "metadata": {
        "colab": {
          "base_uri": "https://localhost:8080/"
        },
        "id": "1WT8wkNCvFNB",
        "outputId": "269cfd6c-3498-4583-f7ae-f9677e2c8b0c"
      },
      "id": "1WT8wkNCvFNB",
      "execution_count": 15,
      "outputs": [
        {
          "output_type": "execute_result",
          "data": {
            "text/plain": [
              "Index(['DATE', 'FLT', 'REG', 'AC', 'DEP', 'ARR', 'STD', 'STA', 'TKof', 'TDwn',\n",
              "       'ATD', 'ATA', 'BLOCK', 'FLThr', 'DStand', 'AStand', 'ACT PAX', 'LF',\n",
              "       'Taxi-out', 'Taxi-In', 'SLOT', 'C1', 'DLY1', 'Sub1', 'C2', 'DLY2',\n",
              "       'Sub2', 'C3', 'DLY3', 'Sub3', 'C4', 'DLY4', 'Sub4', 'C1Arr', 'DLY1Arr',\n",
              "       'Close Pax Door', 'Close Cargo Door', 'Open Cargo/Pax Door',\n",
              "       'close pax door2', 'close cargo door2', 'open cargo/pax door2',\n",
              "       'Secuencia'],\n",
              "      dtype='object')"
            ]
          },
          "metadata": {},
          "execution_count": 15
        }
      ]
    },
    {
      "cell_type": "code",
      "source": [
        ""
      ],
      "metadata": {
        "id": "Q-yDUCmyzbQG"
      },
      "id": "Q-yDUCmyzbQG",
      "execution_count": 15,
      "outputs": []
    },
    {
      "cell_type": "code",
      "execution_count": 16,
      "id": "dd04b249",
      "metadata": {
        "ExecuteTime": {
          "end_time": "2022-06-03T12:55:22.053582Z",
          "start_time": "2022-06-03T12:55:22.053582Z"
        },
        "id": "dd04b249"
      },
      "outputs": [],
      "source": [
        "# Convierto todas las columnas de tiempo en un formato correcto\n",
        "\n",
        "formato = \"%H:%M:%S\"\n",
        "\n",
        "\n",
        "def convertirTiempo(clave):\n",
        "    df[clave] = pd.to_datetime(df[clave],\n",
        "                               format=formato,\n",
        "                               errors='coerce')\n",
        "\n",
        "'''\n",
        "columnasConvertir = ['DATE', 'STD', 'STA', 'TKof', 'TDwn', 'ATD', 'ATA', 'BLOCK', 'FLThr', \n",
        "                     'DLY1Arr','close pax door2', 'close cargo door2', 'open cargo/pax door2',\n",
        "                     'SLOT', 'DLY1', 'DLY2']\n",
        "'''\n",
        "columnasConvertir = ['DATE', 'STD', 'STA', 'TKof', 'TDwn', 'ATD', 'ATA', 'BLOCK', 'FLThr', \n",
        "                     \n",
        "               ]\n",
        "\n",
        "for x in columnasConvertir:\n",
        "    convertirTiempo(x)\n"
      ]
    },
    {
      "cell_type": "code",
      "execution_count": 17,
      "id": "21dc4bfc",
      "metadata": {
        "ExecuteTime": {
          "end_time": "2022-06-03T12:55:22.055576Z",
          "start_time": "2022-06-03T12:55:22.055576Z"
        },
        "id": "21dc4bfc"
      },
      "outputs": [],
      "source": [
        "#Subrutina que suma las fechas con las horas.\n",
        "\n",
        "def adecuarFechas(fecha, tiempoClave):\n",
        "    clave = \"Date_\" + tiempoClave\n",
        "    print('.....Clave: ',clave, '....', fecha, tiempoClave)     \n",
        "    df[tiempoClave] = pd.to_datetime(df[tiempoClave], format='%H:%M', errors='coerce')       \n",
        "    \n",
        "    df[tiempoClave] = pd.to_datetime( df[fecha].dt.strftime('%d/%m/%Y') + ' ' + df[tiempoClave].dt.strftime('%H:%M:%S'))"
      ]
    },
    {
      "cell_type": "code",
      "source": [
        "df['STD']"
      ],
      "metadata": {
        "id": "hHGi4td20U40",
        "outputId": "a2018ae1-9f90-4b32-e47b-3486f53786ce",
        "colab": {
          "base_uri": "https://localhost:8080/"
        }
      },
      "id": "hHGi4td20U40",
      "execution_count": 18,
      "outputs": [
        {
          "output_type": "execute_result",
          "data": {
            "text/plain": [
              "0       1900-01-01 07:40:00\n",
              "1       1900-01-01 09:40:00\n",
              "2       1900-01-01 11:40:00\n",
              "3       1900-01-01 13:30:00\n",
              "4       1900-01-01 15:15:00\n",
              "                ...        \n",
              "60487                   NaT\n",
              "60488                   NaT\n",
              "60489                   NaT\n",
              "60490                   NaT\n",
              "60491                   NaT\n",
              "Name: STD, Length: 60492, dtype: datetime64[ns]"
            ]
          },
          "metadata": {},
          "execution_count": 18
        }
      ]
    },
    {
      "cell_type": "code",
      "execution_count": 19,
      "id": "09bb2275",
      "metadata": {
        "ExecuteTime": {
          "end_time": "2022-06-03T12:55:22.056574Z",
          "start_time": "2022-06-03T12:55:22.056574Z"
        },
        "colab": {
          "base_uri": "https://localhost:8080/"
        },
        "id": "09bb2275",
        "outputId": "db4fc5ee-2d1e-45af-8b83-503395b32fab"
      },
      "outputs": [
        {
          "output_type": "stream",
          "name": "stdout",
          "text": [
            "0   1900-01-01 07:40:00\n",
            "1   1900-01-01 09:40:00\n",
            "2   1900-01-01 11:40:00\n",
            "3   1900-01-01 13:30:00\n",
            "4   1900-01-01 15:15:00\n",
            "Name: STD, dtype: datetime64[ns]\n",
            ".....Clave:  Date_STD .... DATE STD\n",
            ".....Clave:  Date_STA .... DATE STA\n",
            ".....Clave:  Date_TKof .... DATE TKof\n",
            ".....Clave:  Date_TDwn .... DATE TDwn\n",
            ".....Clave:  Date_ATD .... DATE ATD\n",
            ".....Clave:  Date_ATA .... DATE ATA\n",
            ".....Clave:  Date_BLOCK .... DATE BLOCK\n",
            ".....Clave:  Date_FLThr .... DATE FLThr\n",
            ".....Clave:  Date_close pax door2 .... DATE close pax door2\n",
            ".....Clave:  Date_close cargo door2 .... DATE close cargo door2\n"
          ]
        }
      ],
      "source": [
        "df1=df.copy()\n",
        "print(df['STD'].head())\n",
        "columnasAddDate= ['STD', 'STA', 'TKof', 'TDwn', 'ATD', 'ATA', 'BLOCK', 'FLThr',\n",
        "                  'close pax door2', 'close cargo door2']\n",
        " \n",
        "for x in columnasAddDate:    \n",
        "    adecuarFechas('DATE', x)\n"
      ]
    },
    {
      "cell_type": "code",
      "execution_count": 20,
      "id": "d54f9651",
      "metadata": {
        "ExecuteTime": {
          "end_time": "2022-06-03T12:55:22.058568Z",
          "start_time": "2022-06-03T12:55:22.058568Z"
        },
        "id": "d54f9651"
      },
      "outputs": [],
      "source": [
        "#Añado eL mes\n",
        "\n",
        "df['MES'] = df['STD'].dt.month"
      ]
    },
    {
      "cell_type": "markdown",
      "id": "a59874f0",
      "metadata": {
        "id": "a59874f0"
      },
      "source": [
        "# Convierto todas las columnas de tiempo en un formato correcto"
      ]
    },
    {
      "cell_type": "markdown",
      "id": "752bd9f5",
      "metadata": {
        "id": "752bd9f5"
      },
      "source": [
        "# Identificacion de los principales Aeropuertos"
      ]
    },
    {
      "cell_type": "code",
      "execution_count": 21,
      "id": "53b47249",
      "metadata": {
        "ExecuteTime": {
          "end_time": "2022-06-03T12:55:22.248061Z",
          "start_time": "2022-06-03T12:55:22.202185Z"
        },
        "colab": {
          "base_uri": "https://localhost:8080/",
          "height": 442
        },
        "id": "53b47249",
        "outputId": "e55dd52b-a947-4308-aec5-2ba92b262780"
      },
      "outputs": [
        {
          "output_type": "execute_result",
          "data": {
            "text/plain": [
              "        DATE   FLT     REG   AC  DEP  ARR                 STD  \\\n",
              "0 2022-01-01  2506  EC-JSY  320  BIO  SVQ 2022-01-01 07:40:00   \n",
              "1 2022-01-01  2505  EC-JSY  320  SVQ  BIO 2022-01-01 09:40:00   \n",
              "2 2022-01-01  1386  EC-JSY  320  BIO  SCQ 2022-01-01 11:40:00   \n",
              "3 2022-01-01  1387  EC-JSY  320  SCQ  BIO 2022-01-01 13:30:00   \n",
              "\n",
              "                  STA                TKof                TDwn  ...  \\\n",
              "0 2022-01-01 09:05:00 2022-01-01 08:10:00 2022-01-01 09:17:00  ...   \n",
              "1 2022-01-01 11:05:00 2022-01-01 10:03:00 2022-01-01 11:07:00  ...   \n",
              "2 2022-01-01 12:50:00 2022-01-01 11:50:00 2022-01-01 12:40:00  ...   \n",
              "3 2022-01-01 14:35:00 2022-01-01 13:30:00 2022-01-01 14:08:00  ...   \n",
              "\n",
              "            Close Pax Door         Close Cargo Door      Open Cargo/Pax Door  \\\n",
              "0  2022-01-01 07:58:00.000  2022-01-01 07:31:00.000  2022-01-01 09:23:00.000   \n",
              "1  2022-01-01 09:48:00.000  2022-01-01 09:46:00.000  2022-01-01 11:11:00.000   \n",
              "2  2022-01-01 11:38:00.000  2022-01-01 11:34:00.000  2022-01-01 12:46:00.000   \n",
              "3  2022-01-01 13:18:00.000  2022-01-01 13:06:00.000  2022-01-01 14:12:00.000   \n",
              "\n",
              "      close pax door2   close cargo door2 open cargo/pax door2  Secuencia  \\\n",
              "0 2022-01-01 07:58:00 2022-01-01 07:31:00                09:23        1.0   \n",
              "1 2022-01-01 09:48:00 2022-01-01 09:46:00                11:11        2.0   \n",
              "2 2022-01-01 11:38:00 2022-01-01 11:34:00                12:46        3.0   \n",
              "3 2022-01-01 13:18:00 2022-01-01 13:06:00                14:12        4.0   \n",
              "\n",
              "   MES Aeropuerto_Key AeropuertoKey1  \n",
              "0  1.0            BIO            SVQ  \n",
              "1  1.0            SVQ            BIO  \n",
              "2  1.0            BIO            SCQ  \n",
              "3  1.0            SCQ            BIO  \n",
              "\n",
              "[4 rows x 45 columns]"
            ],
            "text/html": [
              "\n",
              "  <div id=\"df-cd75a02a-b937-4e2d-b526-874204e4dcd0\">\n",
              "    <div class=\"colab-df-container\">\n",
              "      <div>\n",
              "<style scoped>\n",
              "    .dataframe tbody tr th:only-of-type {\n",
              "        vertical-align: middle;\n",
              "    }\n",
              "\n",
              "    .dataframe tbody tr th {\n",
              "        vertical-align: top;\n",
              "    }\n",
              "\n",
              "    .dataframe thead th {\n",
              "        text-align: right;\n",
              "    }\n",
              "</style>\n",
              "<table border=\"1\" class=\"dataframe\">\n",
              "  <thead>\n",
              "    <tr style=\"text-align: right;\">\n",
              "      <th></th>\n",
              "      <th>DATE</th>\n",
              "      <th>FLT</th>\n",
              "      <th>REG</th>\n",
              "      <th>AC</th>\n",
              "      <th>DEP</th>\n",
              "      <th>ARR</th>\n",
              "      <th>STD</th>\n",
              "      <th>STA</th>\n",
              "      <th>TKof</th>\n",
              "      <th>TDwn</th>\n",
              "      <th>...</th>\n",
              "      <th>Close Pax Door</th>\n",
              "      <th>Close Cargo Door</th>\n",
              "      <th>Open Cargo/Pax Door</th>\n",
              "      <th>close pax door2</th>\n",
              "      <th>close cargo door2</th>\n",
              "      <th>open cargo/pax door2</th>\n",
              "      <th>Secuencia</th>\n",
              "      <th>MES</th>\n",
              "      <th>Aeropuerto_Key</th>\n",
              "      <th>AeropuertoKey1</th>\n",
              "    </tr>\n",
              "  </thead>\n",
              "  <tbody>\n",
              "    <tr>\n",
              "      <th>0</th>\n",
              "      <td>2022-01-01</td>\n",
              "      <td>2506</td>\n",
              "      <td>EC-JSY</td>\n",
              "      <td>320</td>\n",
              "      <td>BIO</td>\n",
              "      <td>SVQ</td>\n",
              "      <td>2022-01-01 07:40:00</td>\n",
              "      <td>2022-01-01 09:05:00</td>\n",
              "      <td>2022-01-01 08:10:00</td>\n",
              "      <td>2022-01-01 09:17:00</td>\n",
              "      <td>...</td>\n",
              "      <td>2022-01-01 07:58:00.000</td>\n",
              "      <td>2022-01-01 07:31:00.000</td>\n",
              "      <td>2022-01-01 09:23:00.000</td>\n",
              "      <td>2022-01-01 07:58:00</td>\n",
              "      <td>2022-01-01 07:31:00</td>\n",
              "      <td>09:23</td>\n",
              "      <td>1.0</td>\n",
              "      <td>1.0</td>\n",
              "      <td>BIO</td>\n",
              "      <td>SVQ</td>\n",
              "    </tr>\n",
              "    <tr>\n",
              "      <th>1</th>\n",
              "      <td>2022-01-01</td>\n",
              "      <td>2505</td>\n",
              "      <td>EC-JSY</td>\n",
              "      <td>320</td>\n",
              "      <td>SVQ</td>\n",
              "      <td>BIO</td>\n",
              "      <td>2022-01-01 09:40:00</td>\n",
              "      <td>2022-01-01 11:05:00</td>\n",
              "      <td>2022-01-01 10:03:00</td>\n",
              "      <td>2022-01-01 11:07:00</td>\n",
              "      <td>...</td>\n",
              "      <td>2022-01-01 09:48:00.000</td>\n",
              "      <td>2022-01-01 09:46:00.000</td>\n",
              "      <td>2022-01-01 11:11:00.000</td>\n",
              "      <td>2022-01-01 09:48:00</td>\n",
              "      <td>2022-01-01 09:46:00</td>\n",
              "      <td>11:11</td>\n",
              "      <td>2.0</td>\n",
              "      <td>1.0</td>\n",
              "      <td>SVQ</td>\n",
              "      <td>BIO</td>\n",
              "    </tr>\n",
              "    <tr>\n",
              "      <th>2</th>\n",
              "      <td>2022-01-01</td>\n",
              "      <td>1386</td>\n",
              "      <td>EC-JSY</td>\n",
              "      <td>320</td>\n",
              "      <td>BIO</td>\n",
              "      <td>SCQ</td>\n",
              "      <td>2022-01-01 11:40:00</td>\n",
              "      <td>2022-01-01 12:50:00</td>\n",
              "      <td>2022-01-01 11:50:00</td>\n",
              "      <td>2022-01-01 12:40:00</td>\n",
              "      <td>...</td>\n",
              "      <td>2022-01-01 11:38:00.000</td>\n",
              "      <td>2022-01-01 11:34:00.000</td>\n",
              "      <td>2022-01-01 12:46:00.000</td>\n",
              "      <td>2022-01-01 11:38:00</td>\n",
              "      <td>2022-01-01 11:34:00</td>\n",
              "      <td>12:46</td>\n",
              "      <td>3.0</td>\n",
              "      <td>1.0</td>\n",
              "      <td>BIO</td>\n",
              "      <td>SCQ</td>\n",
              "    </tr>\n",
              "    <tr>\n",
              "      <th>3</th>\n",
              "      <td>2022-01-01</td>\n",
              "      <td>1387</td>\n",
              "      <td>EC-JSY</td>\n",
              "      <td>320</td>\n",
              "      <td>SCQ</td>\n",
              "      <td>BIO</td>\n",
              "      <td>2022-01-01 13:30:00</td>\n",
              "      <td>2022-01-01 14:35:00</td>\n",
              "      <td>2022-01-01 13:30:00</td>\n",
              "      <td>2022-01-01 14:08:00</td>\n",
              "      <td>...</td>\n",
              "      <td>2022-01-01 13:18:00.000</td>\n",
              "      <td>2022-01-01 13:06:00.000</td>\n",
              "      <td>2022-01-01 14:12:00.000</td>\n",
              "      <td>2022-01-01 13:18:00</td>\n",
              "      <td>2022-01-01 13:06:00</td>\n",
              "      <td>14:12</td>\n",
              "      <td>4.0</td>\n",
              "      <td>1.0</td>\n",
              "      <td>SCQ</td>\n",
              "      <td>BIO</td>\n",
              "    </tr>\n",
              "  </tbody>\n",
              "</table>\n",
              "<p>4 rows × 45 columns</p>\n",
              "</div>\n",
              "      <button class=\"colab-df-convert\" onclick=\"convertToInteractive('df-cd75a02a-b937-4e2d-b526-874204e4dcd0')\"\n",
              "              title=\"Convert this dataframe to an interactive table.\"\n",
              "              style=\"display:none;\">\n",
              "        \n",
              "  <svg xmlns=\"http://www.w3.org/2000/svg\" height=\"24px\"viewBox=\"0 0 24 24\"\n",
              "       width=\"24px\">\n",
              "    <path d=\"M0 0h24v24H0V0z\" fill=\"none\"/>\n",
              "    <path d=\"M18.56 5.44l.94 2.06.94-2.06 2.06-.94-2.06-.94-.94-2.06-.94 2.06-2.06.94zm-11 1L8.5 8.5l.94-2.06 2.06-.94-2.06-.94L8.5 2.5l-.94 2.06-2.06.94zm10 10l.94 2.06.94-2.06 2.06-.94-2.06-.94-.94-2.06-.94 2.06-2.06.94z\"/><path d=\"M17.41 7.96l-1.37-1.37c-.4-.4-.92-.59-1.43-.59-.52 0-1.04.2-1.43.59L10.3 9.45l-7.72 7.72c-.78.78-.78 2.05 0 2.83L4 21.41c.39.39.9.59 1.41.59.51 0 1.02-.2 1.41-.59l7.78-7.78 2.81-2.81c.8-.78.8-2.07 0-2.86zM5.41 20L4 18.59l7.72-7.72 1.47 1.35L5.41 20z\"/>\n",
              "  </svg>\n",
              "      </button>\n",
              "      \n",
              "  <style>\n",
              "    .colab-df-container {\n",
              "      display:flex;\n",
              "      flex-wrap:wrap;\n",
              "      gap: 12px;\n",
              "    }\n",
              "\n",
              "    .colab-df-convert {\n",
              "      background-color: #E8F0FE;\n",
              "      border: none;\n",
              "      border-radius: 50%;\n",
              "      cursor: pointer;\n",
              "      display: none;\n",
              "      fill: #1967D2;\n",
              "      height: 32px;\n",
              "      padding: 0 0 0 0;\n",
              "      width: 32px;\n",
              "    }\n",
              "\n",
              "    .colab-df-convert:hover {\n",
              "      background-color: #E2EBFA;\n",
              "      box-shadow: 0px 1px 2px rgba(60, 64, 67, 0.3), 0px 1px 3px 1px rgba(60, 64, 67, 0.15);\n",
              "      fill: #174EA6;\n",
              "    }\n",
              "\n",
              "    [theme=dark] .colab-df-convert {\n",
              "      background-color: #3B4455;\n",
              "      fill: #D2E3FC;\n",
              "    }\n",
              "\n",
              "    [theme=dark] .colab-df-convert:hover {\n",
              "      background-color: #434B5C;\n",
              "      box-shadow: 0px 1px 3px 1px rgba(0, 0, 0, 0.15);\n",
              "      filter: drop-shadow(0px 1px 2px rgba(0, 0, 0, 0.3));\n",
              "      fill: #FFFFFF;\n",
              "    }\n",
              "  </style>\n",
              "\n",
              "      <script>\n",
              "        const buttonEl =\n",
              "          document.querySelector('#df-cd75a02a-b937-4e2d-b526-874204e4dcd0 button.colab-df-convert');\n",
              "        buttonEl.style.display =\n",
              "          google.colab.kernel.accessAllowed ? 'block' : 'none';\n",
              "\n",
              "        async function convertToInteractive(key) {\n",
              "          const element = document.querySelector('#df-cd75a02a-b937-4e2d-b526-874204e4dcd0');\n",
              "          const dataTable =\n",
              "            await google.colab.kernel.invokeFunction('convertToInteractive',\n",
              "                                                     [key], {});\n",
              "          if (!dataTable) return;\n",
              "\n",
              "          const docLinkHtml = 'Like what you see? Visit the ' +\n",
              "            '<a target=\"_blank\" href=https://colab.research.google.com/notebooks/data_table.ipynb>data table notebook</a>'\n",
              "            + ' to learn more about interactive tables.';\n",
              "          element.innerHTML = '';\n",
              "          dataTable['output_type'] = 'display_data';\n",
              "          await google.colab.output.renderOutput(dataTable, element);\n",
              "          const docLink = document.createElement('div');\n",
              "          docLink.innerHTML = docLinkHtml;\n",
              "          element.appendChild(docLink);\n",
              "        }\n",
              "      </script>\n",
              "    </div>\n",
              "  </div>\n",
              "  "
            ]
          },
          "metadata": {},
          "execution_count": 21
        }
      ],
      "source": [
        "df= pd.merge(df,df_Aeropuertos, left_on= 'DEP', right_on='Dep')\n",
        "\n",
        "df= pd.merge(df,df_Aeropuertos, left_on= 'ARR', right_on='Dep')\n",
        "\n",
        "\n",
        "df= df.rename({'AeropuertoKey1_x': 'Aeropuerto_Key', 'AeropuertoKey1_y': 'AeropuertoKey1'}, axis=1)\n",
        "\n",
        "df= df.sort_values(['DATE', 'REG', 'STD'])\n",
        "df= df.reset_index(drop=True)\n",
        "borrarColumnas = ['Dep_x', 'Dep_y']\n",
        "df = df.drop(borrarColumnas, axis=1)\n",
        "df.head(4)"
      ]
    },
    {
      "cell_type": "markdown",
      "id": "46ff0abb",
      "metadata": {
        "ExecuteTime": {
          "end_time": "2022-05-25T05:42:55.224452Z",
          "start_time": "2022-05-25T05:42:55.212482Z"
        },
        "id": "46ff0abb"
      },
      "source": [
        "# Calculo tiempo en vuelo 1"
      ]
    },
    {
      "cell_type": "code",
      "execution_count": 22,
      "id": "e3a6b3fe",
      "metadata": {
        "ExecuteTime": {
          "end_time": "2022-06-03T12:55:22.295356Z",
          "start_time": "2022-06-03T12:55:22.276436Z"
        },
        "colab": {
          "base_uri": "https://localhost:8080/"
        },
        "id": "e3a6b3fe",
        "outputId": "97dca035-8967-49dd-8b80-112d43fa41b9"
      },
      "outputs": [
        {
          "output_type": "execute_result",
          "data": {
            "text/plain": [
              "Index(['DATE', 'FLT', 'REG', 'AC', 'DEP', 'ARR', 'STD', 'STA', 'TKof', 'TDwn',\n",
              "       'ATD', 'ATA', 'BLOCK', 'FLThr', 'DStand', 'AStand', 'ACT PAX', 'LF',\n",
              "       'Taxi-out', 'Taxi-In', 'SLOT', 'C1', 'DLY1', 'Sub1', 'C2', 'DLY2',\n",
              "       'Sub2', 'C3', 'DLY3', 'Sub3', 'C4', 'DLY4', 'Sub4', 'C1Arr', 'DLY1Arr',\n",
              "       'Close Pax Door', 'Close Cargo Door', 'Open Cargo/Pax Door',\n",
              "       'close pax door2', 'close cargo door2', 'open cargo/pax door2',\n",
              "       'Secuencia', 'MES', 'Aeropuerto_Key', 'AeropuertoKey1'],\n",
              "      dtype='object')"
            ]
          },
          "metadata": {},
          "execution_count": 22
        }
      ],
      "source": [
        "df.columns\n",
        "#print(df['Close Pax Door'])"
      ]
    },
    {
      "cell_type": "code",
      "execution_count": 23,
      "id": "655d0ec0",
      "metadata": {
        "ExecuteTime": {
          "end_time": "2022-06-03T12:55:22.311343Z",
          "start_time": "2022-06-03T12:55:22.297352Z"
        },
        "colab": {
          "base_uri": "https://localhost:8080/"
        },
        "id": "655d0ec0",
        "outputId": "b6066a45-5079-4e36-dd3c-72822bae6610"
      },
      "outputs": [
        {
          "output_type": "execute_result",
          "data": {
            "text/plain": [
              "0   -5.0\n",
              "1   -7.0\n",
              "2   -5.0\n",
              "Name: E_Duracion_Vuelo, dtype: float64"
            ]
          },
          "metadata": {},
          "execution_count": 23
        }
      ],
      "source": [
        "# Calulo tiempo de vuelo teorico Real y error\n",
        "df['DuracionVueloTeorico']= (df['STA'] - df['STD'])/  np.timedelta64(1, 'm') \n",
        "df['DuracionVueloReal'] = (df['ATA'] - df['ATD']) /  np.timedelta64(1, 'm') \n",
        "df['E_Duracion_Vuelo'] = (df['DuracionVueloReal'] - df['DuracionVueloTeorico']) #/  np.timedelta64(1, 'm') \n",
        "df['E_Duracion_Vuelo'].head(3)"
      ]
    },
    {
      "cell_type": "markdown",
      "id": "efea1c53",
      "metadata": {
        "id": "efea1c53"
      },
      "source": [
        "# Tiempo Close Pax y Close Cargo Door"
      ]
    },
    {
      "cell_type": "code",
      "execution_count": 24,
      "id": "71569ce9",
      "metadata": {
        "ExecuteTime": {
          "end_time": "2022-06-03T12:55:22.372180Z",
          "start_time": "2022-06-03T12:55:22.352205Z"
        },
        "colab": {
          "base_uri": "https://localhost:8080/"
        },
        "id": "71569ce9",
        "outputId": "8bacb1e9-e1ad-431b-c6a8-c358a94e887a"
      },
      "outputs": [
        {
          "output_type": "execute_result",
          "data": {
            "text/plain": [
              "0        2022-01-01 07:58:00.000\n",
              "1        2022-01-01 09:48:00.000\n",
              "2        2022-01-01 11:38:00.000\n",
              "3        2022-01-01 13:18:00.000\n",
              "4        2022-01-01 15:07:00.000\n",
              "                  ...           \n",
              "56128    2022-05-16 13:44:00.000\n",
              "56129    2022-05-16 16:19:00.000\n",
              "56130    2022-05-16 18:41:00.000\n",
              "56131    2022-05-16 06:30:00.000\n",
              "56132    2022-05-16 10:12:00.000\n",
              "Name: Close Pax Door, Length: 56133, dtype: object"
            ]
          },
          "metadata": {},
          "execution_count": 24
        }
      ],
      "source": [
        "df['Close Pax Door']"
      ]
    },
    {
      "cell_type": "code",
      "execution_count": 25,
      "id": "c27804f1",
      "metadata": {
        "ExecuteTime": {
          "end_time": "2022-06-03T12:55:22.388137Z",
          "start_time": "2022-06-03T12:55:22.374146Z"
        },
        "colab": {
          "base_uri": "https://localhost:8080/"
        },
        "id": "c27804f1",
        "outputId": "8be16f51-5e20-4318-f412-85af9e8d2ede"
      },
      "outputs": [
        {
          "output_type": "stream",
          "name": "stdout",
          "text": [
            "0   2022-01-01 07:58:00\n",
            "1   2022-01-01 09:48:00\n",
            "2   2022-01-01 11:38:00\n",
            "3   2022-01-01 13:18:00\n",
            "Name: Close Pax Door, dtype: datetime64[ns]\n",
            "-----------------\n",
            "0   1900-01-01 08:00:00\n",
            "1   1900-01-01 09:51:00\n",
            "2   1900-01-01 11:40:00\n",
            "3   1900-01-01 13:23:00\n",
            "Name: ATD, dtype: datetime64[ns]\n"
          ]
        }
      ],
      "source": [
        "df['Close Pax Door'] =pd.to_datetime(df['Close Pax Door'])\n",
        "print(df['Close Pax Door'].head(4))\n",
        "print('-----------------')\n",
        "print(df1['ATD'].head(4))"
      ]
    },
    {
      "cell_type": "code",
      "execution_count": 26,
      "id": "f9737a70",
      "metadata": {
        "ExecuteTime": {
          "end_time": "2022-06-03T12:55:22.404066Z",
          "start_time": "2022-06-03T12:55:22.389106Z"
        },
        "colab": {
          "base_uri": "https://localhost:8080/"
        },
        "id": "f9737a70",
        "outputId": "0df61fa9-8d3a-4a3c-a8ef-ea0fc38071e9"
      },
      "outputs": [
        {
          "output_type": "execute_result",
          "data": {
            "text/plain": [
              "0         -2.0\n",
              "1         -3.0\n",
              "2         -2.0\n",
              "3         -5.0\n",
              "4          0.0\n",
              "         ...  \n",
              "56128    417.0\n",
              "56129    474.0\n",
              "56130    479.0\n",
              "56131   -440.0\n",
              "56132   -406.0\n",
              "Name: t_ClosePax, Length: 56133, dtype: float64"
            ]
          },
          "metadata": {},
          "execution_count": 26
        }
      ],
      "source": [
        "df['Close Pax Door'] =pd.to_datetime(df['Close Pax Door'])\n",
        "df['t_ClosePax'] =   (df['Close Pax Door'] - df['ATD']) /  np.timedelta64(1, 'm') \n",
        "df['t_ClosePax']"
      ]
    },
    {
      "cell_type": "code",
      "source": [
        "#df['Retardo_Abrir_Puerta_Pax']= df['Open Cargo/Pax Door']-df['ATA']\n",
        "#df['Retardo_Abrir_Puerta_Pax']"
      ],
      "metadata": {
        "id": "8-R2d-nMYnrO"
      },
      "id": "8-R2d-nMYnrO",
      "execution_count": 27,
      "outputs": []
    },
    {
      "cell_type": "code",
      "execution_count": 28,
      "id": "9e124712",
      "metadata": {
        "ExecuteTime": {
          "end_time": "2022-06-03T12:55:22.435980Z",
          "start_time": "2022-06-03T12:55:22.406060Z"
        },
        "id": "9e124712"
      },
      "outputs": [],
      "source": [
        "df ['Close Cargo Door']=pd.to_datetime(df ['Close Cargo Door'])\n",
        "df['t_Close_Cargo_Door'] = (df ['Close Cargo Door'] - df['ATD']) /  np.timedelta64(1, 'm') \n",
        "\n",
        "df['Close Pax Door'] =pd.to_datetime(df['Close Pax Door'])\n",
        "df ['Close Cargo Door']=pd.to_datetime(df ['Close Cargo Door'])\n",
        "\n",
        "df['Open Cargo/Pax Door'] =pd.to_datetime(df['Open Cargo/Pax Door'])\n",
        "\n",
        "df['t_Entre_Puertas'] = (df ['Close Cargo Door'] - df['Close Pax Door']) /  np.timedelta64(1, 'm') \n",
        "\n",
        "#\n",
        "#df[[ 't_ClosePax','t_Close_Cargo_Door', 't_Entre_Puertas', 'Open Cargo/Pax Door']]##.head(4)\n",
        "\n",
        "\n"
      ]
    },
    {
      "cell_type": "code",
      "execution_count": 29,
      "id": "4c5b4de5",
      "metadata": {
        "ExecuteTime": {
          "end_time": "2022-06-03T12:55:22.451966Z",
          "start_time": "2022-06-03T12:55:22.437976Z"
        },
        "colab": {
          "base_uri": "https://localhost:8080/",
          "height": 424
        },
        "id": "4c5b4de5",
        "outputId": "f4f6e79c-ebf0-4975-8b27-c71772852666"
      },
      "outputs": [
        {
          "output_type": "execute_result",
          "data": {
            "text/plain": [
              "      Retardo_Abrir_Puerta_Pax Open Cargo/Pax Door                 ATA\n",
              "0              0 days 00:03:00 2022-01-01 09:23:00 2022-01-01 09:20:00\n",
              "1              0 days 00:02:00 2022-01-01 11:11:00 2022-01-01 11:09:00\n",
              "2              0 days 00:01:00 2022-01-01 12:46:00 2022-01-01 12:45:00\n",
              "3              0 days 00:01:00 2022-01-01 14:12:00 2022-01-01 14:11:00\n",
              "4              0 days 00:00:00 2022-01-01 18:14:00 2022-01-01 18:14:00\n",
              "...                        ...                 ...                 ...\n",
              "56128          0 days 07:56:00 2022-05-16 15:33:00 2022-05-16 07:37:00\n",
              "56129          0 days 07:59:00 2022-05-16 18:01:00 2022-05-16 10:02:00\n",
              "56130          0 days 08:36:00 2022-05-16 20:31:00 2022-05-16 11:55:00\n",
              "56131        -1 days +17:16:00 2022-05-16 09:34:00 2022-05-16 16:18:00\n",
              "56132        -1 days +18:19:00 2022-05-16 13:21:00 2022-05-16 19:02:00\n",
              "\n",
              "[56133 rows x 3 columns]"
            ],
            "text/html": [
              "\n",
              "  <div id=\"df-eb62bdbf-bd8a-4ae0-a0de-9c1d3222081e\">\n",
              "    <div class=\"colab-df-container\">\n",
              "      <div>\n",
              "<style scoped>\n",
              "    .dataframe tbody tr th:only-of-type {\n",
              "        vertical-align: middle;\n",
              "    }\n",
              "\n",
              "    .dataframe tbody tr th {\n",
              "        vertical-align: top;\n",
              "    }\n",
              "\n",
              "    .dataframe thead th {\n",
              "        text-align: right;\n",
              "    }\n",
              "</style>\n",
              "<table border=\"1\" class=\"dataframe\">\n",
              "  <thead>\n",
              "    <tr style=\"text-align: right;\">\n",
              "      <th></th>\n",
              "      <th>Retardo_Abrir_Puerta_Pax</th>\n",
              "      <th>Open Cargo/Pax Door</th>\n",
              "      <th>ATA</th>\n",
              "    </tr>\n",
              "  </thead>\n",
              "  <tbody>\n",
              "    <tr>\n",
              "      <th>0</th>\n",
              "      <td>0 days 00:03:00</td>\n",
              "      <td>2022-01-01 09:23:00</td>\n",
              "      <td>2022-01-01 09:20:00</td>\n",
              "    </tr>\n",
              "    <tr>\n",
              "      <th>1</th>\n",
              "      <td>0 days 00:02:00</td>\n",
              "      <td>2022-01-01 11:11:00</td>\n",
              "      <td>2022-01-01 11:09:00</td>\n",
              "    </tr>\n",
              "    <tr>\n",
              "      <th>2</th>\n",
              "      <td>0 days 00:01:00</td>\n",
              "      <td>2022-01-01 12:46:00</td>\n",
              "      <td>2022-01-01 12:45:00</td>\n",
              "    </tr>\n",
              "    <tr>\n",
              "      <th>3</th>\n",
              "      <td>0 days 00:01:00</td>\n",
              "      <td>2022-01-01 14:12:00</td>\n",
              "      <td>2022-01-01 14:11:00</td>\n",
              "    </tr>\n",
              "    <tr>\n",
              "      <th>4</th>\n",
              "      <td>0 days 00:00:00</td>\n",
              "      <td>2022-01-01 18:14:00</td>\n",
              "      <td>2022-01-01 18:14:00</td>\n",
              "    </tr>\n",
              "    <tr>\n",
              "      <th>...</th>\n",
              "      <td>...</td>\n",
              "      <td>...</td>\n",
              "      <td>...</td>\n",
              "    </tr>\n",
              "    <tr>\n",
              "      <th>56128</th>\n",
              "      <td>0 days 07:56:00</td>\n",
              "      <td>2022-05-16 15:33:00</td>\n",
              "      <td>2022-05-16 07:37:00</td>\n",
              "    </tr>\n",
              "    <tr>\n",
              "      <th>56129</th>\n",
              "      <td>0 days 07:59:00</td>\n",
              "      <td>2022-05-16 18:01:00</td>\n",
              "      <td>2022-05-16 10:02:00</td>\n",
              "    </tr>\n",
              "    <tr>\n",
              "      <th>56130</th>\n",
              "      <td>0 days 08:36:00</td>\n",
              "      <td>2022-05-16 20:31:00</td>\n",
              "      <td>2022-05-16 11:55:00</td>\n",
              "    </tr>\n",
              "    <tr>\n",
              "      <th>56131</th>\n",
              "      <td>-1 days +17:16:00</td>\n",
              "      <td>2022-05-16 09:34:00</td>\n",
              "      <td>2022-05-16 16:18:00</td>\n",
              "    </tr>\n",
              "    <tr>\n",
              "      <th>56132</th>\n",
              "      <td>-1 days +18:19:00</td>\n",
              "      <td>2022-05-16 13:21:00</td>\n",
              "      <td>2022-05-16 19:02:00</td>\n",
              "    </tr>\n",
              "  </tbody>\n",
              "</table>\n",
              "<p>56133 rows × 3 columns</p>\n",
              "</div>\n",
              "      <button class=\"colab-df-convert\" onclick=\"convertToInteractive('df-eb62bdbf-bd8a-4ae0-a0de-9c1d3222081e')\"\n",
              "              title=\"Convert this dataframe to an interactive table.\"\n",
              "              style=\"display:none;\">\n",
              "        \n",
              "  <svg xmlns=\"http://www.w3.org/2000/svg\" height=\"24px\"viewBox=\"0 0 24 24\"\n",
              "       width=\"24px\">\n",
              "    <path d=\"M0 0h24v24H0V0z\" fill=\"none\"/>\n",
              "    <path d=\"M18.56 5.44l.94 2.06.94-2.06 2.06-.94-2.06-.94-.94-2.06-.94 2.06-2.06.94zm-11 1L8.5 8.5l.94-2.06 2.06-.94-2.06-.94L8.5 2.5l-.94 2.06-2.06.94zm10 10l.94 2.06.94-2.06 2.06-.94-2.06-.94-.94-2.06-.94 2.06-2.06.94z\"/><path d=\"M17.41 7.96l-1.37-1.37c-.4-.4-.92-.59-1.43-.59-.52 0-1.04.2-1.43.59L10.3 9.45l-7.72 7.72c-.78.78-.78 2.05 0 2.83L4 21.41c.39.39.9.59 1.41.59.51 0 1.02-.2 1.41-.59l7.78-7.78 2.81-2.81c.8-.78.8-2.07 0-2.86zM5.41 20L4 18.59l7.72-7.72 1.47 1.35L5.41 20z\"/>\n",
              "  </svg>\n",
              "      </button>\n",
              "      \n",
              "  <style>\n",
              "    .colab-df-container {\n",
              "      display:flex;\n",
              "      flex-wrap:wrap;\n",
              "      gap: 12px;\n",
              "    }\n",
              "\n",
              "    .colab-df-convert {\n",
              "      background-color: #E8F0FE;\n",
              "      border: none;\n",
              "      border-radius: 50%;\n",
              "      cursor: pointer;\n",
              "      display: none;\n",
              "      fill: #1967D2;\n",
              "      height: 32px;\n",
              "      padding: 0 0 0 0;\n",
              "      width: 32px;\n",
              "    }\n",
              "\n",
              "    .colab-df-convert:hover {\n",
              "      background-color: #E2EBFA;\n",
              "      box-shadow: 0px 1px 2px rgba(60, 64, 67, 0.3), 0px 1px 3px 1px rgba(60, 64, 67, 0.15);\n",
              "      fill: #174EA6;\n",
              "    }\n",
              "\n",
              "    [theme=dark] .colab-df-convert {\n",
              "      background-color: #3B4455;\n",
              "      fill: #D2E3FC;\n",
              "    }\n",
              "\n",
              "    [theme=dark] .colab-df-convert:hover {\n",
              "      background-color: #434B5C;\n",
              "      box-shadow: 0px 1px 3px 1px rgba(0, 0, 0, 0.15);\n",
              "      filter: drop-shadow(0px 1px 2px rgba(0, 0, 0, 0.3));\n",
              "      fill: #FFFFFF;\n",
              "    }\n",
              "  </style>\n",
              "\n",
              "      <script>\n",
              "        const buttonEl =\n",
              "          document.querySelector('#df-eb62bdbf-bd8a-4ae0-a0de-9c1d3222081e button.colab-df-convert');\n",
              "        buttonEl.style.display =\n",
              "          google.colab.kernel.accessAllowed ? 'block' : 'none';\n",
              "\n",
              "        async function convertToInteractive(key) {\n",
              "          const element = document.querySelector('#df-eb62bdbf-bd8a-4ae0-a0de-9c1d3222081e');\n",
              "          const dataTable =\n",
              "            await google.colab.kernel.invokeFunction('convertToInteractive',\n",
              "                                                     [key], {});\n",
              "          if (!dataTable) return;\n",
              "\n",
              "          const docLinkHtml = 'Like what you see? Visit the ' +\n",
              "            '<a target=\"_blank\" href=https://colab.research.google.com/notebooks/data_table.ipynb>data table notebook</a>'\n",
              "            + ' to learn more about interactive tables.';\n",
              "          element.innerHTML = '';\n",
              "          dataTable['output_type'] = 'display_data';\n",
              "          await google.colab.output.renderOutput(dataTable, element);\n",
              "          const docLink = document.createElement('div');\n",
              "          docLink.innerHTML = docLinkHtml;\n",
              "          element.appendChild(docLink);\n",
              "        }\n",
              "      </script>\n",
              "    </div>\n",
              "  </div>\n",
              "  "
            ]
          },
          "metadata": {},
          "execution_count": 29
        }
      ],
      "source": [
        "df['Retardo_Abrir_Puerta_Pax']= df['Open Cargo/Pax Door']-df['ATA']\n",
        "df[['Retardo_Abrir_Puerta_Pax', 'Open Cargo/Pax Door','ATA']]"
      ]
    },
    {
      "cell_type": "code",
      "execution_count": 30,
      "id": "b0f24ca1",
      "metadata": {
        "ExecuteTime": {
          "end_time": "2022-06-03T12:55:22.467923Z",
          "start_time": "2022-06-03T12:55:22.453932Z"
        },
        "colab": {
          "base_uri": "https://localhost:8080/"
        },
        "id": "b0f24ca1",
        "outputId": "9542f5c7-e17a-460f-ab4a-20402de01875"
      },
      "outputs": [
        {
          "output_type": "execute_result",
          "data": {
            "text/plain": [
              "0        -29.0\n",
              "1         -5.0\n",
              "2         -6.0\n",
              "3        -17.0\n",
              "4         -6.0\n",
              "         ...  \n",
              "56128    414.0\n",
              "56129    473.0\n",
              "56130    478.0\n",
              "56131   -441.0\n",
              "56132   -408.0\n",
              "Name: t_Close_Cargo_Door, Length: 56133, dtype: float64"
            ]
          },
          "metadata": {},
          "execution_count": 30
        }
      ],
      "source": [
        "df['t_Close_Cargo_Door']"
      ]
    },
    {
      "cell_type": "code",
      "execution_count": 31,
      "id": "4d361c29",
      "metadata": {
        "ExecuteTime": {
          "end_time": "2022-06-03T12:55:22.483853Z",
          "start_time": "2022-06-03T12:55:22.469889Z"
        },
        "colab": {
          "base_uri": "https://localhost:8080/"
        },
        "id": "4d361c29",
        "outputId": "3cb1b576-c835-41c4-9a1e-867bbf865b2e"
      },
      "outputs": [
        {
          "output_type": "execute_result",
          "data": {
            "text/plain": [
              "0    BIO-SVQ\n",
              "1    BIO-SVQ\n",
              "2    BIO-SCQ\n",
              "3    BIO-SCQ\n",
              "Name: Trayecto, dtype: object"
            ]
          },
          "metadata": {},
          "execution_count": 31
        }
      ],
      "source": [
        "# Estudio los trayectos.\n",
        "condicion = [(df['DEP'] < df['ARR']),  (df['ARR'] < df['DEP'])]\n",
        "\n",
        "valores = [  (df['DEP'] + '-' + df['ARR']),  (df['ARR'] + '-' + df['DEP'])]\n",
        "\n",
        "df['Trayecto'] = np.select(condicion, valores ) \n",
        "df['Trayecto'].head(4)\n",
        "\n",
        "#df5 = df.where('Departure' > 'Arrival',  'Departure' + 'Arrival',  'Arrival' +'Departure')"
      ]
    },
    {
      "cell_type": "code",
      "execution_count": 32,
      "id": "423c4e1b",
      "metadata": {
        "ExecuteTime": {
          "end_time": "2022-06-03T12:55:22.515800Z",
          "start_time": "2022-06-03T12:55:22.484880Z"
        },
        "colab": {
          "base_uri": "https://localhost:8080/",
          "height": 274
        },
        "id": "423c4e1b",
        "outputId": "df470d2e-8f1c-4a3d-cb26-66616f6e1f5b"
      },
      "outputs": [
        {
          "output_type": "execute_result",
          "data": {
            "text/plain": [
              "        DATE   FLT     REG   AC  DEP  ARR                 STD  \\\n",
              "0 2022-01-01  2506  EC-JSY  320  BIO  SVQ 2022-01-01 07:40:00   \n",
              "1 2022-01-01  2505  EC-JSY  320  SVQ  BIO 2022-01-01 09:40:00   \n",
              "\n",
              "                  STA                TKof                TDwn  ...  \\\n",
              "0 2022-01-01 09:05:00 2022-01-01 08:10:00 2022-01-01 09:17:00  ...   \n",
              "1 2022-01-01 11:05:00 2022-01-01 10:03:00 2022-01-01 11:07:00  ...   \n",
              "\n",
              "  Aeropuerto_Key AeropuertoKey1 DuracionVueloTeorico DuracionVueloReal  \\\n",
              "0            BIO            SVQ                 85.0              80.0   \n",
              "1            SVQ            BIO                 85.0              78.0   \n",
              "\n",
              "  E_Duracion_Vuelo t_ClosePax  t_Close_Cargo_Door  t_Entre_Puertas  \\\n",
              "0             -5.0       -2.0               -29.0            -27.0   \n",
              "1             -7.0       -3.0                -5.0             -2.0   \n",
              "\n",
              "  Retardo_Abrir_Puerta_Pax Trayecto  \n",
              "0          0 days 00:03:00  BIO-SVQ  \n",
              "1          0 days 00:02:00  BIO-SVQ  \n",
              "\n",
              "[2 rows x 53 columns]"
            ],
            "text/html": [
              "\n",
              "  <div id=\"df-e69716bb-0ad8-48c8-8c7c-d75597185aa3\">\n",
              "    <div class=\"colab-df-container\">\n",
              "      <div>\n",
              "<style scoped>\n",
              "    .dataframe tbody tr th:only-of-type {\n",
              "        vertical-align: middle;\n",
              "    }\n",
              "\n",
              "    .dataframe tbody tr th {\n",
              "        vertical-align: top;\n",
              "    }\n",
              "\n",
              "    .dataframe thead th {\n",
              "        text-align: right;\n",
              "    }\n",
              "</style>\n",
              "<table border=\"1\" class=\"dataframe\">\n",
              "  <thead>\n",
              "    <tr style=\"text-align: right;\">\n",
              "      <th></th>\n",
              "      <th>DATE</th>\n",
              "      <th>FLT</th>\n",
              "      <th>REG</th>\n",
              "      <th>AC</th>\n",
              "      <th>DEP</th>\n",
              "      <th>ARR</th>\n",
              "      <th>STD</th>\n",
              "      <th>STA</th>\n",
              "      <th>TKof</th>\n",
              "      <th>TDwn</th>\n",
              "      <th>...</th>\n",
              "      <th>Aeropuerto_Key</th>\n",
              "      <th>AeropuertoKey1</th>\n",
              "      <th>DuracionVueloTeorico</th>\n",
              "      <th>DuracionVueloReal</th>\n",
              "      <th>E_Duracion_Vuelo</th>\n",
              "      <th>t_ClosePax</th>\n",
              "      <th>t_Close_Cargo_Door</th>\n",
              "      <th>t_Entre_Puertas</th>\n",
              "      <th>Retardo_Abrir_Puerta_Pax</th>\n",
              "      <th>Trayecto</th>\n",
              "    </tr>\n",
              "  </thead>\n",
              "  <tbody>\n",
              "    <tr>\n",
              "      <th>0</th>\n",
              "      <td>2022-01-01</td>\n",
              "      <td>2506</td>\n",
              "      <td>EC-JSY</td>\n",
              "      <td>320</td>\n",
              "      <td>BIO</td>\n",
              "      <td>SVQ</td>\n",
              "      <td>2022-01-01 07:40:00</td>\n",
              "      <td>2022-01-01 09:05:00</td>\n",
              "      <td>2022-01-01 08:10:00</td>\n",
              "      <td>2022-01-01 09:17:00</td>\n",
              "      <td>...</td>\n",
              "      <td>BIO</td>\n",
              "      <td>SVQ</td>\n",
              "      <td>85.0</td>\n",
              "      <td>80.0</td>\n",
              "      <td>-5.0</td>\n",
              "      <td>-2.0</td>\n",
              "      <td>-29.0</td>\n",
              "      <td>-27.0</td>\n",
              "      <td>0 days 00:03:00</td>\n",
              "      <td>BIO-SVQ</td>\n",
              "    </tr>\n",
              "    <tr>\n",
              "      <th>1</th>\n",
              "      <td>2022-01-01</td>\n",
              "      <td>2505</td>\n",
              "      <td>EC-JSY</td>\n",
              "      <td>320</td>\n",
              "      <td>SVQ</td>\n",
              "      <td>BIO</td>\n",
              "      <td>2022-01-01 09:40:00</td>\n",
              "      <td>2022-01-01 11:05:00</td>\n",
              "      <td>2022-01-01 10:03:00</td>\n",
              "      <td>2022-01-01 11:07:00</td>\n",
              "      <td>...</td>\n",
              "      <td>SVQ</td>\n",
              "      <td>BIO</td>\n",
              "      <td>85.0</td>\n",
              "      <td>78.0</td>\n",
              "      <td>-7.0</td>\n",
              "      <td>-3.0</td>\n",
              "      <td>-5.0</td>\n",
              "      <td>-2.0</td>\n",
              "      <td>0 days 00:02:00</td>\n",
              "      <td>BIO-SVQ</td>\n",
              "    </tr>\n",
              "  </tbody>\n",
              "</table>\n",
              "<p>2 rows × 53 columns</p>\n",
              "</div>\n",
              "      <button class=\"colab-df-convert\" onclick=\"convertToInteractive('df-e69716bb-0ad8-48c8-8c7c-d75597185aa3')\"\n",
              "              title=\"Convert this dataframe to an interactive table.\"\n",
              "              style=\"display:none;\">\n",
              "        \n",
              "  <svg xmlns=\"http://www.w3.org/2000/svg\" height=\"24px\"viewBox=\"0 0 24 24\"\n",
              "       width=\"24px\">\n",
              "    <path d=\"M0 0h24v24H0V0z\" fill=\"none\"/>\n",
              "    <path d=\"M18.56 5.44l.94 2.06.94-2.06 2.06-.94-2.06-.94-.94-2.06-.94 2.06-2.06.94zm-11 1L8.5 8.5l.94-2.06 2.06-.94-2.06-.94L8.5 2.5l-.94 2.06-2.06.94zm10 10l.94 2.06.94-2.06 2.06-.94-2.06-.94-.94-2.06-.94 2.06-2.06.94z\"/><path d=\"M17.41 7.96l-1.37-1.37c-.4-.4-.92-.59-1.43-.59-.52 0-1.04.2-1.43.59L10.3 9.45l-7.72 7.72c-.78.78-.78 2.05 0 2.83L4 21.41c.39.39.9.59 1.41.59.51 0 1.02-.2 1.41-.59l7.78-7.78 2.81-2.81c.8-.78.8-2.07 0-2.86zM5.41 20L4 18.59l7.72-7.72 1.47 1.35L5.41 20z\"/>\n",
              "  </svg>\n",
              "      </button>\n",
              "      \n",
              "  <style>\n",
              "    .colab-df-container {\n",
              "      display:flex;\n",
              "      flex-wrap:wrap;\n",
              "      gap: 12px;\n",
              "    }\n",
              "\n",
              "    .colab-df-convert {\n",
              "      background-color: #E8F0FE;\n",
              "      border: none;\n",
              "      border-radius: 50%;\n",
              "      cursor: pointer;\n",
              "      display: none;\n",
              "      fill: #1967D2;\n",
              "      height: 32px;\n",
              "      padding: 0 0 0 0;\n",
              "      width: 32px;\n",
              "    }\n",
              "\n",
              "    .colab-df-convert:hover {\n",
              "      background-color: #E2EBFA;\n",
              "      box-shadow: 0px 1px 2px rgba(60, 64, 67, 0.3), 0px 1px 3px 1px rgba(60, 64, 67, 0.15);\n",
              "      fill: #174EA6;\n",
              "    }\n",
              "\n",
              "    [theme=dark] .colab-df-convert {\n",
              "      background-color: #3B4455;\n",
              "      fill: #D2E3FC;\n",
              "    }\n",
              "\n",
              "    [theme=dark] .colab-df-convert:hover {\n",
              "      background-color: #434B5C;\n",
              "      box-shadow: 0px 1px 3px 1px rgba(0, 0, 0, 0.15);\n",
              "      filter: drop-shadow(0px 1px 2px rgba(0, 0, 0, 0.3));\n",
              "      fill: #FFFFFF;\n",
              "    }\n",
              "  </style>\n",
              "\n",
              "      <script>\n",
              "        const buttonEl =\n",
              "          document.querySelector('#df-e69716bb-0ad8-48c8-8c7c-d75597185aa3 button.colab-df-convert');\n",
              "        buttonEl.style.display =\n",
              "          google.colab.kernel.accessAllowed ? 'block' : 'none';\n",
              "\n",
              "        async function convertToInteractive(key) {\n",
              "          const element = document.querySelector('#df-e69716bb-0ad8-48c8-8c7c-d75597185aa3');\n",
              "          const dataTable =\n",
              "            await google.colab.kernel.invokeFunction('convertToInteractive',\n",
              "                                                     [key], {});\n",
              "          if (!dataTable) return;\n",
              "\n",
              "          const docLinkHtml = 'Like what you see? Visit the ' +\n",
              "            '<a target=\"_blank\" href=https://colab.research.google.com/notebooks/data_table.ipynb>data table notebook</a>'\n",
              "            + ' to learn more about interactive tables.';\n",
              "          element.innerHTML = '';\n",
              "          dataTable['output_type'] = 'display_data';\n",
              "          await google.colab.output.renderOutput(dataTable, element);\n",
              "          const docLink = document.createElement('div');\n",
              "          docLink.innerHTML = docLinkHtml;\n",
              "          element.appendChild(docLink);\n",
              "        }\n",
              "      </script>\n",
              "    </div>\n",
              "  </div>\n",
              "  "
            ]
          },
          "metadata": {},
          "execution_count": 32
        }
      ],
      "source": [
        "# Creo la secuencia de vuelos de cada avión cada día\n",
        "\n",
        "df['Secuencia'] = df.groupby(['DATE', 'REG'])['STD'].rank()\n",
        "\n",
        "\n",
        "df1=df\n",
        "df1.head(2)\n",
        "\n"
      ]
    },
    {
      "cell_type": "code",
      "execution_count": 33,
      "id": "cde79d5f",
      "metadata": {
        "ExecuteTime": {
          "end_time": "2022-06-03T12:55:22.531725Z",
          "start_time": "2022-06-03T12:55:22.516764Z"
        },
        "id": "cde79d5f"
      },
      "outputs": [],
      "source": [
        "# Analizo el retardo en el despegue:\n",
        "def dibujarScatter( ejeX, ejeY):\n",
        "    x= df1[ejeX]\n",
        "    y = df1[ejeY]    \n",
        "    ax = sns.scatterplot(x , y )\n",
        "\n"
      ]
    },
    {
      "cell_type": "markdown",
      "id": "82753f5b",
      "metadata": {
        "id": "82753f5b"
      },
      "source": [
        "# Puntualidad media primer despegue en el 2019!"
      ]
    },
    {
      "cell_type": "code",
      "execution_count": 34,
      "id": "85a1720f",
      "metadata": {
        "ExecuteTime": {
          "end_time": "2022-06-03T12:55:22.783087Z",
          "start_time": "2022-06-03T12:55:22.533719Z"
        },
        "colab": {
          "base_uri": "https://localhost:8080/",
          "height": 333
        },
        "id": "85a1720f",
        "outputId": "9fd49278-118b-4729-948f-c89238090193"
      },
      "outputs": [
        {
          "output_type": "stream",
          "name": "stderr",
          "text": [
            "/usr/local/lib/python3.7/dist-packages/seaborn/_decorators.py:43: FutureWarning: Pass the following variables as keyword args: x, y. From version 0.12, the only valid positional argument will be `data`, and passing other arguments without an explicit keyword will result in an error or misinterpretation.\n",
            "  FutureWarning\n"
          ]
        },
        {
          "output_type": "display_data",
          "data": {
            "text/plain": [
              "<Figure size 432x288 with 1 Axes>"
            ],
            "image/png": "[encoded data removed]"
          },
          "metadata": {
            "needs_background": "light"
          }
        }
      ],
      "source": [
        "ax = sns.scatterplot( df1['STD'], df1['ATD'])"
      ]
    },
    {
      "cell_type": "markdown",
      "id": "1373549b",
      "metadata": {
        "id": "1373549b"
      },
      "source": [
        "# Calculo error del primer despegue."
      ]
    },
    {
      "cell_type": "code",
      "execution_count": 35,
      "id": "18c70c06",
      "metadata": {
        "ExecuteTime": {
          "end_time": "2022-06-03T12:55:22.803997Z",
          "start_time": "2022-06-03T12:55:22.785047Z"
        },
        "colab": {
          "base_uri": "https://localhost:8080/"
        },
        "id": "18c70c06",
        "outputId": "767168c1-3196-4342-9b91-285d4e86da5b"
      },
      "outputs": [
        {
          "output_type": "stream",
          "name": "stdout",
          "text": [
            "         DATE     REG  Secuencia                 STD\n",
            "0  2022-01-01  EC-JSY        1.0 2022-01-01 07:40:00\n",
            "6  2022-01-01  EC-JZI        1.0 2022-01-01 07:30:00\n",
            "12 2022-01-01  EC-KDG        1.0 2022-01-01 14:20:00\n",
            "16 2022-01-01  EC-KDH        1.0 2022-01-01 07:50:00\n",
            "21 2022-01-01  EC-KDX        1.0 2022-01-01 17:35:00\n",
            "24 2022-01-01  EC-KLB        1.0 2022-01-01 05:25:00\n",
            "29 2022-01-01  EC-KLT        1.0 2022-01-01 07:30:00\n",
            "33 2022-01-01  EC-KMI        1.0 2022-01-01 12:05:00\n"
          ]
        }
      ],
      "source": [
        "# Filtro primer despegue\n",
        "\n",
        "vuelosPrimerDespegue= (df1['Secuencia']== 1)\n",
        "df2 = df1[vuelosPrimerDespegue]\n",
        "print(df2[['DATE','REG', 'Secuencia','STD']][0:8])\n"
      ]
    },
    {
      "cell_type": "code",
      "execution_count": 36,
      "id": "b65cc2ca",
      "metadata": {
        "ExecuteTime": {
          "end_time": "2022-06-03T12:55:22.828962Z",
          "start_time": "2022-06-03T12:55:22.806988Z"
        },
        "colab": {
          "base_uri": "https://localhost:8080/",
          "height": 69
        },
        "id": "b65cc2ca",
        "outputId": "58cd8718-6f3b-45a9-cac8-aeed02761130"
      },
      "outputs": [
        {
          "output_type": "execute_result",
          "data": {
            "text/plain": [
              "\"\\nvuelosPrimerDespegue= (df1['Secuencia']== 1)\\ndf2 = df1[vuelosPrimerDespegue]\\n\\ndf2['E_Despegue'] = (df2['Date_ATD']- df2['Date_STD']) /  np.imedelta64(1, 'm')\\n\\n\\n#df2['E_Despegue']=df2['E_Despegue'].np.time\\n\\ndf2['E_Despegue'].head(8)\\nprint(df2[['DATE','REG', 'E_Despegue', 'Date_ATD', 'Date_STD']][0:8])\\n#sns.histplot(data= df1.E_Despegue, kde= True)\\n\""
            ],
            "application/vnd.google.colaboratory.intrinsic+json": {
              "type": "string"
            }
          },
          "metadata": {},
          "execution_count": 36
        }
      ],
      "source": [
        "\n",
        "#Calculo error despegue:\n",
        "'''\n",
        "vuelosPrimerDespegue= (df1['Secuencia']== 1)\n",
        "df2 = df1[vuelosPrimerDespegue]\n",
        "\n",
        "df2['E_Despegue'] = (df2['Date_ATD']- df2['Date_STD']) /  np.imedelta64(1, 'm')\n",
        "\n",
        "\n",
        "#df2['E_Despegue']=df2['E_Despegue'].np.time\n",
        "\n",
        "df2['E_Despegue'].head(8)\n",
        "print(df2[['DATE','REG', 'E_Despegue', 'Date_ATD', 'Date_STD']][0:8])\n",
        "#sns.histplot(data= df1.E_Despegue, kde= True)\n",
        "'''"
      ]
    },
    {
      "cell_type": "code",
      "execution_count": 37,
      "id": "0170f31a",
      "metadata": {
        "ExecuteTime": {
          "end_time": "2022-06-03T12:55:22.844887Z",
          "start_time": "2022-06-03T12:55:22.830924Z"
        },
        "colab": {
          "base_uri": "https://localhost:8080/"
        },
        "id": "0170f31a",
        "outputId": "77052501-05e6-41aa-f45d-749259d06b28"
      },
      "outputs": [
        {
          "output_type": "stream",
          "name": "stdout",
          "text": [
            "         DATE     REG  Secuencia                 STD                 ATD\n",
            "0  2022-01-01  EC-JSY        1.0 2022-01-01 07:40:00 2022-01-01 08:00:00\n",
            "6  2022-01-01  EC-JZI        1.0 2022-01-01 07:30:00 2022-01-01 07:12:00\n",
            "12 2022-01-01  EC-KDG        1.0 2022-01-01 14:20:00 2022-01-01 14:27:00\n",
            "16 2022-01-01  EC-KDH        1.0 2022-01-01 07:50:00 2022-01-01 08:13:00\n",
            "21 2022-01-01  EC-KDX        1.0 2022-01-01 17:35:00 2022-01-01 17:31:00\n",
            "24 2022-01-01  EC-KLB        1.0 2022-01-01 05:25:00 2022-01-01 05:20:00\n",
            "29 2022-01-01  EC-KLT        1.0 2022-01-01 07:30:00 2022-01-01 07:29:00\n",
            "33 2022-01-01  EC-KMI        1.0 2022-01-01 12:05:00 2022-01-01 12:01:00\n",
            "Media =  1.040119717808024\n"
          ]
        }
      ],
      "source": [
        "#Calculo error primer despegue despegue:\n",
        "\n",
        "df1['E_Despegue'] = (df1['ATD']- df1['STD']) /  np.timedelta64(1, 'm')\n",
        "\n",
        " \n",
        "df1['E_Despegue'].head()\n",
        " \n",
        "\n",
        "#print(df1['E_Despegue'][0], '-----', df1['Date_ATD'][0], '........', df1['Date_STD'][0])\n",
        "#print(df1[['DATE','REG', 'E_Despegue', 'Date_ATD', 'Date_STD']][0:8])\n",
        "\n",
        "print(df2[['DATE','REG', 'Secuencia','STD', 'ATD']][0:8])\n",
        "\n",
        "print('Media = ', df1['E_Despegue'].mean())"
      ]
    },
    {
      "cell_type": "code",
      "execution_count": 38,
      "id": "d08be5e9",
      "metadata": {
        "ExecuteTime": {
          "end_time": "2022-06-03T12:55:23.049526Z",
          "start_time": "2022-06-03T12:55:22.845884Z"
        },
        "colab": {
          "base_uri": "https://localhost:8080/",
          "height": 297
        },
        "id": "d08be5e9",
        "outputId": "5dd88181-8cc4-4813-e1f7-493bafd4e98c"
      },
      "outputs": [
        {
          "output_type": "execute_result",
          "data": {
            "text/plain": [
              "<matplotlib.axes._subplots.AxesSubplot at 0x7fdbf58a1090>"
            ]
          },
          "metadata": {},
          "execution_count": 38
        },
        {
          "output_type": "display_data",
          "data": {
            "text/plain": [
              "<Figure size 432x288 with 1 Axes>"
            ],
            "image/png": "[encoded data removed]"
          },
          "metadata": {
            "needs_background": "light"
          }
        }
      ],
      "source": [
        "sns.histplot(data= df1.E_Despegue, kde= True)"
      ]
    },
    {
      "cell_type": "markdown",
      "id": "1ea80fcb",
      "metadata": {
        "id": "1ea80fcb"
      },
      "source": [
        "# Vemos que hay mucha dispersion hay que filtrar los datos a:\n",
        "## error de salida > 30 y < 30 y es el primer despegue"
      ]
    },
    {
      "cell_type": "code",
      "execution_count": 39,
      "id": "c48f08ae",
      "metadata": {
        "ExecuteTime": {
          "end_time": "2022-06-03T12:55:23.254980Z",
          "start_time": "2022-06-03T12:55:23.051493Z"
        },
        "hide_input": false,
        "colab": {
          "base_uri": "https://localhost:8080/",
          "height": 297
        },
        "id": "c48f08ae",
        "outputId": "72f50780-f09e-4111-b284-c648ac6731b4"
      },
      "outputs": [
        {
          "output_type": "stream",
          "name": "stdout",
          "text": [
            "\n"
          ]
        },
        {
          "output_type": "display_data",
          "data": {
            "text/plain": [
              "<Figure size 432x288 with 1 Axes>"
            ],
            "image/png": "[encoded data removed]"
          },
          "metadata": {
            "needs_background": "light"
          }
        }
      ],
      "source": [
        "# Eliminar los outliers\n",
        "df2=df.copy()\n",
        "dfEliminarOutliers= ((df2['Secuencia']== 1) & (df2['E_Despegue']< 30) & (df2['E_Despegue']> -30))\n",
        "\n",
        "df2 = df[dfEliminarOutliers]\n",
        "sns.histplot(data= df2.E_Despegue, kde= True)\n",
        "print()\n",
        "#print('Media filtrada = ', round(df1['E_Despegue'].mean(),2), 'minutos')\n",
        "#print(df2[['Secuencia', 'E_Despegue', 'AeropuertoKey1' ]]) "
      ]
    },
    {
      "cell_type": "code",
      "execution_count": 40,
      "id": "8e6408db",
      "metadata": {
        "ExecuteTime": {
          "end_time": "2022-06-03T12:57:22.413439Z",
          "start_time": "2022-06-03T12:57:22.391498Z"
        },
        "id": "8e6408db"
      },
      "outputs": [],
      "source": [
        "# Para saber la puntualidad solo de Barcelona\n",
        "df2barcelonaPuntualida = (df2['DEP']== 'BCN')\n",
        "\n",
        "\n",
        "df2BarcelonaPuntualida = df2[df2barcelonaPuntualida]\n",
        "df2barcelonaPuntualida.head()\n",
        "\n",
        "#df2BarcelonaPuntualida.head()\n",
        "puntualidadBCN = round((df2BarcelonaPuntualida['E_Despegue'].mean()),2)#\n",
        "#print(df2BarcelonaPuntualida[[ 'DATE',   'FLT',     'REG',  'AC', 'DEP',  'ARR']] )"
      ]
    },
    {
      "cell_type": "code",
      "execution_count": 41,
      "id": "6f9c4323",
      "metadata": {
        "ExecuteTime": {
          "end_time": "2022-06-03T12:55:23.302849Z",
          "start_time": "2022-06-03T12:55:23.271903Z"
        },
        "colab": {
          "base_uri": "https://localhost:8080/",
          "height": 544
        },
        "id": "6f9c4323",
        "outputId": "ebfc82fc-6b53-4967-b692-81a447ee1782"
      },
      "outputs": [
        {
          "output_type": "execute_result",
          "data": {
            "text/plain": [
              "Text(0.5, 1.0, 'Puntualidad principales aeropuertos:')"
            ]
          },
          "metadata": {},
          "execution_count": 41
        },
        {
          "output_type": "display_data",
          "data": {
            "text/plain": [
              "<Figure size 1080x576 with 1 Axes>"
            ],
            "image/png": "[encoded data removed]"
          },
          "metadata": {}
        }
      ],
      "source": [
        "# Intervalos de Confianza por aeropuerto\n",
        "sns.set_theme(style=\"darkgrid\")\n",
        "#tips = sns.df1(\"tips\")\n",
        "sns.set(rc = {'figure.figsize':(15,8)})      \n",
        "# Tamaño de la imagen\n",
        "ax = sns.pointplot(x='AeropuertoKey1', y = \"E_Despegue\", data= df2, scale=.1, kind = \"point\", capsize=0.13)\n",
        "\n",
        "ax.axhline(puntualidadBCN, color=\"red\", linestyle = '--', label=\"ooas\")       # Linea 0 verde\n",
        "ax.axhline(0, color=\"green\", linestyle = '--')\n",
        "\n",
        "\n",
        "textoBCN = \"BCN \"+ str(puntualidadBCN) + ' minut.'\n",
        "ax.text(puntualidadBCN ,puntualidadBCN , textoBCN, backgroundcolor='w')\n",
        "\n",
        "ax.set_title('Puntualidad principales aeropuertos:', fontsize = 24)"
      ]
    },
    {
      "cell_type": "markdown",
      "id": "213c6d98",
      "metadata": {
        "id": "213c6d98"
      },
      "source": [
        "# tiempo 'Close Cargo Door'  -   'Close Pax'"
      ]
    },
    {
      "cell_type": "code",
      "execution_count": 42,
      "id": "7676a975",
      "metadata": {
        "ExecuteTime": {
          "end_time": "2022-06-03T12:55:23.304815Z",
          "start_time": "2022-06-03T12:55:23.304815Z"
        },
        "colab": {
          "base_uri": "https://localhost:8080/",
          "height": 589
        },
        "id": "7676a975",
        "outputId": "d35308b2-1891-432c-b1f3-4ddba46722f8"
      },
      "outputs": [
        {
          "output_type": "stream",
          "name": "stdout",
          "text": [
            "\n",
            "Media filtrada =  -63899.17 minutos\n"
          ]
        },
        {
          "output_type": "stream",
          "name": "stderr",
          "text": [
            "/usr/local/lib/python3.7/dist-packages/ipykernel_launcher.py:5: UserWarning: Boolean Series key will be reindexed to match DataFrame index.\n",
            "  \"\"\"\n"
          ]
        },
        {
          "output_type": "execute_result",
          "data": {
            "text/plain": [
              "<matplotlib.lines.Line2D at 0x7fdbf4658450>"
            ]
          },
          "metadata": {},
          "execution_count": 42
        },
        {
          "output_type": "display_data",
          "data": {
            "text/plain": [
              "<Figure size 1080x576 with 1 Axes>"
            ],
            "image/png": "[encoded data removed]"
          },
          "metadata": {}
        }
      ],
      "source": [
        "#t_Close_Cargo_Door\n",
        "\n",
        "dfEliminarOutliers= ((df1['Secuencia']== 1) & (df1['t_Close_Cargo_Door']< 30) & (df1['t_Close_Cargo_Door']> -30))\n",
        "\n",
        "df2 = df2[dfEliminarOutliers]\n",
        "#df2 = df2[dfEliminarOutliers]\n",
        "\n",
        "ax=sns.histplot(data= df2.t_Close_Cargo_Door, kde= True)\n",
        "\n",
        "media = round(df1['t_Close_Cargo_Door'].mean(),2)\n",
        "print()\n",
        "print('Media filtrada = ', media , 'minutos')\n",
        " \n",
        "ax.axvline(puntualidadBCN, color=\"red\", linestyle = '--', label=\"ooas\")       # Linea 0 verde\n",
        "ax.axvline(0, color=\"green\", linestyle = '--')\n"
      ]
    },
    {
      "cell_type": "markdown",
      "id": "64a0295e",
      "metadata": {
        "id": "64a0295e"
      },
      "source": [
        "# tiempo  'tiempo Close Pax'  -   'ATD'"
      ]
    },
    {
      "cell_type": "code",
      "execution_count": 43,
      "id": "ac8853c6",
      "metadata": {
        "ExecuteTime": {
          "end_time": "2022-06-03T12:55:23.304815Z",
          "start_time": "2022-06-03T12:55:23.304815Z"
        },
        "colab": {
          "base_uri": "https://localhost:8080/",
          "height": 589
        },
        "id": "ac8853c6",
        "outputId": "5af414f5-18ea-4dd7-9614-be4adf7ce4a4"
      },
      "outputs": [
        {
          "output_type": "stream",
          "name": "stderr",
          "text": [
            "/usr/local/lib/python3.7/dist-packages/ipykernel_launcher.py:5: UserWarning: Boolean Series key will be reindexed to match DataFrame index.\n",
            "  \"\"\"\n"
          ]
        },
        {
          "output_type": "stream",
          "name": "stdout",
          "text": [
            "\n",
            "Media filtrada =  -63896.34 minutos\n"
          ]
        },
        {
          "output_type": "execute_result",
          "data": {
            "text/plain": [
              "<matplotlib.lines.Line2D at 0x7fdbf4babdd0>"
            ]
          },
          "metadata": {},
          "execution_count": 43
        },
        {
          "output_type": "display_data",
          "data": {
            "text/plain": [
              "<Figure size 1080x576 with 1 Axes>"
            ],
            "image/png": "[encoded data removed]"
          },
          "metadata": {}
        }
      ],
      "source": [
        "#t_Close_Cargo_Door\n",
        "\n",
        "dfEliminarOutliers= ((df1['Secuencia']== 1) & (df1['t_ClosePax']< 30) & (df1['t_ClosePax']> -30))\n",
        "\n",
        "df2 = df2[dfEliminarOutliers] \n",
        "\n",
        "ax=sns.histplot(data= df2.t_Close_Cargo_Door, kde= True)\n",
        "\n",
        "media = round(df1['t_ClosePax'].mean(),2)\n",
        "print()\n",
        "print('Media filtrada = ', media , 'minutos')\n",
        " \n",
        "ax.axvline(puntualidadBCN, color=\"red\", linestyle = '--', label=\"ooas\")       # Linea 0 verde\n",
        "ax.axvline(0, color=\"green\", linestyle = '--')\n"
      ]
    },
    {
      "cell_type": "code",
      "execution_count": 44,
      "id": "f6003ff6",
      "metadata": {
        "ExecuteTime": {
          "end_time": "2022-06-03T12:55:23.306810Z",
          "start_time": "2022-06-03T12:55:23.306810Z"
        },
        "colab": {
          "base_uri": "https://localhost:8080/",
          "height": 520
        },
        "id": "f6003ff6",
        "outputId": "9364cfd2-f9ac-4884-cfbb-6def26d2d5d0"
      },
      "outputs": [
        {
          "output_type": "execute_result",
          "data": {
            "text/plain": [
              "<matplotlib.lines.Line2D at 0x7fdbf4b7d050>"
            ]
          },
          "metadata": {},
          "execution_count": 44
        },
        {
          "output_type": "display_data",
          "data": {
            "text/plain": [
              "<Figure size 1080x576 with 1 Axes>"
            ],
            "image/png": "[encoded data removed]"
          },
          "metadata": {}
        }
      ],
      "source": [
        "ax=sns.histplot(data= df2BarcelonaPuntualida.E_Despegue, kde= True)\n",
        "\n",
        "ax.axvline(puntualidadBCN, color=\"red\", linestyle = '--', label=\"ooas\")       # Linea 0 verde\n",
        "ax.axvline(0, color=\"green\", linestyle = '--')\n"
      ]
    },
    {
      "cell_type": "markdown",
      "id": "6b15fbe7",
      "metadata": {
        "id": "6b15fbe7"
      },
      "source": [
        "# creamos los LAGs"
      ]
    },
    {
      "cell_type": "code",
      "execution_count": 45,
      "id": "c541c43a",
      "metadata": {
        "ExecuteTime": {
          "end_time": "2022-06-03T12:55:23.308805Z",
          "start_time": "2022-06-03T12:55:23.308805Z"
        },
        "colab": {
          "base_uri": "https://localhost:8080/",
          "height": 424
        },
        "id": "c541c43a",
        "outputId": "8dee4e1f-71cf-467c-a542-d5503371e090"
      },
      "outputs": [
        {
          "output_type": "execute_result",
          "data": {
            "text/plain": [
              "       lag_Secuencia lag_REG\n",
              "0                2.0  EC-JSY\n",
              "1                3.0  EC-JSY\n",
              "2                4.0  EC-JSY\n",
              "3                5.0  EC-JSY\n",
              "4                6.0  EC-JSY\n",
              "...              ...     ...\n",
              "56128            3.0  EC-NLY\n",
              "56129            4.0  EC-NLY\n",
              "56130            5.0  EC-NLY\n",
              "56131            6.0  EC-NLY\n",
              "56132            NaN     NaN\n",
              "\n",
              "[56133 rows x 2 columns]"
            ],
            "text/html": [
              "\n",
              "  <div id=\"df-9e1aaf9b-77ff-4ac3-a89a-93098fb5e04a\">\n",
              "    <div class=\"colab-df-container\">\n",
              "      <div>\n",
              "<style scoped>\n",
              "    .dataframe tbody tr th:only-of-type {\n",
              "        vertical-align: middle;\n",
              "    }\n",
              "\n",
              "    .dataframe tbody tr th {\n",
              "        vertical-align: top;\n",
              "    }\n",
              "\n",
              "    .dataframe thead th {\n",
              "        text-align: right;\n",
              "    }\n",
              "</style>\n",
              "<table border=\"1\" class=\"dataframe\">\n",
              "  <thead>\n",
              "    <tr style=\"text-align: right;\">\n",
              "      <th></th>\n",
              "      <th>lag_Secuencia</th>\n",
              "      <th>lag_REG</th>\n",
              "    </tr>\n",
              "  </thead>\n",
              "  <tbody>\n",
              "    <tr>\n",
              "      <th>0</th>\n",
              "      <td>2.0</td>\n",
              "      <td>EC-JSY</td>\n",
              "    </tr>\n",
              "    <tr>\n",
              "      <th>1</th>\n",
              "      <td>3.0</td>\n",
              "      <td>EC-JSY</td>\n",
              "    </tr>\n",
              "    <tr>\n",
              "      <th>2</th>\n",
              "      <td>4.0</td>\n",
              "      <td>EC-JSY</td>\n",
              "    </tr>\n",
              "    <tr>\n",
              "      <th>3</th>\n",
              "      <td>5.0</td>\n",
              "      <td>EC-JSY</td>\n",
              "    </tr>\n",
              "    <tr>\n",
              "      <th>4</th>\n",
              "      <td>6.0</td>\n",
              "      <td>EC-JSY</td>\n",
              "    </tr>\n",
              "    <tr>\n",
              "      <th>...</th>\n",
              "      <td>...</td>\n",
              "      <td>...</td>\n",
              "    </tr>\n",
              "    <tr>\n",
              "      <th>56128</th>\n",
              "      <td>3.0</td>\n",
              "      <td>EC-NLY</td>\n",
              "    </tr>\n",
              "    <tr>\n",
              "      <th>56129</th>\n",
              "      <td>4.0</td>\n",
              "      <td>EC-NLY</td>\n",
              "    </tr>\n",
              "    <tr>\n",
              "      <th>56130</th>\n",
              "      <td>5.0</td>\n",
              "      <td>EC-NLY</td>\n",
              "    </tr>\n",
              "    <tr>\n",
              "      <th>56131</th>\n",
              "      <td>6.0</td>\n",
              "      <td>EC-NLY</td>\n",
              "    </tr>\n",
              "    <tr>\n",
              "      <th>56132</th>\n",
              "      <td>NaN</td>\n",
              "      <td>NaN</td>\n",
              "    </tr>\n",
              "  </tbody>\n",
              "</table>\n",
              "<p>56133 rows × 2 columns</p>\n",
              "</div>\n",
              "      <button class=\"colab-df-convert\" onclick=\"convertToInteractive('df-9e1aaf9b-77ff-4ac3-a89a-93098fb5e04a')\"\n",
              "              title=\"Convert this dataframe to an interactive table.\"\n",
              "              style=\"display:none;\">\n",
              "        \n",
              "  <svg xmlns=\"http://www.w3.org/2000/svg\" height=\"24px\"viewBox=\"0 0 24 24\"\n",
              "       width=\"24px\">\n",
              "    <path d=\"M0 0h24v24H0V0z\" fill=\"none\"/>\n",
              "    <path d=\"M18.56 5.44l.94 2.06.94-2.06 2.06-.94-2.06-.94-.94-2.06-.94 2.06-2.06.94zm-11 1L8.5 8.5l.94-2.06 2.06-.94-2.06-.94L8.5 2.5l-.94 2.06-2.06.94zm10 10l.94 2.06.94-2.06 2.06-.94-2.06-.94-.94-2.06-.94 2.06-2.06.94z\"/><path d=\"M17.41 7.96l-1.37-1.37c-.4-.4-.92-.59-1.43-.59-.52 0-1.04.2-1.43.59L10.3 9.45l-7.72 7.72c-.78.78-.78 2.05 0 2.83L4 21.41c.39.39.9.59 1.41.59.51 0 1.02-.2 1.41-.59l7.78-7.78 2.81-2.81c.8-.78.8-2.07 0-2.86zM5.41 20L4 18.59l7.72-7.72 1.47 1.35L5.41 20z\"/>\n",
              "  </svg>\n",
              "      </button>\n",
              "      \n",
              "  <style>\n",
              "    .colab-df-container {\n",
              "      display:flex;\n",
              "      flex-wrap:wrap;\n",
              "      gap: 12px;\n",
              "    }\n",
              "\n",
              "    .colab-df-convert {\n",
              "      background-color: #E8F0FE;\n",
              "      border: none;\n",
              "      border-radius: 50%;\n",
              "      cursor: pointer;\n",
              "      display: none;\n",
              "      fill: #1967D2;\n",
              "      height: 32px;\n",
              "      padding: 0 0 0 0;\n",
              "      width: 32px;\n",
              "    }\n",
              "\n",
              "    .colab-df-convert:hover {\n",
              "      background-color: #E2EBFA;\n",
              "      box-shadow: 0px 1px 2px rgba(60, 64, 67, 0.3), 0px 1px 3px 1px rgba(60, 64, 67, 0.15);\n",
              "      fill: #174EA6;\n",
              "    }\n",
              "\n",
              "    [theme=dark] .colab-df-convert {\n",
              "      background-color: #3B4455;\n",
              "      fill: #D2E3FC;\n",
              "    }\n",
              "\n",
              "    [theme=dark] .colab-df-convert:hover {\n",
              "      background-color: #434B5C;\n",
              "      box-shadow: 0px 1px 3px 1px rgba(0, 0, 0, 0.15);\n",
              "      filter: drop-shadow(0px 1px 2px rgba(0, 0, 0, 0.3));\n",
              "      fill: #FFFFFF;\n",
              "    }\n",
              "  </style>\n",
              "\n",
              "      <script>\n",
              "        const buttonEl =\n",
              "          document.querySelector('#df-9e1aaf9b-77ff-4ac3-a89a-93098fb5e04a button.colab-df-convert');\n",
              "        buttonEl.style.display =\n",
              "          google.colab.kernel.accessAllowed ? 'block' : 'none';\n",
              "\n",
              "        async function convertToInteractive(key) {\n",
              "          const element = document.querySelector('#df-9e1aaf9b-77ff-4ac3-a89a-93098fb5e04a');\n",
              "          const dataTable =\n",
              "            await google.colab.kernel.invokeFunction('convertToInteractive',\n",
              "                                                     [key], {});\n",
              "          if (!dataTable) return;\n",
              "\n",
              "          const docLinkHtml = 'Like what you see? Visit the ' +\n",
              "            '<a target=\"_blank\" href=https://colab.research.google.com/notebooks/data_table.ipynb>data table notebook</a>'\n",
              "            + ' to learn more about interactive tables.';\n",
              "          element.innerHTML = '';\n",
              "          dataTable['output_type'] = 'display_data';\n",
              "          await google.colab.output.renderOutput(dataTable, element);\n",
              "          const docLink = document.createElement('div');\n",
              "          docLink.innerHTML = docLinkHtml;\n",
              "          element.appendChild(docLink);\n",
              "        }\n",
              "      </script>\n",
              "    </div>\n",
              "  </div>\n",
              "  "
            ]
          },
          "metadata": {},
          "execution_count": 45
        }
      ],
      "source": [
        "#Creamos los LAGs\n",
        "\n",
        "df= df.sort_values(['DATE', 'REG', 'STD'])\n",
        "\n",
        "\n",
        "df[f'lag_STD']= df['STD'].shift(periods=-1)  \n",
        "#adecuarFechas('DATE', 'lag_STD')\n",
        "df[f'lag_ATD']= df['ATD'].shift(periods=-1)  \n",
        "\n",
        "df[f'lag_STA']= df['STA'].shift(periods=-1)  \n",
        "#adecuarFechas('DATE', 'lag_STD')\n",
        "df[f'lag_ATA']= df['ATA'].shift(periods=-1) \n",
        "\n",
        "#adecuarFechas('Pasajeros', 'ACT PAX  ')\n",
        "df[f'lag_ACT PAX']= df['ACT PAX'].shift(periods=-1) \n",
        "\n",
        "#Lag de la siguiente secuencia\n",
        "df[f'lag_Secuencia']= df['Secuencia'].shift(periods=-1) \n",
        "df[f'lag_REG']= df['REG'].shift(periods=-1) \n",
        "\n",
        "df[['lag_Secuencia', 'lag_REG']]"
      ]
    },
    {
      "cell_type": "markdown",
      "id": "302d4979",
      "metadata": {
        "id": "302d4979"
      },
      "source": [
        "# Tiempo en tierra de una avion despues primer salto\n",
        "##df3 --> Calculo tiempo en tierra"
      ]
    },
    {
      "cell_type": "code",
      "execution_count": 46,
      "id": "a7959df3",
      "metadata": {
        "ExecuteTime": {
          "end_time": "2022-06-03T12:55:23.309802Z",
          "start_time": "2022-06-03T12:55:23.309802Z"
        },
        "colab": {
          "base_uri": "https://localhost:8080/"
        },
        "id": "a7959df3",
        "outputId": "bd531de8-2bb7-4f43-8f80-a274aac2f759"
      },
      "outputs": [
        {
          "output_type": "stream",
          "name": "stdout",
          "text": [
            "    FLT  Secuencia                 STD                 ATD  \\\n",
            "0  2506        1.0 2022-01-01 07:40:00 2022-01-01 08:00:00   \n",
            "1  2505        2.0 2022-01-01 09:40:00 2022-01-01 09:51:00   \n",
            "2  1386        3.0 2022-01-01 11:40:00 2022-01-01 11:40:00   \n",
            "3  1387        4.0 2022-01-01 13:30:00 2022-01-01 13:23:00   \n",
            "\n",
            "              lag_STD  T_teoricoTierra1  E_tierra1  \n",
            "0 2022-01-01 09:40:00              35.0       -4.0  \n",
            "1 2022-01-01 11:40:00              35.0       -4.0  \n",
            "2 2022-01-01 13:30:00              40.0       -2.0  \n",
            "3 2022-01-01 15:15:00              40.0       16.0  \n",
            "\n",
            "Media filtrada =  5.51 minutos\n"
          ]
        }
      ],
      "source": [
        "df= df.sort_values(['DATE', 'REG', 'STD'])\n",
        "\n",
        "\n",
        "\n",
        "df['T_teoricoTierra1'] = (df['lag_STD']- df['STA']) /  np.timedelta64(1, 'm')\n",
        "df['T_RealTierra1'] = (df['lag_ATD']- df['ATA']) /  np.timedelta64(1, 'm')\n",
        "\n",
        "df['E_tierra1'] = df['T_RealTierra1'] -df['T_teoricoTierra1']\n",
        "\n",
        "\n",
        "#df[f'lag_STD']= df['STD'].shift(periods=-1)  \n",
        "\n",
        "\n",
        "df3=df\n",
        "#selecionoSecuencia_1= (df['Secuencia']== 1)\n",
        "#df3 = df[selecionoSecuencia_1]\n",
        "\n",
        "\n",
        "#print(df3[['DATE','REG', 'Secuencia']][0:8])\n",
        "\n",
        "print(df3[['FLT', 'Secuencia','STD', 'ATD', 'lag_STD', 'T_teoricoTierra1', 'E_tierra1']][0:4])\n",
        "print()\n",
        "print('Media filtrada = ', round(df3['E_tierra1'].mean(),2), 'minutos')\n"
      ]
    },
    {
      "cell_type": "code",
      "execution_count": 47,
      "id": "a8786c2f",
      "metadata": {
        "ExecuteTime": {
          "end_time": "2022-06-03T12:55:23.310799Z",
          "start_time": "2022-06-03T12:55:23.310799Z"
        },
        "colab": {
          "base_uri": "https://localhost:8080/"
        },
        "id": "a8786c2f",
        "outputId": "7d5a34b4-8f0b-40e1-c204-8b435fee4a7d"
      },
      "outputs": [
        {
          "output_type": "execute_result",
          "data": {
            "text/plain": [
              "0    15.0\n",
              "1     4.0\n",
              "2    -5.0\n",
              "Name: Puntualidad1, dtype: float64"
            ]
          },
          "metadata": {},
          "execution_count": 47
        }
      ],
      "source": [
        "# Retraso\n",
        "df['Puntualidad1'] = (df['ATA'] - df['STA']) /  np.timedelta64(1, 'm') \n",
        "df['Puntualidad1'].head(3)"
      ]
    },
    {
      "cell_type": "markdown",
      "source": [
        "# Calculo Tiempo de carga y descarga de pasajeros:\n",
        "Cojo solo las segundas secuencias que tengan el siguiente vuelo el mismo REG"
      ],
      "metadata": {
        "id": "aeD0_kWhI3AP"
      },
      "id": "aeD0_kWhI3AP"
    },
    {
      "cell_type": "code",
      "source": [
        "# Total pasajeros Boarding\n",
        "\n",
        "df['Total_PAX_Boarding'] = df['lag_ACT PAX'] +df['ACT PAX']\n",
        "\n",
        "df['Total_PAX_Boarding'] \n",
        "\n",
        "df['T_Medio_Boarding'] = round(df['Total_PAX_Boarding'] / df['T_RealTierra1'],1)\n",
        "df[['T_Medio_Boarding', 'Total_PAX_Boarding', 'T_RealTierra1']]\n",
        "#df['T_Medio_Boarding']"
      ],
      "metadata": {
        "colab": {
          "base_uri": "https://localhost:8080/",
          "height": 0
        },
        "id": "9K4AJRrNDQah",
        "outputId": "bf194de0-5bc0-493f-bb51-3871da568f82"
      },
      "id": "9K4AJRrNDQah",
      "execution_count": 48,
      "outputs": [
        {
          "output_type": "execute_result",
          "data": {
            "text/plain": [
              "       T_Medio_Boarding  Total_PAX_Boarding  T_RealTierra1\n",
              "0                   6.6               206.0           31.0\n",
              "1                   4.4               135.0           31.0\n",
              "2                   2.1                78.0           38.0\n",
              "3                   3.6               202.0           56.0\n",
              "4                   7.5               276.0           37.0\n",
              "...                 ...                 ...            ...\n",
              "56128               8.5               407.0           48.0\n",
              "56129               9.2               367.0           40.0\n",
              "56130               2.9               329.0          115.0\n",
              "56131               8.6               345.0           40.0\n",
              "56132               NaN                 NaN            NaN\n",
              "\n",
              "[56133 rows x 3 columns]"
            ],
            "text/html": [
              "\n",
              "  <div id=\"df-afa985c1-57c5-47eb-8652-8c0f16ff5d26\">\n",
              "    <div class=\"colab-df-container\">\n",
              "      <div>\n",
              "<style scoped>\n",
              "    .dataframe tbody tr th:only-of-type {\n",
              "        vertical-align: middle;\n",
              "    }\n",
              "\n",
              "    .dataframe tbody tr th {\n",
              "        vertical-align: top;\n",
              "    }\n",
              "\n",
              "    .dataframe thead th {\n",
              "        text-align: right;\n",
              "    }\n",
              "</style>\n",
              "<table border=\"1\" class=\"dataframe\">\n",
              "  <thead>\n",
              "    <tr style=\"text-align: right;\">\n",
              "      <th></th>\n",
              "      <th>T_Medio_Boarding</th>\n",
              "      <th>Total_PAX_Boarding</th>\n",
              "      <th>T_RealTierra1</th>\n",
              "    </tr>\n",
              "  </thead>\n",
              "  <tbody>\n",
              "    <tr>\n",
              "      <th>0</th>\n",
              "      <td>6.6</td>\n",
              "      <td>206.0</td>\n",
              "      <td>31.0</td>\n",
              "    </tr>\n",
              "    <tr>\n",
              "      <th>1</th>\n",
              "      <td>4.4</td>\n",
              "      <td>135.0</td>\n",
              "      <td>31.0</td>\n",
              "    </tr>\n",
              "    <tr>\n",
              "      <th>2</th>\n",
              "      <td>2.1</td>\n",
              "      <td>78.0</td>\n",
              "      <td>38.0</td>\n",
              "    </tr>\n",
              "    <tr>\n",
              "      <th>3</th>\n",
              "      <td>3.6</td>\n",
              "      <td>202.0</td>\n",
              "      <td>56.0</td>\n",
              "    </tr>\n",
              "    <tr>\n",
              "      <th>4</th>\n",
              "      <td>7.5</td>\n",
              "      <td>276.0</td>\n",
              "      <td>37.0</td>\n",
              "    </tr>\n",
              "    <tr>\n",
              "      <th>...</th>\n",
              "      <td>...</td>\n",
              "      <td>...</td>\n",
              "      <td>...</td>\n",
              "    </tr>\n",
              "    <tr>\n",
              "      <th>56128</th>\n",
              "      <td>8.5</td>\n",
              "      <td>407.0</td>\n",
              "      <td>48.0</td>\n",
              "    </tr>\n",
              "    <tr>\n",
              "      <th>56129</th>\n",
              "      <td>9.2</td>\n",
              "      <td>367.0</td>\n",
              "      <td>40.0</td>\n",
              "    </tr>\n",
              "    <tr>\n",
              "      <th>56130</th>\n",
              "      <td>2.9</td>\n",
              "      <td>329.0</td>\n",
              "      <td>115.0</td>\n",
              "    </tr>\n",
              "    <tr>\n",
              "      <th>56131</th>\n",
              "      <td>8.6</td>\n",
              "      <td>345.0</td>\n",
              "      <td>40.0</td>\n",
              "    </tr>\n",
              "    <tr>\n",
              "      <th>56132</th>\n",
              "      <td>NaN</td>\n",
              "      <td>NaN</td>\n",
              "      <td>NaN</td>\n",
              "    </tr>\n",
              "  </tbody>\n",
              "</table>\n",
              "<p>56133 rows × 3 columns</p>\n",
              "</div>\n",
              "      <button class=\"colab-df-convert\" onclick=\"convertToInteractive('df-afa985c1-57c5-47eb-8652-8c0f16ff5d26')\"\n",
              "              title=\"Convert this dataframe to an interactive table.\"\n",
              "              style=\"display:none;\">\n",
              "        \n",
              "  <svg xmlns=\"http://www.w3.org/2000/svg\" height=\"24px\"viewBox=\"0 0 24 24\"\n",
              "       width=\"24px\">\n",
              "    <path d=\"M0 0h24v24H0V0z\" fill=\"none\"/>\n",
              "    <path d=\"M18.56 5.44l.94 2.06.94-2.06 2.06-.94-2.06-.94-.94-2.06-.94 2.06-2.06.94zm-11 1L8.5 8.5l.94-2.06 2.06-.94-2.06-.94L8.5 2.5l-.94 2.06-2.06.94zm10 10l.94 2.06.94-2.06 2.06-.94-2.06-.94-.94-2.06-.94 2.06-2.06.94z\"/><path d=\"M17.41 7.96l-1.37-1.37c-.4-.4-.92-.59-1.43-.59-.52 0-1.04.2-1.43.59L10.3 9.45l-7.72 7.72c-.78.78-.78 2.05 0 2.83L4 21.41c.39.39.9.59 1.41.59.51 0 1.02-.2 1.41-.59l7.78-7.78 2.81-2.81c.8-.78.8-2.07 0-2.86zM5.41 20L4 18.59l7.72-7.72 1.47 1.35L5.41 20z\"/>\n",
              "  </svg>\n",
              "      </button>\n",
              "      \n",
              "  <style>\n",
              "    .colab-df-container {\n",
              "      display:flex;\n",
              "      flex-wrap:wrap;\n",
              "      gap: 12px;\n",
              "    }\n",
              "\n",
              "    .colab-df-convert {\n",
              "      background-color: #E8F0FE;\n",
              "      border: none;\n",
              "      border-radius: 50%;\n",
              "      cursor: pointer;\n",
              "      display: none;\n",
              "      fill: #1967D2;\n",
              "      height: 32px;\n",
              "      padding: 0 0 0 0;\n",
              "      width: 32px;\n",
              "    }\n",
              "\n",
              "    .colab-df-convert:hover {\n",
              "      background-color: #E2EBFA;\n",
              "      box-shadow: 0px 1px 2px rgba(60, 64, 67, 0.3), 0px 1px 3px 1px rgba(60, 64, 67, 0.15);\n",
              "      fill: #174EA6;\n",
              "    }\n",
              "\n",
              "    [theme=dark] .colab-df-convert {\n",
              "      background-color: #3B4455;\n",
              "      fill: #D2E3FC;\n",
              "    }\n",
              "\n",
              "    [theme=dark] .colab-df-convert:hover {\n",
              "      background-color: #434B5C;\n",
              "      box-shadow: 0px 1px 3px 1px rgba(0, 0, 0, 0.15);\n",
              "      filter: drop-shadow(0px 1px 2px rgba(0, 0, 0, 0.3));\n",
              "      fill: #FFFFFF;\n",
              "    }\n",
              "  </style>\n",
              "\n",
              "      <script>\n",
              "        const buttonEl =\n",
              "          document.querySelector('#df-afa985c1-57c5-47eb-8652-8c0f16ff5d26 button.colab-df-convert');\n",
              "        buttonEl.style.display =\n",
              "          google.colab.kernel.accessAllowed ? 'block' : 'none';\n",
              "\n",
              "        async function convertToInteractive(key) {\n",
              "          const element = document.querySelector('#df-afa985c1-57c5-47eb-8652-8c0f16ff5d26');\n",
              "          const dataTable =\n",
              "            await google.colab.kernel.invokeFunction('convertToInteractive',\n",
              "                                                     [key], {});\n",
              "          if (!dataTable) return;\n",
              "\n",
              "          const docLinkHtml = 'Like what you see? Visit the ' +\n",
              "            '<a target=\"_blank\" href=https://colab.research.google.com/notebooks/data_table.ipynb>data table notebook</a>'\n",
              "            + ' to learn more about interactive tables.';\n",
              "          element.innerHTML = '';\n",
              "          dataTable['output_type'] = 'display_data';\n",
              "          await google.colab.output.renderOutput(dataTable, element);\n",
              "          const docLink = document.createElement('div');\n",
              "          docLink.innerHTML = docLinkHtml;\n",
              "          element.appendChild(docLink);\n",
              "        }\n",
              "      </script>\n",
              "    </div>\n",
              "  </div>\n",
              "  "
            ]
          },
          "metadata": {},
          "execution_count": 48
        }
      ]
    },
    {
      "cell_type": "code",
      "source": [
        "# Calculo de los tiempos de Taxi\n",
        "\n",
        "df['Taxi_Despegue'] = (df['TKof']-df['ATD']) /  np.timedelta64(1, 'm')\n",
        "df['Taxi_Aterrizaje'] = (df['ATA']- df['TDwn']) /  np.timedelta64(1, 'm')\n",
        "df[['Taxi_Despegue', 'Taxi_Aterrizaje']]"
      ],
      "metadata": {
        "id": "TYWnShmUSqCT",
        "outputId": "7032829b-fd8c-4aac-d39e-ae03d0cf6f11",
        "colab": {
          "base_uri": "https://localhost:8080/",
          "height": 0
        }
      },
      "id": "TYWnShmUSqCT",
      "execution_count": 49,
      "outputs": [
        {
          "output_type": "execute_result",
          "data": {
            "text/plain": [
              "       Taxi_Despegue  Taxi_Aterrizaje\n",
              "0               10.0              3.0\n",
              "1               12.0              2.0\n",
              "2               10.0              5.0\n",
              "3                7.0              3.0\n",
              "4               16.0              7.0\n",
              "...              ...              ...\n",
              "56128           10.0              4.0\n",
              "56129           24.0              5.0\n",
              "56130            7.0              4.0\n",
              "56131           24.0              7.0\n",
              "56132           16.0              3.0\n",
              "\n",
              "[56133 rows x 2 columns]"
            ],
            "text/html": [
              "\n",
              "  <div id=\"df-c7d11a98-ff15-4b33-abb2-3751760d6775\">\n",
              "    <div class=\"colab-df-container\">\n",
              "      <div>\n",
              "<style scoped>\n",
              "    .dataframe tbody tr th:only-of-type {\n",
              "        vertical-align: middle;\n",
              "    }\n",
              "\n",
              "    .dataframe tbody tr th {\n",
              "        vertical-align: top;\n",
              "    }\n",
              "\n",
              "    .dataframe thead th {\n",
              "        text-align: right;\n",
              "    }\n",
              "</style>\n",
              "<table border=\"1\" class=\"dataframe\">\n",
              "  <thead>\n",
              "    <tr style=\"text-align: right;\">\n",
              "      <th></th>\n",
              "      <th>Taxi_Despegue</th>\n",
              "      <th>Taxi_Aterrizaje</th>\n",
              "    </tr>\n",
              "  </thead>\n",
              "  <tbody>\n",
              "    <tr>\n",
              "      <th>0</th>\n",
              "      <td>10.0</td>\n",
              "      <td>3.0</td>\n",
              "    </tr>\n",
              "    <tr>\n",
              "      <th>1</th>\n",
              "      <td>12.0</td>\n",
              "      <td>2.0</td>\n",
              "    </tr>\n",
              "    <tr>\n",
              "      <th>2</th>\n",
              "      <td>10.0</td>\n",
              "      <td>5.0</td>\n",
              "    </tr>\n",
              "    <tr>\n",
              "      <th>3</th>\n",
              "      <td>7.0</td>\n",
              "      <td>3.0</td>\n",
              "    </tr>\n",
              "    <tr>\n",
              "      <th>4</th>\n",
              "      <td>16.0</td>\n",
              "      <td>7.0</td>\n",
              "    </tr>\n",
              "    <tr>\n",
              "      <th>...</th>\n",
              "      <td>...</td>\n",
              "      <td>...</td>\n",
              "    </tr>\n",
              "    <tr>\n",
              "      <th>56128</th>\n",
              "      <td>10.0</td>\n",
              "      <td>4.0</td>\n",
              "    </tr>\n",
              "    <tr>\n",
              "      <th>56129</th>\n",
              "      <td>24.0</td>\n",
              "      <td>5.0</td>\n",
              "    </tr>\n",
              "    <tr>\n",
              "      <th>56130</th>\n",
              "      <td>7.0</td>\n",
              "      <td>4.0</td>\n",
              "    </tr>\n",
              "    <tr>\n",
              "      <th>56131</th>\n",
              "      <td>24.0</td>\n",
              "      <td>7.0</td>\n",
              "    </tr>\n",
              "    <tr>\n",
              "      <th>56132</th>\n",
              "      <td>16.0</td>\n",
              "      <td>3.0</td>\n",
              "    </tr>\n",
              "  </tbody>\n",
              "</table>\n",
              "<p>56133 rows × 2 columns</p>\n",
              "</div>\n",
              "      <button class=\"colab-df-convert\" onclick=\"convertToInteractive('df-c7d11a98-ff15-4b33-abb2-3751760d6775')\"\n",
              "              title=\"Convert this dataframe to an interactive table.\"\n",
              "              style=\"display:none;\">\n",
              "        \n",
              "  <svg xmlns=\"http://www.w3.org/2000/svg\" height=\"24px\"viewBox=\"0 0 24 24\"\n",
              "       width=\"24px\">\n",
              "    <path d=\"M0 0h24v24H0V0z\" fill=\"none\"/>\n",
              "    <path d=\"M18.56 5.44l.94 2.06.94-2.06 2.06-.94-2.06-.94-.94-2.06-.94 2.06-2.06.94zm-11 1L8.5 8.5l.94-2.06 2.06-.94-2.06-.94L8.5 2.5l-.94 2.06-2.06.94zm10 10l.94 2.06.94-2.06 2.06-.94-2.06-.94-.94-2.06-.94 2.06-2.06.94z\"/><path d=\"M17.41 7.96l-1.37-1.37c-.4-.4-.92-.59-1.43-.59-.52 0-1.04.2-1.43.59L10.3 9.45l-7.72 7.72c-.78.78-.78 2.05 0 2.83L4 21.41c.39.39.9.59 1.41.59.51 0 1.02-.2 1.41-.59l7.78-7.78 2.81-2.81c.8-.78.8-2.07 0-2.86zM5.41 20L4 18.59l7.72-7.72 1.47 1.35L5.41 20z\"/>\n",
              "  </svg>\n",
              "      </button>\n",
              "      \n",
              "  <style>\n",
              "    .colab-df-container {\n",
              "      display:flex;\n",
              "      flex-wrap:wrap;\n",
              "      gap: 12px;\n",
              "    }\n",
              "\n",
              "    .colab-df-convert {\n",
              "      background-color: #E8F0FE;\n",
              "      border: none;\n",
              "      border-radius: 50%;\n",
              "      cursor: pointer;\n",
              "      display: none;\n",
              "      fill: #1967D2;\n",
              "      height: 32px;\n",
              "      padding: 0 0 0 0;\n",
              "      width: 32px;\n",
              "    }\n",
              "\n",
              "    .colab-df-convert:hover {\n",
              "      background-color: #E2EBFA;\n",
              "      box-shadow: 0px 1px 2px rgba(60, 64, 67, 0.3), 0px 1px 3px 1px rgba(60, 64, 67, 0.15);\n",
              "      fill: #174EA6;\n",
              "    }\n",
              "\n",
              "    [theme=dark] .colab-df-convert {\n",
              "      background-color: #3B4455;\n",
              "      fill: #D2E3FC;\n",
              "    }\n",
              "\n",
              "    [theme=dark] .colab-df-convert:hover {\n",
              "      background-color: #434B5C;\n",
              "      box-shadow: 0px 1px 3px 1px rgba(0, 0, 0, 0.15);\n",
              "      filter: drop-shadow(0px 1px 2px rgba(0, 0, 0, 0.3));\n",
              "      fill: #FFFFFF;\n",
              "    }\n",
              "  </style>\n",
              "\n",
              "      <script>\n",
              "        const buttonEl =\n",
              "          document.querySelector('#df-c7d11a98-ff15-4b33-abb2-3751760d6775 button.colab-df-convert');\n",
              "        buttonEl.style.display =\n",
              "          google.colab.kernel.accessAllowed ? 'block' : 'none';\n",
              "\n",
              "        async function convertToInteractive(key) {\n",
              "          const element = document.querySelector('#df-c7d11a98-ff15-4b33-abb2-3751760d6775');\n",
              "          const dataTable =\n",
              "            await google.colab.kernel.invokeFunction('convertToInteractive',\n",
              "                                                     [key], {});\n",
              "          if (!dataTable) return;\n",
              "\n",
              "          const docLinkHtml = 'Like what you see? Visit the ' +\n",
              "            '<a target=\"_blank\" href=https://colab.research.google.com/notebooks/data_table.ipynb>data table notebook</a>'\n",
              "            + ' to learn more about interactive tables.';\n",
              "          element.innerHTML = '';\n",
              "          dataTable['output_type'] = 'display_data';\n",
              "          await google.colab.output.renderOutput(dataTable, element);\n",
              "          const docLink = document.createElement('div');\n",
              "          docLink.innerHTML = docLinkHtml;\n",
              "          element.appendChild(docLink);\n",
              "        }\n",
              "      </script>\n",
              "    </div>\n",
              "  </div>\n",
              "  "
            ]
          },
          "metadata": {},
          "execution_count": 49
        }
      ]
    },
    {
      "cell_type": "markdown",
      "source": [
        "# Tiempo de rodadura (En el despegue y en el aterrizaje"
      ],
      "metadata": {
        "id": "-k9QFVvFSrlW"
      },
      "id": "-k9QFVvFSrlW"
    },
    {
      "cell_type": "markdown",
      "id": "9068a62c",
      "metadata": {
        "id": "9068a62c"
      },
      "source": [
        "# Creamos los LAG siguientes saltos"
      ]
    },
    {
      "cell_type": "code",
      "execution_count": 50,
      "id": "ce860987",
      "metadata": {
        "ExecuteTime": {
          "end_time": "2022-06-03T12:55:23.311809Z",
          "start_time": "2022-06-03T12:55:23.311809Z"
        },
        "id": "ce860987"
      },
      "outputs": [],
      "source": [
        "#df.columns"
      ]
    },
    {
      "cell_type": "code",
      "execution_count": 51,
      "id": "95a8ef79",
      "metadata": {
        "ExecuteTime": {
          "end_time": "2022-06-03T12:55:23.313791Z",
          "start_time": "2022-06-03T12:55:23.313791Z"
        },
        "id": "95a8ef79"
      },
      "outputs": [],
      "source": [
        "#Creamos los LAGs\n",
        "df[f'E_Despegue2']= df['E_Despegue'].shift(periods=-1) \n",
        "df[f'E_Despegue3']= df['E_Despegue'].shift(periods=-2) \n",
        "\n",
        "df[f'E_Duracion_Vuelo2']= df['E_Duracion_Vuelo'].shift(periods=-1) \n",
        "df[f'E_Duracion_Vuelo3']= df['E_Duracion_Vuelo'].shift(periods=-2) \n",
        "\n",
        "df[f'E_tierra2']= df['E_tierra1'].shift(periods=-1) \n",
        "df[f'E_tierra3']= df['E_tierra1'].shift(periods=-2) \n",
        "\n",
        "df[f'Aeropuerto_Key2']= df['Aeropuerto_Key'].shift(periods=-1) \n",
        "df[f'Aeropuerto_Key3']= df['Aeropuerto_Key'].shift(periods=-2) \n",
        "\n",
        "\n",
        "df[f'Puntualidad2']= df['Puntualidad1'].shift(periods=-1) \n",
        "df[f'Puntualidad3']= df['Puntualidad1'].shift(periods=-2) \n",
        "\n",
        "\n",
        "df[f'E_Despegue_Total'] = df[f'E_Despegue'] + df[f'E_Despegue2'] + df[f'E_Despegue3']\n",
        "df[f'E_Duracion_Vuelo_Total'] = df[f'E_Duracion_Vuelo'] + df[f'E_Duracion_Vuelo2'] + df[f'E_Duracion_Vuelo3']  \n",
        "df[f'E_tierra_Total'] = df[f'E_tierra1'] + df[f'E_tierra2'] + df[f'E_tierra3']    \n",
        "\n",
        "df['E_acumulado_Total'] = df[f'E_Despegue_Total'] + df[f'E_Duracion_Vuelo_Total'] + df[f'E_tierra_Total'] \n"
      ]
    },
    {
      "cell_type": "markdown",
      "id": "eee9b345",
      "metadata": {
        "id": "eee9b345"
      },
      "source": [
        "# Estudio en Tierra primer aterrizaje."
      ]
    },
    {
      "cell_type": "code",
      "execution_count": 52,
      "id": "84994c6b",
      "metadata": {
        "ExecuteTime": {
          "end_time": "2022-06-03T12:55:23.314788Z",
          "start_time": "2022-06-03T12:55:23.314788Z"
        },
        "colab": {
          "base_uri": "https://localhost:8080/",
          "height": 0
        },
        "id": "84994c6b",
        "outputId": "2f2758da-b26d-49c6-8d98-b60e9c86f1fe"
      },
      "outputs": [
        {
          "output_type": "execute_result",
          "data": {
            "text/plain": [
              "<matplotlib.axes._subplots.AxesSubplot at 0x7fdbf4ad92d0>"
            ]
          },
          "metadata": {},
          "execution_count": 52
        },
        {
          "output_type": "display_data",
          "data": {
            "text/plain": [
              "<Figure size 1080x576 with 1 Axes>"
            ],
            "image/png": "[encoded data removed]"
          },
          "metadata": {}
        }
      ],
      "source": [
        "sns.histplot(data= df3.E_tierra1, kde= True)"
      ]
    },
    {
      "cell_type": "code",
      "execution_count": 53,
      "id": "e2ef1148",
      "metadata": {
        "ExecuteTime": {
          "end_time": "2022-06-03T12:55:23.315785Z",
          "start_time": "2022-06-03T12:55:23.315785Z"
        },
        "colab": {
          "base_uri": "https://localhost:8080/",
          "height": 0
        },
        "id": "e2ef1148",
        "outputId": "c19d92ff-ca13-495a-aed3-117b9b7cd352"
      },
      "outputs": [
        {
          "output_type": "stream",
          "name": "stdout",
          "text": [
            "\n",
            "Media filtrada =  4.63 minutos\n"
          ]
        },
        {
          "output_type": "execute_result",
          "data": {
            "text/plain": [
              "<matplotlib.lines.Line2D at 0x7fdbef25a910>"
            ]
          },
          "metadata": {},
          "execution_count": 53
        },
        {
          "output_type": "display_data",
          "data": {
            "text/plain": [
              "<Figure size 1080x576 with 1 Axes>"
            ],
            "image/png": "[encoded data removed]"
          },
          "metadata": {}
        }
      ],
      "source": [
        "# Eliminar los outliers\n",
        "#df2=df1\n",
        "dfEliminarOutliers= ((df3['Secuencia']== 1) & (df3['E_tierra1']< 30) & (df3['E_tierra1']> -30))\n",
        "\n",
        "df3 = df3[dfEliminarOutliers]\n",
        "ax = sns.histplot(data= df3.E_tierra1, kde= True)\n",
        "print()\n",
        "print('Media filtrada = ', round(df3['E_tierra1'].mean(),2), 'minutos')\n",
        "\n",
        "media = round(df3['E_tierra1'].mean(),2)\n",
        "\n",
        "ax.axvline(media, color=\"red\", linestyle = '--', label=\"ooas\")       # Linea 0 verde\n",
        "ax.axvline(0, color=\"green\", linestyle = '--')"
      ]
    },
    {
      "cell_type": "code",
      "execution_count": 54,
      "id": "e1410825",
      "metadata": {
        "ExecuteTime": {
          "end_time": "2022-06-03T12:55:23.316783Z",
          "start_time": "2022-06-03T12:55:23.316783Z"
        },
        "colab": {
          "base_uri": "https://localhost:8080/",
          "height": 0
        },
        "id": "e1410825",
        "outputId": "50d7dc3f-e81b-4bec-b84f-96e5f541e80d"
      },
      "outputs": [
        {
          "output_type": "stream",
          "name": "stderr",
          "text": [
            "/usr/local/lib/python3.7/dist-packages/ipykernel_launcher.py:19: SettingWithCopyWarning: \n",
            "A value is trying to be set on a copy of a slice from a DataFrame.\n",
            "Try using .loc[row_indexer,col_indexer] = value instead\n",
            "\n",
            "See the caveats in the documentation: https://pandas.pydata.org/pandas-docs/stable/user_guide/indexing.html#returning-a-view-versus-a-copy\n"
          ]
        },
        {
          "output_type": "execute_result",
          "data": {
            "text/plain": [
              "    T_teoricoTierra1 t_boarding\n",
              "0               35.0    1.- <40\n",
              "6               40.0     2.- 40\n",
              "12              40.0     2.- 40\n",
              "16              35.0    1.- <40\n",
              "21              55.0     5.- 55"
            ],
            "text/html": [
              "\n",
              "  <div id=\"df-254e8a71-8cbe-4f4a-9687-21c8be190d5b\">\n",
              "    <div class=\"colab-df-container\">\n",
              "      <div>\n",
              "<style scoped>\n",
              "    .dataframe tbody tr th:only-of-type {\n",
              "        vertical-align: middle;\n",
              "    }\n",
              "\n",
              "    .dataframe tbody tr th {\n",
              "        vertical-align: top;\n",
              "    }\n",
              "\n",
              "    .dataframe thead th {\n",
              "        text-align: right;\n",
              "    }\n",
              "</style>\n",
              "<table border=\"1\" class=\"dataframe\">\n",
              "  <thead>\n",
              "    <tr style=\"text-align: right;\">\n",
              "      <th></th>\n",
              "      <th>T_teoricoTierra1</th>\n",
              "      <th>t_boarding</th>\n",
              "    </tr>\n",
              "  </thead>\n",
              "  <tbody>\n",
              "    <tr>\n",
              "      <th>0</th>\n",
              "      <td>35.0</td>\n",
              "      <td>1.- &lt;40</td>\n",
              "    </tr>\n",
              "    <tr>\n",
              "      <th>6</th>\n",
              "      <td>40.0</td>\n",
              "      <td>2.- 40</td>\n",
              "    </tr>\n",
              "    <tr>\n",
              "      <th>12</th>\n",
              "      <td>40.0</td>\n",
              "      <td>2.- 40</td>\n",
              "    </tr>\n",
              "    <tr>\n",
              "      <th>16</th>\n",
              "      <td>35.0</td>\n",
              "      <td>1.- &lt;40</td>\n",
              "    </tr>\n",
              "    <tr>\n",
              "      <th>21</th>\n",
              "      <td>55.0</td>\n",
              "      <td>5.- 55</td>\n",
              "    </tr>\n",
              "  </tbody>\n",
              "</table>\n",
              "</div>\n",
              "      <button class=\"colab-df-convert\" onclick=\"convertToInteractive('df-254e8a71-8cbe-4f4a-9687-21c8be190d5b')\"\n",
              "              title=\"Convert this dataframe to an interactive table.\"\n",
              "              style=\"display:none;\">\n",
              "        \n",
              "  <svg xmlns=\"http://www.w3.org/2000/svg\" height=\"24px\"viewBox=\"0 0 24 24\"\n",
              "       width=\"24px\">\n",
              "    <path d=\"M0 0h24v24H0V0z\" fill=\"none\"/>\n",
              "    <path d=\"M18.56 5.44l.94 2.06.94-2.06 2.06-.94-2.06-.94-.94-2.06-.94 2.06-2.06.94zm-11 1L8.5 8.5l.94-2.06 2.06-.94-2.06-.94L8.5 2.5l-.94 2.06-2.06.94zm10 10l.94 2.06.94-2.06 2.06-.94-2.06-.94-.94-2.06-.94 2.06-2.06.94z\"/><path d=\"M17.41 7.96l-1.37-1.37c-.4-.4-.92-.59-1.43-.59-.52 0-1.04.2-1.43.59L10.3 9.45l-7.72 7.72c-.78.78-.78 2.05 0 2.83L4 21.41c.39.39.9.59 1.41.59.51 0 1.02-.2 1.41-.59l7.78-7.78 2.81-2.81c.8-.78.8-2.07 0-2.86zM5.41 20L4 18.59l7.72-7.72 1.47 1.35L5.41 20z\"/>\n",
              "  </svg>\n",
              "      </button>\n",
              "      \n",
              "  <style>\n",
              "    .colab-df-container {\n",
              "      display:flex;\n",
              "      flex-wrap:wrap;\n",
              "      gap: 12px;\n",
              "    }\n",
              "\n",
              "    .colab-df-convert {\n",
              "      background-color: #E8F0FE;\n",
              "      border: none;\n",
              "      border-radius: 50%;\n",
              "      cursor: pointer;\n",
              "      display: none;\n",
              "      fill: #1967D2;\n",
              "      height: 32px;\n",
              "      padding: 0 0 0 0;\n",
              "      width: 32px;\n",
              "    }\n",
              "\n",
              "    .colab-df-convert:hover {\n",
              "      background-color: #E2EBFA;\n",
              "      box-shadow: 0px 1px 2px rgba(60, 64, 67, 0.3), 0px 1px 3px 1px rgba(60, 64, 67, 0.15);\n",
              "      fill: #174EA6;\n",
              "    }\n",
              "\n",
              "    [theme=dark] .colab-df-convert {\n",
              "      background-color: #3B4455;\n",
              "      fill: #D2E3FC;\n",
              "    }\n",
              "\n",
              "    [theme=dark] .colab-df-convert:hover {\n",
              "      background-color: #434B5C;\n",
              "      box-shadow: 0px 1px 3px 1px rgba(0, 0, 0, 0.15);\n",
              "      filter: drop-shadow(0px 1px 2px rgba(0, 0, 0, 0.3));\n",
              "      fill: #FFFFFF;\n",
              "    }\n",
              "  </style>\n",
              "\n",
              "      <script>\n",
              "        const buttonEl =\n",
              "          document.querySelector('#df-254e8a71-8cbe-4f4a-9687-21c8be190d5b button.colab-df-convert');\n",
              "        buttonEl.style.display =\n",
              "          google.colab.kernel.accessAllowed ? 'block' : 'none';\n",
              "\n",
              "        async function convertToInteractive(key) {\n",
              "          const element = document.querySelector('#df-254e8a71-8cbe-4f4a-9687-21c8be190d5b');\n",
              "          const dataTable =\n",
              "            await google.colab.kernel.invokeFunction('convertToInteractive',\n",
              "                                                     [key], {});\n",
              "          if (!dataTable) return;\n",
              "\n",
              "          const docLinkHtml = 'Like what you see? Visit the ' +\n",
              "            '<a target=\"_blank\" href=https://colab.research.google.com/notebooks/data_table.ipynb>data table notebook</a>'\n",
              "            + ' to learn more about interactive tables.';\n",
              "          element.innerHTML = '';\n",
              "          dataTable['output_type'] = 'display_data';\n",
              "          await google.colab.output.renderOutput(dataTable, element);\n",
              "          const docLink = document.createElement('div');\n",
              "          docLink.innerHTML = docLinkHtml;\n",
              "          element.appendChild(docLink);\n",
              "        }\n",
              "      </script>\n",
              "    </div>\n",
              "  </div>\n",
              "  "
            ]
          },
          "metadata": {},
          "execution_count": 54
        }
      ],
      "source": [
        "# Crear Subgrupos de tiempo de boarding:\n",
        "'''\n",
        "df3['t_boarding'] = pd.cut(df3['T_teoricoTierra1'], bins = [ -9000,0, 41, 46,51,60,100000], labels=['NEGATIVOS',\n",
        "                                                                                              '1.- >0 & <=41',\n",
        "                                                                                              '2.- >42 & <=46',\n",
        "                                                                                              '3.- >47 & <51',\n",
        "                                                                                              '4.- >52 & <60',\n",
        "                                                                                              '5.- >61'])\n",
        "'''\n",
        "\n",
        "df3['t_boarding'] = pd.cut(df3['T_teoricoTierra1'], bins = [ -9000, 0, 39, 40, 45, 50, 55, 60, 100000], labels=['NEGATIVOS',\n",
        "                                                                                                          \n",
        "                                                                                                          '1.- <40',\n",
        "                                                                                                          '2.- 40',\n",
        "                                                                                                          '3.- 45',\n",
        "                                                                                                          '4.- 50',\n",
        "                                                                                                          '5.- 55',\n",
        "                                                                                                          '6.- 60', \n",
        "                                                                                                          '7.- >60'])\n",
        "df3[['T_teoricoTierra1', 't_boarding']].head(5)"
      ]
    },
    {
      "cell_type": "code",
      "execution_count": 55,
      "id": "55a1a585",
      "metadata": {
        "ExecuteTime": {
          "end_time": "2022-06-03T12:55:23.317780Z",
          "start_time": "2022-06-03T12:55:23.317780Z"
        },
        "code_folding": [
          0
        ],
        "colab": {
          "base_uri": "https://localhost:8080/"
        },
        "id": "55a1a585",
        "outputId": "da271171-e991-4f21-dfb8-13c954984a99"
      },
      "outputs": [
        {
          "output_type": "stream",
          "name": "stdout",
          "text": [
            "Error en el aterrizaje de Barcelona  3.24\n"
          ]
        }
      ],
      "source": [
        "# Para saber error primer boarding solo de Barcelona\n",
        "\n",
        "barcelonaTierra = (df3['ARR']== 'BCN')\n",
        "\n",
        "df4BarcelonaTierra = df3[barcelonaTierra]\n",
        "df4BarcelonaTierra .head()\n",
        "df4BarcelonaTierraError  = round((df4BarcelonaTierra ['E_tierra1'].mean()),2)\n",
        "print('Error en el aterrizaje de Barcelona ', df4BarcelonaTierraError)"
      ]
    },
    {
      "cell_type": "code",
      "execution_count": 56,
      "id": "53c924bd",
      "metadata": {
        "ExecuteTime": {
          "end_time": "2022-06-03T12:55:23.318779Z",
          "start_time": "2022-06-03T12:55:23.318779Z"
        },
        "colab": {
          "base_uri": "https://localhost:8080/",
          "height": 0
        },
        "id": "53c924bd",
        "outputId": "2c48b574-56aa-42fd-e575-48963cae0c5c"
      },
      "outputs": [
        {
          "output_type": "execute_result",
          "data": {
            "text/plain": [
              "Text(0.5, 1.0, 'Error primer t. BOARDING principales aeropuertos:')"
            ]
          },
          "metadata": {},
          "execution_count": 56
        },
        {
          "output_type": "display_data",
          "data": {
            "text/plain": [
              "<Figure size 1080x576 with 1 Axes>"
            ],
            "image/png": "[encoded data removed]"
          },
          "metadata": {}
        }
      ],
      "source": [
        "# Intervalos de Confianza por aeropuerto\n",
        "\n",
        "sns.set_theme(style=\"darkgrid\")\n",
        "#tips = sns.df1(\"tips\")\n",
        "sns.set(rc = {'figure.figsize':(15,8)})      \n",
        "# Tamaño de la imagen\n",
        "ax = sns.pointplot(x='AeropuertoKey1', y = \"E_tierra1\", data= df3, scale=.1, kind = \"point\", capsize=0.13)\n",
        "\n",
        "ax.axhline(df4BarcelonaTierraError , color=\"red\", linestyle = '--', label=\"ooas\")       # Linea 0 verde\n",
        "ax.axhline(0, color=\"green\", linestyle = '--')\n",
        "\n",
        "\n",
        "textoBCN = \"BCN \"+ str(df4BarcelonaTierraError) + ' minut.'\n",
        "ax.text(df4BarcelonaTierraError  ,df4BarcelonaTierraError  , textoBCN, backgroundcolor='w')\n",
        "\n",
        "ax.set_title('Error primer t. BOARDING principales aeropuertos:', fontsize = 24)"
      ]
    },
    {
      "cell_type": "code",
      "execution_count": 57,
      "id": "9e94b87d",
      "metadata": {
        "ExecuteTime": {
          "end_time": "2022-06-03T12:55:23.320772Z",
          "start_time": "2022-06-03T12:55:23.320772Z"
        },
        "colab": {
          "base_uri": "https://localhost:8080/",
          "height": 0
        },
        "id": "9e94b87d",
        "outputId": "fbf7903f-f61a-460a-c2f6-8963ebd49a70"
      },
      "outputs": [
        {
          "output_type": "execute_result",
          "data": {
            "text/plain": [
              "          DATE   FLT     REG   AC  DEP  ARR                 STD  \\\n",
              "21  2022-01-01  3909  EC-KDX  320  PMI  BCN 2022-01-01 17:35:00   \n",
              "42  2022-01-01  2114  EC-LLM  320  AGP  BCN 2022-01-01 07:40:00   \n",
              "237 2022-01-01  8031  EC-MMH  321  ORY  BCN 2022-01-01 08:35:00   \n",
              "246 2022-01-01  2110  EC-MNZ  32A  AGP  BCN 2022-01-01 05:50:00   \n",
              "290 2022-01-01  1429  EC-MXG  32A  BIO  BCN 2022-01-01 13:50:00   \n",
              "\n",
              "                    STA                TKof                TDwn  ...  \\\n",
              "21  2022-01-01 18:30:00 2022-01-01 17:45:00 2022-01-01 18:22:00  ...   \n",
              "42  2022-01-01 09:15:00 2022-01-01 07:55:00 2022-01-01 09:09:00  ...   \n",
              "237 2022-01-01 10:15:00 2022-01-01 09:02:00 2022-01-01 10:15:00  ...   \n",
              "246 2022-01-01 07:25:00 2022-01-01 05:52:00 2022-01-01 07:00:00  ...   \n",
              "290 2022-01-01 15:00:00 2022-01-01 13:55:00 2022-01-01 14:41:00  ...   \n",
              "\n",
              "    E_tierra3 Aeropuerto_Key2 Aeropuerto_Key3 Puntualidad2 Puntualidad3  \\\n",
              "21        1.0             BCN            otro         -9.0         -6.0   \n",
              "42       10.0             BCN             SVQ        -11.0        -21.0   \n",
              "237       3.0             BCN            otro         -6.0        -11.0   \n",
              "246       8.0             BCN            otro        -25.0          0.0   \n",
              "290      -2.0             BCN             IBZ         -3.0         -6.0   \n",
              "\n",
              "    E_Despegue_Total  E_Duracion_Vuelo_Total  E_tierra_Total  \\\n",
              "21             -18.0                     4.0            -5.0   \n",
              "42              -9.0                   -26.0            15.0   \n",
              "237             18.0                   -31.0             5.0   \n",
              "246            -15.0                   -31.0            48.0   \n",
              "290            -17.0                    -6.0             4.0   \n",
              "\n",
              "    E_acumulado_Total t_boarding  \n",
              "21              -19.0     5.- 55  \n",
              "42              -20.0     3.- 45  \n",
              "237              -8.0     2.- 40  \n",
              "246               2.0    7.- >60  \n",
              "290             -19.0     4.- 50  \n",
              "\n",
              "[5 rows x 84 columns]"
            ],
            "text/html": [
              "\n",
              "  <div id=\"df-43175f69-19f6-4297-a74e-ff5565eadf61\">\n",
              "    <div class=\"colab-df-container\">\n",
              "      <div>\n",
              "<style scoped>\n",
              "    .dataframe tbody tr th:only-of-type {\n",
              "        vertical-align: middle;\n",
              "    }\n",
              "\n",
              "    .dataframe tbody tr th {\n",
              "        vertical-align: top;\n",
              "    }\n",
              "\n",
              "    .dataframe thead th {\n",
              "        text-align: right;\n",
              "    }\n",
              "</style>\n",
              "<table border=\"1\" class=\"dataframe\">\n",
              "  <thead>\n",
              "    <tr style=\"text-align: right;\">\n",
              "      <th></th>\n",
              "      <th>DATE</th>\n",
              "      <th>FLT</th>\n",
              "      <th>REG</th>\n",
              "      <th>AC</th>\n",
              "      <th>DEP</th>\n",
              "      <th>ARR</th>\n",
              "      <th>STD</th>\n",
              "      <th>STA</th>\n",
              "      <th>TKof</th>\n",
              "      <th>TDwn</th>\n",
              "      <th>...</th>\n",
              "      <th>E_tierra3</th>\n",
              "      <th>Aeropuerto_Key2</th>\n",
              "      <th>Aeropuerto_Key3</th>\n",
              "      <th>Puntualidad2</th>\n",
              "      <th>Puntualidad3</th>\n",
              "      <th>E_Despegue_Total</th>\n",
              "      <th>E_Duracion_Vuelo_Total</th>\n",
              "      <th>E_tierra_Total</th>\n",
              "      <th>E_acumulado_Total</th>\n",
              "      <th>t_boarding</th>\n",
              "    </tr>\n",
              "  </thead>\n",
              "  <tbody>\n",
              "    <tr>\n",
              "      <th>21</th>\n",
              "      <td>2022-01-01</td>\n",
              "      <td>3909</td>\n",
              "      <td>EC-KDX</td>\n",
              "      <td>320</td>\n",
              "      <td>PMI</td>\n",
              "      <td>BCN</td>\n",
              "      <td>2022-01-01 17:35:00</td>\n",
              "      <td>2022-01-01 18:30:00</td>\n",
              "      <td>2022-01-01 17:45:00</td>\n",
              "      <td>2022-01-01 18:22:00</td>\n",
              "      <td>...</td>\n",
              "      <td>1.0</td>\n",
              "      <td>BCN</td>\n",
              "      <td>otro</td>\n",
              "      <td>-9.0</td>\n",
              "      <td>-6.0</td>\n",
              "      <td>-18.0</td>\n",
              "      <td>4.0</td>\n",
              "      <td>-5.0</td>\n",
              "      <td>-19.0</td>\n",
              "      <td>5.- 55</td>\n",
              "    </tr>\n",
              "    <tr>\n",
              "      <th>42</th>\n",
              "      <td>2022-01-01</td>\n",
              "      <td>2114</td>\n",
              "      <td>EC-LLM</td>\n",
              "      <td>320</td>\n",
              "      <td>AGP</td>\n",
              "      <td>BCN</td>\n",
              "      <td>2022-01-01 07:40:00</td>\n",
              "      <td>2022-01-01 09:15:00</td>\n",
              "      <td>2022-01-01 07:55:00</td>\n",
              "      <td>2022-01-01 09:09:00</td>\n",
              "      <td>...</td>\n",
              "      <td>10.0</td>\n",
              "      <td>BCN</td>\n",
              "      <td>SVQ</td>\n",
              "      <td>-11.0</td>\n",
              "      <td>-21.0</td>\n",
              "      <td>-9.0</td>\n",
              "      <td>-26.0</td>\n",
              "      <td>15.0</td>\n",
              "      <td>-20.0</td>\n",
              "      <td>3.- 45</td>\n",
              "    </tr>\n",
              "    <tr>\n",
              "      <th>237</th>\n",
              "      <td>2022-01-01</td>\n",
              "      <td>8031</td>\n",
              "      <td>EC-MMH</td>\n",
              "      <td>321</td>\n",
              "      <td>ORY</td>\n",
              "      <td>BCN</td>\n",
              "      <td>2022-01-01 08:35:00</td>\n",
              "      <td>2022-01-01 10:15:00</td>\n",
              "      <td>2022-01-01 09:02:00</td>\n",
              "      <td>2022-01-01 10:15:00</td>\n",
              "      <td>...</td>\n",
              "      <td>3.0</td>\n",
              "      <td>BCN</td>\n",
              "      <td>otro</td>\n",
              "      <td>-6.0</td>\n",
              "      <td>-11.0</td>\n",
              "      <td>18.0</td>\n",
              "      <td>-31.0</td>\n",
              "      <td>5.0</td>\n",
              "      <td>-8.0</td>\n",
              "      <td>2.- 40</td>\n",
              "    </tr>\n",
              "    <tr>\n",
              "      <th>246</th>\n",
              "      <td>2022-01-01</td>\n",
              "      <td>2110</td>\n",
              "      <td>EC-MNZ</td>\n",
              "      <td>32A</td>\n",
              "      <td>AGP</td>\n",
              "      <td>BCN</td>\n",
              "      <td>2022-01-01 05:50:00</td>\n",
              "      <td>2022-01-01 07:25:00</td>\n",
              "      <td>2022-01-01 05:52:00</td>\n",
              "      <td>2022-01-01 07:00:00</td>\n",
              "      <td>...</td>\n",
              "      <td>8.0</td>\n",
              "      <td>BCN</td>\n",
              "      <td>otro</td>\n",
              "      <td>-25.0</td>\n",
              "      <td>0.0</td>\n",
              "      <td>-15.0</td>\n",
              "      <td>-31.0</td>\n",
              "      <td>48.0</td>\n",
              "      <td>2.0</td>\n",
              "      <td>7.- &gt;60</td>\n",
              "    </tr>\n",
              "    <tr>\n",
              "      <th>290</th>\n",
              "      <td>2022-01-01</td>\n",
              "      <td>1429</td>\n",
              "      <td>EC-MXG</td>\n",
              "      <td>32A</td>\n",
              "      <td>BIO</td>\n",
              "      <td>BCN</td>\n",
              "      <td>2022-01-01 13:50:00</td>\n",
              "      <td>2022-01-01 15:00:00</td>\n",
              "      <td>2022-01-01 13:55:00</td>\n",
              "      <td>2022-01-01 14:41:00</td>\n",
              "      <td>...</td>\n",
              "      <td>-2.0</td>\n",
              "      <td>BCN</td>\n",
              "      <td>IBZ</td>\n",
              "      <td>-3.0</td>\n",
              "      <td>-6.0</td>\n",
              "      <td>-17.0</td>\n",
              "      <td>-6.0</td>\n",
              "      <td>4.0</td>\n",
              "      <td>-19.0</td>\n",
              "      <td>4.- 50</td>\n",
              "    </tr>\n",
              "  </tbody>\n",
              "</table>\n",
              "<p>5 rows × 84 columns</p>\n",
              "</div>\n",
              "      <button class=\"colab-df-convert\" onclick=\"convertToInteractive('df-43175f69-19f6-4297-a74e-ff5565eadf61')\"\n",
              "              title=\"Convert this dataframe to an interactive table.\"\n",
              "              style=\"display:none;\">\n",
              "        \n",
              "  <svg xmlns=\"http://www.w3.org/2000/svg\" height=\"24px\"viewBox=\"0 0 24 24\"\n",
              "       width=\"24px\">\n",
              "    <path d=\"M0 0h24v24H0V0z\" fill=\"none\"/>\n",
              "    <path d=\"M18.56 5.44l.94 2.06.94-2.06 2.06-.94-2.06-.94-.94-2.06-.94 2.06-2.06.94zm-11 1L8.5 8.5l.94-2.06 2.06-.94-2.06-.94L8.5 2.5l-.94 2.06-2.06.94zm10 10l.94 2.06.94-2.06 2.06-.94-2.06-.94-.94-2.06-.94 2.06-2.06.94z\"/><path d=\"M17.41 7.96l-1.37-1.37c-.4-.4-.92-.59-1.43-.59-.52 0-1.04.2-1.43.59L10.3 9.45l-7.72 7.72c-.78.78-.78 2.05 0 2.83L4 21.41c.39.39.9.59 1.41.59.51 0 1.02-.2 1.41-.59l7.78-7.78 2.81-2.81c.8-.78.8-2.07 0-2.86zM5.41 20L4 18.59l7.72-7.72 1.47 1.35L5.41 20z\"/>\n",
              "  </svg>\n",
              "      </button>\n",
              "      \n",
              "  <style>\n",
              "    .colab-df-container {\n",
              "      display:flex;\n",
              "      flex-wrap:wrap;\n",
              "      gap: 12px;\n",
              "    }\n",
              "\n",
              "    .colab-df-convert {\n",
              "      background-color: #E8F0FE;\n",
              "      border: none;\n",
              "      border-radius: 50%;\n",
              "      cursor: pointer;\n",
              "      display: none;\n",
              "      fill: #1967D2;\n",
              "      height: 32px;\n",
              "      padding: 0 0 0 0;\n",
              "      width: 32px;\n",
              "    }\n",
              "\n",
              "    .colab-df-convert:hover {\n",
              "      background-color: #E2EBFA;\n",
              "      box-shadow: 0px 1px 2px rgba(60, 64, 67, 0.3), 0px 1px 3px 1px rgba(60, 64, 67, 0.15);\n",
              "      fill: #174EA6;\n",
              "    }\n",
              "\n",
              "    [theme=dark] .colab-df-convert {\n",
              "      background-color: #3B4455;\n",
              "      fill: #D2E3FC;\n",
              "    }\n",
              "\n",
              "    [theme=dark] .colab-df-convert:hover {\n",
              "      background-color: #434B5C;\n",
              "      box-shadow: 0px 1px 3px 1px rgba(0, 0, 0, 0.15);\n",
              "      filter: drop-shadow(0px 1px 2px rgba(0, 0, 0, 0.3));\n",
              "      fill: #FFFFFF;\n",
              "    }\n",
              "  </style>\n",
              "\n",
              "      <script>\n",
              "        const buttonEl =\n",
              "          document.querySelector('#df-43175f69-19f6-4297-a74e-ff5565eadf61 button.colab-df-convert');\n",
              "        buttonEl.style.display =\n",
              "          google.colab.kernel.accessAllowed ? 'block' : 'none';\n",
              "\n",
              "        async function convertToInteractive(key) {\n",
              "          const element = document.querySelector('#df-43175f69-19f6-4297-a74e-ff5565eadf61');\n",
              "          const dataTable =\n",
              "            await google.colab.kernel.invokeFunction('convertToInteractive',\n",
              "                                                     [key], {});\n",
              "          if (!dataTable) return;\n",
              "\n",
              "          const docLinkHtml = 'Like what you see? Visit the ' +\n",
              "            '<a target=\"_blank\" href=https://colab.research.google.com/notebooks/data_table.ipynb>data table notebook</a>'\n",
              "            + ' to learn more about interactive tables.';\n",
              "          element.innerHTML = '';\n",
              "          dataTable['output_type'] = 'display_data';\n",
              "          await google.colab.output.renderOutput(dataTable, element);\n",
              "          const docLink = document.createElement('div');\n",
              "          docLink.innerHTML = docLinkHtml;\n",
              "          element.appendChild(docLink);\n",
              "        }\n",
              "      </script>\n",
              "    </div>\n",
              "  </div>\n",
              "  "
            ]
          },
          "metadata": {},
          "execution_count": 57
        }
      ],
      "source": [
        "df4BarcelonaTierra .head()"
      ]
    },
    {
      "cell_type": "code",
      "execution_count": 58,
      "id": "00572232",
      "metadata": {
        "ExecuteTime": {
          "end_time": "2022-06-03T12:55:23.321769Z",
          "start_time": "2022-06-03T12:55:23.321769Z"
        },
        "colab": {
          "base_uri": "https://localhost:8080/"
        },
        "id": "00572232",
        "outputId": "843a1ed0-f94a-4741-adea-b09dec6e7008"
      },
      "outputs": [
        {
          "output_type": "execute_result",
          "data": {
            "text/plain": [
              "2.- 40       3373\n",
              "1.- <40      3249\n",
              "3.- 45       3012\n",
              "4.- 50        833\n",
              "7.- >60       706\n",
              "NEGATIVOS     367\n",
              "5.- 55        128\n",
              "6.- 60        101\n",
              "Name: t_boarding, dtype: int64"
            ]
          },
          "metadata": {},
          "execution_count": 58
        }
      ],
      "source": [
        "# Contabilizar elementos por grupo de boarding\n",
        "df5= df3['t_boarding'].value_counts()\n",
        "#df5['t_boarding']= df5.sort_values('t_boarding')\n",
        "df5.head()\n",
        "df5"
      ]
    },
    {
      "cell_type": "code",
      "execution_count": 59,
      "id": "8a35bd16",
      "metadata": {
        "ExecuteTime": {
          "end_time": "2022-06-03T12:55:23.322766Z",
          "start_time": "2022-06-03T12:55:23.322766Z"
        },
        "code_folding": [
          0
        ],
        "colab": {
          "base_uri": "https://localhost:8080/",
          "height": 0
        },
        "id": "8a35bd16",
        "outputId": "0e2ec148-a1eb-4f86-b24f-354b256cfad6"
      },
      "outputs": [
        {
          "output_type": "execute_result",
          "data": {
            "text/plain": [
              "Text(0.5, 1.0, 'Error boarding BCN:')"
            ]
          },
          "metadata": {},
          "execution_count": 59
        },
        {
          "output_type": "display_data",
          "data": {
            "text/plain": [
              "<Figure size 1080x576 with 1 Axes>"
            ],
            "image/png": "[encoded data removed]"
          },
          "metadata": {}
        }
      ],
      "source": [
        "# Intervalos de Confianza por grupo de boarding.\n",
        "\n",
        "sns.set_theme(style=\"darkgrid\")\n",
        "#tips = sns.df1(\"tips\")\n",
        "sns.set(rc = {'figure.figsize':(15,8)})      \n",
        "# Tamaño de la imagen\n",
        "ax = sns.pointplot(x='t_boarding', y = \"E_tierra1\", data= df4BarcelonaTierra, scale=.1, kind = \"point\", capsize=0.13)\n",
        "\n",
        "#ax.axhline(puntualidadBCN, color=\"red\", linestyle = '--', label=\"ooas\")       # Linea 0 verde\n",
        "ax.axhline(0, color=\"green\", linestyle = '--')\n",
        "\n",
        "\n",
        "textoBCN = \"BCN \"+ str(df4BarcelonaTierraError) + ' minut.'\n",
        "ax.text(df4BarcelonaTierraError  ,df4BarcelonaTierraError  , textoBCN, backgroundcolor='w')\n",
        "\n",
        "ax.set_title('Error boarding BCN:', fontsize = 24)"
      ]
    },
    {
      "cell_type": "code",
      "execution_count": 59,
      "id": "2beefa62",
      "metadata": {
        "id": "2beefa62"
      },
      "outputs": [],
      "source": [
        ""
      ]
    },
    {
      "cell_type": "markdown",
      "id": "3db1278a",
      "metadata": {
        "id": "3db1278a"
      },
      "source": [
        "# Guardar a EXCEL"
      ]
    },
    {
      "cell_type": "code",
      "execution_count": 60,
      "id": "e27c61c6",
      "metadata": {
        "ExecuteTime": {
          "end_time": "2022-06-03T12:55:23.382629Z",
          "start_time": "2022-06-03T12:55:23.370639Z"
        },
        "code_folding": [],
        "colab": {
          "base_uri": "https://localhost:8080/",
          "height": 0
        },
        "id": "e27c61c6",
        "outputId": "76db1703-2b31-4be1-82b8-92c04f633c74"
      },
      "outputs": [
        {
          "output_type": "execute_result",
          "data": {
            "text/plain": [
              "\"\\nborrarColumnas = ['C1', 'DLY1', 'C2', 'DLY2',\\n       'C3', 'DLY3', 'C4', 'DLY4', 'C2A', 'DLY2A', 'C1Des', 'C2Des', 'C3Des',\\n       'C4Des', 'CADes', 'ID', 'STAND', 'MSN']\\ndf3 = df3.drop(borrarColumnas, axis=1)\\n\""
            ],
            "application/vnd.google.colaboratory.intrinsic+json": {
              "type": "string"
            }
          },
          "metadata": {},
          "execution_count": 60
        }
      ],
      "source": [
        "# Borro las columnas que no me interesan.\n",
        "\n",
        "'''\n",
        "borrarColumnas = ['C1', 'DLY1', 'C2', 'DLY2',\n",
        "       'C3', 'DLY3', 'C4', 'DLY4', 'C2A', 'DLY2A', 'C1Des', 'C2Des', 'C3Des',\n",
        "       'C4Des', 'CADes', 'ID', 'STAND', 'MSN']\n",
        "df3 = df3.drop(borrarColumnas, axis=1)\n",
        "'''"
      ]
    },
    {
      "cell_type": "code",
      "execution_count": 61,
      "id": "0147e718",
      "metadata": {
        "ExecuteTime": {
          "end_time": "2022-06-03T12:55:23.398592Z",
          "start_time": "2022-06-03T12:55:23.384602Z"
        },
        "colab": {
          "base_uri": "https://localhost:8080/"
        },
        "id": "0147e718",
        "outputId": "bf369b01-4265-4496-ae17-e703b217c507"
      },
      "outputs": [
        {
          "output_type": "execute_result",
          "data": {
            "text/plain": [
              "Index(['DATE', 'FLT', 'REG', 'AC', 'DEP', 'ARR', 'STD', 'STA', 'TKof', 'TDwn',\n",
              "       'ATD', 'ATA', 'BLOCK', 'FLThr', 'DStand', 'AStand', 'ACT PAX', 'LF',\n",
              "       'Taxi-out', 'Taxi-In', 'SLOT', 'C1', 'DLY1', 'Sub1', 'C2', 'DLY2',\n",
              "       'Sub2', 'C3', 'DLY3', 'Sub3', 'C4', 'DLY4', 'Sub4', 'C1Arr', 'DLY1Arr',\n",
              "       'Close Pax Door', 'Close Cargo Door', 'Open Cargo/Pax Door',\n",
              "       'close pax door2', 'close cargo door2', 'open cargo/pax door2',\n",
              "       'Secuencia', 'MES', 'Aeropuerto_Key', 'AeropuertoKey1',\n",
              "       'DuracionVueloTeorico', 'DuracionVueloReal', 'E_Duracion_Vuelo',\n",
              "       't_ClosePax', 't_Close_Cargo_Door', 't_Entre_Puertas',\n",
              "       'Retardo_Abrir_Puerta_Pax', 'Trayecto', 'E_Despegue', 'lag_STD',\n",
              "       'lag_ATD', 'lag_STA', 'lag_ATA', 'lag_ACT PAX', 'lag_Secuencia',\n",
              "       'lag_REG', 'T_teoricoTierra1', 'T_RealTierra1', 'E_tierra1',\n",
              "       'Puntualidad1', 'Total_PAX_Boarding', 'T_Medio_Boarding',\n",
              "       'Taxi_Despegue', 'Taxi_Aterrizaje', 'E_Despegue2', 'E_Despegue3',\n",
              "       'E_Duracion_Vuelo2', 'E_Duracion_Vuelo3', 'E_tierra2', 'E_tierra3',\n",
              "       'Aeropuerto_Key2', 'Aeropuerto_Key3', 'Puntualidad2', 'Puntualidad3',\n",
              "       'E_Despegue_Total', 'E_Duracion_Vuelo_Total', 'E_tierra_Total',\n",
              "       'E_acumulado_Total', 't_boarding'],\n",
              "      dtype='object')"
            ]
          },
          "metadata": {},
          "execution_count": 61
        }
      ],
      "source": [
        "df3.columns"
      ]
    },
    {
      "cell_type": "code",
      "execution_count": 62,
      "id": "bb7e533f",
      "metadata": {
        "ExecuteTime": {
          "end_time": "2022-06-03T12:55:23.399562Z",
          "start_time": "2022-06-03T12:55:23.399562Z"
        },
        "colab": {
          "base_uri": "https://localhost:8080/"
        },
        "id": "bb7e533f",
        "outputId": "416af6de-a019-4960-fd1c-0c4fa92cdc90"
      },
      "outputs": [
        {
          "output_type": "stream",
          "name": "stdout",
          "text": [
            "\n",
            "Guardado fichero : Vueling_Python.xlsx\n",
            "\n"
          ]
        }
      ],
      "source": [
        "# Guardar excel\n",
        "\n",
        "#df3.to_excel(r\"D:\\Documentos D\\02.- Datos Vueling\\Vueling_Python_MAR_\" + Hoja + \".xlsx\")\n",
        "print()\n",
        "print('Guardado fichero : Vueling_Python.xlsx')\n",
        "print()"
      ]
    },
    {
      "cell_type": "markdown",
      "id": "c69025f3",
      "metadata": {
        "id": "c69025f3"
      },
      "source": [
        "# Estudio de la duracion del vuelo"
      ]
    },
    {
      "cell_type": "code",
      "execution_count": 63,
      "id": "420d51b2",
      "metadata": {
        "ExecuteTime": {
          "end_time": "2022-06-03T12:55:23.507301Z",
          "start_time": "2022-06-03T12:55:23.469374Z"
        },
        "colab": {
          "base_uri": "https://localhost:8080/",
          "height": 144
        },
        "id": "420d51b2",
        "outputId": "fe406dc4-10c9-4ae6-8602-929da4c413c1"
      },
      "outputs": [
        {
          "output_type": "execute_result",
          "data": {
            "text/plain": [
              "  Trayecto grupoTrayecto\n",
              "0  BCN-PMI       BCN-PMI\n",
              "1  BCN-SVQ       BCN-SVQ\n",
              "2  BCN-ORY       BCN-ORY"
            ],
            "text/html": [
              "\n",
              "  <div id=\"df-15575f53-35d9-46cf-8627-71a53071550b\">\n",
              "    <div class=\"colab-df-container\">\n",
              "      <div>\n",
              "<style scoped>\n",
              "    .dataframe tbody tr th:only-of-type {\n",
              "        vertical-align: middle;\n",
              "    }\n",
              "\n",
              "    .dataframe tbody tr th {\n",
              "        vertical-align: top;\n",
              "    }\n",
              "\n",
              "    .dataframe thead th {\n",
              "        text-align: right;\n",
              "    }\n",
              "</style>\n",
              "<table border=\"1\" class=\"dataframe\">\n",
              "  <thead>\n",
              "    <tr style=\"text-align: right;\">\n",
              "      <th></th>\n",
              "      <th>Trayecto</th>\n",
              "      <th>grupoTrayecto</th>\n",
              "    </tr>\n",
              "  </thead>\n",
              "  <tbody>\n",
              "    <tr>\n",
              "      <th>0</th>\n",
              "      <td>BCN-PMI</td>\n",
              "      <td>BCN-PMI</td>\n",
              "    </tr>\n",
              "    <tr>\n",
              "      <th>1</th>\n",
              "      <td>BCN-SVQ</td>\n",
              "      <td>BCN-SVQ</td>\n",
              "    </tr>\n",
              "    <tr>\n",
              "      <th>2</th>\n",
              "      <td>BCN-ORY</td>\n",
              "      <td>BCN-ORY</td>\n",
              "    </tr>\n",
              "  </tbody>\n",
              "</table>\n",
              "</div>\n",
              "      <button class=\"colab-df-convert\" onclick=\"convertToInteractive('df-15575f53-35d9-46cf-8627-71a53071550b')\"\n",
              "              title=\"Convert this dataframe to an interactive table.\"\n",
              "              style=\"display:none;\">\n",
              "        \n",
              "  <svg xmlns=\"http://www.w3.org/2000/svg\" height=\"24px\"viewBox=\"0 0 24 24\"\n",
              "       width=\"24px\">\n",
              "    <path d=\"M0 0h24v24H0V0z\" fill=\"none\"/>\n",
              "    <path d=\"M18.56 5.44l.94 2.06.94-2.06 2.06-.94-2.06-.94-.94-2.06-.94 2.06-2.06.94zm-11 1L8.5 8.5l.94-2.06 2.06-.94-2.06-.94L8.5 2.5l-.94 2.06-2.06.94zm10 10l.94 2.06.94-2.06 2.06-.94-2.06-.94-.94-2.06-.94 2.06-2.06.94z\"/><path d=\"M17.41 7.96l-1.37-1.37c-.4-.4-.92-.59-1.43-.59-.52 0-1.04.2-1.43.59L10.3 9.45l-7.72 7.72c-.78.78-.78 2.05 0 2.83L4 21.41c.39.39.9.59 1.41.59.51 0 1.02-.2 1.41-.59l7.78-7.78 2.81-2.81c.8-.78.8-2.07 0-2.86zM5.41 20L4 18.59l7.72-7.72 1.47 1.35L5.41 20z\"/>\n",
              "  </svg>\n",
              "      </button>\n",
              "      \n",
              "  <style>\n",
              "    .colab-df-container {\n",
              "      display:flex;\n",
              "      flex-wrap:wrap;\n",
              "      gap: 12px;\n",
              "    }\n",
              "\n",
              "    .colab-df-convert {\n",
              "      background-color: #E8F0FE;\n",
              "      border: none;\n",
              "      border-radius: 50%;\n",
              "      cursor: pointer;\n",
              "      display: none;\n",
              "      fill: #1967D2;\n",
              "      height: 32px;\n",
              "      padding: 0 0 0 0;\n",
              "      width: 32px;\n",
              "    }\n",
              "\n",
              "    .colab-df-convert:hover {\n",
              "      background-color: #E2EBFA;\n",
              "      box-shadow: 0px 1px 2px rgba(60, 64, 67, 0.3), 0px 1px 3px 1px rgba(60, 64, 67, 0.15);\n",
              "      fill: #174EA6;\n",
              "    }\n",
              "\n",
              "    [theme=dark] .colab-df-convert {\n",
              "      background-color: #3B4455;\n",
              "      fill: #D2E3FC;\n",
              "    }\n",
              "\n",
              "    [theme=dark] .colab-df-convert:hover {\n",
              "      background-color: #434B5C;\n",
              "      box-shadow: 0px 1px 3px 1px rgba(0, 0, 0, 0.15);\n",
              "      filter: drop-shadow(0px 1px 2px rgba(0, 0, 0, 0.3));\n",
              "      fill: #FFFFFF;\n",
              "    }\n",
              "  </style>\n",
              "\n",
              "      <script>\n",
              "        const buttonEl =\n",
              "          document.querySelector('#df-15575f53-35d9-46cf-8627-71a53071550b button.colab-df-convert');\n",
              "        buttonEl.style.display =\n",
              "          google.colab.kernel.accessAllowed ? 'block' : 'none';\n",
              "\n",
              "        async function convertToInteractive(key) {\n",
              "          const element = document.querySelector('#df-15575f53-35d9-46cf-8627-71a53071550b');\n",
              "          const dataTable =\n",
              "            await google.colab.kernel.invokeFunction('convertToInteractive',\n",
              "                                                     [key], {});\n",
              "          if (!dataTable) return;\n",
              "\n",
              "          const docLinkHtml = 'Like what you see? Visit the ' +\n",
              "            '<a target=\"_blank\" href=https://colab.research.google.com/notebooks/data_table.ipynb>data table notebook</a>'\n",
              "            + ' to learn more about interactive tables.';\n",
              "          element.innerHTML = '';\n",
              "          dataTable['output_type'] = 'display_data';\n",
              "          await google.colab.output.renderOutput(dataTable, element);\n",
              "          const docLink = document.createElement('div');\n",
              "          docLink.innerHTML = docLinkHtml;\n",
              "          element.appendChild(docLink);\n",
              "        }\n",
              "      </script>\n",
              "    </div>\n",
              "  </div>\n",
              "  "
            ]
          },
          "metadata": {},
          "execution_count": 63
        }
      ],
      "source": [
        "# Identifico los Aeropuertos principales.\n",
        "\n",
        "\n",
        "path =(r\"/content/drive/MyDrive/Vueling_Trayectos_Duracion_Vuelo.xlsx\")\n",
        " \n",
        "#df_Aeropuertos = pd.read_excel(path, sheet_name='Aeropuertos')\n",
        "\n",
        "#path =(r\"D:\\Documentos D\\02.- Datos Vueling\\Vueling_Trayectos_Duracion_Vuelo.xlsx\")\n",
        "\n",
        "\n",
        "df_Trayectos = pd.read_excel(path, sheet_name='Trayectos')\n",
        "df_Trayectos = df_Trayectos.drop(['Borrar'], axis=1)\n",
        "df_Trayectos.head(3)"
      ]
    },
    {
      "cell_type": "code",
      "source": [
        "df.columns"
      ],
      "metadata": {
        "colab": {
          "base_uri": "https://localhost:8080/"
        },
        "id": "KlZ6UQqd4RdW",
        "outputId": "638f89f2-d2e6-48fb-b8be-38bc1ce97b95"
      },
      "id": "KlZ6UQqd4RdW",
      "execution_count": 64,
      "outputs": [
        {
          "output_type": "execute_result",
          "data": {
            "text/plain": [
              "Index(['DATE', 'FLT', 'REG', 'AC', 'DEP', 'ARR', 'STD', 'STA', 'TKof', 'TDwn',\n",
              "       'ATD', 'ATA', 'BLOCK', 'FLThr', 'DStand', 'AStand', 'ACT PAX', 'LF',\n",
              "       'Taxi-out', 'Taxi-In', 'SLOT', 'C1', 'DLY1', 'Sub1', 'C2', 'DLY2',\n",
              "       'Sub2', 'C3', 'DLY3', 'Sub3', 'C4', 'DLY4', 'Sub4', 'C1Arr', 'DLY1Arr',\n",
              "       'Close Pax Door', 'Close Cargo Door', 'Open Cargo/Pax Door',\n",
              "       'close pax door2', 'close cargo door2', 'open cargo/pax door2',\n",
              "       'Secuencia', 'MES', 'Aeropuerto_Key', 'AeropuertoKey1',\n",
              "       'DuracionVueloTeorico', 'DuracionVueloReal', 'E_Duracion_Vuelo',\n",
              "       't_ClosePax', 't_Close_Cargo_Door', 't_Entre_Puertas',\n",
              "       'Retardo_Abrir_Puerta_Pax', 'Trayecto', 'E_Despegue', 'lag_STD',\n",
              "       'lag_ATD', 'lag_STA', 'lag_ATA', 'lag_ACT PAX', 'lag_Secuencia',\n",
              "       'lag_REG', 'T_teoricoTierra1', 'T_RealTierra1', 'E_tierra1',\n",
              "       'Puntualidad1', 'Total_PAX_Boarding', 'T_Medio_Boarding',\n",
              "       'Taxi_Despegue', 'Taxi_Aterrizaje', 'E_Despegue2', 'E_Despegue3',\n",
              "       'E_Duracion_Vuelo2', 'E_Duracion_Vuelo3', 'E_tierra2', 'E_tierra3',\n",
              "       'Aeropuerto_Key2', 'Aeropuerto_Key3', 'Puntualidad2', 'Puntualidad3',\n",
              "       'E_Despegue_Total', 'E_Duracion_Vuelo_Total', 'E_tierra_Total',\n",
              "       'E_acumulado_Total'],\n",
              "      dtype='object')"
            ]
          },
          "metadata": {},
          "execution_count": 64
        }
      ]
    },
    {
      "cell_type": "code",
      "execution_count": 65,
      "id": "8ef44025",
      "metadata": {
        "ExecuteTime": {
          "end_time": "2022-06-03T12:55:23.538191Z",
          "start_time": "2022-06-03T12:55:23.509268Z"
        },
        "colab": {
          "base_uri": "https://localhost:8080/",
          "height": 69
        },
        "id": "8ef44025",
        "outputId": "46c82234-ee5f-4fd2-fab5-9031afa6f1c0"
      },
      "outputs": [
        {
          "output_type": "execute_result",
          "data": {
            "text/plain": [
              "\"\\ndf.columns\\ndf5 = df\\nborrarColumnas = ['Leg Code', 'Total DLY Dep', 'Close Pax Door',\\n                  'Close Cargo Door', 'Open Cargo/Pax Door', 'Stand Dep', 'Stand Arr',\\n                  'lag_STD', 'lag_ATD','t_ClosePax', 't_Close_Cargo_Door','T_teoricoTierra1',\\n                  'T_RealTierra1', 't_Entre_Puertas']\\n\\ndf5 = df5.drop(borrarColumnas, axis=1)\\ndf5.head(1)\\n\""
            ],
            "application/vnd.google.colaboratory.intrinsic+json": {
              "type": "string"
            }
          },
          "metadata": {},
          "execution_count": 65
        }
      ],
      "source": [
        "# Solo escojo los datos que necesito para le calculo volando\n",
        "'''\n",
        "df.columns\n",
        "df5 = df\n",
        "borrarColumnas = ['Leg Code', 'Total DLY Dep', 'Close Pax Door',\n",
        "                  'Close Cargo Door', 'Open Cargo/Pax Door', 'Stand Dep', 'Stand Arr',\n",
        "                  'lag_STD', 'lag_ATD','t_ClosePax', 't_Close_Cargo_Door','T_teoricoTierra1',\n",
        "                  'T_RealTierra1', 't_Entre_Puertas']\n",
        "\n",
        "df5 = df5.drop(borrarColumnas, axis=1)\n",
        "df5.head(1)\n",
        "'''"
      ]
    },
    {
      "cell_type": "code",
      "execution_count": 66,
      "id": "455f98c4",
      "metadata": {
        "ExecuteTime": {
          "end_time": "2022-06-03T12:55:23.540214Z",
          "start_time": "2022-06-03T12:55:23.540214Z"
        },
        "run_control": {
          "marked": true
        },
        "colab": {
          "base_uri": "https://localhost:8080/",
          "height": 341
        },
        "id": "455f98c4",
        "outputId": "1a85df79-f8e7-4548-94d9-6d7ff7942688"
      },
      "outputs": [
        {
          "output_type": "execute_result",
          "data": {
            "text/plain": [
              "        DATE   FLT     REG   AC  DEP  ARR                 STD  \\\n",
              "0 2022-01-01  2506  EC-JSY  320  BIO  SVQ 2022-01-01 07:40:00   \n",
              "1 2022-01-01  2505  EC-JSY  320  SVQ  BIO 2022-01-01 09:40:00   \n",
              "2 2022-01-01  1386  EC-JSY  320  BIO  SCQ 2022-01-01 11:40:00   \n",
              "\n",
              "                  STA                TKof                TDwn  ... E_tierra3  \\\n",
              "0 2022-01-01 09:05:00 2022-01-01 08:10:00 2022-01-01 09:17:00  ...      -2.0   \n",
              "1 2022-01-01 11:05:00 2022-01-01 10:03:00 2022-01-01 11:07:00  ...      16.0   \n",
              "2 2022-01-01 12:50:00 2022-01-01 11:50:00 2022-01-01 12:40:00  ...       2.0   \n",
              "\n",
              "  Aeropuerto_Key2 Aeropuerto_Key3 Puntualidad2 Puntualidad3 E_Despegue_Total  \\\n",
              "0             SVQ             BIO          4.0         -5.0             31.0   \n",
              "1             BIO             SCQ         -5.0        -24.0              4.0   \n",
              "2             SCQ             BIO        -24.0         -6.0            -15.0   \n",
              "\n",
              "   E_Duracion_Vuelo_Total  E_tierra_Total E_acumulado_Total grupoTrayecto  \n",
              "0                   -17.0           -10.0               4.0          otro  \n",
              "1                   -29.0            10.0             -15.0          otro  \n",
              "2                   -20.0            16.0             -19.0          otro  \n",
              "\n",
              "[3 rows x 84 columns]"
            ],
            "text/html": [
              "\n",
              "  <div id=\"df-cebc8c5c-1419-4aa5-9607-f14268624a6f\">\n",
              "    <div class=\"colab-df-container\">\n",
              "      <div>\n",
              "<style scoped>\n",
              "    .dataframe tbody tr th:only-of-type {\n",
              "        vertical-align: middle;\n",
              "    }\n",
              "\n",
              "    .dataframe tbody tr th {\n",
              "        vertical-align: top;\n",
              "    }\n",
              "\n",
              "    .dataframe thead th {\n",
              "        text-align: right;\n",
              "    }\n",
              "</style>\n",
              "<table border=\"1\" class=\"dataframe\">\n",
              "  <thead>\n",
              "    <tr style=\"text-align: right;\">\n",
              "      <th></th>\n",
              "      <th>DATE</th>\n",
              "      <th>FLT</th>\n",
              "      <th>REG</th>\n",
              "      <th>AC</th>\n",
              "      <th>DEP</th>\n",
              "      <th>ARR</th>\n",
              "      <th>STD</th>\n",
              "      <th>STA</th>\n",
              "      <th>TKof</th>\n",
              "      <th>TDwn</th>\n",
              "      <th>...</th>\n",
              "      <th>E_tierra3</th>\n",
              "      <th>Aeropuerto_Key2</th>\n",
              "      <th>Aeropuerto_Key3</th>\n",
              "      <th>Puntualidad2</th>\n",
              "      <th>Puntualidad3</th>\n",
              "      <th>E_Despegue_Total</th>\n",
              "      <th>E_Duracion_Vuelo_Total</th>\n",
              "      <th>E_tierra_Total</th>\n",
              "      <th>E_acumulado_Total</th>\n",
              "      <th>grupoTrayecto</th>\n",
              "    </tr>\n",
              "  </thead>\n",
              "  <tbody>\n",
              "    <tr>\n",
              "      <th>0</th>\n",
              "      <td>2022-01-01</td>\n",
              "      <td>2506</td>\n",
              "      <td>EC-JSY</td>\n",
              "      <td>320</td>\n",
              "      <td>BIO</td>\n",
              "      <td>SVQ</td>\n",
              "      <td>2022-01-01 07:40:00</td>\n",
              "      <td>2022-01-01 09:05:00</td>\n",
              "      <td>2022-01-01 08:10:00</td>\n",
              "      <td>2022-01-01 09:17:00</td>\n",
              "      <td>...</td>\n",
              "      <td>-2.0</td>\n",
              "      <td>SVQ</td>\n",
              "      <td>BIO</td>\n",
              "      <td>4.0</td>\n",
              "      <td>-5.0</td>\n",
              "      <td>31.0</td>\n",
              "      <td>-17.0</td>\n",
              "      <td>-10.0</td>\n",
              "      <td>4.0</td>\n",
              "      <td>otro</td>\n",
              "    </tr>\n",
              "    <tr>\n",
              "      <th>1</th>\n",
              "      <td>2022-01-01</td>\n",
              "      <td>2505</td>\n",
              "      <td>EC-JSY</td>\n",
              "      <td>320</td>\n",
              "      <td>SVQ</td>\n",
              "      <td>BIO</td>\n",
              "      <td>2022-01-01 09:40:00</td>\n",
              "      <td>2022-01-01 11:05:00</td>\n",
              "      <td>2022-01-01 10:03:00</td>\n",
              "      <td>2022-01-01 11:07:00</td>\n",
              "      <td>...</td>\n",
              "      <td>16.0</td>\n",
              "      <td>BIO</td>\n",
              "      <td>SCQ</td>\n",
              "      <td>-5.0</td>\n",
              "      <td>-24.0</td>\n",
              "      <td>4.0</td>\n",
              "      <td>-29.0</td>\n",
              "      <td>10.0</td>\n",
              "      <td>-15.0</td>\n",
              "      <td>otro</td>\n",
              "    </tr>\n",
              "    <tr>\n",
              "      <th>2</th>\n",
              "      <td>2022-01-01</td>\n",
              "      <td>1386</td>\n",
              "      <td>EC-JSY</td>\n",
              "      <td>320</td>\n",
              "      <td>BIO</td>\n",
              "      <td>SCQ</td>\n",
              "      <td>2022-01-01 11:40:00</td>\n",
              "      <td>2022-01-01 12:50:00</td>\n",
              "      <td>2022-01-01 11:50:00</td>\n",
              "      <td>2022-01-01 12:40:00</td>\n",
              "      <td>...</td>\n",
              "      <td>2.0</td>\n",
              "      <td>SCQ</td>\n",
              "      <td>BIO</td>\n",
              "      <td>-24.0</td>\n",
              "      <td>-6.0</td>\n",
              "      <td>-15.0</td>\n",
              "      <td>-20.0</td>\n",
              "      <td>16.0</td>\n",
              "      <td>-19.0</td>\n",
              "      <td>otro</td>\n",
              "    </tr>\n",
              "  </tbody>\n",
              "</table>\n",
              "<p>3 rows × 84 columns</p>\n",
              "</div>\n",
              "      <button class=\"colab-df-convert\" onclick=\"convertToInteractive('df-cebc8c5c-1419-4aa5-9607-f14268624a6f')\"\n",
              "              title=\"Convert this dataframe to an interactive table.\"\n",
              "              style=\"display:none;\">\n",
              "        \n",
              "  <svg xmlns=\"http://www.w3.org/2000/svg\" height=\"24px\"viewBox=\"0 0 24 24\"\n",
              "       width=\"24px\">\n",
              "    <path d=\"M0 0h24v24H0V0z\" fill=\"none\"/>\n",
              "    <path d=\"M18.56 5.44l.94 2.06.94-2.06 2.06-.94-2.06-.94-.94-2.06-.94 2.06-2.06.94zm-11 1L8.5 8.5l.94-2.06 2.06-.94-2.06-.94L8.5 2.5l-.94 2.06-2.06.94zm10 10l.94 2.06.94-2.06 2.06-.94-2.06-.94-.94-2.06-.94 2.06-2.06.94z\"/><path d=\"M17.41 7.96l-1.37-1.37c-.4-.4-.92-.59-1.43-.59-.52 0-1.04.2-1.43.59L10.3 9.45l-7.72 7.72c-.78.78-.78 2.05 0 2.83L4 21.41c.39.39.9.59 1.41.59.51 0 1.02-.2 1.41-.59l7.78-7.78 2.81-2.81c.8-.78.8-2.07 0-2.86zM5.41 20L4 18.59l7.72-7.72 1.47 1.35L5.41 20z\"/>\n",
              "  </svg>\n",
              "      </button>\n",
              "      \n",
              "  <style>\n",
              "    .colab-df-container {\n",
              "      display:flex;\n",
              "      flex-wrap:wrap;\n",
              "      gap: 12px;\n",
              "    }\n",
              "\n",
              "    .colab-df-convert {\n",
              "      background-color: #E8F0FE;\n",
              "      border: none;\n",
              "      border-radius: 50%;\n",
              "      cursor: pointer;\n",
              "      display: none;\n",
              "      fill: #1967D2;\n",
              "      height: 32px;\n",
              "      padding: 0 0 0 0;\n",
              "      width: 32px;\n",
              "    }\n",
              "\n",
              "    .colab-df-convert:hover {\n",
              "      background-color: #E2EBFA;\n",
              "      box-shadow: 0px 1px 2px rgba(60, 64, 67, 0.3), 0px 1px 3px 1px rgba(60, 64, 67, 0.15);\n",
              "      fill: #174EA6;\n",
              "    }\n",
              "\n",
              "    [theme=dark] .colab-df-convert {\n",
              "      background-color: #3B4455;\n",
              "      fill: #D2E3FC;\n",
              "    }\n",
              "\n",
              "    [theme=dark] .colab-df-convert:hover {\n",
              "      background-color: #434B5C;\n",
              "      box-shadow: 0px 1px 3px 1px rgba(0, 0, 0, 0.15);\n",
              "      filter: drop-shadow(0px 1px 2px rgba(0, 0, 0, 0.3));\n",
              "      fill: #FFFFFF;\n",
              "    }\n",
              "  </style>\n",
              "\n",
              "      <script>\n",
              "        const buttonEl =\n",
              "          document.querySelector('#df-cebc8c5c-1419-4aa5-9607-f14268624a6f button.colab-df-convert');\n",
              "        buttonEl.style.display =\n",
              "          google.colab.kernel.accessAllowed ? 'block' : 'none';\n",
              "\n",
              "        async function convertToInteractive(key) {\n",
              "          const element = document.querySelector('#df-cebc8c5c-1419-4aa5-9607-f14268624a6f');\n",
              "          const dataTable =\n",
              "            await google.colab.kernel.invokeFunction('convertToInteractive',\n",
              "                                                     [key], {});\n",
              "          if (!dataTable) return;\n",
              "\n",
              "          const docLinkHtml = 'Like what you see? Visit the ' +\n",
              "            '<a target=\"_blank\" href=https://colab.research.google.com/notebooks/data_table.ipynb>data table notebook</a>'\n",
              "            + ' to learn more about interactive tables.';\n",
              "          element.innerHTML = '';\n",
              "          dataTable['output_type'] = 'display_data';\n",
              "          await google.colab.output.renderOutput(dataTable, element);\n",
              "          const docLink = document.createElement('div');\n",
              "          docLink.innerHTML = docLinkHtml;\n",
              "          element.appendChild(docLink);\n",
              "        }\n",
              "      </script>\n",
              "    </div>\n",
              "  </div>\n",
              "  "
            ]
          },
          "metadata": {},
          "execution_count": 66
        }
      ],
      "source": [
        "# Agrupo por Trayecto\n",
        "\n",
        "df5 = df\n",
        "\n",
        "df5 = pd.merge(df5, df_Trayectos, left_on='Trayecto', right_on='Trayecto')\n",
        "\n",
        "\n",
        "df5 = df5.sort_values(['DATE', 'REG', 'STD'])\n",
        "df5 = df5.reset_index(drop=True) \n",
        "df5.head(3)"
      ]
    },
    {
      "cell_type": "code",
      "execution_count": 67,
      "id": "e148c358",
      "metadata": {
        "ExecuteTime": {
          "end_time": "2022-06-03T12:55:23.541183Z",
          "start_time": "2022-06-03T12:55:23.541183Z"
        },
        "colab": {
          "base_uri": "https://localhost:8080/"
        },
        "id": "e148c358",
        "outputId": "947ca03c-4f23-4601-c856-dd08212ff050"
      },
      "outputs": [
        {
          "output_type": "stream",
          "name": "stdout",
          "text": [
            "\n",
            "Guardado fichero : /content/drive/MyDrive/Ficheros de Vueling/2022-06-15 07:34:26.075269 FLT_2022.xlsx\n",
            "\n"
          ]
        }
      ],
      "source": [
        "#Save only the first secuence.\n",
        "from datetime import datetime\n",
        "fecha=datetime.now()\n",
        "\n",
        "dfRegistros1= (df5['Secuencia']== 1) \n",
        "\n",
        "df5 = df5[dfRegistros1]\n",
        "\n",
        "path = '/content/drive/MyDrive/Ficheros de Vueling' + '/' + str(fecha) +' '+ Hoja + \".xlsx\"\n",
        "#df5.to_excel(r\"D:\\Documentos D\\02.- Datos Vueling\\Vueling_Python_MAR_Vuelo_\" + Hoja + \".xlsx\")\n",
        "\n",
        "df5.to_excel(path)\n",
        "print()\n",
        "print('Guardado fichero :' , path)\n",
        "print()"
      ]
    },
    {
      "cell_type": "markdown",
      "source": [
        "/content/drive/MyDrive/Ficheros de Vueling"
      ],
      "metadata": {
        "id": "-tmALKOeOfyw"
      },
      "id": "-tmALKOeOfyw"
    },
    {
      "cell_type": "markdown",
      "source": [
        "# Estudio de los tiempos de TAXI\n"
      ],
      "metadata": {
        "id": "GrEIdiBVu6DJ"
      },
      "id": "GrEIdiBVu6DJ"
    },
    {
      "cell_type": "code",
      "source": [
        "df[['Taxi_Despegue', 'Taxi_Aterrizaje']]"
      ],
      "metadata": {
        "id": "EWp73OP7vAAt",
        "outputId": "fa163bc0-bd48-4d29-b5bc-6a0fadb0170c",
        "colab": {
          "base_uri": "https://localhost:8080/",
          "height": 424
        }
      },
      "id": "EWp73OP7vAAt",
      "execution_count": 68,
      "outputs": [
        {
          "output_type": "execute_result",
          "data": {
            "text/plain": [
              "       Taxi_Despegue  Taxi_Aterrizaje\n",
              "0               10.0              3.0\n",
              "1               12.0              2.0\n",
              "2               10.0              5.0\n",
              "3                7.0              3.0\n",
              "4               16.0              7.0\n",
              "...              ...              ...\n",
              "56128           10.0              4.0\n",
              "56129           24.0              5.0\n",
              "56130            7.0              4.0\n",
              "56131           24.0              7.0\n",
              "56132           16.0              3.0\n",
              "\n",
              "[56133 rows x 2 columns]"
            ],
            "text/html": [
              "\n",
              "  <div id=\"df-81df50a7-8ddd-4f15-a57a-6fa4abdf9fd5\">\n",
              "    <div class=\"colab-df-container\">\n",
              "      <div>\n",
              "<style scoped>\n",
              "    .dataframe tbody tr th:only-of-type {\n",
              "        vertical-align: middle;\n",
              "    }\n",
              "\n",
              "    .dataframe tbody tr th {\n",
              "        vertical-align: top;\n",
              "    }\n",
              "\n",
              "    .dataframe thead th {\n",
              "        text-align: right;\n",
              "    }\n",
              "</style>\n",
              "<table border=\"1\" class=\"dataframe\">\n",
              "  <thead>\n",
              "    <tr style=\"text-align: right;\">\n",
              "      <th></th>\n",
              "      <th>Taxi_Despegue</th>\n",
              "      <th>Taxi_Aterrizaje</th>\n",
              "    </tr>\n",
              "  </thead>\n",
              "  <tbody>\n",
              "    <tr>\n",
              "      <th>0</th>\n",
              "      <td>10.0</td>\n",
              "      <td>3.0</td>\n",
              "    </tr>\n",
              "    <tr>\n",
              "      <th>1</th>\n",
              "      <td>12.0</td>\n",
              "      <td>2.0</td>\n",
              "    </tr>\n",
              "    <tr>\n",
              "      <th>2</th>\n",
              "      <td>10.0</td>\n",
              "      <td>5.0</td>\n",
              "    </tr>\n",
              "    <tr>\n",
              "      <th>3</th>\n",
              "      <td>7.0</td>\n",
              "      <td>3.0</td>\n",
              "    </tr>\n",
              "    <tr>\n",
              "      <th>4</th>\n",
              "      <td>16.0</td>\n",
              "      <td>7.0</td>\n",
              "    </tr>\n",
              "    <tr>\n",
              "      <th>...</th>\n",
              "      <td>...</td>\n",
              "      <td>...</td>\n",
              "    </tr>\n",
              "    <tr>\n",
              "      <th>56128</th>\n",
              "      <td>10.0</td>\n",
              "      <td>4.0</td>\n",
              "    </tr>\n",
              "    <tr>\n",
              "      <th>56129</th>\n",
              "      <td>24.0</td>\n",
              "      <td>5.0</td>\n",
              "    </tr>\n",
              "    <tr>\n",
              "      <th>56130</th>\n",
              "      <td>7.0</td>\n",
              "      <td>4.0</td>\n",
              "    </tr>\n",
              "    <tr>\n",
              "      <th>56131</th>\n",
              "      <td>24.0</td>\n",
              "      <td>7.0</td>\n",
              "    </tr>\n",
              "    <tr>\n",
              "      <th>56132</th>\n",
              "      <td>16.0</td>\n",
              "      <td>3.0</td>\n",
              "    </tr>\n",
              "  </tbody>\n",
              "</table>\n",
              "<p>56133 rows × 2 columns</p>\n",
              "</div>\n",
              "      <button class=\"colab-df-convert\" onclick=\"convertToInteractive('df-81df50a7-8ddd-4f15-a57a-6fa4abdf9fd5')\"\n",
              "              title=\"Convert this dataframe to an interactive table.\"\n",
              "              style=\"display:none;\">\n",
              "        \n",
              "  <svg xmlns=\"http://www.w3.org/2000/svg\" height=\"24px\"viewBox=\"0 0 24 24\"\n",
              "       width=\"24px\">\n",
              "    <path d=\"M0 0h24v24H0V0z\" fill=\"none\"/>\n",
              "    <path d=\"M18.56 5.44l.94 2.06.94-2.06 2.06-.94-2.06-.94-.94-2.06-.94 2.06-2.06.94zm-11 1L8.5 8.5l.94-2.06 2.06-.94-2.06-.94L8.5 2.5l-.94 2.06-2.06.94zm10 10l.94 2.06.94-2.06 2.06-.94-2.06-.94-.94-2.06-.94 2.06-2.06.94z\"/><path d=\"M17.41 7.96l-1.37-1.37c-.4-.4-.92-.59-1.43-.59-.52 0-1.04.2-1.43.59L10.3 9.45l-7.72 7.72c-.78.78-.78 2.05 0 2.83L4 21.41c.39.39.9.59 1.41.59.51 0 1.02-.2 1.41-.59l7.78-7.78 2.81-2.81c.8-.78.8-2.07 0-2.86zM5.41 20L4 18.59l7.72-7.72 1.47 1.35L5.41 20z\"/>\n",
              "  </svg>\n",
              "      </button>\n",
              "      \n",
              "  <style>\n",
              "    .colab-df-container {\n",
              "      display:flex;\n",
              "      flex-wrap:wrap;\n",
              "      gap: 12px;\n",
              "    }\n",
              "\n",
              "    .colab-df-convert {\n",
              "      background-color: #E8F0FE;\n",
              "      border: none;\n",
              "      border-radius: 50%;\n",
              "      cursor: pointer;\n",
              "      display: none;\n",
              "      fill: #1967D2;\n",
              "      height: 32px;\n",
              "      padding: 0 0 0 0;\n",
              "      width: 32px;\n",
              "    }\n",
              "\n",
              "    .colab-df-convert:hover {\n",
              "      background-color: #E2EBFA;\n",
              "      box-shadow: 0px 1px 2px rgba(60, 64, 67, 0.3), 0px 1px 3px 1px rgba(60, 64, 67, 0.15);\n",
              "      fill: #174EA6;\n",
              "    }\n",
              "\n",
              "    [theme=dark] .colab-df-convert {\n",
              "      background-color: #3B4455;\n",
              "      fill: #D2E3FC;\n",
              "    }\n",
              "\n",
              "    [theme=dark] .colab-df-convert:hover {\n",
              "      background-color: #434B5C;\n",
              "      box-shadow: 0px 1px 3px 1px rgba(0, 0, 0, 0.15);\n",
              "      filter: drop-shadow(0px 1px 2px rgba(0, 0, 0, 0.3));\n",
              "      fill: #FFFFFF;\n",
              "    }\n",
              "  </style>\n",
              "\n",
              "      <script>\n",
              "        const buttonEl =\n",
              "          document.querySelector('#df-81df50a7-8ddd-4f15-a57a-6fa4abdf9fd5 button.colab-df-convert');\n",
              "        buttonEl.style.display =\n",
              "          google.colab.kernel.accessAllowed ? 'block' : 'none';\n",
              "\n",
              "        async function convertToInteractive(key) {\n",
              "          const element = document.querySelector('#df-81df50a7-8ddd-4f15-a57a-6fa4abdf9fd5');\n",
              "          const dataTable =\n",
              "            await google.colab.kernel.invokeFunction('convertToInteractive',\n",
              "                                                     [key], {});\n",
              "          if (!dataTable) return;\n",
              "\n",
              "          const docLinkHtml = 'Like what you see? Visit the ' +\n",
              "            '<a target=\"_blank\" href=https://colab.research.google.com/notebooks/data_table.ipynb>data table notebook</a>'\n",
              "            + ' to learn more about interactive tables.';\n",
              "          element.innerHTML = '';\n",
              "          dataTable['output_type'] = 'display_data';\n",
              "          await google.colab.output.renderOutput(dataTable, element);\n",
              "          const docLink = document.createElement('div');\n",
              "          docLink.innerHTML = docLinkHtml;\n",
              "          element.appendChild(docLink);\n",
              "        }\n",
              "      </script>\n",
              "    </div>\n",
              "  </div>\n",
              "  "
            ]
          },
          "metadata": {},
          "execution_count": 68
        }
      ]
    },
    {
      "cell_type": "code",
      "source": [
        "# Taxi Despegue:\n",
        "dfEliminarOutliers= ((df['Taxi_Despegue'] <40) & (df['Taxi_Despegue'] >0))\n",
        "\n",
        "df3 = df[dfEliminarOutliers]\n",
        "\n",
        "ax = sns.histplot(data= df3.Taxi_Despegue, kde= True)\n",
        "print()\n",
        "print('Media = ', round(df3['Taxi_Despegue'].mean(),2), 'minutos')\n",
        "\n",
        "media = round(df3['Taxi_Despegue'].mean(),2)\n",
        "\n",
        "ax.axvline(media, color=\"red\", linestyle = '--', label=\"ooas\")       # Linea 0 verde\n",
        "ax.axvline(0, color=\"green\", linestyle = '--')\n",
        "ax.set_title('Tiempo de Radadura Takeoff')"
      ],
      "metadata": {
        "id": "ZsDAsARcvlEA",
        "outputId": "471c2bbc-bd28-43be-ff96-b8fd376e3082",
        "colab": {
          "base_uri": "https://localhost:8080/",
          "height": 570
        }
      },
      "id": "ZsDAsARcvlEA",
      "execution_count": 69,
      "outputs": [
        {
          "output_type": "stream",
          "name": "stdout",
          "text": [
            "\n",
            "Media =  13.85 minutos\n"
          ]
        },
        {
          "output_type": "execute_result",
          "data": {
            "text/plain": [
              "Text(0.5, 1.0, 'Tiempo de Radadura Takeoff')"
            ]
          },
          "metadata": {},
          "execution_count": 69
        },
        {
          "output_type": "display_data",
          "data": {
            "text/plain": [
              "<Figure size 1080x576 with 1 Axes>"
            ],
            "image/png": "[encoded data removed]"
          },
          "metadata": {}
        }
      ]
    },
    {
      "cell_type": "code",
      "source": [
        "# Taxi Aterrizaje\n",
        "dfEliminarOutliers= ((df['Taxi_Aterrizaje'] <20) & (df['Taxi_Aterrizaje'] >0))\n",
        "\n",
        "df3 = df[dfEliminarOutliers] \n",
        "\n",
        "ax = sns.histplot(data= df3.Taxi_Aterrizaje, kde= True)\n",
        "print()\n",
        "print('Media = ', round(df3['Taxi_Aterrizaje'].mean(),2), 'minutos')\n",
        "\n",
        "media = round(df3['Taxi_Aterrizaje'].mean(),2)\n",
        "\n",
        "ax.axvline(media, color=\"red\", linestyle = '--', label=\"ooas\")       # Linea 0 verde\n",
        "ax.axvline(0, color=\"green\", linestyle = '--')\n",
        "ax.set_title('Tiempo de rodadura Landing')"
      ],
      "metadata": {
        "id": "TNTXmXXHw7tR",
        "outputId": "7a8213a1-7b21-4227-93b1-0f3966d46056",
        "colab": {
          "base_uri": "https://localhost:8080/",
          "height": 570
        }
      },
      "id": "TNTXmXXHw7tR",
      "execution_count": 70,
      "outputs": [
        {
          "output_type": "stream",
          "name": "stdout",
          "text": [
            "\n",
            "Media =  5.5 minutos\n"
          ]
        },
        {
          "output_type": "execute_result",
          "data": {
            "text/plain": [
              "Text(0.5, 1.0, 'Tiempo de rodadura Landing')"
            ]
          },
          "metadata": {},
          "execution_count": 70
        },
        {
          "output_type": "display_data",
          "data": {
            "text/plain": [
              "<Figure size 1080x576 with 1 Axes>"
            ],
            "image/png": "[encoded data removed]"
          },
          "metadata": {}
        }
      ]
    },
    {
      "cell_type": "markdown",
      "source": [
        "# Cantidad de tiempo que tardamos en vaciar y llenar un avion."
      ],
      "metadata": {
        "id": "AbJbrH5gZo3C"
      },
      "id": "AbJbrH5gZo3C"
    },
    {
      "cell_type": "code",
      "source": [
        "# Estudio la cantidad de tiempo que tardamos en vaciar y llenar un avion.\n",
        "\n",
        "dfEliminarOutliers= ((df['REG'] == df['lag_REG']))\n",
        "\n",
        "df3 = df[dfEliminarOutliers] \n",
        "df3['Total_Pasajeros_Boarding']= df3['ACT PAX'] +df3['lag_ACT PAX']\n",
        "\n",
        "df3['t_Boarding_X_Pasajero'] = round((df3['Total_Pasajeros_Boarding']/ df3['T_RealTierra1']),2)\n",
        "\n",
        "df3[4:10][['REG', \n",
        "           'lag_REG',\n",
        "           'Total_Pasajeros_Boarding', \n",
        "           'ACT PAX', 'lag_ACT PAX',\n",
        "           't_Boarding_X_Pasajero', \n",
        "           'T_Medio_Boarding']]\n"
      ],
      "metadata": {
        "colab": {
          "base_uri": "https://localhost:8080/",
          "height": 446
        },
        "id": "ok0w_ZQ4XJf6",
        "outputId": "bb9e4b08-c83c-41a9-c8d3-2f384c3d154e"
      },
      "id": "ok0w_ZQ4XJf6",
      "execution_count": 110,
      "outputs": [
        {
          "output_type": "stream",
          "name": "stderr",
          "text": [
            "/usr/local/lib/python3.7/dist-packages/ipykernel_launcher.py:6: SettingWithCopyWarning: \n",
            "A value is trying to be set on a copy of a slice from a DataFrame.\n",
            "Try using .loc[row_indexer,col_indexer] = value instead\n",
            "\n",
            "See the caveats in the documentation: https://pandas.pydata.org/pandas-docs/stable/user_guide/indexing.html#returning-a-view-versus-a-copy\n",
            "  \n",
            "/usr/local/lib/python3.7/dist-packages/ipykernel_launcher.py:8: SettingWithCopyWarning: \n",
            "A value is trying to be set on a copy of a slice from a DataFrame.\n",
            "Try using .loc[row_indexer,col_indexer] = value instead\n",
            "\n",
            "See the caveats in the documentation: https://pandas.pydata.org/pandas-docs/stable/user_guide/indexing.html#returning-a-view-versus-a-copy\n",
            "  \n"
          ]
        },
        {
          "output_type": "execute_result",
          "data": {
            "text/plain": [
              "       REG lag_REG  Total_Pasajeros_Boarding  ACT PAX  lag_ACT PAX  \\\n",
              "4   EC-JSY  EC-JSY                     276.0    155.0        121.0   \n",
              "6   EC-JZI  EC-JZI                     175.0     57.0        118.0   \n",
              "7   EC-JZI  EC-JZI                     241.0    118.0        123.0   \n",
              "8   EC-JZI  EC-JZI                     123.0    123.0          0.0   \n",
              "9   EC-JZI  EC-JZI                     125.0      0.0        125.0   \n",
              "10  EC-JZI  EC-JZI                     219.0    125.0         94.0   \n",
              "\n",
              "    t_Boarding_X_Pasajero  T_Medio_Boarding  \n",
              "4                    7.46               7.5  \n",
              "6                    3.89               3.9  \n",
              "7                    5.36               5.4  \n",
              "8                    4.24               4.2  \n",
              "9                    3.05               3.0  \n",
              "10                   6.44               6.4  "
            ],
            "text/html": [
              "\n",
              "  <div id=\"df-19bbc896-6847-479c-bb27-17e8c88013d2\">\n",
              "    <div class=\"colab-df-container\">\n",
              "      <div>\n",
              "<style scoped>\n",
              "    .dataframe tbody tr th:only-of-type {\n",
              "        vertical-align: middle;\n",
              "    }\n",
              "\n",
              "    .dataframe tbody tr th {\n",
              "        vertical-align: top;\n",
              "    }\n",
              "\n",
              "    .dataframe thead th {\n",
              "        text-align: right;\n",
              "    }\n",
              "</style>\n",
              "<table border=\"1\" class=\"dataframe\">\n",
              "  <thead>\n",
              "    <tr style=\"text-align: right;\">\n",
              "      <th></th>\n",
              "      <th>REG</th>\n",
              "      <th>lag_REG</th>\n",
              "      <th>Total_Pasajeros_Boarding</th>\n",
              "      <th>ACT PAX</th>\n",
              "      <th>lag_ACT PAX</th>\n",
              "      <th>t_Boarding_X_Pasajero</th>\n",
              "      <th>T_Medio_Boarding</th>\n",
              "    </tr>\n",
              "  </thead>\n",
              "  <tbody>\n",
              "    <tr>\n",
              "      <th>4</th>\n",
              "      <td>EC-JSY</td>\n",
              "      <td>EC-JSY</td>\n",
              "      <td>276.0</td>\n",
              "      <td>155.0</td>\n",
              "      <td>121.0</td>\n",
              "      <td>7.46</td>\n",
              "      <td>7.5</td>\n",
              "    </tr>\n",
              "    <tr>\n",
              "      <th>6</th>\n",
              "      <td>EC-JZI</td>\n",
              "      <td>EC-JZI</td>\n",
              "      <td>175.0</td>\n",
              "      <td>57.0</td>\n",
              "      <td>118.0</td>\n",
              "      <td>3.89</td>\n",
              "      <td>3.9</td>\n",
              "    </tr>\n",
              "    <tr>\n",
              "      <th>7</th>\n",
              "      <td>EC-JZI</td>\n",
              "      <td>EC-JZI</td>\n",
              "      <td>241.0</td>\n",
              "      <td>118.0</td>\n",
              "      <td>123.0</td>\n",
              "      <td>5.36</td>\n",
              "      <td>5.4</td>\n",
              "    </tr>\n",
              "    <tr>\n",
              "      <th>8</th>\n",
              "      <td>EC-JZI</td>\n",
              "      <td>EC-JZI</td>\n",
              "      <td>123.0</td>\n",
              "      <td>123.0</td>\n",
              "      <td>0.0</td>\n",
              "      <td>4.24</td>\n",
              "      <td>4.2</td>\n",
              "    </tr>\n",
              "    <tr>\n",
              "      <th>9</th>\n",
              "      <td>EC-JZI</td>\n",
              "      <td>EC-JZI</td>\n",
              "      <td>125.0</td>\n",
              "      <td>0.0</td>\n",
              "      <td>125.0</td>\n",
              "      <td>3.05</td>\n",
              "      <td>3.0</td>\n",
              "    </tr>\n",
              "    <tr>\n",
              "      <th>10</th>\n",
              "      <td>EC-JZI</td>\n",
              "      <td>EC-JZI</td>\n",
              "      <td>219.0</td>\n",
              "      <td>125.0</td>\n",
              "      <td>94.0</td>\n",
              "      <td>6.44</td>\n",
              "      <td>6.4</td>\n",
              "    </tr>\n",
              "  </tbody>\n",
              "</table>\n",
              "</div>\n",
              "      <button class=\"colab-df-convert\" onclick=\"convertToInteractive('df-19bbc896-6847-479c-bb27-17e8c88013d2')\"\n",
              "              title=\"Convert this dataframe to an interactive table.\"\n",
              "              style=\"display:none;\">\n",
              "        \n",
              "  <svg xmlns=\"http://www.w3.org/2000/svg\" height=\"24px\"viewBox=\"0 0 24 24\"\n",
              "       width=\"24px\">\n",
              "    <path d=\"M0 0h24v24H0V0z\" fill=\"none\"/>\n",
              "    <path d=\"M18.56 5.44l.94 2.06.94-2.06 2.06-.94-2.06-.94-.94-2.06-.94 2.06-2.06.94zm-11 1L8.5 8.5l.94-2.06 2.06-.94-2.06-.94L8.5 2.5l-.94 2.06-2.06.94zm10 10l.94 2.06.94-2.06 2.06-.94-2.06-.94-.94-2.06-.94 2.06-2.06.94z\"/><path d=\"M17.41 7.96l-1.37-1.37c-.4-.4-.92-.59-1.43-.59-.52 0-1.04.2-1.43.59L10.3 9.45l-7.72 7.72c-.78.78-.78 2.05 0 2.83L4 21.41c.39.39.9.59 1.41.59.51 0 1.02-.2 1.41-.59l7.78-7.78 2.81-2.81c.8-.78.8-2.07 0-2.86zM5.41 20L4 18.59l7.72-7.72 1.47 1.35L5.41 20z\"/>\n",
              "  </svg>\n",
              "      </button>\n",
              "      \n",
              "  <style>\n",
              "    .colab-df-container {\n",
              "      display:flex;\n",
              "      flex-wrap:wrap;\n",
              "      gap: 12px;\n",
              "    }\n",
              "\n",
              "    .colab-df-convert {\n",
              "      background-color: #E8F0FE;\n",
              "      border: none;\n",
              "      border-radius: 50%;\n",
              "      cursor: pointer;\n",
              "      display: none;\n",
              "      fill: #1967D2;\n",
              "      height: 32px;\n",
              "      padding: 0 0 0 0;\n",
              "      width: 32px;\n",
              "    }\n",
              "\n",
              "    .colab-df-convert:hover {\n",
              "      background-color: #E2EBFA;\n",
              "      box-shadow: 0px 1px 2px rgba(60, 64, 67, 0.3), 0px 1px 3px 1px rgba(60, 64, 67, 0.15);\n",
              "      fill: #174EA6;\n",
              "    }\n",
              "\n",
              "    [theme=dark] .colab-df-convert {\n",
              "      background-color: #3B4455;\n",
              "      fill: #D2E3FC;\n",
              "    }\n",
              "\n",
              "    [theme=dark] .colab-df-convert:hover {\n",
              "      background-color: #434B5C;\n",
              "      box-shadow: 0px 1px 3px 1px rgba(0, 0, 0, 0.15);\n",
              "      filter: drop-shadow(0px 1px 2px rgba(0, 0, 0, 0.3));\n",
              "      fill: #FFFFFF;\n",
              "    }\n",
              "  </style>\n",
              "\n",
              "      <script>\n",
              "        const buttonEl =\n",
              "          document.querySelector('#df-19bbc896-6847-479c-bb27-17e8c88013d2 button.colab-df-convert');\n",
              "        buttonEl.style.display =\n",
              "          google.colab.kernel.accessAllowed ? 'block' : 'none';\n",
              "\n",
              "        async function convertToInteractive(key) {\n",
              "          const element = document.querySelector('#df-19bbc896-6847-479c-bb27-17e8c88013d2');\n",
              "          const dataTable =\n",
              "            await google.colab.kernel.invokeFunction('convertToInteractive',\n",
              "                                                     [key], {});\n",
              "          if (!dataTable) return;\n",
              "\n",
              "          const docLinkHtml = 'Like what you see? Visit the ' +\n",
              "            '<a target=\"_blank\" href=https://colab.research.google.com/notebooks/data_table.ipynb>data table notebook</a>'\n",
              "            + ' to learn more about interactive tables.';\n",
              "          element.innerHTML = '';\n",
              "          dataTable['output_type'] = 'display_data';\n",
              "          await google.colab.output.renderOutput(dataTable, element);\n",
              "          const docLink = document.createElement('div');\n",
              "          docLink.innerHTML = docLinkHtml;\n",
              "          element.appendChild(docLink);\n",
              "        }\n",
              "      </script>\n",
              "    </div>\n",
              "  </div>\n",
              "  "
            ]
          },
          "metadata": {},
          "execution_count": 110
        }
      ]
    },
    {
      "cell_type": "code",
      "source": [
        "# Taxi Aterrizaje\n",
        "dfEliminarOutliers= ((df3['t_Boarding_X_Pasajero'] <20) & \n",
        "                     (df3['t_Boarding_X_Pasajero'] >-10) & \n",
        "                     (df3['Secuencia'] ==1))\n",
        "\n",
        "df3 = df3[dfEliminarOutliers] \n",
        "variableHistograma = 't_Boarding_X_Pasajero'\n",
        "ax = sns.histplot(data= df3.t_Boarding_X_Pasajero, kde= True)\n",
        "print()\n",
        "print('Media = ', round(df3[variableHistograma].mean(),2), 'minutos')\n",
        "\n",
        "media = round(df3[variableHistograma].mean(),2)\n",
        "\n",
        "ax.axvline(media, color=\"red\", linestyle = '--', label=\"ooas\")       # Linea 0 verde\n",
        "ax.axvline(0, color=\"green\", linestyle = '--')\n",
        "ax.set_title('Cuantos pasajeros descargamos en un minuto')"
      ],
      "metadata": {
        "colab": {
          "base_uri": "https://localhost:8080/",
          "height": 570
        },
        "id": "9rjt4NssaBT9",
        "outputId": "2b9f7803-5813-45d7-b94d-a5ee591da6cd"
      },
      "id": "9rjt4NssaBT9",
      "execution_count": 95,
      "outputs": [
        {
          "output_type": "stream",
          "name": "stdout",
          "text": [
            "\n",
            "Media =  5.57 minutos\n"
          ]
        },
        {
          "output_type": "execute_result",
          "data": {
            "text/plain": [
              "Text(0.5, 1.0, 'Cuantos pasajeros descargamos en un minuto')"
            ]
          },
          "metadata": {},
          "execution_count": 95
        },
        {
          "output_type": "display_data",
          "data": {
            "text/plain": [
              "<Figure size 1080x576 with 1 Axes>"
            ],
            "image/png": "[encoded data removed]"
          },
          "metadata": {}
        }
      ]
    },
    {
      "cell_type": "code",
      "source": [
        "# Intervalos de Confianza por aeropuerto\n",
        "sns.set_theme(style=\"darkgrid\")\n",
        " \n",
        "sns.set(rc = {'figure.figsize':(15,8)})  \n",
        "\n",
        "# Tamaño de la imagen\n",
        "ax = sns.pointplot(x='AeropuertoKey1', y = 't_Boarding_X_Pasajero', data= df3, scale=.1, kind = \"point\", capsize=0.13)\n",
        "\n",
        "ax.axhline(media, color=\"red\", linestyle = '--', label=\"ooas\")       # Linea 0 verde\n",
        "ax.axhline(4, color=\"green\", linestyle = '--')\n",
        "\n",
        "\n",
        "#textoBCN = \"BCN \"+ str(puntualidadBCN) + ' minut.'\n",
        "#ax.text(puntualidadBCN ,puntualidadBCN , textoBCN, backgroundcolor='w')\n",
        "\n",
        "ax.set_title('Cuantos pasajeros descargamos en un minuto por Aeropuerto:', fontsize = 24)"
      ],
      "metadata": {
        "colab": {
          "base_uri": "https://localhost:8080/",
          "height": 544
        },
        "id": "2JEwbwQYblr8",
        "outputId": "882e4a42-bcb7-4389-bff8-1ae3f029878c"
      },
      "id": "2JEwbwQYblr8",
      "execution_count": 96,
      "outputs": [
        {
          "output_type": "execute_result",
          "data": {
            "text/plain": [
              "Text(0.5, 1.0, 'Cuantos pasajeros descargamos en un minuto por Aeropuerto:')"
            ]
          },
          "metadata": {},
          "execution_count": 96
        },
        {
          "output_type": "display_data",
          "data": {
            "text/plain": [
              "<Figure size 1080x576 with 1 Axes>"
            ],
            "image/png": "[encoded data removed]"
          },
          "metadata": {}
        }
      ]
    },
    {
      "cell_type": "code",
      "source": [
        "df3['Secuencia']"
      ],
      "metadata": {
        "colab": {
          "base_uri": "https://localhost:8080/"
        },
        "id": "8GGTfKqZbWCj",
        "outputId": "1d01532e-8c40-4cec-d9a4-9c7762fc931b"
      },
      "id": "8GGTfKqZbWCj",
      "execution_count": 90,
      "outputs": [
        {
          "output_type": "execute_result",
          "data": {
            "text/plain": [
              "0        1.0\n",
              "1        2.0\n",
              "2        3.0\n",
              "3        4.0\n",
              "4        5.0\n",
              "        ... \n",
              "56127    1.0\n",
              "56128    2.0\n",
              "56129    3.0\n",
              "56130    4.0\n",
              "56131    5.0\n",
              "Name: Secuencia, Length: 43706, dtype: float64"
            ]
          },
          "metadata": {},
          "execution_count": 90
        }
      ]
    },
    {
      "cell_type": "markdown",
      "source": [
        "# Estudio del SLOT"
      ],
      "metadata": {
        "id": "IrNq3NA0e71d"
      },
      "id": "IrNq3NA0e71d"
    },
    {
      "cell_type": "code",
      "source": [
        "# Calculo el tiempo que hay de diferente entre SLOT v STD\n",
        "df3= df.copy()\n",
        "dfEliminarOutliers= ((df3['E_Despegue'] >20) &(df3['DEP'] =='BCN'))\n",
        "\n",
        "df3 = df3[dfEliminarOutliers] \n",
        "\n",
        "\n",
        "#df3['E_SLOT']= df3['SLOT']-df3['STD']\n",
        "df3[[ 'SLOT', 'STD', 'ATD', 'E_Despegue', 'DEP']]"
      ],
      "metadata": {
        "colab": {
          "base_uri": "https://localhost:8080/",
          "height": 424
        },
        "id": "0GnkZtJre_TF",
        "outputId": "c11789e1-d827-4086-dc93-d68c9e68a294"
      },
      "id": "0GnkZtJre_TF",
      "execution_count": 105,
      "outputs": [
        {
          "output_type": "execute_result",
          "data": {
            "text/plain": [
              "              SLOT                 STD                 ATD  E_Despegue  DEP\n",
              "91                 2022-01-01 19:05:00 2022-01-01 20:33:00        88.0  BCN\n",
              "94                 2022-01-01 15:25:00 2022-01-01 15:47:00        22.0  BCN\n",
              "106                2022-01-01 17:30:00 2022-01-01 19:48:00       138.0  BCN\n",
              "178       06:46:00 2022-01-01 06:00:00 2022-01-01 06:31:00        31.0  BCN\n",
              "219                2022-01-01 17:55:00 2022-01-01 18:23:00        28.0  BCN\n",
              "...            ...                 ...                 ...         ...  ...\n",
              "55720              2022-05-16 18:30:00 2022-05-16 18:59:00        29.0  BCN\n",
              "55722              2022-05-16 05:10:00 2022-05-16 05:42:00        32.0  BCN\n",
              "55850     16:50:00 2022-05-16 16:00:00 2022-05-16 16:39:00        39.0  BCN\n",
              "56073     09:22:00 2022-05-16 08:05:00 2022-05-16 09:13:00        68.0  BCN\n",
              "56131     14:10:00 2022-05-16 13:20:00 2022-05-16 13:50:00        30.0  BCN\n",
              "\n",
              "[750 rows x 5 columns]"
            ],
            "text/html": [
              "\n",
              "  <div id=\"df-3a3149e6-2031-4c51-9ad5-150498e15144\">\n",
              "    <div class=\"colab-df-container\">\n",
              "      <div>\n",
              "<style scoped>\n",
              "    .dataframe tbody tr th:only-of-type {\n",
              "        vertical-align: middle;\n",
              "    }\n",
              "\n",
              "    .dataframe tbody tr th {\n",
              "        vertical-align: top;\n",
              "    }\n",
              "\n",
              "    .dataframe thead th {\n",
              "        text-align: right;\n",
              "    }\n",
              "</style>\n",
              "<table border=\"1\" class=\"dataframe\">\n",
              "  <thead>\n",
              "    <tr style=\"text-align: right;\">\n",
              "      <th></th>\n",
              "      <th>SLOT</th>\n",
              "      <th>STD</th>\n",
              "      <th>ATD</th>\n",
              "      <th>E_Despegue</th>\n",
              "      <th>DEP</th>\n",
              "    </tr>\n",
              "  </thead>\n",
              "  <tbody>\n",
              "    <tr>\n",
              "      <th>91</th>\n",
              "      <td></td>\n",
              "      <td>2022-01-01 19:05:00</td>\n",
              "      <td>2022-01-01 20:33:00</td>\n",
              "      <td>88.0</td>\n",
              "      <td>BCN</td>\n",
              "    </tr>\n",
              "    <tr>\n",
              "      <th>94</th>\n",
              "      <td></td>\n",
              "      <td>2022-01-01 15:25:00</td>\n",
              "      <td>2022-01-01 15:47:00</td>\n",
              "      <td>22.0</td>\n",
              "      <td>BCN</td>\n",
              "    </tr>\n",
              "    <tr>\n",
              "      <th>106</th>\n",
              "      <td></td>\n",
              "      <td>2022-01-01 17:30:00</td>\n",
              "      <td>2022-01-01 19:48:00</td>\n",
              "      <td>138.0</td>\n",
              "      <td>BCN</td>\n",
              "    </tr>\n",
              "    <tr>\n",
              "      <th>178</th>\n",
              "      <td>06:46:00</td>\n",
              "      <td>2022-01-01 06:00:00</td>\n",
              "      <td>2022-01-01 06:31:00</td>\n",
              "      <td>31.0</td>\n",
              "      <td>BCN</td>\n",
              "    </tr>\n",
              "    <tr>\n",
              "      <th>219</th>\n",
              "      <td></td>\n",
              "      <td>2022-01-01 17:55:00</td>\n",
              "      <td>2022-01-01 18:23:00</td>\n",
              "      <td>28.0</td>\n",
              "      <td>BCN</td>\n",
              "    </tr>\n",
              "    <tr>\n",
              "      <th>...</th>\n",
              "      <td>...</td>\n",
              "      <td>...</td>\n",
              "      <td>...</td>\n",
              "      <td>...</td>\n",
              "      <td>...</td>\n",
              "    </tr>\n",
              "    <tr>\n",
              "      <th>55720</th>\n",
              "      <td></td>\n",
              "      <td>2022-05-16 18:30:00</td>\n",
              "      <td>2022-05-16 18:59:00</td>\n",
              "      <td>29.0</td>\n",
              "      <td>BCN</td>\n",
              "    </tr>\n",
              "    <tr>\n",
              "      <th>55722</th>\n",
              "      <td></td>\n",
              "      <td>2022-05-16 05:10:00</td>\n",
              "      <td>2022-05-16 05:42:00</td>\n",
              "      <td>32.0</td>\n",
              "      <td>BCN</td>\n",
              "    </tr>\n",
              "    <tr>\n",
              "      <th>55850</th>\n",
              "      <td>16:50:00</td>\n",
              "      <td>2022-05-16 16:00:00</td>\n",
              "      <td>2022-05-16 16:39:00</td>\n",
              "      <td>39.0</td>\n",
              "      <td>BCN</td>\n",
              "    </tr>\n",
              "    <tr>\n",
              "      <th>56073</th>\n",
              "      <td>09:22:00</td>\n",
              "      <td>2022-05-16 08:05:00</td>\n",
              "      <td>2022-05-16 09:13:00</td>\n",
              "      <td>68.0</td>\n",
              "      <td>BCN</td>\n",
              "    </tr>\n",
              "    <tr>\n",
              "      <th>56131</th>\n",
              "      <td>14:10:00</td>\n",
              "      <td>2022-05-16 13:20:00</td>\n",
              "      <td>2022-05-16 13:50:00</td>\n",
              "      <td>30.0</td>\n",
              "      <td>BCN</td>\n",
              "    </tr>\n",
              "  </tbody>\n",
              "</table>\n",
              "<p>750 rows × 5 columns</p>\n",
              "</div>\n",
              "      <button class=\"colab-df-convert\" onclick=\"convertToInteractive('df-3a3149e6-2031-4c51-9ad5-150498e15144')\"\n",
              "              title=\"Convert this dataframe to an interactive table.\"\n",
              "              style=\"display:none;\">\n",
              "        \n",
              "  <svg xmlns=\"http://www.w3.org/2000/svg\" height=\"24px\"viewBox=\"0 0 24 24\"\n",
              "       width=\"24px\">\n",
              "    <path d=\"M0 0h24v24H0V0z\" fill=\"none\"/>\n",
              "    <path d=\"M18.56 5.44l.94 2.06.94-2.06 2.06-.94-2.06-.94-.94-2.06-.94 2.06-2.06.94zm-11 1L8.5 8.5l.94-2.06 2.06-.94-2.06-.94L8.5 2.5l-.94 2.06-2.06.94zm10 10l.94 2.06.94-2.06 2.06-.94-2.06-.94-.94-2.06-.94 2.06-2.06.94z\"/><path d=\"M17.41 7.96l-1.37-1.37c-.4-.4-.92-.59-1.43-.59-.52 0-1.04.2-1.43.59L10.3 9.45l-7.72 7.72c-.78.78-.78 2.05 0 2.83L4 21.41c.39.39.9.59 1.41.59.51 0 1.02-.2 1.41-.59l7.78-7.78 2.81-2.81c.8-.78.8-2.07 0-2.86zM5.41 20L4 18.59l7.72-7.72 1.47 1.35L5.41 20z\"/>\n",
              "  </svg>\n",
              "      </button>\n",
              "      \n",
              "  <style>\n",
              "    .colab-df-container {\n",
              "      display:flex;\n",
              "      flex-wrap:wrap;\n",
              "      gap: 12px;\n",
              "    }\n",
              "\n",
              "    .colab-df-convert {\n",
              "      background-color: #E8F0FE;\n",
              "      border: none;\n",
              "      border-radius: 50%;\n",
              "      cursor: pointer;\n",
              "      display: none;\n",
              "      fill: #1967D2;\n",
              "      height: 32px;\n",
              "      padding: 0 0 0 0;\n",
              "      width: 32px;\n",
              "    }\n",
              "\n",
              "    .colab-df-convert:hover {\n",
              "      background-color: #E2EBFA;\n",
              "      box-shadow: 0px 1px 2px rgba(60, 64, 67, 0.3), 0px 1px 3px 1px rgba(60, 64, 67, 0.15);\n",
              "      fill: #174EA6;\n",
              "    }\n",
              "\n",
              "    [theme=dark] .colab-df-convert {\n",
              "      background-color: #3B4455;\n",
              "      fill: #D2E3FC;\n",
              "    }\n",
              "\n",
              "    [theme=dark] .colab-df-convert:hover {\n",
              "      background-color: #434B5C;\n",
              "      box-shadow: 0px 1px 3px 1px rgba(0, 0, 0, 0.15);\n",
              "      filter: drop-shadow(0px 1px 2px rgba(0, 0, 0, 0.3));\n",
              "      fill: #FFFFFF;\n",
              "    }\n",
              "  </style>\n",
              "\n",
              "      <script>\n",
              "        const buttonEl =\n",
              "          document.querySelector('#df-3a3149e6-2031-4c51-9ad5-150498e15144 button.colab-df-convert');\n",
              "        buttonEl.style.display =\n",
              "          google.colab.kernel.accessAllowed ? 'block' : 'none';\n",
              "\n",
              "        async function convertToInteractive(key) {\n",
              "          const element = document.querySelector('#df-3a3149e6-2031-4c51-9ad5-150498e15144');\n",
              "          const dataTable =\n",
              "            await google.colab.kernel.invokeFunction('convertToInteractive',\n",
              "                                                     [key], {});\n",
              "          if (!dataTable) return;\n",
              "\n",
              "          const docLinkHtml = 'Like what you see? Visit the ' +\n",
              "            '<a target=\"_blank\" href=https://colab.research.google.com/notebooks/data_table.ipynb>data table notebook</a>'\n",
              "            + ' to learn more about interactive tables.';\n",
              "          element.innerHTML = '';\n",
              "          dataTable['output_type'] = 'display_data';\n",
              "          await google.colab.output.renderOutput(dataTable, element);\n",
              "          const docLink = document.createElement('div');\n",
              "          docLink.innerHTML = docLinkHtml;\n",
              "          element.appendChild(docLink);\n",
              "        }\n",
              "      </script>\n",
              "    </div>\n",
              "  </div>\n",
              "  "
            ]
          },
          "metadata": {},
          "execution_count": 105
        }
      ]
    },
    {
      "cell_type": "markdown",
      "source": [
        "# Estudio LF"
      ],
      "metadata": {
        "id": "A8v8321DkB4C"
      },
      "id": "A8v8321DkB4C"
    },
    {
      "cell_type": "code",
      "source": [
        "df['LF']\n",
        "ax = sns.histplot(data= df3.LF, kde= True)"
      ],
      "metadata": {
        "colab": {
          "base_uri": "https://localhost:8080/",
          "height": 502
        },
        "id": "4Mt31N-nkGLJ",
        "outputId": "35a9d543-c312-4eda-da1f-d449ab67102f"
      },
      "id": "4Mt31N-nkGLJ",
      "execution_count": 107,
      "outputs": [
        {
          "output_type": "display_data",
          "data": {
            "text/plain": [
              "<Figure size 1080x576 with 1 Axes>"
            ],
            "image/png": "[encoded data removed]"
          },
          "metadata": {}
        }
      ]
    },
    {
      "cell_type": "markdown",
      "source": [
        "# Etudio tiempo desde que aterriza hasta que se abre la puerta cargo y PAX"
      ],
      "metadata": {
        "id": "eY3ENSWElDoa"
      },
      "id": "eY3ENSWElDoa"
    },
    {
      "cell_type": "code",
      "source": [
        "df3=df.copy()\n",
        "df3['retardoOperturaPuertaAterrizaje']=(df['Open Cargo/Pax Door']-df['ATA'])  /  np.timedelta64(1, 'm')\n",
        "\n",
        "dfEliminarOutliers= ((df3['retardoOperturaPuertaAterrizaje'] <-150) | (df3['retardoOperturaPuertaAterrizaje'] >600))\n",
        "df3 = df3[dfEliminarOutliers] \n",
        "\n",
        "\n",
        " \n",
        "df3[6:10][['retardoOperturaPuertaAterrizaje','Open Cargo/Pax Door', 'ATA']]"
      ],
      "metadata": {
        "colab": {
          "base_uri": "https://localhost:8080/",
          "height": 174
        },
        "id": "S9pTboT5lN-C",
        "outputId": "fa04a8b7-4b4f-4104-b3e3-5de23b741f3f"
      },
      "id": "S9pTboT5lN-C",
      "execution_count": 123,
      "outputs": [
        {
          "output_type": "execute_result",
          "data": {
            "text/plain": [
              "     retardoOperturaPuertaAterrizaje Open Cargo/Pax Door                 ATA\n",
              "331                           -252.0 2022-01-01 08:58:00 2022-01-01 13:10:00\n",
              "332                           -161.0 2022-01-01 13:10:00 2022-01-01 15:51:00\n",
              "336                            714.0 2022-01-01 22:32:00 2022-01-01 10:38:00\n",
              "337                           -248.0 2022-01-01 10:39:00 2022-01-01 14:47:00"
            ],
            "text/html": [
              "\n",
              "  <div id=\"df-e3ca17e5-f52c-4e7c-b6af-016f204d389a\">\n",
              "    <div class=\"colab-df-container\">\n",
              "      <div>\n",
              "<style scoped>\n",
              "    .dataframe tbody tr th:only-of-type {\n",
              "        vertical-align: middle;\n",
              "    }\n",
              "\n",
              "    .dataframe tbody tr th {\n",
              "        vertical-align: top;\n",
              "    }\n",
              "\n",
              "    .dataframe thead th {\n",
              "        text-align: right;\n",
              "    }\n",
              "</style>\n",
              "<table border=\"1\" class=\"dataframe\">\n",
              "  <thead>\n",
              "    <tr style=\"text-align: right;\">\n",
              "      <th></th>\n",
              "      <th>retardoOperturaPuertaAterrizaje</th>\n",
              "      <th>Open Cargo/Pax Door</th>\n",
              "      <th>ATA</th>\n",
              "    </tr>\n",
              "  </thead>\n",
              "  <tbody>\n",
              "    <tr>\n",
              "      <th>331</th>\n",
              "      <td>-252.0</td>\n",
              "      <td>2022-01-01 08:58:00</td>\n",
              "      <td>2022-01-01 13:10:00</td>\n",
              "    </tr>\n",
              "    <tr>\n",
              "      <th>332</th>\n",
              "      <td>-161.0</td>\n",
              "      <td>2022-01-01 13:10:00</td>\n",
              "      <td>2022-01-01 15:51:00</td>\n",
              "    </tr>\n",
              "    <tr>\n",
              "      <th>336</th>\n",
              "      <td>714.0</td>\n",
              "      <td>2022-01-01 22:32:00</td>\n",
              "      <td>2022-01-01 10:38:00</td>\n",
              "    </tr>\n",
              "    <tr>\n",
              "      <th>337</th>\n",
              "      <td>-248.0</td>\n",
              "      <td>2022-01-01 10:39:00</td>\n",
              "      <td>2022-01-01 14:47:00</td>\n",
              "    </tr>\n",
              "  </tbody>\n",
              "</table>\n",
              "</div>\n",
              "      <button class=\"colab-df-convert\" onclick=\"convertToInteractive('df-e3ca17e5-f52c-4e7c-b6af-016f204d389a')\"\n",
              "              title=\"Convert this dataframe to an interactive table.\"\n",
              "              style=\"display:none;\">\n",
              "        \n",
              "  <svg xmlns=\"http://www.w3.org/2000/svg\" height=\"24px\"viewBox=\"0 0 24 24\"\n",
              "       width=\"24px\">\n",
              "    <path d=\"M0 0h24v24H0V0z\" fill=\"none\"/>\n",
              "    <path d=\"M18.56 5.44l.94 2.06.94-2.06 2.06-.94-2.06-.94-.94-2.06-.94 2.06-2.06.94zm-11 1L8.5 8.5l.94-2.06 2.06-.94-2.06-.94L8.5 2.5l-.94 2.06-2.06.94zm10 10l.94 2.06.94-2.06 2.06-.94-2.06-.94-.94-2.06-.94 2.06-2.06.94z\"/><path d=\"M17.41 7.96l-1.37-1.37c-.4-.4-.92-.59-1.43-.59-.52 0-1.04.2-1.43.59L10.3 9.45l-7.72 7.72c-.78.78-.78 2.05 0 2.83L4 21.41c.39.39.9.59 1.41.59.51 0 1.02-.2 1.41-.59l7.78-7.78 2.81-2.81c.8-.78.8-2.07 0-2.86zM5.41 20L4 18.59l7.72-7.72 1.47 1.35L5.41 20z\"/>\n",
              "  </svg>\n",
              "      </button>\n",
              "      \n",
              "  <style>\n",
              "    .colab-df-container {\n",
              "      display:flex;\n",
              "      flex-wrap:wrap;\n",
              "      gap: 12px;\n",
              "    }\n",
              "\n",
              "    .colab-df-convert {\n",
              "      background-color: #E8F0FE;\n",
              "      border: none;\n",
              "      border-radius: 50%;\n",
              "      cursor: pointer;\n",
              "      display: none;\n",
              "      fill: #1967D2;\n",
              "      height: 32px;\n",
              "      padding: 0 0 0 0;\n",
              "      width: 32px;\n",
              "    }\n",
              "\n",
              "    .colab-df-convert:hover {\n",
              "      background-color: #E2EBFA;\n",
              "      box-shadow: 0px 1px 2px rgba(60, 64, 67, 0.3), 0px 1px 3px 1px rgba(60, 64, 67, 0.15);\n",
              "      fill: #174EA6;\n",
              "    }\n",
              "\n",
              "    [theme=dark] .colab-df-convert {\n",
              "      background-color: #3B4455;\n",
              "      fill: #D2E3FC;\n",
              "    }\n",
              "\n",
              "    [theme=dark] .colab-df-convert:hover {\n",
              "      background-color: #434B5C;\n",
              "      box-shadow: 0px 1px 3px 1px rgba(0, 0, 0, 0.15);\n",
              "      filter: drop-shadow(0px 1px 2px rgba(0, 0, 0, 0.3));\n",
              "      fill: #FFFFFF;\n",
              "    }\n",
              "  </style>\n",
              "\n",
              "      <script>\n",
              "        const buttonEl =\n",
              "          document.querySelector('#df-e3ca17e5-f52c-4e7c-b6af-016f204d389a button.colab-df-convert');\n",
              "        buttonEl.style.display =\n",
              "          google.colab.kernel.accessAllowed ? 'block' : 'none';\n",
              "\n",
              "        async function convertToInteractive(key) {\n",
              "          const element = document.querySelector('#df-e3ca17e5-f52c-4e7c-b6af-016f204d389a');\n",
              "          const dataTable =\n",
              "            await google.colab.kernel.invokeFunction('convertToInteractive',\n",
              "                                                     [key], {});\n",
              "          if (!dataTable) return;\n",
              "\n",
              "          const docLinkHtml = 'Like what you see? Visit the ' +\n",
              "            '<a target=\"_blank\" href=https://colab.research.google.com/notebooks/data_table.ipynb>data table notebook</a>'\n",
              "            + ' to learn more about interactive tables.';\n",
              "          element.innerHTML = '';\n",
              "          dataTable['output_type'] = 'display_data';\n",
              "          await google.colab.output.renderOutput(dataTable, element);\n",
              "          const docLink = document.createElement('div');\n",
              "          docLink.innerHTML = docLinkHtml;\n",
              "          element.appendChild(docLink);\n",
              "        }\n",
              "      </script>\n",
              "    </div>\n",
              "  </div>\n",
              "  "
            ]
          },
          "metadata": {},
          "execution_count": 123
        }
      ]
    },
    {
      "cell_type": "code",
      "source": [
        "ax = sns.histplot(data= df3.retardoOperturaPuertaAterrizaje, kde= True)"
      ],
      "metadata": {
        "colab": {
          "base_uri": "https://localhost:8080/",
          "height": 502
        },
        "id": "Uj-1-LZumA6m",
        "outputId": "b77c3b45-16d4-48a4-883e-62998c93fdd7"
      },
      "id": "Uj-1-LZumA6m",
      "execution_count": 124,
      "outputs": [
        {
          "output_type": "display_data",
          "data": {
            "text/plain": [
              "<Figure size 1080x576 with 1 Axes>"
            ],
            "image/png": "[encoded data removed]"
          },
          "metadata": {}
        }
      ]
    },
    {
      "cell_type": "markdown",
      "source": [
        "# Estudio BLOCK y FLThr"
      ],
      "metadata": {
        "id": "5E1WWzTQs2ln"
      },
      "id": "5E1WWzTQs2ln"
    },
    {
      "cell_type": "code",
      "source": [
        "df3=df.copy()\n",
        "ax = sns.scatterplot( df3['BLOCK'], df3['FLThr'])"
      ],
      "metadata": {
        "id": "i4Dvvc7Rs-Sv",
        "outputId": "9f657a17-b1a4-460e-f7a6-ca8708c3bdd7",
        "colab": {
          "base_uri": "https://localhost:8080/",
          "height": 557
        }
      },
      "id": "i4Dvvc7Rs-Sv",
      "execution_count": 126,
      "outputs": [
        {
          "output_type": "stream",
          "name": "stderr",
          "text": [
            "/usr/local/lib/python3.7/dist-packages/seaborn/_decorators.py:43: FutureWarning: Pass the following variables as keyword args: x, y. From version 0.12, the only valid positional argument will be `data`, and passing other arguments without an explicit keyword will result in an error or misinterpretation.\n",
            "  FutureWarning\n"
          ]
        },
        {
          "output_type": "display_data",
          "data": {
            "text/plain": [
              "<Figure size 1080x576 with 1 Axes>"
            ],
            "image/png": "[encoded data removed]"
          },
          "metadata": {}
        }
      ]
    },
    {
      "cell_type": "code",
      "source": [
        "df3['Dif_Block_FLThr'] = df3['BLOCK']- df3['FLThr']"
      ],
      "metadata": {
        "id": "8R2SwhKXtNtn"
      },
      "id": "8R2SwhKXtNtn",
      "execution_count": 127,
      "outputs": []
    }
  ],
  "metadata": {
    "hide_input": false,
    "kernelspec": {
      "display_name": "Python 3 (ipykernel)",
      "language": "python",
      "name": "python3"
    },
    "language_info": {
      "codemirror_mode": {
        "name": "ipython",
        "version": 3
      },
      "file_extension": ".py",
      "mimetype": "text/x-python",
      "name": "python",
      "nbconvert_exporter": "python",
      "pygments_lexer": "ipython3",
      "version": "3.8.8"
    },
    "toc": {
      "base_numbering": 1,
      "nav_menu": {},
      "number_sections": true,
      "sideBar": true,
      "skip_h1_title": false,
      "title_cell": "Table of Contents",
      "title_sidebar": "Contents",
      "toc_cell": false,
      "toc_position": {},
      "toc_section_display": true,
      "toc_window_display": true
    },
    "varInspector": {
      "cols": {
        "lenName": 16,
        "lenType": 16,
        "lenVar": 40
      },
      "kernels_config": {
        "python": {
          "delete_cmd_postfix": "",
          "delete_cmd_prefix": "del ",
          "library": "var_list.py",
          "varRefreshCmd": "print(var_dic_list())"
        },
        "r": {
          "delete_cmd_postfix": ") ",
          "delete_cmd_prefix": "rm(",
          "library": "var_list.r",
          "varRefreshCmd": "cat(var_dic_list()) "
        }
      },
      "types_to_exclude": [
        "module",
        "function",
        "builtin_function_or_method",
        "instance",
        "_Feature"
      ],
      "window_display": false
    },
    "colab": {
      "name": "Calculo Vueling 2022 con codigos Rev D.ipynb",
      "provenance": [],
      "toc_visible": true,
      "include_colab_link": true
    }
  },
  "nbformat": 4,
  "nbformat_minor": 5
}