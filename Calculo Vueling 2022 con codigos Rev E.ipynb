{
  "cells": [
    {
      "cell_type": "markdown",
      "metadata": {
        "id": "view-in-github",
        "colab_type": "text"
      },
      "source": [
        "<a href=\"https://colab.research.google.com/github/JMML2021/Analisis-Compa-ia-Aerea-Espa-ola/blob/main/Calculo%20Vueling%202022%20con%20codigos%20Rev%20E.ipynb\" target=\"_parent\"><img src=\"https://colab.research.google.com/assets/colab-badge.svg\" alt=\"Open In Colab\"/></a>"
      ]
    },
    {
      "cell_type": "code",
      "execution_count": 403,
      "id": "bd57345b",
      "metadata": {
        "ExecuteTime": {
          "end_time": "2022-06-03T12:55:21.902609Z",
          "start_time": "2022-06-03T12:55:21.896597Z"
        },
        "id": "bd57345b"
      },
      "outputs": [],
      "source": [
        "import numpy as np\n",
        "import matplotlib as plt\n",
        "import pandas as pd\n",
        "import csv\n",
        "import seaborn as sns\n",
        "import datetime\n",
        "from datetime import timedelta\n",
        "from colorama import init, Fore, Back, Style\n"
      ]
    },
    {
      "cell_type": "markdown",
      "id": "969d44c3",
      "metadata": {
        "id": "969d44c3"
      },
      "source": [
        "# Cargar fichero de # Abrimos los ficheros "
      ]
    },
    {
      "cell_type": "code",
      "source": [
        "from google.colab import drive\n",
        "drive.mount('/content/drive')"
      ],
      "metadata": {
        "colab": {
          "base_uri": "https://localhost:8080/"
        },
        "id": "zOdozIiXonfu",
        "outputId": "80c4578e-a658-4387-e074-0958a32c244e"
      },
      "id": "zOdozIiXonfu",
      "execution_count": 404,
      "outputs": [
        {
          "output_type": "stream",
          "name": "stdout",
          "text": [
            "Drive already mounted at /content/drive; to attempt to forcibly remount, call drive.mount(\"/content/drive\", force_remount=True).\n"
          ]
        }
      ]
    },
    {
      "cell_type": "code",
      "source": [
        "path='/content/drive/MyDrive/2022.06.03 2022_delay + cierre puertas CORTO.xlsx'"
      ],
      "metadata": {
        "id": "BgkDA49LpshT"
      },
      "id": "BgkDA49LpshT",
      "execution_count": 405,
      "outputs": []
    },
    {
      "cell_type": "code",
      "source": [
        "#path= 'https://docs.google.com/spreadsheets/d/1cz18E5TXa0reXIBBjEajMk0lFvFqt2zg/edit?usp=sharing&ouid=111549489068693827872&rtpof=true&sd=true'"
      ],
      "metadata": {
        "id": "Ddr5UGBYook-"
      },
      "id": "Ddr5UGBYook-",
      "execution_count": 406,
      "outputs": []
    },
    {
      "cell_type": "code",
      "source": [
        "# Abrir fichero de Github.\n",
        "path='/content/drive/MyDrive/2022.06.03 2022_delay + cierre puertas CORTO.xlsx'\n",
        "Hoja = 'FLT_2022'\n",
        "\n",
        "df = pd.read_excel(path, sheet_name=Hoja)\n"
      ],
      "metadata": {
        "id": "CUatzBHvUZeM"
      },
      "id": "CUatzBHvUZeM",
      "execution_count": 407,
      "outputs": []
    },
    {
      "cell_type": "code",
      "source": [
        "# Los nombre de las columnas tienen muchos espacios en blanco\n",
        "\n",
        "nombreColumnas= df.columns\n",
        "nombreColumnas"
      ],
      "metadata": {
        "colab": {
          "base_uri": "https://localhost:8080/"
        },
        "id": "JHV2c6ltr7Tx",
        "outputId": "d9d83816-d270-44a9-ad14-2d51444e334d"
      },
      "id": "JHV2c6ltr7Tx",
      "execution_count": 408,
      "outputs": [
        {
          "output_type": "execute_result",
          "data": {
            "text/plain": [
              "Index(['DATE                             ', 'FLT    ', 'REG   ', 'AC ', 'DEP',\n",
              "       'ARR', 'STD  ', 'STA  ', 'TKof ',\n",
              "       'TDwn                                                      ', 'ATD  ',\n",
              "       'ATA  ', 'BLOCK', 'FLThr', 'DStand', 'AStand', 'ACT PAX  ', 'LF ',\n",
              "       'Taxi-out', 'Taxi-In', 'SLOT       ', 'C1', 'DLY1 ', 'Sub1', 'C2',\n",
              "       'DLY2 ', 'Sub2', 'C3', 'DLY3 ', 'Sub3', 'C4', 'DLY4 ', 'Sub4', 'C1Arr',\n",
              "       'DLY1Arr', 'Close Pax Door', 'Close Cargo Door', 'Open Cargo/Pax Door',\n",
              "       'close pax door2', 'close cargo door2', 'open cargo/pax door2'],\n",
              "      dtype='object')"
            ]
          },
          "metadata": {},
          "execution_count": 408
        }
      ]
    },
    {
      "cell_type": "code",
      "source": [
        "# Aqui corrijo los nombre de las columnas\n",
        "nombreColumnaCorregido= ['DATE', 'FLT', 'REG', 'AC', 'DEP',\n",
        "       'ARR', 'STD', 'STA', 'TKof', 'TDwn', 'ATD',\n",
        "       'ATA', 'BLOCK', 'FLThr', 'DStand', 'AStand', 'ACT PAX', 'LF',\n",
        "       'Taxi-out', 'Taxi-In', 'SLOT', 'C1', 'DLY1', 'Sub1', 'C2',\n",
        "       'DLY2', 'Sub2', 'C3', 'DLY3', 'Sub3', 'C4', 'DLY4', 'Sub4', 'C1Arr',\n",
        "       'DLY1Arr', 'Close Pax Door', 'Close Cargo Door', 'Open Cargo/Pax Door',\n",
        "       'close pax door2', 'close cargo door2', 'open cargo/pax door2']"
      ],
      "metadata": {
        "id": "tN_LZY5ptL1c"
      },
      "id": "tN_LZY5ptL1c",
      "execution_count": 409,
      "outputs": []
    },
    {
      "cell_type": "code",
      "source": [
        "df['Close Pax Door']"
      ],
      "metadata": {
        "colab": {
          "base_uri": "https://localhost:8080/"
        },
        "id": "Hctq0DOGxKA_",
        "outputId": "b97210d4-32b5-4739-ee3e-67909516d9b5"
      },
      "id": "Hctq0DOGxKA_",
      "execution_count": 410,
      "outputs": [
        {
          "output_type": "execute_result",
          "data": {
            "text/plain": [
              "0      2022-01-01 07:58:00.000\n",
              "1      2022-01-01 09:48:00.000\n",
              "2      2022-01-01 11:38:00.000\n",
              "3      2022-01-01 13:18:00.000\n",
              "4      2022-01-01 15:07:00.000\n",
              "                ...           \n",
              "217    2022-01-01 11:40:00.000\n",
              "218    2022-01-01 14:47:00.000\n",
              "219    2022-01-01 18:03:00.000\n",
              "220    2022-01-01 20:42:00.000\n",
              "221    2022-01-01 10:48:00.000\n",
              "Name: Close Pax Door, Length: 222, dtype: object"
            ]
          },
          "metadata": {},
          "execution_count": 410
        }
      ]
    },
    {
      "cell_type": "code",
      "source": [
        "# Proceso para cambiar el nombre de las columnas por un bucle FOR\n",
        "for n, m in enumerate(nombreColumnas):\n",
        "  print(n, m,'*',nombreColumnaCorregido[n],'-')\n",
        "  df.rename({m: nombreColumnaCorregido[n]}, axis=1, inplace=True)"
      ],
      "metadata": {
        "colab": {
          "base_uri": "https://localhost:8080/"
        },
        "id": "QhpCcTPGsg4x",
        "outputId": "083bcc91-fdd5-4848-9944-18c41d7ff2b3"
      },
      "id": "QhpCcTPGsg4x",
      "execution_count": 411,
      "outputs": [
        {
          "output_type": "stream",
          "name": "stdout",
          "text": [
            "0 DATE                              * DATE -\n",
            "1 FLT     * FLT -\n",
            "2 REG    * REG -\n",
            "3 AC  * AC -\n",
            "4 DEP * DEP -\n",
            "5 ARR * ARR -\n",
            "6 STD   * STD -\n",
            "7 STA   * STA -\n",
            "8 TKof  * TKof -\n",
            "9 TDwn                                                       * TDwn -\n",
            "10 ATD   * ATD -\n",
            "11 ATA   * ATA -\n",
            "12 BLOCK * BLOCK -\n",
            "13 FLThr * FLThr -\n",
            "14 DStand * DStand -\n",
            "15 AStand * AStand -\n",
            "16 ACT PAX   * ACT PAX -\n",
            "17 LF  * LF -\n",
            "18 Taxi-out * Taxi-out -\n",
            "19 Taxi-In * Taxi-In -\n",
            "20 SLOT        * SLOT -\n",
            "21 C1 * C1 -\n",
            "22 DLY1  * DLY1 -\n",
            "23 Sub1 * Sub1 -\n",
            "24 C2 * C2 -\n",
            "25 DLY2  * DLY2 -\n",
            "26 Sub2 * Sub2 -\n",
            "27 C3 * C3 -\n",
            "28 DLY3  * DLY3 -\n",
            "29 Sub3 * Sub3 -\n",
            "30 C4 * C4 -\n",
            "31 DLY4  * DLY4 -\n",
            "32 Sub4 * Sub4 -\n",
            "33 C1Arr * C1Arr -\n",
            "34 DLY1Arr * DLY1Arr -\n",
            "35 Close Pax Door * Close Pax Door -\n",
            "36 Close Cargo Door * Close Cargo Door -\n",
            "37 Open Cargo/Pax Door * Open Cargo/Pax Door -\n",
            "38 close pax door2 * close pax door2 -\n",
            "39 close cargo door2 * close cargo door2 -\n",
            "40 open cargo/pax door2 * open cargo/pax door2 -\n"
          ]
        }
      ]
    },
    {
      "cell_type": "code",
      "execution_count": 412,
      "id": "f94d940b",
      "metadata": {
        "ExecuteTime": {
          "end_time": "2022-06-03T12:55:22.041613Z",
          "start_time": "2022-06-03T12:55:22.041613Z"
        },
        "colab": {
          "base_uri": "https://localhost:8080/"
        },
        "id": "f94d940b",
        "outputId": "14e47d96-0695-43c5-e1d8-02e60a032357"
      },
      "outputs": [
        {
          "output_type": "stream",
          "name": "stdout",
          "text": [
            "   Secuencia       STD  DEP\n",
            "0        1.0  07:40:00  BIO\n",
            "1        2.0  09:40:00  SVQ\n",
            "2        3.0  11:40:00  BIO\n",
            "3        4.0  13:30:00  SCQ\n"
          ]
        }
      ],
      "source": [
        "df['Secuencia'] = df.groupby(['DATE', 'REG'])['STD'].rank()\n",
        "print(df[['Secuencia','STD', 'DEP']][0:4])"
      ]
    },
    {
      "cell_type": "code",
      "execution_count": 413,
      "id": "f8e5216e",
      "metadata": {
        "ExecuteTime": {
          "end_time": "2022-06-03T12:55:22.050590Z",
          "start_time": "2022-06-03T12:55:22.050590Z"
        },
        "id": "f8e5216e"
      },
      "outputs": [],
      "source": [
        "# Identifico los Aeropuertos principales.\n",
        "\n",
        "path =(r\"/content/drive/MyDrive/Flights Movement 2019-2022 MAR.xlsx\")\n",
        " \n",
        "df_Aeropuertos = pd.read_excel(path, sheet_name='Aeropuertos')\n",
        "df_Aeropuertos = df_Aeropuertos.drop(['Borrar'], axis=1)\n",
        "\n",
        "#df_Aeropuertos.head"
      ]
    },
    {
      "cell_type": "code",
      "execution_count": 414,
      "id": "aa58a93f",
      "metadata": {
        "ExecuteTime": {
          "end_time": "2022-06-03T12:55:22.052584Z",
          "start_time": "2022-06-03T12:55:22.052584Z"
        },
        "colab": {
          "base_uri": "https://localhost:8080/",
          "height": 424
        },
        "id": "aa58a93f",
        "outputId": "51608505-4060-40a1-a276-48e11640e0d9"
      },
      "outputs": [
        {
          "output_type": "execute_result",
          "data": {
            "text/plain": [
              "          DATE   FLT     REG   AC  DEP  ARR       STD       STA      TKof  \\\n",
              "0   2022-01-01  2506  EC-JSY  320  BIO  SVQ  07:40:00  09:05:00  08:10:00   \n",
              "1   2022-01-01  2505  EC-JSY  320  SVQ  BIO  09:40:00  11:05:00  10:03:00   \n",
              "2   2022-01-01  1386  EC-JSY  320  BIO  SCQ  11:40:00  12:50:00  11:50:00   \n",
              "3   2022-01-01  1387  EC-JSY  320  SCQ  BIO  13:30:00  14:35:00  13:30:00   \n",
              "4   2022-01-01  3262  EC-JSY  320  BIO  TFN  15:15:00  18:20:00  15:23:00   \n",
              "..         ...   ...     ...  ...  ...  ...       ...       ...       ...   \n",
              "217 2022-01-01  1898  EC-MKO  32A  BCN  DUS  11:45:00  14:00:00  11:55:00   \n",
              "218 2022-01-01  1899  EC-MKO  32A  DUS  BCN  14:40:00  16:50:00  15:02:00   \n",
              "219 2022-01-01  8462  EC-MKO  32A  BCN  LIS  17:55:00  19:55:00  18:39:00   \n",
              "220 2022-01-01  8463  EC-MKO  32A  LIS  BCN  20:40:00  22:35:00  20:58:00   \n",
              "221 2022-01-01  6142  EC-MKV  319  BCN  OLB  11:00:00  12:20:00  11:07:00   \n",
              "\n",
              "         TDwn  ...  Sub4  C1Arr   DLY1Arr           Close Pax Door  \\\n",
              "0    09:17:00  ...            8  00:15:00  2022-01-01 07:58:00.000   \n",
              "1    11:07:00  ...            8  00:04:00  2022-01-01 09:48:00.000   \n",
              "2    12:40:00  ...                    NaN  2022-01-01 11:38:00.000   \n",
              "3    14:08:00  ...                    NaN  2022-01-01 13:18:00.000   \n",
              "4    18:07:00  ...                    NaN  2022-01-01 15:07:00.000   \n",
              "..        ...  ...   ...    ...       ...                      ...   \n",
              "217  13:45:00  ...                    NaN  2022-01-01 11:40:00.000   \n",
              "218  16:50:00  ...            8  00:04:00  2022-01-01 14:47:00.000   \n",
              "219  20:15:00  ...            8  00:24:00  2022-01-01 18:03:00.000   \n",
              "220  22:25:00  ...            8  00:03:00  2022-01-01 20:42:00.000   \n",
              "221  12:10:00  ...                    NaN  2022-01-01 10:48:00.000   \n",
              "\n",
              "            Close Cargo Door      Open Cargo/Pax Door  close pax door2  \\\n",
              "0    2022-01-01 07:31:00.000  2022-01-01 09:23:00.000            07:58   \n",
              "1    2022-01-01 09:46:00.000  2022-01-01 11:11:00.000            09:48   \n",
              "2    2022-01-01 11:34:00.000  2022-01-01 12:46:00.000            11:38   \n",
              "3    2022-01-01 13:06:00.000  2022-01-01 14:12:00.000            13:18   \n",
              "4    2022-01-01 15:01:00.000  2022-01-01 18:14:00.000            15:07   \n",
              "..                       ...                      ...              ...   \n",
              "217  2022-01-01 11:41:00.000  2022-01-01 13:51:00.000            11:40   \n",
              "218  2022-01-01 14:40:00.000  2022-01-01 16:56:00.000            14:47   \n",
              "219  2022-01-01 18:01:00.000  2022-01-01 20:20:00.000            18:03   \n",
              "220  2022-01-01 20:41:00.000  2022-01-01 22:38:00.000            20:42   \n",
              "221  2022-01-01 10:50:00.000  2022-01-01 12:15:00.000            10:48   \n",
              "\n",
              "     close cargo door2 open cargo/pax door2 Secuencia  \n",
              "0                07:31                09:23       1.0  \n",
              "1                09:46                11:11       2.0  \n",
              "2                11:34                12:46       3.0  \n",
              "3                13:06                14:12       4.0  \n",
              "4                15:01                18:14       5.0  \n",
              "..                 ...                  ...       ...  \n",
              "217              11:41                13:51       1.0  \n",
              "218              14:40                16:56       2.0  \n",
              "219              18:01                20:20       3.0  \n",
              "220              20:41                22:38       4.0  \n",
              "221              10:50                12:15       1.0  \n",
              "\n",
              "[222 rows x 42 columns]"
            ],
            "text/html": [
              "\n",
              "  <div id=\"df-2e7b5d03-28b6-41cb-b478-293cd2ae83fd\">\n",
              "    <div class=\"colab-df-container\">\n",
              "      <div>\n",
              "<style scoped>\n",
              "    .dataframe tbody tr th:only-of-type {\n",
              "        vertical-align: middle;\n",
              "    }\n",
              "\n",
              "    .dataframe tbody tr th {\n",
              "        vertical-align: top;\n",
              "    }\n",
              "\n",
              "    .dataframe thead th {\n",
              "        text-align: right;\n",
              "    }\n",
              "</style>\n",
              "<table border=\"1\" class=\"dataframe\">\n",
              "  <thead>\n",
              "    <tr style=\"text-align: right;\">\n",
              "      <th></th>\n",
              "      <th>DATE</th>\n",
              "      <th>FLT</th>\n",
              "      <th>REG</th>\n",
              "      <th>AC</th>\n",
              "      <th>DEP</th>\n",
              "      <th>ARR</th>\n",
              "      <th>STD</th>\n",
              "      <th>STA</th>\n",
              "      <th>TKof</th>\n",
              "      <th>TDwn</th>\n",
              "      <th>...</th>\n",
              "      <th>Sub4</th>\n",
              "      <th>C1Arr</th>\n",
              "      <th>DLY1Arr</th>\n",
              "      <th>Close Pax Door</th>\n",
              "      <th>Close Cargo Door</th>\n",
              "      <th>Open Cargo/Pax Door</th>\n",
              "      <th>close pax door2</th>\n",
              "      <th>close cargo door2</th>\n",
              "      <th>open cargo/pax door2</th>\n",
              "      <th>Secuencia</th>\n",
              "    </tr>\n",
              "  </thead>\n",
              "  <tbody>\n",
              "    <tr>\n",
              "      <th>0</th>\n",
              "      <td>2022-01-01</td>\n",
              "      <td>2506</td>\n",
              "      <td>EC-JSY</td>\n",
              "      <td>320</td>\n",
              "      <td>BIO</td>\n",
              "      <td>SVQ</td>\n",
              "      <td>07:40:00</td>\n",
              "      <td>09:05:00</td>\n",
              "      <td>08:10:00</td>\n",
              "      <td>09:17:00</td>\n",
              "      <td>...</td>\n",
              "      <td></td>\n",
              "      <td>8</td>\n",
              "      <td>00:15:00</td>\n",
              "      <td>2022-01-01 07:58:00.000</td>\n",
              "      <td>2022-01-01 07:31:00.000</td>\n",
              "      <td>2022-01-01 09:23:00.000</td>\n",
              "      <td>07:58</td>\n",
              "      <td>07:31</td>\n",
              "      <td>09:23</td>\n",
              "      <td>1.0</td>\n",
              "    </tr>\n",
              "    <tr>\n",
              "      <th>1</th>\n",
              "      <td>2022-01-01</td>\n",
              "      <td>2505</td>\n",
              "      <td>EC-JSY</td>\n",
              "      <td>320</td>\n",
              "      <td>SVQ</td>\n",
              "      <td>BIO</td>\n",
              "      <td>09:40:00</td>\n",
              "      <td>11:05:00</td>\n",
              "      <td>10:03:00</td>\n",
              "      <td>11:07:00</td>\n",
              "      <td>...</td>\n",
              "      <td></td>\n",
              "      <td>8</td>\n",
              "      <td>00:04:00</td>\n",
              "      <td>2022-01-01 09:48:00.000</td>\n",
              "      <td>2022-01-01 09:46:00.000</td>\n",
              "      <td>2022-01-01 11:11:00.000</td>\n",
              "      <td>09:48</td>\n",
              "      <td>09:46</td>\n",
              "      <td>11:11</td>\n",
              "      <td>2.0</td>\n",
              "    </tr>\n",
              "    <tr>\n",
              "      <th>2</th>\n",
              "      <td>2022-01-01</td>\n",
              "      <td>1386</td>\n",
              "      <td>EC-JSY</td>\n",
              "      <td>320</td>\n",
              "      <td>BIO</td>\n",
              "      <td>SCQ</td>\n",
              "      <td>11:40:00</td>\n",
              "      <td>12:50:00</td>\n",
              "      <td>11:50:00</td>\n",
              "      <td>12:40:00</td>\n",
              "      <td>...</td>\n",
              "      <td></td>\n",
              "      <td></td>\n",
              "      <td>NaN</td>\n",
              "      <td>2022-01-01 11:38:00.000</td>\n",
              "      <td>2022-01-01 11:34:00.000</td>\n",
              "      <td>2022-01-01 12:46:00.000</td>\n",
              "      <td>11:38</td>\n",
              "      <td>11:34</td>\n",
              "      <td>12:46</td>\n",
              "      <td>3.0</td>\n",
              "    </tr>\n",
              "    <tr>\n",
              "      <th>3</th>\n",
              "      <td>2022-01-01</td>\n",
              "      <td>1387</td>\n",
              "      <td>EC-JSY</td>\n",
              "      <td>320</td>\n",
              "      <td>SCQ</td>\n",
              "      <td>BIO</td>\n",
              "      <td>13:30:00</td>\n",
              "      <td>14:35:00</td>\n",
              "      <td>13:30:00</td>\n",
              "      <td>14:08:00</td>\n",
              "      <td>...</td>\n",
              "      <td></td>\n",
              "      <td></td>\n",
              "      <td>NaN</td>\n",
              "      <td>2022-01-01 13:18:00.000</td>\n",
              "      <td>2022-01-01 13:06:00.000</td>\n",
              "      <td>2022-01-01 14:12:00.000</td>\n",
              "      <td>13:18</td>\n",
              "      <td>13:06</td>\n",
              "      <td>14:12</td>\n",
              "      <td>4.0</td>\n",
              "    </tr>\n",
              "    <tr>\n",
              "      <th>4</th>\n",
              "      <td>2022-01-01</td>\n",
              "      <td>3262</td>\n",
              "      <td>EC-JSY</td>\n",
              "      <td>320</td>\n",
              "      <td>BIO</td>\n",
              "      <td>TFN</td>\n",
              "      <td>15:15:00</td>\n",
              "      <td>18:20:00</td>\n",
              "      <td>15:23:00</td>\n",
              "      <td>18:07:00</td>\n",
              "      <td>...</td>\n",
              "      <td></td>\n",
              "      <td></td>\n",
              "      <td>NaN</td>\n",
              "      <td>2022-01-01 15:07:00.000</td>\n",
              "      <td>2022-01-01 15:01:00.000</td>\n",
              "      <td>2022-01-01 18:14:00.000</td>\n",
              "      <td>15:07</td>\n",
              "      <td>15:01</td>\n",
              "      <td>18:14</td>\n",
              "      <td>5.0</td>\n",
              "    </tr>\n",
              "    <tr>\n",
              "      <th>...</th>\n",
              "      <td>...</td>\n",
              "      <td>...</td>\n",
              "      <td>...</td>\n",
              "      <td>...</td>\n",
              "      <td>...</td>\n",
              "      <td>...</td>\n",
              "      <td>...</td>\n",
              "      <td>...</td>\n",
              "      <td>...</td>\n",
              "      <td>...</td>\n",
              "      <td>...</td>\n",
              "      <td>...</td>\n",
              "      <td>...</td>\n",
              "      <td>...</td>\n",
              "      <td>...</td>\n",
              "      <td>...</td>\n",
              "      <td>...</td>\n",
              "      <td>...</td>\n",
              "      <td>...</td>\n",
              "      <td>...</td>\n",
              "      <td>...</td>\n",
              "    </tr>\n",
              "    <tr>\n",
              "      <th>217</th>\n",
              "      <td>2022-01-01</td>\n",
              "      <td>1898</td>\n",
              "      <td>EC-MKO</td>\n",
              "      <td>32A</td>\n",
              "      <td>BCN</td>\n",
              "      <td>DUS</td>\n",
              "      <td>11:45:00</td>\n",
              "      <td>14:00:00</td>\n",
              "      <td>11:55:00</td>\n",
              "      <td>13:45:00</td>\n",
              "      <td>...</td>\n",
              "      <td></td>\n",
              "      <td></td>\n",
              "      <td>NaN</td>\n",
              "      <td>2022-01-01 11:40:00.000</td>\n",
              "      <td>2022-01-01 11:41:00.000</td>\n",
              "      <td>2022-01-01 13:51:00.000</td>\n",
              "      <td>11:40</td>\n",
              "      <td>11:41</td>\n",
              "      <td>13:51</td>\n",
              "      <td>1.0</td>\n",
              "    </tr>\n",
              "    <tr>\n",
              "      <th>218</th>\n",
              "      <td>2022-01-01</td>\n",
              "      <td>1899</td>\n",
              "      <td>EC-MKO</td>\n",
              "      <td>32A</td>\n",
              "      <td>DUS</td>\n",
              "      <td>BCN</td>\n",
              "      <td>14:40:00</td>\n",
              "      <td>16:50:00</td>\n",
              "      <td>15:02:00</td>\n",
              "      <td>16:50:00</td>\n",
              "      <td>...</td>\n",
              "      <td></td>\n",
              "      <td>8</td>\n",
              "      <td>00:04:00</td>\n",
              "      <td>2022-01-01 14:47:00.000</td>\n",
              "      <td>2022-01-01 14:40:00.000</td>\n",
              "      <td>2022-01-01 16:56:00.000</td>\n",
              "      <td>14:47</td>\n",
              "      <td>14:40</td>\n",
              "      <td>16:56</td>\n",
              "      <td>2.0</td>\n",
              "    </tr>\n",
              "    <tr>\n",
              "      <th>219</th>\n",
              "      <td>2022-01-01</td>\n",
              "      <td>8462</td>\n",
              "      <td>EC-MKO</td>\n",
              "      <td>32A</td>\n",
              "      <td>BCN</td>\n",
              "      <td>LIS</td>\n",
              "      <td>17:55:00</td>\n",
              "      <td>19:55:00</td>\n",
              "      <td>18:39:00</td>\n",
              "      <td>20:15:00</td>\n",
              "      <td>...</td>\n",
              "      <td></td>\n",
              "      <td>8</td>\n",
              "      <td>00:24:00</td>\n",
              "      <td>2022-01-01 18:03:00.000</td>\n",
              "      <td>2022-01-01 18:01:00.000</td>\n",
              "      <td>2022-01-01 20:20:00.000</td>\n",
              "      <td>18:03</td>\n",
              "      <td>18:01</td>\n",
              "      <td>20:20</td>\n",
              "      <td>3.0</td>\n",
              "    </tr>\n",
              "    <tr>\n",
              "      <th>220</th>\n",
              "      <td>2022-01-01</td>\n",
              "      <td>8463</td>\n",
              "      <td>EC-MKO</td>\n",
              "      <td>32A</td>\n",
              "      <td>LIS</td>\n",
              "      <td>BCN</td>\n",
              "      <td>20:40:00</td>\n",
              "      <td>22:35:00</td>\n",
              "      <td>20:58:00</td>\n",
              "      <td>22:25:00</td>\n",
              "      <td>...</td>\n",
              "      <td></td>\n",
              "      <td>8</td>\n",
              "      <td>00:03:00</td>\n",
              "      <td>2022-01-01 20:42:00.000</td>\n",
              "      <td>2022-01-01 20:41:00.000</td>\n",
              "      <td>2022-01-01 22:38:00.000</td>\n",
              "      <td>20:42</td>\n",
              "      <td>20:41</td>\n",
              "      <td>22:38</td>\n",
              "      <td>4.0</td>\n",
              "    </tr>\n",
              "    <tr>\n",
              "      <th>221</th>\n",
              "      <td>2022-01-01</td>\n",
              "      <td>6142</td>\n",
              "      <td>EC-MKV</td>\n",
              "      <td>319</td>\n",
              "      <td>BCN</td>\n",
              "      <td>OLB</td>\n",
              "      <td>11:00:00</td>\n",
              "      <td>12:20:00</td>\n",
              "      <td>11:07:00</td>\n",
              "      <td>12:10:00</td>\n",
              "      <td>...</td>\n",
              "      <td></td>\n",
              "      <td></td>\n",
              "      <td>NaN</td>\n",
              "      <td>2022-01-01 10:48:00.000</td>\n",
              "      <td>2022-01-01 10:50:00.000</td>\n",
              "      <td>2022-01-01 12:15:00.000</td>\n",
              "      <td>10:48</td>\n",
              "      <td>10:50</td>\n",
              "      <td>12:15</td>\n",
              "      <td>1.0</td>\n",
              "    </tr>\n",
              "  </tbody>\n",
              "</table>\n",
              "<p>222 rows × 42 columns</p>\n",
              "</div>\n",
              "      <button class=\"colab-df-convert\" onclick=\"convertToInteractive('df-2e7b5d03-28b6-41cb-b478-293cd2ae83fd')\"\n",
              "              title=\"Convert this dataframe to an interactive table.\"\n",
              "              style=\"display:none;\">\n",
              "        \n",
              "  <svg xmlns=\"http://www.w3.org/2000/svg\" height=\"24px\"viewBox=\"0 0 24 24\"\n",
              "       width=\"24px\">\n",
              "    <path d=\"M0 0h24v24H0V0z\" fill=\"none\"/>\n",
              "    <path d=\"M18.56 5.44l.94 2.06.94-2.06 2.06-.94-2.06-.94-.94-2.06-.94 2.06-2.06.94zm-11 1L8.5 8.5l.94-2.06 2.06-.94-2.06-.94L8.5 2.5l-.94 2.06-2.06.94zm10 10l.94 2.06.94-2.06 2.06-.94-2.06-.94-.94-2.06-.94 2.06-2.06.94z\"/><path d=\"M17.41 7.96l-1.37-1.37c-.4-.4-.92-.59-1.43-.59-.52 0-1.04.2-1.43.59L10.3 9.45l-7.72 7.72c-.78.78-.78 2.05 0 2.83L4 21.41c.39.39.9.59 1.41.59.51 0 1.02-.2 1.41-.59l7.78-7.78 2.81-2.81c.8-.78.8-2.07 0-2.86zM5.41 20L4 18.59l7.72-7.72 1.47 1.35L5.41 20z\"/>\n",
              "  </svg>\n",
              "      </button>\n",
              "      \n",
              "  <style>\n",
              "    .colab-df-container {\n",
              "      display:flex;\n",
              "      flex-wrap:wrap;\n",
              "      gap: 12px;\n",
              "    }\n",
              "\n",
              "    .colab-df-convert {\n",
              "      background-color: #E8F0FE;\n",
              "      border: none;\n",
              "      border-radius: 50%;\n",
              "      cursor: pointer;\n",
              "      display: none;\n",
              "      fill: #1967D2;\n",
              "      height: 32px;\n",
              "      padding: 0 0 0 0;\n",
              "      width: 32px;\n",
              "    }\n",
              "\n",
              "    .colab-df-convert:hover {\n",
              "      background-color: #E2EBFA;\n",
              "      box-shadow: 0px 1px 2px rgba(60, 64, 67, 0.3), 0px 1px 3px 1px rgba(60, 64, 67, 0.15);\n",
              "      fill: #174EA6;\n",
              "    }\n",
              "\n",
              "    [theme=dark] .colab-df-convert {\n",
              "      background-color: #3B4455;\n",
              "      fill: #D2E3FC;\n",
              "    }\n",
              "\n",
              "    [theme=dark] .colab-df-convert:hover {\n",
              "      background-color: #434B5C;\n",
              "      box-shadow: 0px 1px 3px 1px rgba(0, 0, 0, 0.15);\n",
              "      filter: drop-shadow(0px 1px 2px rgba(0, 0, 0, 0.3));\n",
              "      fill: #FFFFFF;\n",
              "    }\n",
              "  </style>\n",
              "\n",
              "      <script>\n",
              "        const buttonEl =\n",
              "          document.querySelector('#df-2e7b5d03-28b6-41cb-b478-293cd2ae83fd button.colab-df-convert');\n",
              "        buttonEl.style.display =\n",
              "          google.colab.kernel.accessAllowed ? 'block' : 'none';\n",
              "\n",
              "        async function convertToInteractive(key) {\n",
              "          const element = document.querySelector('#df-2e7b5d03-28b6-41cb-b478-293cd2ae83fd');\n",
              "          const dataTable =\n",
              "            await google.colab.kernel.invokeFunction('convertToInteractive',\n",
              "                                                     [key], {});\n",
              "          if (!dataTable) return;\n",
              "\n",
              "          const docLinkHtml = 'Like what you see? Visit the ' +\n",
              "            '<a target=\"_blank\" href=https://colab.research.google.com/notebooks/data_table.ipynb>data table notebook</a>'\n",
              "            + ' to learn more about interactive tables.';\n",
              "          element.innerHTML = '';\n",
              "          dataTable['output_type'] = 'display_data';\n",
              "          await google.colab.output.renderOutput(dataTable, element);\n",
              "          const docLink = document.createElement('div');\n",
              "          docLink.innerHTML = docLinkHtml;\n",
              "          element.appendChild(docLink);\n",
              "        }\n",
              "      </script>\n",
              "    </div>\n",
              "  </div>\n",
              "  "
            ]
          },
          "metadata": {},
          "execution_count": 414
        }
      ],
      "source": [
        "df"
      ]
    },
    {
      "cell_type": "code",
      "source": [
        "df.columns"
      ],
      "metadata": {
        "colab": {
          "base_uri": "https://localhost:8080/"
        },
        "id": "1WT8wkNCvFNB",
        "outputId": "34f2a495-2031-46e6-9176-fb8c48eb6551"
      },
      "id": "1WT8wkNCvFNB",
      "execution_count": 415,
      "outputs": [
        {
          "output_type": "execute_result",
          "data": {
            "text/plain": [
              "Index(['DATE', 'FLT', 'REG', 'AC', 'DEP', 'ARR', 'STD', 'STA', 'TKof', 'TDwn',\n",
              "       'ATD', 'ATA', 'BLOCK', 'FLThr', 'DStand', 'AStand', 'ACT PAX', 'LF',\n",
              "       'Taxi-out', 'Taxi-In', 'SLOT', 'C1', 'DLY1', 'Sub1', 'C2', 'DLY2',\n",
              "       'Sub2', 'C3', 'DLY3', 'Sub3', 'C4', 'DLY4', 'Sub4', 'C1Arr', 'DLY1Arr',\n",
              "       'Close Pax Door', 'Close Cargo Door', 'Open Cargo/Pax Door',\n",
              "       'close pax door2', 'close cargo door2', 'open cargo/pax door2',\n",
              "       'Secuencia'],\n",
              "      dtype='object')"
            ]
          },
          "metadata": {},
          "execution_count": 415
        }
      ]
    },
    {
      "cell_type": "code",
      "execution_count": 416,
      "id": "dd04b249",
      "metadata": {
        "ExecuteTime": {
          "end_time": "2022-06-03T12:55:22.053582Z",
          "start_time": "2022-06-03T12:55:22.053582Z"
        },
        "colab": {
          "base_uri": "https://localhost:8080/",
          "height": 384
        },
        "id": "dd04b249",
        "outputId": "a7fcf702-59ea-40c0-9f83-e9a8a2fd3e24"
      },
      "outputs": [
        {
          "output_type": "execute_result",
          "data": {
            "text/plain": [
              "        DATE   FLT     REG   AC  DEP  ARR                 STD  \\\n",
              "0 2022-01-01  2506  EC-JSY  320  BIO  SVQ 1900-01-01 07:40:00   \n",
              "1 2022-01-01  2505  EC-JSY  320  SVQ  BIO 1900-01-01 09:40:00   \n",
              "2 2022-01-01  1386  EC-JSY  320  BIO  SCQ 1900-01-01 11:40:00   \n",
              "3 2022-01-01  1387  EC-JSY  320  SCQ  BIO 1900-01-01 13:30:00   \n",
              "4 2022-01-01  3262  EC-JSY  320  BIO  TFN 1900-01-01 15:15:00   \n",
              "\n",
              "                  STA                TKof                TDwn  ...  Sub4  \\\n",
              "0 1900-01-01 09:05:00 1900-01-01 08:10:00 1900-01-01 09:17:00  ...         \n",
              "1 1900-01-01 11:05:00 1900-01-01 10:03:00 1900-01-01 11:07:00  ...         \n",
              "2 1900-01-01 12:50:00 1900-01-01 11:50:00 1900-01-01 12:40:00  ...         \n",
              "3 1900-01-01 14:35:00 1900-01-01 13:30:00 1900-01-01 14:08:00  ...         \n",
              "4 1900-01-01 18:20:00 1900-01-01 15:23:00 1900-01-01 18:07:00  ...         \n",
              "\n",
              "   C1Arr             DLY1Arr           Close Pax Door  \\\n",
              "0      8 1900-01-01 00:15:00  2022-01-01 07:58:00.000   \n",
              "1      8 1900-01-01 00:04:00  2022-01-01 09:48:00.000   \n",
              "2                        NaT  2022-01-01 11:38:00.000   \n",
              "3                        NaT  2022-01-01 13:18:00.000   \n",
              "4                        NaT  2022-01-01 15:07:00.000   \n",
              "\n",
              "          Close Cargo Door      Open Cargo/Pax Door  close pax door2  \\\n",
              "0  2022-01-01 07:31:00.000  2022-01-01 09:23:00.000              NaT   \n",
              "1  2022-01-01 09:46:00.000  2022-01-01 11:11:00.000              NaT   \n",
              "2  2022-01-01 11:34:00.000  2022-01-01 12:46:00.000              NaT   \n",
              "3  2022-01-01 13:06:00.000  2022-01-01 14:12:00.000              NaT   \n",
              "4  2022-01-01 15:01:00.000  2022-01-01 18:14:00.000              NaT   \n",
              "\n",
              "   close cargo door2 open cargo/pax door2 Secuencia  \n",
              "0                NaT                  NaT       1.0  \n",
              "1                NaT                  NaT       2.0  \n",
              "2                NaT                  NaT       3.0  \n",
              "3                NaT                  NaT       4.0  \n",
              "4                NaT                  NaT       5.0  \n",
              "\n",
              "[5 rows x 42 columns]"
            ],
            "text/html": [
              "\n",
              "  <div id=\"df-f505cb9d-5c13-4433-a972-485eaad8fd96\">\n",
              "    <div class=\"colab-df-container\">\n",
              "      <div>\n",
              "<style scoped>\n",
              "    .dataframe tbody tr th:only-of-type {\n",
              "        vertical-align: middle;\n",
              "    }\n",
              "\n",
              "    .dataframe tbody tr th {\n",
              "        vertical-align: top;\n",
              "    }\n",
              "\n",
              "    .dataframe thead th {\n",
              "        text-align: right;\n",
              "    }\n",
              "</style>\n",
              "<table border=\"1\" class=\"dataframe\">\n",
              "  <thead>\n",
              "    <tr style=\"text-align: right;\">\n",
              "      <th></th>\n",
              "      <th>DATE</th>\n",
              "      <th>FLT</th>\n",
              "      <th>REG</th>\n",
              "      <th>AC</th>\n",
              "      <th>DEP</th>\n",
              "      <th>ARR</th>\n",
              "      <th>STD</th>\n",
              "      <th>STA</th>\n",
              "      <th>TKof</th>\n",
              "      <th>TDwn</th>\n",
              "      <th>...</th>\n",
              "      <th>Sub4</th>\n",
              "      <th>C1Arr</th>\n",
              "      <th>DLY1Arr</th>\n",
              "      <th>Close Pax Door</th>\n",
              "      <th>Close Cargo Door</th>\n",
              "      <th>Open Cargo/Pax Door</th>\n",
              "      <th>close pax door2</th>\n",
              "      <th>close cargo door2</th>\n",
              "      <th>open cargo/pax door2</th>\n",
              "      <th>Secuencia</th>\n",
              "    </tr>\n",
              "  </thead>\n",
              "  <tbody>\n",
              "    <tr>\n",
              "      <th>0</th>\n",
              "      <td>2022-01-01</td>\n",
              "      <td>2506</td>\n",
              "      <td>EC-JSY</td>\n",
              "      <td>320</td>\n",
              "      <td>BIO</td>\n",
              "      <td>SVQ</td>\n",
              "      <td>1900-01-01 07:40:00</td>\n",
              "      <td>1900-01-01 09:05:00</td>\n",
              "      <td>1900-01-01 08:10:00</td>\n",
              "      <td>1900-01-01 09:17:00</td>\n",
              "      <td>...</td>\n",
              "      <td></td>\n",
              "      <td>8</td>\n",
              "      <td>1900-01-01 00:15:00</td>\n",
              "      <td>2022-01-01 07:58:00.000</td>\n",
              "      <td>2022-01-01 07:31:00.000</td>\n",
              "      <td>2022-01-01 09:23:00.000</td>\n",
              "      <td>NaT</td>\n",
              "      <td>NaT</td>\n",
              "      <td>NaT</td>\n",
              "      <td>1.0</td>\n",
              "    </tr>\n",
              "    <tr>\n",
              "      <th>1</th>\n",
              "      <td>2022-01-01</td>\n",
              "      <td>2505</td>\n",
              "      <td>EC-JSY</td>\n",
              "      <td>320</td>\n",
              "      <td>SVQ</td>\n",
              "      <td>BIO</td>\n",
              "      <td>1900-01-01 09:40:00</td>\n",
              "      <td>1900-01-01 11:05:00</td>\n",
              "      <td>1900-01-01 10:03:00</td>\n",
              "      <td>1900-01-01 11:07:00</td>\n",
              "      <td>...</td>\n",
              "      <td></td>\n",
              "      <td>8</td>\n",
              "      <td>1900-01-01 00:04:00</td>\n",
              "      <td>2022-01-01 09:48:00.000</td>\n",
              "      <td>2022-01-01 09:46:00.000</td>\n",
              "      <td>2022-01-01 11:11:00.000</td>\n",
              "      <td>NaT</td>\n",
              "      <td>NaT</td>\n",
              "      <td>NaT</td>\n",
              "      <td>2.0</td>\n",
              "    </tr>\n",
              "    <tr>\n",
              "      <th>2</th>\n",
              "      <td>2022-01-01</td>\n",
              "      <td>1386</td>\n",
              "      <td>EC-JSY</td>\n",
              "      <td>320</td>\n",
              "      <td>BIO</td>\n",
              "      <td>SCQ</td>\n",
              "      <td>1900-01-01 11:40:00</td>\n",
              "      <td>1900-01-01 12:50:00</td>\n",
              "      <td>1900-01-01 11:50:00</td>\n",
              "      <td>1900-01-01 12:40:00</td>\n",
              "      <td>...</td>\n",
              "      <td></td>\n",
              "      <td></td>\n",
              "      <td>NaT</td>\n",
              "      <td>2022-01-01 11:38:00.000</td>\n",
              "      <td>2022-01-01 11:34:00.000</td>\n",
              "      <td>2022-01-01 12:46:00.000</td>\n",
              "      <td>NaT</td>\n",
              "      <td>NaT</td>\n",
              "      <td>NaT</td>\n",
              "      <td>3.0</td>\n",
              "    </tr>\n",
              "    <tr>\n",
              "      <th>3</th>\n",
              "      <td>2022-01-01</td>\n",
              "      <td>1387</td>\n",
              "      <td>EC-JSY</td>\n",
              "      <td>320</td>\n",
              "      <td>SCQ</td>\n",
              "      <td>BIO</td>\n",
              "      <td>1900-01-01 13:30:00</td>\n",
              "      <td>1900-01-01 14:35:00</td>\n",
              "      <td>1900-01-01 13:30:00</td>\n",
              "      <td>1900-01-01 14:08:00</td>\n",
              "      <td>...</td>\n",
              "      <td></td>\n",
              "      <td></td>\n",
              "      <td>NaT</td>\n",
              "      <td>2022-01-01 13:18:00.000</td>\n",
              "      <td>2022-01-01 13:06:00.000</td>\n",
              "      <td>2022-01-01 14:12:00.000</td>\n",
              "      <td>NaT</td>\n",
              "      <td>NaT</td>\n",
              "      <td>NaT</td>\n",
              "      <td>4.0</td>\n",
              "    </tr>\n",
              "    <tr>\n",
              "      <th>4</th>\n",
              "      <td>2022-01-01</td>\n",
              "      <td>3262</td>\n",
              "      <td>EC-JSY</td>\n",
              "      <td>320</td>\n",
              "      <td>BIO</td>\n",
              "      <td>TFN</td>\n",
              "      <td>1900-01-01 15:15:00</td>\n",
              "      <td>1900-01-01 18:20:00</td>\n",
              "      <td>1900-01-01 15:23:00</td>\n",
              "      <td>1900-01-01 18:07:00</td>\n",
              "      <td>...</td>\n",
              "      <td></td>\n",
              "      <td></td>\n",
              "      <td>NaT</td>\n",
              "      <td>2022-01-01 15:07:00.000</td>\n",
              "      <td>2022-01-01 15:01:00.000</td>\n",
              "      <td>2022-01-01 18:14:00.000</td>\n",
              "      <td>NaT</td>\n",
              "      <td>NaT</td>\n",
              "      <td>NaT</td>\n",
              "      <td>5.0</td>\n",
              "    </tr>\n",
              "  </tbody>\n",
              "</table>\n",
              "<p>5 rows × 42 columns</p>\n",
              "</div>\n",
              "      <button class=\"colab-df-convert\" onclick=\"convertToInteractive('df-f505cb9d-5c13-4433-a972-485eaad8fd96')\"\n",
              "              title=\"Convert this dataframe to an interactive table.\"\n",
              "              style=\"display:none;\">\n",
              "        \n",
              "  <svg xmlns=\"http://www.w3.org/2000/svg\" height=\"24px\"viewBox=\"0 0 24 24\"\n",
              "       width=\"24px\">\n",
              "    <path d=\"M0 0h24v24H0V0z\" fill=\"none\"/>\n",
              "    <path d=\"M18.56 5.44l.94 2.06.94-2.06 2.06-.94-2.06-.94-.94-2.06-.94 2.06-2.06.94zm-11 1L8.5 8.5l.94-2.06 2.06-.94-2.06-.94L8.5 2.5l-.94 2.06-2.06.94zm10 10l.94 2.06.94-2.06 2.06-.94-2.06-.94-.94-2.06-.94 2.06-2.06.94z\"/><path d=\"M17.41 7.96l-1.37-1.37c-.4-.4-.92-.59-1.43-.59-.52 0-1.04.2-1.43.59L10.3 9.45l-7.72 7.72c-.78.78-.78 2.05 0 2.83L4 21.41c.39.39.9.59 1.41.59.51 0 1.02-.2 1.41-.59l7.78-7.78 2.81-2.81c.8-.78.8-2.07 0-2.86zM5.41 20L4 18.59l7.72-7.72 1.47 1.35L5.41 20z\"/>\n",
              "  </svg>\n",
              "      </button>\n",
              "      \n",
              "  <style>\n",
              "    .colab-df-container {\n",
              "      display:flex;\n",
              "      flex-wrap:wrap;\n",
              "      gap: 12px;\n",
              "    }\n",
              "\n",
              "    .colab-df-convert {\n",
              "      background-color: #E8F0FE;\n",
              "      border: none;\n",
              "      border-radius: 50%;\n",
              "      cursor: pointer;\n",
              "      display: none;\n",
              "      fill: #1967D2;\n",
              "      height: 32px;\n",
              "      padding: 0 0 0 0;\n",
              "      width: 32px;\n",
              "    }\n",
              "\n",
              "    .colab-df-convert:hover {\n",
              "      background-color: #E2EBFA;\n",
              "      box-shadow: 0px 1px 2px rgba(60, 64, 67, 0.3), 0px 1px 3px 1px rgba(60, 64, 67, 0.15);\n",
              "      fill: #174EA6;\n",
              "    }\n",
              "\n",
              "    [theme=dark] .colab-df-convert {\n",
              "      background-color: #3B4455;\n",
              "      fill: #D2E3FC;\n",
              "    }\n",
              "\n",
              "    [theme=dark] .colab-df-convert:hover {\n",
              "      background-color: #434B5C;\n",
              "      box-shadow: 0px 1px 3px 1px rgba(0, 0, 0, 0.15);\n",
              "      filter: drop-shadow(0px 1px 2px rgba(0, 0, 0, 0.3));\n",
              "      fill: #FFFFFF;\n",
              "    }\n",
              "  </style>\n",
              "\n",
              "      <script>\n",
              "        const buttonEl =\n",
              "          document.querySelector('#df-f505cb9d-5c13-4433-a972-485eaad8fd96 button.colab-df-convert');\n",
              "        buttonEl.style.display =\n",
              "          google.colab.kernel.accessAllowed ? 'block' : 'none';\n",
              "\n",
              "        async function convertToInteractive(key) {\n",
              "          const element = document.querySelector('#df-f505cb9d-5c13-4433-a972-485eaad8fd96');\n",
              "          const dataTable =\n",
              "            await google.colab.kernel.invokeFunction('convertToInteractive',\n",
              "                                                     [key], {});\n",
              "          if (!dataTable) return;\n",
              "\n",
              "          const docLinkHtml = 'Like what you see? Visit the ' +\n",
              "            '<a target=\"_blank\" href=https://colab.research.google.com/notebooks/data_table.ipynb>data table notebook</a>'\n",
              "            + ' to learn more about interactive tables.';\n",
              "          element.innerHTML = '';\n",
              "          dataTable['output_type'] = 'display_data';\n",
              "          await google.colab.output.renderOutput(dataTable, element);\n",
              "          const docLink = document.createElement('div');\n",
              "          docLink.innerHTML = docLinkHtml;\n",
              "          element.appendChild(docLink);\n",
              "        }\n",
              "      </script>\n",
              "    </div>\n",
              "  </div>\n",
              "  "
            ]
          },
          "metadata": {},
          "execution_count": 416
        }
      ],
      "source": [
        "# Convierto todas las columnas de tiempo en un formato correcto\n",
        "\n",
        "formato = \"%H:%M:%S\"\n",
        "\n",
        "\n",
        "def convertirTiempo(clave):\n",
        "    df[clave] = pd.to_datetime(df[clave],\n",
        "                               format=formato,\n",
        "                               errors='coerce')\n",
        "\n",
        "\n",
        "#columnasConvertir = ['DATE', 'STD', 'STA', 'TKof', 'TDwn', 'ATD', 'ATA', 'BLOCK', 'FLThr', 'Taxi-out', 'Taxi-In',\n",
        "#                     'DLY1Arr', 'Close Pax Door', 'Close Cargo Door', 'Open Cargo/Pax Door', 'close pax door2', 'close cargo door2', 'open cargo/pax door2',\n",
        "#                     'SLOT', 'DLY1', 'DLY2']\n",
        "\n",
        "\n",
        "columnasConvertir = ['DATE', 'STD', 'STA', 'TKof', 'TDwn', 'ATD', 'ATA', 'BLOCK', 'FLThr', 'Taxi-out', 'Taxi-In',\n",
        "                     'DLY1Arr','close pax door2', 'close cargo door2', 'open cargo/pax door2',\n",
        "                     'SLOT', 'DLY1', 'DLY2']\n",
        "for x in columnasConvertir:\n",
        "    convertirTiempo(x)\n",
        "    #print(x)\n",
        "# df.dtypes\n",
        "df.head()"
      ]
    },
    {
      "cell_type": "code",
      "execution_count": 417,
      "id": "21dc4bfc",
      "metadata": {
        "ExecuteTime": {
          "end_time": "2022-06-03T12:55:22.055576Z",
          "start_time": "2022-06-03T12:55:22.055576Z"
        },
        "id": "21dc4bfc"
      },
      "outputs": [],
      "source": [
        "#Subrutina que suma las fechas con las horas.\n",
        "def adecuarFechas(fecha, tiempoClave):\n",
        "    clave = \"Date_\" + tiempoClave\n",
        "    print('.....Clave: ',clave, '....', fecha, tiempoClave)     \n",
        "    df[tiempoClave] = pd.to_datetime(df[tiempoClave], format='%H:%M', errors='coerce')       \n",
        "    \n",
        "    df[tiempoClave] = pd.to_datetime( df[fecha].dt.strftime('%d/%m/%Y') + ' ' + df[tiempoClave].dt.strftime('%H:%M:%S'))"
      ]
    },
    {
      "cell_type": "code",
      "execution_count": 418,
      "id": "09bb2275",
      "metadata": {
        "ExecuteTime": {
          "end_time": "2022-06-03T12:55:22.056574Z",
          "start_time": "2022-06-03T12:55:22.056574Z"
        },
        "colab": {
          "base_uri": "https://localhost:8080/"
        },
        "id": "09bb2275",
        "outputId": "64e773a3-05ac-4152-da5d-d9b169545c53"
      },
      "outputs": [
        {
          "output_type": "stream",
          "name": "stdout",
          "text": [
            "0   1900-01-01 07:40:00\n",
            "1   1900-01-01 09:40:00\n",
            "2   1900-01-01 11:40:00\n",
            "3   1900-01-01 13:30:00\n",
            "4   1900-01-01 15:15:00\n",
            "Name: STD, dtype: datetime64[ns]\n",
            ".....Clave:  Date_STD .... DATE STD\n",
            ".....Clave:  Date_STA .... DATE STA\n",
            ".....Clave:  Date_TKof .... DATE TKof\n",
            ".....Clave:  Date_TDwn .... DATE TDwn\n",
            ".....Clave:  Date_ATD .... DATE ATD\n",
            ".....Clave:  Date_ATA .... DATE ATA\n",
            ".....Clave:  Date_BLOCK .... DATE BLOCK\n",
            ".....Clave:  Date_FLThr .... DATE FLThr\n",
            ".....Clave:  Date_close pax door2 .... DATE close pax door2\n",
            ".....Clave:  Date_close cargo door2 .... DATE close cargo door2\n"
          ]
        }
      ],
      "source": [
        "df1=df.copy()\n",
        "print(df['STD'].head())\n",
        "columnasAddDate= ['STD', 'STA', 'TKof', 'TDwn', 'ATD', 'ATA', 'BLOCK', 'FLThr',\n",
        "                  'close pax door2', 'close cargo door2']\n",
        " \n",
        "for x in columnasAddDate:    \n",
        "    adecuarFechas('DATE', x)\n"
      ]
    },
    {
      "cell_type": "code",
      "execution_count": 419,
      "id": "d54f9651",
      "metadata": {
        "ExecuteTime": {
          "end_time": "2022-06-03T12:55:22.058568Z",
          "start_time": "2022-06-03T12:55:22.058568Z"
        },
        "id": "d54f9651"
      },
      "outputs": [],
      "source": [
        "#Agrupo por aeropuerto de Salida\n",
        "\n",
        "df1['MES'] = df['STD'].dt.month"
      ]
    },
    {
      "cell_type": "markdown",
      "id": "a59874f0",
      "metadata": {
        "id": "a59874f0"
      },
      "source": [
        "# Convierto todas las columnas de tiempo en un formato correcto"
      ]
    },
    {
      "cell_type": "markdown",
      "id": "752bd9f5",
      "metadata": {
        "id": "752bd9f5"
      },
      "source": [
        "# Identificacion de los principales Aeropuertos"
      ]
    },
    {
      "cell_type": "code",
      "execution_count": 420,
      "id": "53b47249",
      "metadata": {
        "ExecuteTime": {
          "end_time": "2022-06-03T12:55:22.248061Z",
          "start_time": "2022-06-03T12:55:22.202185Z"
        },
        "colab": {
          "base_uri": "https://localhost:8080/",
          "height": 335
        },
        "id": "53b47249",
        "outputId": "da5e8879-1a74-425c-b7c6-c28cc3842668"
      },
      "outputs": [
        {
          "output_type": "execute_result",
          "data": {
            "text/plain": [
              "        DATE   FLT     REG   AC  DEP  ARR                 STD  \\\n",
              "0 2022-01-01  2506  EC-JSY  320  BIO  SVQ 2022-01-01 07:40:00   \n",
              "1 2022-01-01  2505  EC-JSY  320  SVQ  BIO 2022-01-01 09:40:00   \n",
              "2 2022-01-01  1386  EC-JSY  320  BIO  SCQ 2022-01-01 11:40:00   \n",
              "3 2022-01-01  1387  EC-JSY  320  SCQ  BIO 2022-01-01 13:30:00   \n",
              "\n",
              "                  STA                TKof                TDwn  ...  \\\n",
              "0 2022-01-01 09:05:00 2022-01-01 08:10:00 2022-01-01 09:17:00  ...   \n",
              "1 2022-01-01 11:05:00 2022-01-01 10:03:00 2022-01-01 11:07:00  ...   \n",
              "2 2022-01-01 12:50:00 2022-01-01 11:50:00 2022-01-01 12:40:00  ...   \n",
              "3 2022-01-01 14:35:00 2022-01-01 13:30:00 2022-01-01 14:08:00  ...   \n",
              "\n",
              "              DLY1Arr           Close Pax Door         Close Cargo Door  \\\n",
              "0 1900-01-01 00:15:00  2022-01-01 07:58:00.000  2022-01-01 07:31:00.000   \n",
              "1 1900-01-01 00:04:00  2022-01-01 09:48:00.000  2022-01-01 09:46:00.000   \n",
              "2                 NaT  2022-01-01 11:38:00.000  2022-01-01 11:34:00.000   \n",
              "3                 NaT  2022-01-01 13:18:00.000  2022-01-01 13:06:00.000   \n",
              "\n",
              "       Open Cargo/Pax Door close pax door2 close cargo door2  \\\n",
              "0  2022-01-01 09:23:00.000             NaT               NaT   \n",
              "1  2022-01-01 11:11:00.000             NaT               NaT   \n",
              "2  2022-01-01 12:46:00.000             NaT               NaT   \n",
              "3  2022-01-01 14:12:00.000             NaT               NaT   \n",
              "\n",
              "   open cargo/pax door2  Secuencia Aeropuerto_Key AeropuertoKey1  \n",
              "0                   NaT        1.0            BIO            SVQ  \n",
              "1                   NaT        2.0            SVQ            BIO  \n",
              "2                   NaT        3.0            BIO            SCQ  \n",
              "3                   NaT        4.0            SCQ            BIO  \n",
              "\n",
              "[4 rows x 44 columns]"
            ],
            "text/html": [
              "\n",
              "  <div id=\"df-317f936a-a8f2-4d35-a584-f67ae8069c88\">\n",
              "    <div class=\"colab-df-container\">\n",
              "      <div>\n",
              "<style scoped>\n",
              "    .dataframe tbody tr th:only-of-type {\n",
              "        vertical-align: middle;\n",
              "    }\n",
              "\n",
              "    .dataframe tbody tr th {\n",
              "        vertical-align: top;\n",
              "    }\n",
              "\n",
              "    .dataframe thead th {\n",
              "        text-align: right;\n",
              "    }\n",
              "</style>\n",
              "<table border=\"1\" class=\"dataframe\">\n",
              "  <thead>\n",
              "    <tr style=\"text-align: right;\">\n",
              "      <th></th>\n",
              "      <th>DATE</th>\n",
              "      <th>FLT</th>\n",
              "      <th>REG</th>\n",
              "      <th>AC</th>\n",
              "      <th>DEP</th>\n",
              "      <th>ARR</th>\n",
              "      <th>STD</th>\n",
              "      <th>STA</th>\n",
              "      <th>TKof</th>\n",
              "      <th>TDwn</th>\n",
              "      <th>...</th>\n",
              "      <th>DLY1Arr</th>\n",
              "      <th>Close Pax Door</th>\n",
              "      <th>Close Cargo Door</th>\n",
              "      <th>Open Cargo/Pax Door</th>\n",
              "      <th>close pax door2</th>\n",
              "      <th>close cargo door2</th>\n",
              "      <th>open cargo/pax door2</th>\n",
              "      <th>Secuencia</th>\n",
              "      <th>Aeropuerto_Key</th>\n",
              "      <th>AeropuertoKey1</th>\n",
              "    </tr>\n",
              "  </thead>\n",
              "  <tbody>\n",
              "    <tr>\n",
              "      <th>0</th>\n",
              "      <td>2022-01-01</td>\n",
              "      <td>2506</td>\n",
              "      <td>EC-JSY</td>\n",
              "      <td>320</td>\n",
              "      <td>BIO</td>\n",
              "      <td>SVQ</td>\n",
              "      <td>2022-01-01 07:40:00</td>\n",
              "      <td>2022-01-01 09:05:00</td>\n",
              "      <td>2022-01-01 08:10:00</td>\n",
              "      <td>2022-01-01 09:17:00</td>\n",
              "      <td>...</td>\n",
              "      <td>1900-01-01 00:15:00</td>\n",
              "      <td>2022-01-01 07:58:00.000</td>\n",
              "      <td>2022-01-01 07:31:00.000</td>\n",
              "      <td>2022-01-01 09:23:00.000</td>\n",
              "      <td>NaT</td>\n",
              "      <td>NaT</td>\n",
              "      <td>NaT</td>\n",
              "      <td>1.0</td>\n",
              "      <td>BIO</td>\n",
              "      <td>SVQ</td>\n",
              "    </tr>\n",
              "    <tr>\n",
              "      <th>1</th>\n",
              "      <td>2022-01-01</td>\n",
              "      <td>2505</td>\n",
              "      <td>EC-JSY</td>\n",
              "      <td>320</td>\n",
              "      <td>SVQ</td>\n",
              "      <td>BIO</td>\n",
              "      <td>2022-01-01 09:40:00</td>\n",
              "      <td>2022-01-01 11:05:00</td>\n",
              "      <td>2022-01-01 10:03:00</td>\n",
              "      <td>2022-01-01 11:07:00</td>\n",
              "      <td>...</td>\n",
              "      <td>1900-01-01 00:04:00</td>\n",
              "      <td>2022-01-01 09:48:00.000</td>\n",
              "      <td>2022-01-01 09:46:00.000</td>\n",
              "      <td>2022-01-01 11:11:00.000</td>\n",
              "      <td>NaT</td>\n",
              "      <td>NaT</td>\n",
              "      <td>NaT</td>\n",
              "      <td>2.0</td>\n",
              "      <td>SVQ</td>\n",
              "      <td>BIO</td>\n",
              "    </tr>\n",
              "    <tr>\n",
              "      <th>2</th>\n",
              "      <td>2022-01-01</td>\n",
              "      <td>1386</td>\n",
              "      <td>EC-JSY</td>\n",
              "      <td>320</td>\n",
              "      <td>BIO</td>\n",
              "      <td>SCQ</td>\n",
              "      <td>2022-01-01 11:40:00</td>\n",
              "      <td>2022-01-01 12:50:00</td>\n",
              "      <td>2022-01-01 11:50:00</td>\n",
              "      <td>2022-01-01 12:40:00</td>\n",
              "      <td>...</td>\n",
              "      <td>NaT</td>\n",
              "      <td>2022-01-01 11:38:00.000</td>\n",
              "      <td>2022-01-01 11:34:00.000</td>\n",
              "      <td>2022-01-01 12:46:00.000</td>\n",
              "      <td>NaT</td>\n",
              "      <td>NaT</td>\n",
              "      <td>NaT</td>\n",
              "      <td>3.0</td>\n",
              "      <td>BIO</td>\n",
              "      <td>SCQ</td>\n",
              "    </tr>\n",
              "    <tr>\n",
              "      <th>3</th>\n",
              "      <td>2022-01-01</td>\n",
              "      <td>1387</td>\n",
              "      <td>EC-JSY</td>\n",
              "      <td>320</td>\n",
              "      <td>SCQ</td>\n",
              "      <td>BIO</td>\n",
              "      <td>2022-01-01 13:30:00</td>\n",
              "      <td>2022-01-01 14:35:00</td>\n",
              "      <td>2022-01-01 13:30:00</td>\n",
              "      <td>2022-01-01 14:08:00</td>\n",
              "      <td>...</td>\n",
              "      <td>NaT</td>\n",
              "      <td>2022-01-01 13:18:00.000</td>\n",
              "      <td>2022-01-01 13:06:00.000</td>\n",
              "      <td>2022-01-01 14:12:00.000</td>\n",
              "      <td>NaT</td>\n",
              "      <td>NaT</td>\n",
              "      <td>NaT</td>\n",
              "      <td>4.0</td>\n",
              "      <td>SCQ</td>\n",
              "      <td>BIO</td>\n",
              "    </tr>\n",
              "  </tbody>\n",
              "</table>\n",
              "<p>4 rows × 44 columns</p>\n",
              "</div>\n",
              "      <button class=\"colab-df-convert\" onclick=\"convertToInteractive('df-317f936a-a8f2-4d35-a584-f67ae8069c88')\"\n",
              "              title=\"Convert this dataframe to an interactive table.\"\n",
              "              style=\"display:none;\">\n",
              "        \n",
              "  <svg xmlns=\"http://www.w3.org/2000/svg\" height=\"24px\"viewBox=\"0 0 24 24\"\n",
              "       width=\"24px\">\n",
              "    <path d=\"M0 0h24v24H0V0z\" fill=\"none\"/>\n",
              "    <path d=\"M18.56 5.44l.94 2.06.94-2.06 2.06-.94-2.06-.94-.94-2.06-.94 2.06-2.06.94zm-11 1L8.5 8.5l.94-2.06 2.06-.94-2.06-.94L8.5 2.5l-.94 2.06-2.06.94zm10 10l.94 2.06.94-2.06 2.06-.94-2.06-.94-.94-2.06-.94 2.06-2.06.94z\"/><path d=\"M17.41 7.96l-1.37-1.37c-.4-.4-.92-.59-1.43-.59-.52 0-1.04.2-1.43.59L10.3 9.45l-7.72 7.72c-.78.78-.78 2.05 0 2.83L4 21.41c.39.39.9.59 1.41.59.51 0 1.02-.2 1.41-.59l7.78-7.78 2.81-2.81c.8-.78.8-2.07 0-2.86zM5.41 20L4 18.59l7.72-7.72 1.47 1.35L5.41 20z\"/>\n",
              "  </svg>\n",
              "      </button>\n",
              "      \n",
              "  <style>\n",
              "    .colab-df-container {\n",
              "      display:flex;\n",
              "      flex-wrap:wrap;\n",
              "      gap: 12px;\n",
              "    }\n",
              "\n",
              "    .colab-df-convert {\n",
              "      background-color: #E8F0FE;\n",
              "      border: none;\n",
              "      border-radius: 50%;\n",
              "      cursor: pointer;\n",
              "      display: none;\n",
              "      fill: #1967D2;\n",
              "      height: 32px;\n",
              "      padding: 0 0 0 0;\n",
              "      width: 32px;\n",
              "    }\n",
              "\n",
              "    .colab-df-convert:hover {\n",
              "      background-color: #E2EBFA;\n",
              "      box-shadow: 0px 1px 2px rgba(60, 64, 67, 0.3), 0px 1px 3px 1px rgba(60, 64, 67, 0.15);\n",
              "      fill: #174EA6;\n",
              "    }\n",
              "\n",
              "    [theme=dark] .colab-df-convert {\n",
              "      background-color: #3B4455;\n",
              "      fill: #D2E3FC;\n",
              "    }\n",
              "\n",
              "    [theme=dark] .colab-df-convert:hover {\n",
              "      background-color: #434B5C;\n",
              "      box-shadow: 0px 1px 3px 1px rgba(0, 0, 0, 0.15);\n",
              "      filter: drop-shadow(0px 1px 2px rgba(0, 0, 0, 0.3));\n",
              "      fill: #FFFFFF;\n",
              "    }\n",
              "  </style>\n",
              "\n",
              "      <script>\n",
              "        const buttonEl =\n",
              "          document.querySelector('#df-317f936a-a8f2-4d35-a584-f67ae8069c88 button.colab-df-convert');\n",
              "        buttonEl.style.display =\n",
              "          google.colab.kernel.accessAllowed ? 'block' : 'none';\n",
              "\n",
              "        async function convertToInteractive(key) {\n",
              "          const element = document.querySelector('#df-317f936a-a8f2-4d35-a584-f67ae8069c88');\n",
              "          const dataTable =\n",
              "            await google.colab.kernel.invokeFunction('convertToInteractive',\n",
              "                                                     [key], {});\n",
              "          if (!dataTable) return;\n",
              "\n",
              "          const docLinkHtml = 'Like what you see? Visit the ' +\n",
              "            '<a target=\"_blank\" href=https://colab.research.google.com/notebooks/data_table.ipynb>data table notebook</a>'\n",
              "            + ' to learn more about interactive tables.';\n",
              "          element.innerHTML = '';\n",
              "          dataTable['output_type'] = 'display_data';\n",
              "          await google.colab.output.renderOutput(dataTable, element);\n",
              "          const docLink = document.createElement('div');\n",
              "          docLink.innerHTML = docLinkHtml;\n",
              "          element.appendChild(docLink);\n",
              "        }\n",
              "      </script>\n",
              "    </div>\n",
              "  </div>\n",
              "  "
            ]
          },
          "metadata": {},
          "execution_count": 420
        }
      ],
      "source": [
        "df= pd.merge(df,df_Aeropuertos, left_on= 'DEP', right_on='Dep')\n",
        "\n",
        "df= pd.merge(df,df_Aeropuertos, left_on= 'ARR', right_on='Dep')\n",
        "\n",
        "\n",
        "df= df.rename({'AeropuertoKey1_x': 'Aeropuerto_Key', 'AeropuertoKey1_y': 'AeropuertoKey1'}, axis=1)\n",
        "\n",
        "df= df.sort_values(['DATE', 'REG', 'STD'])\n",
        "df= df.reset_index(drop=True)\n",
        "borrarColumnas = ['Dep_x', 'Dep_y']\n",
        "df = df.drop(borrarColumnas, axis=1)\n",
        "df.head(4)"
      ]
    },
    {
      "cell_type": "markdown",
      "id": "46ff0abb",
      "metadata": {
        "ExecuteTime": {
          "end_time": "2022-05-25T05:42:55.224452Z",
          "start_time": "2022-05-25T05:42:55.212482Z"
        },
        "id": "46ff0abb"
      },
      "source": [
        "# Calculo tiempo en vuelo 1"
      ]
    },
    {
      "cell_type": "code",
      "execution_count": 421,
      "id": "e3a6b3fe",
      "metadata": {
        "ExecuteTime": {
          "end_time": "2022-06-03T12:55:22.295356Z",
          "start_time": "2022-06-03T12:55:22.276436Z"
        },
        "colab": {
          "base_uri": "https://localhost:8080/"
        },
        "id": "e3a6b3fe",
        "outputId": "6531094a-2b07-428d-c120-05f558b3d44a"
      },
      "outputs": [
        {
          "output_type": "stream",
          "name": "stdout",
          "text": [
            "0      2022-01-01 07:58:00.000\n",
            "1      2022-01-01 09:48:00.000\n",
            "2      2022-01-01 11:38:00.000\n",
            "3      2022-01-01 13:18:00.000\n",
            "4      2022-01-01 15:07:00.000\n",
            "                ...           \n",
            "217    2022-01-01 11:40:00.000\n",
            "218    2022-01-01 14:47:00.000\n",
            "219    2022-01-01 18:03:00.000\n",
            "220    2022-01-01 20:42:00.000\n",
            "221    2022-01-01 10:48:00.000\n",
            "Name: Close Pax Door, Length: 222, dtype: object\n"
          ]
        }
      ],
      "source": [
        "df.columns\n",
        "print(df['Close Pax Door'])"
      ]
    },
    {
      "cell_type": "code",
      "execution_count": 422,
      "id": "655d0ec0",
      "metadata": {
        "ExecuteTime": {
          "end_time": "2022-06-03T12:55:22.311343Z",
          "start_time": "2022-06-03T12:55:22.297352Z"
        },
        "colab": {
          "base_uri": "https://localhost:8080/"
        },
        "id": "655d0ec0",
        "outputId": "dddebf8a-5bfa-480a-baa6-2264dd6ec2ab"
      },
      "outputs": [
        {
          "output_type": "execute_result",
          "data": {
            "text/plain": [
              "0   -5.0\n",
              "1   -7.0\n",
              "2   -5.0\n",
              "Name: E_Duracion_Vuelo, dtype: float64"
            ]
          },
          "metadata": {},
          "execution_count": 422
        }
      ],
      "source": [
        "# Calulo tiempo de vuelo teorico Real y error\n",
        "df['DuracionVueloTeorico']= (df['STA'] - df['STD'])/  np.timedelta64(1, 'm') \n",
        "df['DuracionVueloReal'] = (df['ATA'] - df['ATD']) /  np.timedelta64(1, 'm') \n",
        "df['E_Duracion_Vuelo'] = (df['DuracionVueloReal'] - df['DuracionVueloTeorico']) #/  np.timedelta64(1, 'm') \n",
        "df['E_Duracion_Vuelo'].head(3)"
      ]
    },
    {
      "cell_type": "markdown",
      "id": "efea1c53",
      "metadata": {
        "id": "efea1c53"
      },
      "source": [
        "# Tiempo Close Pax y Close Cargo Door"
      ]
    },
    {
      "cell_type": "code",
      "execution_count": 423,
      "id": "71569ce9",
      "metadata": {
        "ExecuteTime": {
          "end_time": "2022-06-03T12:55:22.372180Z",
          "start_time": "2022-06-03T12:55:22.352205Z"
        },
        "colab": {
          "base_uri": "https://localhost:8080/"
        },
        "id": "71569ce9",
        "outputId": "ac8fb43b-8c19-4c0b-db40-aeb35e2f9290"
      },
      "outputs": [
        {
          "output_type": "execute_result",
          "data": {
            "text/plain": [
              "0      2022-01-01 07:58:00.000\n",
              "1      2022-01-01 09:48:00.000\n",
              "2      2022-01-01 11:38:00.000\n",
              "3      2022-01-01 13:18:00.000\n",
              "4      2022-01-01 15:07:00.000\n",
              "                ...           \n",
              "217    2022-01-01 11:40:00.000\n",
              "218    2022-01-01 14:47:00.000\n",
              "219    2022-01-01 18:03:00.000\n",
              "220    2022-01-01 20:42:00.000\n",
              "221    2022-01-01 10:48:00.000\n",
              "Name: Close Pax Door, Length: 222, dtype: object"
            ]
          },
          "metadata": {},
          "execution_count": 423
        }
      ],
      "source": [
        "df['Close Pax Door']"
      ]
    },
    {
      "cell_type": "code",
      "execution_count": 424,
      "id": "c27804f1",
      "metadata": {
        "ExecuteTime": {
          "end_time": "2022-06-03T12:55:22.388137Z",
          "start_time": "2022-06-03T12:55:22.374146Z"
        },
        "colab": {
          "base_uri": "https://localhost:8080/"
        },
        "id": "c27804f1",
        "outputId": "f9eaaf0f-12d1-42b7-a34a-ae91c3fe2eef"
      },
      "outputs": [
        {
          "output_type": "stream",
          "name": "stdout",
          "text": [
            "0   2022-01-01 07:58:00\n",
            "1   2022-01-01 09:48:00\n",
            "2   2022-01-01 11:38:00\n",
            "3   2022-01-01 13:18:00\n",
            "Name: Close Pax Door, dtype: datetime64[ns]\n",
            "-----------------\n",
            "0   1900-01-01 08:00:00\n",
            "1   1900-01-01 09:51:00\n",
            "2   1900-01-01 11:40:00\n",
            "3   1900-01-01 13:23:00\n",
            "Name: ATD, dtype: datetime64[ns]\n"
          ]
        }
      ],
      "source": [
        "df['Close Pax Door'] =pd.to_datetime(df['Close Pax Door'])\n",
        "print(df['Close Pax Door'].head(4))\n",
        "print('-----------------')\n",
        "print(df1['ATD'].head(4))"
      ]
    },
    {
      "cell_type": "code",
      "execution_count": 425,
      "id": "f9737a70",
      "metadata": {
        "ExecuteTime": {
          "end_time": "2022-06-03T12:55:22.404066Z",
          "start_time": "2022-06-03T12:55:22.389106Z"
        },
        "colab": {
          "base_uri": "https://localhost:8080/"
        },
        "id": "f9737a70",
        "outputId": "e25e3c72-f971-4f6f-995f-0d22ca4569db"
      },
      "outputs": [
        {
          "output_type": "execute_result",
          "data": {
            "text/plain": [
              "0      -2.0\n",
              "1      -3.0\n",
              "2      -2.0\n",
              "3      -5.0\n",
              "4       0.0\n",
              "       ... \n",
              "217    -2.0\n",
              "218     0.0\n",
              "219   -20.0\n",
              "220    -5.0\n",
              "221    -9.0\n",
              "Name: t_ClosePax, Length: 222, dtype: float64"
            ]
          },
          "metadata": {},
          "execution_count": 425
        }
      ],
      "source": [
        "df['Close Pax Door'] =pd.to_datetime(df['Close Pax Door'])\n",
        "df['t_ClosePax'] =   (df['Close Pax Door'] - df['ATD']) /  np.timedelta64(1, 'm') \n",
        "df['t_ClosePax']"
      ]
    },
    {
      "cell_type": "code",
      "execution_count": 426,
      "id": "9e124712",
      "metadata": {
        "ExecuteTime": {
          "end_time": "2022-06-03T12:55:22.435980Z",
          "start_time": "2022-06-03T12:55:22.406060Z"
        },
        "colab": {
          "base_uri": "https://localhost:8080/",
          "height": 175
        },
        "id": "9e124712",
        "outputId": "246fda17-3aab-42f0-87ed-ba4d3fd023f5"
      },
      "outputs": [
        {
          "output_type": "execute_result",
          "data": {
            "text/plain": [
              "   t_ClosePax  t_Close_Cargo_Door  t_Entre_Puertas\n",
              "0        -2.0               -29.0            -27.0\n",
              "1        -3.0                -5.0             -2.0\n",
              "2        -2.0                -6.0             -4.0\n",
              "3        -5.0               -17.0            -12.0"
            ],
            "text/html": [
              "\n",
              "  <div id=\"df-e3df15d6-a1fa-49b7-94a5-f6a16b2f6b04\">\n",
              "    <div class=\"colab-df-container\">\n",
              "      <div>\n",
              "<style scoped>\n",
              "    .dataframe tbody tr th:only-of-type {\n",
              "        vertical-align: middle;\n",
              "    }\n",
              "\n",
              "    .dataframe tbody tr th {\n",
              "        vertical-align: top;\n",
              "    }\n",
              "\n",
              "    .dataframe thead th {\n",
              "        text-align: right;\n",
              "    }\n",
              "</style>\n",
              "<table border=\"1\" class=\"dataframe\">\n",
              "  <thead>\n",
              "    <tr style=\"text-align: right;\">\n",
              "      <th></th>\n",
              "      <th>t_ClosePax</th>\n",
              "      <th>t_Close_Cargo_Door</th>\n",
              "      <th>t_Entre_Puertas</th>\n",
              "    </tr>\n",
              "  </thead>\n",
              "  <tbody>\n",
              "    <tr>\n",
              "      <th>0</th>\n",
              "      <td>-2.0</td>\n",
              "      <td>-29.0</td>\n",
              "      <td>-27.0</td>\n",
              "    </tr>\n",
              "    <tr>\n",
              "      <th>1</th>\n",
              "      <td>-3.0</td>\n",
              "      <td>-5.0</td>\n",
              "      <td>-2.0</td>\n",
              "    </tr>\n",
              "    <tr>\n",
              "      <th>2</th>\n",
              "      <td>-2.0</td>\n",
              "      <td>-6.0</td>\n",
              "      <td>-4.0</td>\n",
              "    </tr>\n",
              "    <tr>\n",
              "      <th>3</th>\n",
              "      <td>-5.0</td>\n",
              "      <td>-17.0</td>\n",
              "      <td>-12.0</td>\n",
              "    </tr>\n",
              "  </tbody>\n",
              "</table>\n",
              "</div>\n",
              "      <button class=\"colab-df-convert\" onclick=\"convertToInteractive('df-e3df15d6-a1fa-49b7-94a5-f6a16b2f6b04')\"\n",
              "              title=\"Convert this dataframe to an interactive table.\"\n",
              "              style=\"display:none;\">\n",
              "        \n",
              "  <svg xmlns=\"http://www.w3.org/2000/svg\" height=\"24px\"viewBox=\"0 0 24 24\"\n",
              "       width=\"24px\">\n",
              "    <path d=\"M0 0h24v24H0V0z\" fill=\"none\"/>\n",
              "    <path d=\"M18.56 5.44l.94 2.06.94-2.06 2.06-.94-2.06-.94-.94-2.06-.94 2.06-2.06.94zm-11 1L8.5 8.5l.94-2.06 2.06-.94-2.06-.94L8.5 2.5l-.94 2.06-2.06.94zm10 10l.94 2.06.94-2.06 2.06-.94-2.06-.94-.94-2.06-.94 2.06-2.06.94z\"/><path d=\"M17.41 7.96l-1.37-1.37c-.4-.4-.92-.59-1.43-.59-.52 0-1.04.2-1.43.59L10.3 9.45l-7.72 7.72c-.78.78-.78 2.05 0 2.83L4 21.41c.39.39.9.59 1.41.59.51 0 1.02-.2 1.41-.59l7.78-7.78 2.81-2.81c.8-.78.8-2.07 0-2.86zM5.41 20L4 18.59l7.72-7.72 1.47 1.35L5.41 20z\"/>\n",
              "  </svg>\n",
              "      </button>\n",
              "      \n",
              "  <style>\n",
              "    .colab-df-container {\n",
              "      display:flex;\n",
              "      flex-wrap:wrap;\n",
              "      gap: 12px;\n",
              "    }\n",
              "\n",
              "    .colab-df-convert {\n",
              "      background-color: #E8F0FE;\n",
              "      border: none;\n",
              "      border-radius: 50%;\n",
              "      cursor: pointer;\n",
              "      display: none;\n",
              "      fill: #1967D2;\n",
              "      height: 32px;\n",
              "      padding: 0 0 0 0;\n",
              "      width: 32px;\n",
              "    }\n",
              "\n",
              "    .colab-df-convert:hover {\n",
              "      background-color: #E2EBFA;\n",
              "      box-shadow: 0px 1px 2px rgba(60, 64, 67, 0.3), 0px 1px 3px 1px rgba(60, 64, 67, 0.15);\n",
              "      fill: #174EA6;\n",
              "    }\n",
              "\n",
              "    [theme=dark] .colab-df-convert {\n",
              "      background-color: #3B4455;\n",
              "      fill: #D2E3FC;\n",
              "    }\n",
              "\n",
              "    [theme=dark] .colab-df-convert:hover {\n",
              "      background-color: #434B5C;\n",
              "      box-shadow: 0px 1px 3px 1px rgba(0, 0, 0, 0.15);\n",
              "      filter: drop-shadow(0px 1px 2px rgba(0, 0, 0, 0.3));\n",
              "      fill: #FFFFFF;\n",
              "    }\n",
              "  </style>\n",
              "\n",
              "      <script>\n",
              "        const buttonEl =\n",
              "          document.querySelector('#df-e3df15d6-a1fa-49b7-94a5-f6a16b2f6b04 button.colab-df-convert');\n",
              "        buttonEl.style.display =\n",
              "          google.colab.kernel.accessAllowed ? 'block' : 'none';\n",
              "\n",
              "        async function convertToInteractive(key) {\n",
              "          const element = document.querySelector('#df-e3df15d6-a1fa-49b7-94a5-f6a16b2f6b04');\n",
              "          const dataTable =\n",
              "            await google.colab.kernel.invokeFunction('convertToInteractive',\n",
              "                                                     [key], {});\n",
              "          if (!dataTable) return;\n",
              "\n",
              "          const docLinkHtml = 'Like what you see? Visit the ' +\n",
              "            '<a target=\"_blank\" href=https://colab.research.google.com/notebooks/data_table.ipynb>data table notebook</a>'\n",
              "            + ' to learn more about interactive tables.';\n",
              "          element.innerHTML = '';\n",
              "          dataTable['output_type'] = 'display_data';\n",
              "          await google.colab.output.renderOutput(dataTable, element);\n",
              "          const docLink = document.createElement('div');\n",
              "          docLink.innerHTML = docLinkHtml;\n",
              "          element.appendChild(docLink);\n",
              "        }\n",
              "      </script>\n",
              "    </div>\n",
              "  </div>\n",
              "  "
            ]
          },
          "metadata": {},
          "execution_count": 426
        }
      ],
      "source": [
        "df ['Close Cargo Door']=pd.to_datetime(df ['Close Cargo Door'])\n",
        "df['t_Close_Cargo_Door'] = (df ['Close Cargo Door'] - df['ATD']) /  np.timedelta64(1, 'm') \n",
        "\n",
        "df['Close Pax Door'] =pd.to_datetime(df['Close Pax Door'])\n",
        "df ['Close Cargo Door']=pd.to_datetime(df ['Close Cargo Door'])\n",
        "\n",
        "df['t_Entre_Puertas'] = (df ['Close Cargo Door'] - df['Close Pax Door']) /  np.timedelta64(1, 'm') \n",
        "df[[ 't_ClosePax','t_Close_Cargo_Door', 't_Entre_Puertas'] ].head(4)"
      ]
    },
    {
      "cell_type": "code",
      "execution_count": 427,
      "id": "4c5b4de5",
      "metadata": {
        "ExecuteTime": {
          "end_time": "2022-06-03T12:55:22.451966Z",
          "start_time": "2022-06-03T12:55:22.437976Z"
        },
        "colab": {
          "base_uri": "https://localhost:8080/"
        },
        "id": "4c5b4de5",
        "outputId": "833db68a-3d9e-4870-a8f3-e3c21bb0b451"
      },
      "outputs": [
        {
          "output_type": "execute_result",
          "data": {
            "text/plain": [
              "0     2022-01-01 07:31:00\n",
              "1     2022-01-01 09:46:00\n",
              "2     2022-01-01 11:34:00\n",
              "3     2022-01-01 13:06:00\n",
              "4     2022-01-01 15:01:00\n",
              "              ...        \n",
              "217   2022-01-01 11:41:00\n",
              "218   2022-01-01 14:40:00\n",
              "219   2022-01-01 18:01:00\n",
              "220   2022-01-01 20:41:00\n",
              "221   2022-01-01 10:50:00\n",
              "Name: Close Cargo Door, Length: 222, dtype: datetime64[ns]"
            ]
          },
          "metadata": {},
          "execution_count": 427
        }
      ],
      "source": [
        "df ['Close Cargo Door']"
      ]
    },
    {
      "cell_type": "code",
      "execution_count": 428,
      "id": "b0f24ca1",
      "metadata": {
        "ExecuteTime": {
          "end_time": "2022-06-03T12:55:22.467923Z",
          "start_time": "2022-06-03T12:55:22.453932Z"
        },
        "colab": {
          "base_uri": "https://localhost:8080/"
        },
        "id": "b0f24ca1",
        "outputId": "ac509cd5-1304-4555-d900-058902d6f3b6"
      },
      "outputs": [
        {
          "output_type": "execute_result",
          "data": {
            "text/plain": [
              "0     -29.0\n",
              "1      -5.0\n",
              "2      -6.0\n",
              "3     -17.0\n",
              "4      -6.0\n",
              "       ... \n",
              "217    -1.0\n",
              "218    -7.0\n",
              "219   -22.0\n",
              "220    -6.0\n",
              "221    -7.0\n",
              "Name: t_Close_Cargo_Door, Length: 222, dtype: float64"
            ]
          },
          "metadata": {},
          "execution_count": 428
        }
      ],
      "source": [
        "df['t_Close_Cargo_Door']"
      ]
    },
    {
      "cell_type": "code",
      "execution_count": 429,
      "id": "4d361c29",
      "metadata": {
        "ExecuteTime": {
          "end_time": "2022-06-03T12:55:22.483853Z",
          "start_time": "2022-06-03T12:55:22.469889Z"
        },
        "colab": {
          "base_uri": "https://localhost:8080/"
        },
        "id": "4d361c29",
        "outputId": "a44cfa23-be2f-46fa-bc77-def6051e84f1"
      },
      "outputs": [
        {
          "output_type": "execute_result",
          "data": {
            "text/plain": [
              "0    BIO-SVQ\n",
              "1    BIO-SVQ\n",
              "2    BIO-SCQ\n",
              "3    BIO-SCQ\n",
              "Name: Trayecto, dtype: object"
            ]
          },
          "metadata": {},
          "execution_count": 429
        }
      ],
      "source": [
        "# Estudio los trayectos.\n",
        "condicion = [(df['DEP'] < df['ARR']),  (df['ARR'] < df['DEP'])]\n",
        "\n",
        "valores = [  (df['DEP'] + '-' + df['ARR']),  (df['ARR'] + '-' + df['DEP'])]\n",
        "\n",
        "df['Trayecto'] = np.select(condicion, valores ) \n",
        "df['Trayecto'].head(4)\n",
        "\n",
        "#df5 = df.where('Departure' > 'Arrival',  'Departure' + 'Arrival',  'Arrival' +'Departure')"
      ]
    },
    {
      "cell_type": "code",
      "execution_count": 430,
      "id": "423c4e1b",
      "metadata": {
        "ExecuteTime": {
          "end_time": "2022-06-03T12:55:22.515800Z",
          "start_time": "2022-06-03T12:55:22.484880Z"
        },
        "colab": {
          "base_uri": "https://localhost:8080/",
          "height": 220
        },
        "id": "423c4e1b",
        "outputId": "1398884e-cea0-4c21-e454-84bb53a61f73"
      },
      "outputs": [
        {
          "output_type": "execute_result",
          "data": {
            "text/plain": [
              "        DATE   FLT     REG   AC  DEP  ARR                 STD  \\\n",
              "0 2022-01-01  2506  EC-JSY  320  BIO  SVQ 2022-01-01 07:40:00   \n",
              "1 2022-01-01  2505  EC-JSY  320  SVQ  BIO 2022-01-01 09:40:00   \n",
              "\n",
              "                  STA                TKof                TDwn  ... Secuencia  \\\n",
              "0 2022-01-01 09:05:00 2022-01-01 08:10:00 2022-01-01 09:17:00  ...       1.0   \n",
              "1 2022-01-01 11:05:00 2022-01-01 10:03:00 2022-01-01 11:07:00  ...       2.0   \n",
              "\n",
              "  Aeropuerto_Key AeropuertoKey1 DuracionVueloTeorico DuracionVueloReal  \\\n",
              "0            BIO            SVQ                 85.0              80.0   \n",
              "1            SVQ            BIO                 85.0              78.0   \n",
              "\n",
              "  E_Duracion_Vuelo  t_ClosePax  t_Close_Cargo_Door t_Entre_Puertas Trayecto  \n",
              "0             -5.0        -2.0               -29.0           -27.0  BIO-SVQ  \n",
              "1             -7.0        -3.0                -5.0            -2.0  BIO-SVQ  \n",
              "\n",
              "[2 rows x 51 columns]"
            ],
            "text/html": [
              "\n",
              "  <div id=\"df-f836a0e1-ed57-4ec5-9bc0-34801f125e2d\">\n",
              "    <div class=\"colab-df-container\">\n",
              "      <div>\n",
              "<style scoped>\n",
              "    .dataframe tbody tr th:only-of-type {\n",
              "        vertical-align: middle;\n",
              "    }\n",
              "\n",
              "    .dataframe tbody tr th {\n",
              "        vertical-align: top;\n",
              "    }\n",
              "\n",
              "    .dataframe thead th {\n",
              "        text-align: right;\n",
              "    }\n",
              "</style>\n",
              "<table border=\"1\" class=\"dataframe\">\n",
              "  <thead>\n",
              "    <tr style=\"text-align: right;\">\n",
              "      <th></th>\n",
              "      <th>DATE</th>\n",
              "      <th>FLT</th>\n",
              "      <th>REG</th>\n",
              "      <th>AC</th>\n",
              "      <th>DEP</th>\n",
              "      <th>ARR</th>\n",
              "      <th>STD</th>\n",
              "      <th>STA</th>\n",
              "      <th>TKof</th>\n",
              "      <th>TDwn</th>\n",
              "      <th>...</th>\n",
              "      <th>Secuencia</th>\n",
              "      <th>Aeropuerto_Key</th>\n",
              "      <th>AeropuertoKey1</th>\n",
              "      <th>DuracionVueloTeorico</th>\n",
              "      <th>DuracionVueloReal</th>\n",
              "      <th>E_Duracion_Vuelo</th>\n",
              "      <th>t_ClosePax</th>\n",
              "      <th>t_Close_Cargo_Door</th>\n",
              "      <th>t_Entre_Puertas</th>\n",
              "      <th>Trayecto</th>\n",
              "    </tr>\n",
              "  </thead>\n",
              "  <tbody>\n",
              "    <tr>\n",
              "      <th>0</th>\n",
              "      <td>2022-01-01</td>\n",
              "      <td>2506</td>\n",
              "      <td>EC-JSY</td>\n",
              "      <td>320</td>\n",
              "      <td>BIO</td>\n",
              "      <td>SVQ</td>\n",
              "      <td>2022-01-01 07:40:00</td>\n",
              "      <td>2022-01-01 09:05:00</td>\n",
              "      <td>2022-01-01 08:10:00</td>\n",
              "      <td>2022-01-01 09:17:00</td>\n",
              "      <td>...</td>\n",
              "      <td>1.0</td>\n",
              "      <td>BIO</td>\n",
              "      <td>SVQ</td>\n",
              "      <td>85.0</td>\n",
              "      <td>80.0</td>\n",
              "      <td>-5.0</td>\n",
              "      <td>-2.0</td>\n",
              "      <td>-29.0</td>\n",
              "      <td>-27.0</td>\n",
              "      <td>BIO-SVQ</td>\n",
              "    </tr>\n",
              "    <tr>\n",
              "      <th>1</th>\n",
              "      <td>2022-01-01</td>\n",
              "      <td>2505</td>\n",
              "      <td>EC-JSY</td>\n",
              "      <td>320</td>\n",
              "      <td>SVQ</td>\n",
              "      <td>BIO</td>\n",
              "      <td>2022-01-01 09:40:00</td>\n",
              "      <td>2022-01-01 11:05:00</td>\n",
              "      <td>2022-01-01 10:03:00</td>\n",
              "      <td>2022-01-01 11:07:00</td>\n",
              "      <td>...</td>\n",
              "      <td>2.0</td>\n",
              "      <td>SVQ</td>\n",
              "      <td>BIO</td>\n",
              "      <td>85.0</td>\n",
              "      <td>78.0</td>\n",
              "      <td>-7.0</td>\n",
              "      <td>-3.0</td>\n",
              "      <td>-5.0</td>\n",
              "      <td>-2.0</td>\n",
              "      <td>BIO-SVQ</td>\n",
              "    </tr>\n",
              "  </tbody>\n",
              "</table>\n",
              "<p>2 rows × 51 columns</p>\n",
              "</div>\n",
              "      <button class=\"colab-df-convert\" onclick=\"convertToInteractive('df-f836a0e1-ed57-4ec5-9bc0-34801f125e2d')\"\n",
              "              title=\"Convert this dataframe to an interactive table.\"\n",
              "              style=\"display:none;\">\n",
              "        \n",
              "  <svg xmlns=\"http://www.w3.org/2000/svg\" height=\"24px\"viewBox=\"0 0 24 24\"\n",
              "       width=\"24px\">\n",
              "    <path d=\"M0 0h24v24H0V0z\" fill=\"none\"/>\n",
              "    <path d=\"M18.56 5.44l.94 2.06.94-2.06 2.06-.94-2.06-.94-.94-2.06-.94 2.06-2.06.94zm-11 1L8.5 8.5l.94-2.06 2.06-.94-2.06-.94L8.5 2.5l-.94 2.06-2.06.94zm10 10l.94 2.06.94-2.06 2.06-.94-2.06-.94-.94-2.06-.94 2.06-2.06.94z\"/><path d=\"M17.41 7.96l-1.37-1.37c-.4-.4-.92-.59-1.43-.59-.52 0-1.04.2-1.43.59L10.3 9.45l-7.72 7.72c-.78.78-.78 2.05 0 2.83L4 21.41c.39.39.9.59 1.41.59.51 0 1.02-.2 1.41-.59l7.78-7.78 2.81-2.81c.8-.78.8-2.07 0-2.86zM5.41 20L4 18.59l7.72-7.72 1.47 1.35L5.41 20z\"/>\n",
              "  </svg>\n",
              "      </button>\n",
              "      \n",
              "  <style>\n",
              "    .colab-df-container {\n",
              "      display:flex;\n",
              "      flex-wrap:wrap;\n",
              "      gap: 12px;\n",
              "    }\n",
              "\n",
              "    .colab-df-convert {\n",
              "      background-color: #E8F0FE;\n",
              "      border: none;\n",
              "      border-radius: 50%;\n",
              "      cursor: pointer;\n",
              "      display: none;\n",
              "      fill: #1967D2;\n",
              "      height: 32px;\n",
              "      padding: 0 0 0 0;\n",
              "      width: 32px;\n",
              "    }\n",
              "\n",
              "    .colab-df-convert:hover {\n",
              "      background-color: #E2EBFA;\n",
              "      box-shadow: 0px 1px 2px rgba(60, 64, 67, 0.3), 0px 1px 3px 1px rgba(60, 64, 67, 0.15);\n",
              "      fill: #174EA6;\n",
              "    }\n",
              "\n",
              "    [theme=dark] .colab-df-convert {\n",
              "      background-color: #3B4455;\n",
              "      fill: #D2E3FC;\n",
              "    }\n",
              "\n",
              "    [theme=dark] .colab-df-convert:hover {\n",
              "      background-color: #434B5C;\n",
              "      box-shadow: 0px 1px 3px 1px rgba(0, 0, 0, 0.15);\n",
              "      filter: drop-shadow(0px 1px 2px rgba(0, 0, 0, 0.3));\n",
              "      fill: #FFFFFF;\n",
              "    }\n",
              "  </style>\n",
              "\n",
              "      <script>\n",
              "        const buttonEl =\n",
              "          document.querySelector('#df-f836a0e1-ed57-4ec5-9bc0-34801f125e2d button.colab-df-convert');\n",
              "        buttonEl.style.display =\n",
              "          google.colab.kernel.accessAllowed ? 'block' : 'none';\n",
              "\n",
              "        async function convertToInteractive(key) {\n",
              "          const element = document.querySelector('#df-f836a0e1-ed57-4ec5-9bc0-34801f125e2d');\n",
              "          const dataTable =\n",
              "            await google.colab.kernel.invokeFunction('convertToInteractive',\n",
              "                                                     [key], {});\n",
              "          if (!dataTable) return;\n",
              "\n",
              "          const docLinkHtml = 'Like what you see? Visit the ' +\n",
              "            '<a target=\"_blank\" href=https://colab.research.google.com/notebooks/data_table.ipynb>data table notebook</a>'\n",
              "            + ' to learn more about interactive tables.';\n",
              "          element.innerHTML = '';\n",
              "          dataTable['output_type'] = 'display_data';\n",
              "          await google.colab.output.renderOutput(dataTable, element);\n",
              "          const docLink = document.createElement('div');\n",
              "          docLink.innerHTML = docLinkHtml;\n",
              "          element.appendChild(docLink);\n",
              "        }\n",
              "      </script>\n",
              "    </div>\n",
              "  </div>\n",
              "  "
            ]
          },
          "metadata": {},
          "execution_count": 430
        }
      ],
      "source": [
        "# Creo la secuencia de vuelos de cada avión cada día\n",
        "\n",
        "df['Secuencia'] = df.groupby(['DATE', 'REG'])['STD'].rank()\n",
        "\n",
        "\n",
        "df1=df\n",
        "df1.head(2)\n",
        "\n"
      ]
    },
    {
      "cell_type": "code",
      "execution_count": 431,
      "id": "cde79d5f",
      "metadata": {
        "ExecuteTime": {
          "end_time": "2022-06-03T12:55:22.531725Z",
          "start_time": "2022-06-03T12:55:22.516764Z"
        },
        "id": "cde79d5f"
      },
      "outputs": [],
      "source": [
        "# Analizo el retardo en el despegue:\n",
        "def dibujarScatter( ejeX, ejeY):\n",
        "    x= df1[ejeX]\n",
        "    y = df1[ejeY]    \n",
        "    ax = sns.scatterplot(x , y )\n",
        "\n"
      ]
    },
    {
      "cell_type": "markdown",
      "id": "82753f5b",
      "metadata": {
        "id": "82753f5b"
      },
      "source": [
        "# Puntualidad media primer despegue en el 2019!"
      ]
    },
    {
      "cell_type": "code",
      "execution_count": 432,
      "id": "85a1720f",
      "metadata": {
        "ExecuteTime": {
          "end_time": "2022-06-03T12:55:22.783087Z",
          "start_time": "2022-06-03T12:55:22.533719Z"
        },
        "colab": {
          "base_uri": "https://localhost:8080/",
          "height": 557
        },
        "id": "85a1720f",
        "outputId": "0f6ac507-85ef-4b85-c9cf-8903173fd6bc"
      },
      "outputs": [
        {
          "output_type": "stream",
          "name": "stderr",
          "text": [
            "/usr/local/lib/python3.7/dist-packages/seaborn/_decorators.py:43: FutureWarning: Pass the following variables as keyword args: x, y. From version 0.12, the only valid positional argument will be `data`, and passing other arguments without an explicit keyword will result in an error or misinterpretation.\n",
            "  FutureWarning\n"
          ]
        },
        {
          "output_type": "display_data",
          "data": {
            "text/plain": [
              "<Figure size 1080x576 with 1 Axes>"
            ],
            "image/png": "[encoded data removed]"
          },
          "metadata": {}
        }
      ],
      "source": [
        "ax = sns.scatterplot( df1['STD'], df1['ATD'])"
      ]
    },
    {
      "cell_type": "markdown",
      "id": "1373549b",
      "metadata": {
        "id": "1373549b"
      },
      "source": [
        "# Calculo error del primer despegue."
      ]
    },
    {
      "cell_type": "code",
      "execution_count": 433,
      "id": "18c70c06",
      "metadata": {
        "ExecuteTime": {
          "end_time": "2022-06-03T12:55:22.803997Z",
          "start_time": "2022-06-03T12:55:22.785047Z"
        },
        "colab": {
          "base_uri": "https://localhost:8080/"
        },
        "id": "18c70c06",
        "outputId": "6c954c14-1c3f-4d9f-a898-4178fc3ff83a"
      },
      "outputs": [
        {
          "output_type": "stream",
          "name": "stdout",
          "text": [
            "         DATE     REG  Secuencia                 STD\n",
            "0  2022-01-01  EC-JSY        1.0 2022-01-01 07:40:00\n",
            "6  2022-01-01  EC-JZI        1.0 2022-01-01 07:30:00\n",
            "12 2022-01-01  EC-KDG        1.0 2022-01-01 14:20:00\n",
            "16 2022-01-01  EC-KDH        1.0 2022-01-01 07:50:00\n",
            "21 2022-01-01  EC-KDX        1.0 2022-01-01 17:35:00\n",
            "24 2022-01-01  EC-KLB        1.0 2022-01-01 05:25:00\n",
            "29 2022-01-01  EC-KLT        1.0 2022-01-01 07:30:00\n",
            "33 2022-01-01  EC-KMI        1.0 2022-01-01 12:05:00\n"
          ]
        }
      ],
      "source": [
        "# Filtro primer despegue\n",
        "\n",
        "vuelosPrimerDespegue= (df1['Secuencia']== 1)\n",
        "df2 = df1[vuelosPrimerDespegue]\n",
        "print(df2[['DATE','REG', 'Secuencia','STD']][0:8])\n"
      ]
    },
    {
      "cell_type": "code",
      "execution_count": 434,
      "id": "b65cc2ca",
      "metadata": {
        "ExecuteTime": {
          "end_time": "2022-06-03T12:55:22.828962Z",
          "start_time": "2022-06-03T12:55:22.806988Z"
        },
        "colab": {
          "base_uri": "https://localhost:8080/",
          "height": 52
        },
        "id": "b65cc2ca",
        "outputId": "46849710-adc0-49ba-840a-9e27a32105cd"
      },
      "outputs": [
        {
          "output_type": "execute_result",
          "data": {
            "text/plain": [
              "\"\\nvuelosPrimerDespegue= (df1['Secuencia']== 1)\\ndf2 = df1[vuelosPrimerDespegue]\\n\\ndf2['E_Despegue'] = (df2['Date_ATD']- df2['Date_STD']) /  np.imedelta64(1, 'm')\\n\\n\\n#df2['E_Despegue']=df2['E_Despegue'].np.time\\n\\ndf2['E_Despegue'].head(8)\\nprint(df2[['DATE','REG', 'E_Despegue', 'Date_ATD', 'Date_STD']][0:8])\\n#sns.histplot(data= df1.E_Despegue, kde= True)\\n\""
            ],
            "application/vnd.google.colaboratory.intrinsic+json": {
              "type": "string"
            }
          },
          "metadata": {},
          "execution_count": 434
        }
      ],
      "source": [
        "\n",
        "#Calculo error despegue:\n",
        "'''\n",
        "vuelosPrimerDespegue= (df1['Secuencia']== 1)\n",
        "df2 = df1[vuelosPrimerDespegue]\n",
        "\n",
        "df2['E_Despegue'] = (df2['Date_ATD']- df2['Date_STD']) /  np.imedelta64(1, 'm')\n",
        "\n",
        "\n",
        "#df2['E_Despegue']=df2['E_Despegue'].np.time\n",
        "\n",
        "df2['E_Despegue'].head(8)\n",
        "print(df2[['DATE','REG', 'E_Despegue', 'Date_ATD', 'Date_STD']][0:8])\n",
        "#sns.histplot(data= df1.E_Despegue, kde= True)\n",
        "'''"
      ]
    },
    {
      "cell_type": "code",
      "execution_count": 435,
      "id": "0170f31a",
      "metadata": {
        "ExecuteTime": {
          "end_time": "2022-06-03T12:55:22.844887Z",
          "start_time": "2022-06-03T12:55:22.830924Z"
        },
        "colab": {
          "base_uri": "https://localhost:8080/"
        },
        "id": "0170f31a",
        "outputId": "4f751d59-e2b7-4c3c-a7ea-510dedcc427b"
      },
      "outputs": [
        {
          "output_type": "stream",
          "name": "stdout",
          "text": [
            "         DATE     REG  Secuencia                 STD                 ATD\n",
            "0  2022-01-01  EC-JSY        1.0 2022-01-01 07:40:00 2022-01-01 08:00:00\n",
            "6  2022-01-01  EC-JZI        1.0 2022-01-01 07:30:00 2022-01-01 07:12:00\n",
            "12 2022-01-01  EC-KDG        1.0 2022-01-01 14:20:00 2022-01-01 14:27:00\n",
            "16 2022-01-01  EC-KDH        1.0 2022-01-01 07:50:00 2022-01-01 08:13:00\n",
            "21 2022-01-01  EC-KDX        1.0 2022-01-01 17:35:00 2022-01-01 17:31:00\n",
            "24 2022-01-01  EC-KLB        1.0 2022-01-01 05:25:00 2022-01-01 05:20:00\n",
            "29 2022-01-01  EC-KLT        1.0 2022-01-01 07:30:00 2022-01-01 07:29:00\n",
            "33 2022-01-01  EC-KMI        1.0 2022-01-01 12:05:00 2022-01-01 12:01:00\n",
            "Media =  2.77027027027027\n"
          ]
        }
      ],
      "source": [
        "#Calculo error primer despegue despegue:\n",
        "\n",
        "df1['E_Despegue'] = (df1['ATD']- df1['STD']) /  np.timedelta64(1, 'm')\n",
        "\n",
        " \n",
        "df1['E_Despegue'].head()\n",
        " \n",
        "\n",
        "#print(df1['E_Despegue'][0], '-----', df1['Date_ATD'][0], '........', df1['Date_STD'][0])\n",
        "#print(df1[['DATE','REG', 'E_Despegue', 'Date_ATD', 'Date_STD']][0:8])\n",
        "\n",
        "print(df2[['DATE','REG', 'Secuencia','STD', 'ATD']][0:8])\n",
        "\n",
        "print('Media = ', df1['E_Despegue'].mean())"
      ]
    },
    {
      "cell_type": "code",
      "execution_count": 436,
      "id": "d08be5e9",
      "metadata": {
        "ExecuteTime": {
          "end_time": "2022-06-03T12:55:23.049526Z",
          "start_time": "2022-06-03T12:55:22.845884Z"
        },
        "colab": {
          "base_uri": "https://localhost:8080/",
          "height": 519
        },
        "id": "d08be5e9",
        "outputId": "c93e46ab-fc7d-4f01-b07d-327d9b1f60d1"
      },
      "outputs": [
        {
          "output_type": "execute_result",
          "data": {
            "text/plain": [
              "<matplotlib.axes._subplots.AxesSubplot at 0x7f5d9f569110>"
            ]
          },
          "metadata": {},
          "execution_count": 436
        },
        {
          "output_type": "display_data",
          "data": {
            "text/plain": [
              "<Figure size 1080x576 with 1 Axes>"
            ],
            "image/png": "[encoded data removed]"
          },
          "metadata": {}
        }
      ],
      "source": [
        "sns.histplot(data= df1.E_Despegue, kde= True)"
      ]
    },
    {
      "cell_type": "markdown",
      "id": "1ea80fcb",
      "metadata": {
        "id": "1ea80fcb"
      },
      "source": [
        "# Vemos que hay mucha dispersion hay que filtrar los datos a:\n",
        "## error de salida > 30 y < 30 y es el primer despegue"
      ]
    },
    {
      "cell_type": "code",
      "execution_count": 437,
      "id": "c48f08ae",
      "metadata": {
        "ExecuteTime": {
          "end_time": "2022-06-03T12:55:23.254980Z",
          "start_time": "2022-06-03T12:55:23.051493Z"
        },
        "hide_input": false,
        "colab": {
          "base_uri": "https://localhost:8080/",
          "height": 1000
        },
        "id": "c48f08ae",
        "outputId": "49f3aa8c-92eb-4fe8-a09d-937fe5eac9db"
      },
      "outputs": [
        {
          "output_type": "stream",
          "name": "stdout",
          "text": [
            "\n",
            "Media filtrada =  2.77 minutos\n",
            "     Secuencia  E_Despegue AeropuertoKey1\n",
            "0          1.0        20.0            SVQ\n",
            "6          1.0       -18.0            PMI\n",
            "12         1.0         7.0            AGP\n",
            "16         1.0        23.0           otro\n",
            "21         1.0        -4.0            BCN\n",
            "24         1.0        -5.0            AGP\n",
            "29         1.0        -1.0           otro\n",
            "33         1.0        -4.0            PMI\n",
            "34         1.0        -8.0            PMI\n",
            "36         1.0        -3.0           otro\n",
            "42         1.0         0.0            BCN\n",
            "49         1.0         0.0            TFN\n",
            "53         1.0        -7.0           otro\n",
            "57         1.0        -1.0            AGP\n",
            "62         1.0       -12.0           otro\n",
            "66         1.0        -3.0           otro\n",
            "73         1.0        -7.0            FCO\n",
            "77         1.0        -5.0           otro\n",
            "79         1.0        -3.0           otro\n",
            "84         1.0        -2.0            VLC\n",
            "88         1.0        -2.0           otro\n",
            "92         1.0       -11.0           otro\n",
            "96         1.0        -2.0            ALC\n",
            "100        1.0        -3.0           otro\n",
            "108        1.0        -3.0            FCO\n",
            "112        1.0        -4.0           otro\n",
            "116        1.0        17.0            LGW\n",
            "120        1.0         6.0           otro\n",
            "124        1.0        -6.0           otro\n",
            "130        1.0       -14.0            TFN\n",
            "136        1.0        -6.0            SVQ\n",
            "140        1.0         5.0           otro\n",
            "142        1.0        -2.0            IBZ\n",
            "146        1.0         4.0           otro\n",
            "150        1.0        -7.0            AMS\n",
            "154        1.0         5.0            BIO\n",
            "160        1.0       -16.0           otro\n",
            "162        1.0       -10.0           otro\n",
            "166        1.0        -2.0           otro\n",
            "172        1.0         5.0           otro\n",
            "174        1.0        13.0           otro\n",
            "181        1.0         7.0           otro\n",
            "186        1.0        -7.0           otro\n",
            "192        1.0        -1.0            ORY\n",
            "198        1.0         0.0           otro\n",
            "203        1.0        14.0           otro\n",
            "207        1.0        -4.0            PMI\n",
            "211        1.0        -9.0           otro\n",
            "217        1.0        -3.0           otro\n",
            "221        1.0        -3.0           otro\n"
          ]
        },
        {
          "output_type": "display_data",
          "data": {
            "text/plain": [
              "<Figure size 1080x576 with 1 Axes>"
            ],
            "image/png": "[encoded data removed]"
          },
          "metadata": {}
        }
      ],
      "source": [
        "# Eliminar los outliers\n",
        "df2=df.copy()\n",
        "dfEliminarOutliers= ((df2['Secuencia']== 1) & (df2['E_Despegue']< 30) & (df2['E_Despegue']> -30))\n",
        "\n",
        "df2 = df[dfEliminarOutliers]\n",
        "sns.histplot(data= df2.E_Despegue, kde= True)\n",
        "print()\n",
        "print('Media filtrada = ', round(df1['E_Despegue'].mean(),2), 'minutos')\n",
        "print(df2[['Secuencia', 'E_Despegue', 'AeropuertoKey1' ]]) "
      ]
    },
    {
      "cell_type": "code",
      "execution_count": 438,
      "id": "8e6408db",
      "metadata": {
        "ExecuteTime": {
          "end_time": "2022-06-03T12:57:22.413439Z",
          "start_time": "2022-06-03T12:57:22.391498Z"
        },
        "colab": {
          "base_uri": "https://localhost:8080/"
        },
        "id": "8e6408db",
        "outputId": "cbf49df8-005d-4674-be8b-fde95e11bc34"
      },
      "outputs": [
        {
          "output_type": "stream",
          "name": "stdout",
          "text": [
            "          DATE   FLT     REG   AC  DEP  ARR\n",
            "12  2022-01-01  2117  EC-KDG  320  BCN  AGP\n",
            "24  2022-01-01  2115  EC-KLB  320  BCN  AGP\n",
            "29  2022-01-01  2915  EC-KLT  320  BCN  BOD\n",
            "33  2022-01-01  3926  EC-KMI  320  BCN  PMI\n",
            "34  2022-01-01  3910  EC-KRH  320  BCN  PMI\n",
            "36  2022-01-01  1220  EC-LLJ  320  BCN  LYS\n",
            "53  2022-01-01  2475  EC-LOP  320  BCN  ACE\n",
            "57  2022-01-01  2111  EC-LUO  320  BCN  AGP\n",
            "62  2022-01-01  8714  EC-LVO  320  BCN  VIE\n",
            "66  2022-01-01  1290  EC-LVP  320  BCN  LCG\n",
            "73  2022-01-01  6110  EC-LVS  320  BCN  FCO\n",
            "79  2022-01-01  6400  EC-LVV  320  BCN  VCE\n",
            "92  2022-01-01  2020  EC-MAN  320  BCN  GRX\n",
            "100 2022-01-01  1812  EC-MBD  320  BCN  MUC\n",
            "108 2022-01-01  6104  EC-MBF  320  BCN  FCO\n",
            "120 2022-01-01  8538  EC-MBT  320  BCN  OSL\n",
            "124 2022-01-01  3714  EC-MDZ  320  BCN  MAH\n",
            "136 2022-01-01  2226  EC-MEQ  32A  BCN  SVQ\n",
            "140 2022-01-01  1292  EC-MER  32A  BCN  LCG\n",
            "142 2022-01-01  3504  EC-MES  32A  BCN  IBZ\n",
            "146 2022-01-01  6522  EC-MFK  320  BCN  BLQ\n",
            "160 2022-01-01  8476  EC-MGE  32A  BCN  OPO\n",
            "162 2022-01-01  8100  EC-MGF  319  BCN  ATH\n",
            "166 2022-01-01  6328  EC-MGY  321  BCN  MXP\n",
            "172 2022-01-01  8478  EC-MGZ  321  BCN  OPO\n",
            "186 2022-01-01  1508  EC-MIR  319  BCN  MRS\n",
            "211 2022-01-01  6246  EC-MKN  32A  BCN  ZRH\n",
            "217 2022-01-01  1898  EC-MKO  32A  BCN  DUS\n",
            "221 2022-01-01  6142  EC-MKV  319  BCN  OLB\n"
          ]
        }
      ],
      "source": [
        "# Para saber la puntualidad solo de Barcelona\n",
        "df2barcelonaPuntualida = (df2['DEP']== 'BCN')\n",
        "\n",
        "\n",
        "df2BarcelonaPuntualida = df2[df2barcelonaPuntualida]\n",
        "df2barcelonaPuntualida.head()\n",
        "\n",
        "#df2BarcelonaPuntualida.head()\n",
        "puntualidadBCN = round((df2BarcelonaPuntualida['E_Despegue'].mean()),2)#\n",
        "print(df2BarcelonaPuntualida[[ 'DATE',   'FLT',     'REG',  'AC', 'DEP',  'ARR']] )"
      ]
    },
    {
      "cell_type": "code",
      "execution_count": 439,
      "id": "6f9c4323",
      "metadata": {
        "ExecuteTime": {
          "end_time": "2022-06-03T12:55:23.302849Z",
          "start_time": "2022-06-03T12:55:23.271903Z"
        },
        "colab": {
          "base_uri": "https://localhost:8080/",
          "height": 544
        },
        "id": "6f9c4323",
        "outputId": "f3cf0ed6-daff-497c-ed75-50bb06bfe31f"
      },
      "outputs": [
        {
          "output_type": "execute_result",
          "data": {
            "text/plain": [
              "Text(0.5, 1.0, 'Puntualidad principales aeropuertos:')"
            ]
          },
          "metadata": {},
          "execution_count": 439
        },
        {
          "output_type": "display_data",
          "data": {
            "text/plain": [
              "<Figure size 1080x576 with 1 Axes>"
            ],
            "image/png": "[encoded data removed]"
          },
          "metadata": {}
        }
      ],
      "source": [
        "# Intervalos de Confianza por aeropuerto\n",
        "sns.set_theme(style=\"darkgrid\")\n",
        "#tips = sns.df1(\"tips\")\n",
        "sns.set(rc = {'figure.figsize':(15,8)})      \n",
        "# Tamaño de la imagen\n",
        "ax = sns.pointplot(x='AeropuertoKey1', y = \"E_Despegue\", data= df2, scale=.1, kind = \"point\", capsize=0.13)\n",
        "\n",
        "ax.axhline(puntualidadBCN, color=\"red\", linestyle = '--', label=\"ooas\")       # Linea 0 verde\n",
        "ax.axhline(0, color=\"green\", linestyle = '--')\n",
        "\n",
        "\n",
        "textoBCN = \"BCN \"+ str(puntualidadBCN) + ' minut.'\n",
        "ax.text(puntualidadBCN ,puntualidadBCN , textoBCN, backgroundcolor='w')\n",
        "\n",
        "ax.set_title('Puntualidad principales aeropuertos:', fontsize = 24)"
      ]
    },
    {
      "cell_type": "markdown",
      "id": "213c6d98",
      "metadata": {
        "id": "213c6d98"
      },
      "source": [
        "# tiempo 'Close Cargo Door'  -   'Close Pax'"
      ]
    },
    {
      "cell_type": "code",
      "execution_count": 440,
      "id": "7676a975",
      "metadata": {
        "ExecuteTime": {
          "end_time": "2022-06-03T12:55:23.304815Z",
          "start_time": "2022-06-03T12:55:23.304815Z"
        },
        "colab": {
          "base_uri": "https://localhost:8080/",
          "height": 589
        },
        "id": "7676a975",
        "outputId": "31cb06a2-b8b1-4b64-8be1-adda3b09a79e"
      },
      "outputs": [
        {
          "output_type": "stream",
          "name": "stdout",
          "text": [
            "\n",
            "Media filtrada =  -26.22 minutos\n"
          ]
        },
        {
          "output_type": "stream",
          "name": "stderr",
          "text": [
            "/usr/local/lib/python3.7/dist-packages/ipykernel_launcher.py:5: UserWarning: Boolean Series key will be reindexed to match DataFrame index.\n",
            "  \"\"\"\n"
          ]
        },
        {
          "output_type": "execute_result",
          "data": {
            "text/plain": [
              "<matplotlib.lines.Line2D at 0x7f5da4ab8c90>"
            ]
          },
          "metadata": {},
          "execution_count": 440
        },
        {
          "output_type": "display_data",
          "data": {
            "text/plain": [
              "<Figure size 1080x576 with 1 Axes>"
            ],
            "image/png": "[encoded data removed]"
          },
          "metadata": {}
        }
      ],
      "source": [
        "#t_Close_Cargo_Door\n",
        "\n",
        "dfEliminarOutliers= ((df1['Secuencia']== 1) & (df1['t_Close_Cargo_Door']< 30) & (df1['t_Close_Cargo_Door']> -30))\n",
        "\n",
        "df2 = df2[dfEliminarOutliers]\n",
        "#df2 = df2[dfEliminarOutliers]\n",
        "\n",
        "ax=sns.histplot(data= df2.t_Close_Cargo_Door, kde= True)\n",
        "\n",
        "media = round(df1['t_Close_Cargo_Door'].mean(),2)\n",
        "print()\n",
        "print('Media filtrada = ', media , 'minutos')\n",
        " \n",
        "ax.axvline(puntualidadBCN, color=\"red\", linestyle = '--', label=\"ooas\")       # Linea 0 verde\n",
        "ax.axvline(0, color=\"green\", linestyle = '--')\n"
      ]
    },
    {
      "cell_type": "markdown",
      "id": "64a0295e",
      "metadata": {
        "id": "64a0295e"
      },
      "source": [
        "# tiempo  'tiempo Close Pax'  -   'ATD'"
      ]
    },
    {
      "cell_type": "code",
      "execution_count": 441,
      "id": "ac8853c6",
      "metadata": {
        "ExecuteTime": {
          "end_time": "2022-06-03T12:55:23.304815Z",
          "start_time": "2022-06-03T12:55:23.304815Z"
        },
        "colab": {
          "base_uri": "https://localhost:8080/",
          "height": 589
        },
        "id": "ac8853c6",
        "outputId": "80538415-883f-4e0e-cf35-2374d338cc40"
      },
      "outputs": [
        {
          "output_type": "stream",
          "name": "stdout",
          "text": [
            "\n",
            "Media filtrada =  -20.99 minutos\n"
          ]
        },
        {
          "output_type": "stream",
          "name": "stderr",
          "text": [
            "/usr/local/lib/python3.7/dist-packages/ipykernel_launcher.py:5: UserWarning: Boolean Series key will be reindexed to match DataFrame index.\n",
            "  \"\"\"\n"
          ]
        },
        {
          "output_type": "execute_result",
          "data": {
            "text/plain": [
              "<matplotlib.lines.Line2D at 0x7f5da4acf8d0>"
            ]
          },
          "metadata": {},
          "execution_count": 441
        },
        {
          "output_type": "display_data",
          "data": {
            "text/plain": [
              "<Figure size 1080x576 with 1 Axes>"
            ],
            "image/png": "[encoded data removed]"
          },
          "metadata": {}
        }
      ],
      "source": [
        "#t_Close_Cargo_Door\n",
        "\n",
        "dfEliminarOutliers= ((df1['Secuencia']== 1) & (df1['t_ClosePax']< 30) & (df1['t_ClosePax']> -30))\n",
        "\n",
        "df2 = df2[dfEliminarOutliers] \n",
        "\n",
        "ax=sns.histplot(data= df2.t_Close_Cargo_Door, kde= True)\n",
        "\n",
        "media = round(df1['t_ClosePax'].mean(),2)\n",
        "print()\n",
        "print('Media filtrada = ', media , 'minutos')\n",
        " \n",
        "ax.axvline(puntualidadBCN, color=\"red\", linestyle = '--', label=\"ooas\")       # Linea 0 verde\n",
        "ax.axvline(0, color=\"green\", linestyle = '--')\n"
      ]
    },
    {
      "cell_type": "code",
      "execution_count": 442,
      "id": "f6003ff6",
      "metadata": {
        "ExecuteTime": {
          "end_time": "2022-06-03T12:55:23.306810Z",
          "start_time": "2022-06-03T12:55:23.306810Z"
        },
        "colab": {
          "base_uri": "https://localhost:8080/",
          "height": 519
        },
        "id": "f6003ff6",
        "outputId": "fe665fff-6414-40ee-e7d8-b9b994a56378"
      },
      "outputs": [
        {
          "output_type": "execute_result",
          "data": {
            "text/plain": [
              "<matplotlib.lines.Line2D at 0x7f5da3519a90>"
            ]
          },
          "metadata": {},
          "execution_count": 442
        },
        {
          "output_type": "display_data",
          "data": {
            "text/plain": [
              "<Figure size 1080x576 with 1 Axes>"
            ],
            "image/png": "[encoded data removed]"
          },
          "metadata": {}
        }
      ],
      "source": [
        "ax=sns.histplot(data= df2BarcelonaPuntualida.E_Despegue, kde= True)\n",
        "\n",
        "ax.axvline(puntualidadBCN, color=\"red\", linestyle = '--', label=\"ooas\")       # Linea 0 verde\n",
        "ax.axvline(0, color=\"green\", linestyle = '--')\n"
      ]
    },
    {
      "cell_type": "markdown",
      "id": "6b15fbe7",
      "metadata": {
        "id": "6b15fbe7"
      },
      "source": [
        "# creamos los LAGs"
      ]
    },
    {
      "cell_type": "code",
      "execution_count": 450,
      "id": "c541c43a",
      "metadata": {
        "ExecuteTime": {
          "end_time": "2022-06-03T12:55:23.308805Z",
          "start_time": "2022-06-03T12:55:23.308805Z"
        },
        "colab": {
          "base_uri": "https://localhost:8080/",
          "height": 424
        },
        "id": "c541c43a",
        "outputId": "4198e20c-a96c-431d-94de-c4701f26aa75"
      },
      "outputs": [
        {
          "output_type": "execute_result",
          "data": {
            "text/plain": [
              "     lag_Secuencia lag_REG\n",
              "0              2.0  EC-JSY\n",
              "1              3.0  EC-JSY\n",
              "2              4.0  EC-JSY\n",
              "3              5.0  EC-JSY\n",
              "4              6.0  EC-JSY\n",
              "..             ...     ...\n",
              "217            2.0  EC-MKO\n",
              "218            3.0  EC-MKO\n",
              "219            4.0  EC-MKO\n",
              "220            1.0  EC-MKV\n",
              "221            NaN     NaN\n",
              "\n",
              "[222 rows x 2 columns]"
            ],
            "text/html": [
              "\n",
              "  <div id=\"df-b0437b58-65a3-4d56-b507-9122bc61a792\">\n",
              "    <div class=\"colab-df-container\">\n",
              "      <div>\n",
              "<style scoped>\n",
              "    .dataframe tbody tr th:only-of-type {\n",
              "        vertical-align: middle;\n",
              "    }\n",
              "\n",
              "    .dataframe tbody tr th {\n",
              "        vertical-align: top;\n",
              "    }\n",
              "\n",
              "    .dataframe thead th {\n",
              "        text-align: right;\n",
              "    }\n",
              "</style>\n",
              "<table border=\"1\" class=\"dataframe\">\n",
              "  <thead>\n",
              "    <tr style=\"text-align: right;\">\n",
              "      <th></th>\n",
              "      <th>lag_Secuencia</th>\n",
              "      <th>lag_REG</th>\n",
              "    </tr>\n",
              "  </thead>\n",
              "  <tbody>\n",
              "    <tr>\n",
              "      <th>0</th>\n",
              "      <td>2.0</td>\n",
              "      <td>EC-JSY</td>\n",
              "    </tr>\n",
              "    <tr>\n",
              "      <th>1</th>\n",
              "      <td>3.0</td>\n",
              "      <td>EC-JSY</td>\n",
              "    </tr>\n",
              "    <tr>\n",
              "      <th>2</th>\n",
              "      <td>4.0</td>\n",
              "      <td>EC-JSY</td>\n",
              "    </tr>\n",
              "    <tr>\n",
              "      <th>3</th>\n",
              "      <td>5.0</td>\n",
              "      <td>EC-JSY</td>\n",
              "    </tr>\n",
              "    <tr>\n",
              "      <th>4</th>\n",
              "      <td>6.0</td>\n",
              "      <td>EC-JSY</td>\n",
              "    </tr>\n",
              "    <tr>\n",
              "      <th>...</th>\n",
              "      <td>...</td>\n",
              "      <td>...</td>\n",
              "    </tr>\n",
              "    <tr>\n",
              "      <th>217</th>\n",
              "      <td>2.0</td>\n",
              "      <td>EC-MKO</td>\n",
              "    </tr>\n",
              "    <tr>\n",
              "      <th>218</th>\n",
              "      <td>3.0</td>\n",
              "      <td>EC-MKO</td>\n",
              "    </tr>\n",
              "    <tr>\n",
              "      <th>219</th>\n",
              "      <td>4.0</td>\n",
              "      <td>EC-MKO</td>\n",
              "    </tr>\n",
              "    <tr>\n",
              "      <th>220</th>\n",
              "      <td>1.0</td>\n",
              "      <td>EC-MKV</td>\n",
              "    </tr>\n",
              "    <tr>\n",
              "      <th>221</th>\n",
              "      <td>NaN</td>\n",
              "      <td>NaN</td>\n",
              "    </tr>\n",
              "  </tbody>\n",
              "</table>\n",
              "<p>222 rows × 2 columns</p>\n",
              "</div>\n",
              "      <button class=\"colab-df-convert\" onclick=\"convertToInteractive('df-b0437b58-65a3-4d56-b507-9122bc61a792')\"\n",
              "              title=\"Convert this dataframe to an interactive table.\"\n",
              "              style=\"display:none;\">\n",
              "        \n",
              "  <svg xmlns=\"http://www.w3.org/2000/svg\" height=\"24px\"viewBox=\"0 0 24 24\"\n",
              "       width=\"24px\">\n",
              "    <path d=\"M0 0h24v24H0V0z\" fill=\"none\"/>\n",
              "    <path d=\"M18.56 5.44l.94 2.06.94-2.06 2.06-.94-2.06-.94-.94-2.06-.94 2.06-2.06.94zm-11 1L8.5 8.5l.94-2.06 2.06-.94-2.06-.94L8.5 2.5l-.94 2.06-2.06.94zm10 10l.94 2.06.94-2.06 2.06-.94-2.06-.94-.94-2.06-.94 2.06-2.06.94z\"/><path d=\"M17.41 7.96l-1.37-1.37c-.4-.4-.92-.59-1.43-.59-.52 0-1.04.2-1.43.59L10.3 9.45l-7.72 7.72c-.78.78-.78 2.05 0 2.83L4 21.41c.39.39.9.59 1.41.59.51 0 1.02-.2 1.41-.59l7.78-7.78 2.81-2.81c.8-.78.8-2.07 0-2.86zM5.41 20L4 18.59l7.72-7.72 1.47 1.35L5.41 20z\"/>\n",
              "  </svg>\n",
              "      </button>\n",
              "      \n",
              "  <style>\n",
              "    .colab-df-container {\n",
              "      display:flex;\n",
              "      flex-wrap:wrap;\n",
              "      gap: 12px;\n",
              "    }\n",
              "\n",
              "    .colab-df-convert {\n",
              "      background-color: #E8F0FE;\n",
              "      border: none;\n",
              "      border-radius: 50%;\n",
              "      cursor: pointer;\n",
              "      display: none;\n",
              "      fill: #1967D2;\n",
              "      height: 32px;\n",
              "      padding: 0 0 0 0;\n",
              "      width: 32px;\n",
              "    }\n",
              "\n",
              "    .colab-df-convert:hover {\n",
              "      background-color: #E2EBFA;\n",
              "      box-shadow: 0px 1px 2px rgba(60, 64, 67, 0.3), 0px 1px 3px 1px rgba(60, 64, 67, 0.15);\n",
              "      fill: #174EA6;\n",
              "    }\n",
              "\n",
              "    [theme=dark] .colab-df-convert {\n",
              "      background-color: #3B4455;\n",
              "      fill: #D2E3FC;\n",
              "    }\n",
              "\n",
              "    [theme=dark] .colab-df-convert:hover {\n",
              "      background-color: #434B5C;\n",
              "      box-shadow: 0px 1px 3px 1px rgba(0, 0, 0, 0.15);\n",
              "      filter: drop-shadow(0px 1px 2px rgba(0, 0, 0, 0.3));\n",
              "      fill: #FFFFFF;\n",
              "    }\n",
              "  </style>\n",
              "\n",
              "      <script>\n",
              "        const buttonEl =\n",
              "          document.querySelector('#df-b0437b58-65a3-4d56-b507-9122bc61a792 button.colab-df-convert');\n",
              "        buttonEl.style.display =\n",
              "          google.colab.kernel.accessAllowed ? 'block' : 'none';\n",
              "\n",
              "        async function convertToInteractive(key) {\n",
              "          const element = document.querySelector('#df-b0437b58-65a3-4d56-b507-9122bc61a792');\n",
              "          const dataTable =\n",
              "            await google.colab.kernel.invokeFunction('convertToInteractive',\n",
              "                                                     [key], {});\n",
              "          if (!dataTable) return;\n",
              "\n",
              "          const docLinkHtml = 'Like what you see? Visit the ' +\n",
              "            '<a target=\"_blank\" href=https://colab.research.google.com/notebooks/data_table.ipynb>data table notebook</a>'\n",
              "            + ' to learn more about interactive tables.';\n",
              "          element.innerHTML = '';\n",
              "          dataTable['output_type'] = 'display_data';\n",
              "          await google.colab.output.renderOutput(dataTable, element);\n",
              "          const docLink = document.createElement('div');\n",
              "          docLink.innerHTML = docLinkHtml;\n",
              "          element.appendChild(docLink);\n",
              "        }\n",
              "      </script>\n",
              "    </div>\n",
              "  </div>\n",
              "  "
            ]
          },
          "metadata": {},
          "execution_count": 450
        }
      ],
      "source": [
        "#Creamos los LAGs\n",
        "\n",
        "df[f'lag_STD']= df['STD'].shift(periods=-1)  \n",
        "#adecuarFechas('DATE', 'lag_STD')\n",
        "df[f'lag_ATD']= df['ATD'].shift(periods=-1)  \n",
        "\n",
        "df[f'lag_STA']= df['STA'].shift(periods=-1)  \n",
        "#adecuarFechas('DATE', 'lag_STD')\n",
        "df[f'lag_ATA']= df['ATA'].shift(periods=-1) \n",
        "\n",
        "#adecuarFechas('Pasajeros', 'ACT PAX  ')\n",
        "df[f'lag_ACT PAX']= df['ACT PAX'].shift(periods=-1) \n",
        "\n",
        "#Lag de la siguiente secuencia\n",
        "df[f'lag_Secuencia']= df['Secuencia'].shift(periods=-1) \n",
        "df[f'lag_REG']= df['REG'].shift(periods=-1) \n",
        "\n",
        "df[['lag_Secuencia', 'lag_REG']]"
      ]
    },
    {
      "cell_type": "markdown",
      "id": "302d4979",
      "metadata": {
        "id": "302d4979"
      },
      "source": [
        "# Tiempo en tierra de una avion despues primer salto\n",
        "##df3 --> Calculo tiempo en tierra"
      ]
    },
    {
      "cell_type": "code",
      "execution_count": 447,
      "id": "a7959df3",
      "metadata": {
        "ExecuteTime": {
          "end_time": "2022-06-03T12:55:23.309802Z",
          "start_time": "2022-06-03T12:55:23.309802Z"
        },
        "colab": {
          "base_uri": "https://localhost:8080/"
        },
        "id": "a7959df3",
        "outputId": "f0ae40ac-59d8-4f8e-f9fe-616892b2735e"
      },
      "outputs": [
        {
          "output_type": "stream",
          "name": "stdout",
          "text": [
            "    FLT  Secuencia                 STD                 ATD  \\\n",
            "0  2506        1.0 2022-01-01 07:40:00 2022-01-01 08:00:00   \n",
            "1  2505        2.0 2022-01-01 09:40:00 2022-01-01 09:51:00   \n",
            "2  1386        3.0 2022-01-01 11:40:00 2022-01-01 11:40:00   \n",
            "3  1387        4.0 2022-01-01 13:30:00 2022-01-01 13:23:00   \n",
            "\n",
            "              lag_STD  T_teoricoTierra1  E_tierra1  \n",
            "0 2022-01-01 09:40:00              35.0       -4.0  \n",
            "1 2022-01-01 11:40:00              35.0       -4.0  \n",
            "2 2022-01-01 13:30:00              40.0       -2.0  \n",
            "3 2022-01-01 15:15:00              40.0       16.0  \n",
            "\n",
            "Media filtrada =  18.71 minutos\n"
          ]
        }
      ],
      "source": [
        "df= df.sort_values(['DATE', 'REG', 'STD'])\n",
        "\n",
        "\n",
        "\n",
        "df['T_teoricoTierra1'] = (df['lag_STD']- df['STA']) /  np.timedelta64(1, 'm')\n",
        "df['T_RealTierra1'] = (df['lag_ATD']- df['ATA']) /  np.timedelta64(1, 'm')\n",
        "\n",
        "df['E_tierra1'] = df['T_RealTierra1'] -df['T_teoricoTierra1']\n",
        "\n",
        "\n",
        "#df[f'lag_STD']= df['STD'].shift(periods=-1)  \n",
        "\n",
        "\n",
        "df3=df\n",
        "#selecionoSecuencia_1= (df['Secuencia']== 1)\n",
        "#df3 = df[selecionoSecuencia_1]\n",
        "\n",
        "\n",
        "#print(df3[['DATE','REG', 'Secuencia']][0:8])\n",
        "\n",
        "print(df3[['FLT', 'Secuencia','STD', 'ATD', 'lag_STD', 'T_teoricoTierra1', 'E_tierra1']][0:4])\n",
        "print()\n",
        "print('Media filtrada = ', round(df3['E_tierra1'].mean(),2), 'minutos')\n"
      ]
    },
    {
      "cell_type": "code",
      "execution_count": 448,
      "id": "a8786c2f",
      "metadata": {
        "ExecuteTime": {
          "end_time": "2022-06-03T12:55:23.310799Z",
          "start_time": "2022-06-03T12:55:23.310799Z"
        },
        "colab": {
          "base_uri": "https://localhost:8080/"
        },
        "id": "a8786c2f",
        "outputId": "568a01ec-416c-486d-9738-768f57120734"
      },
      "outputs": [
        {
          "output_type": "execute_result",
          "data": {
            "text/plain": [
              "0    15.0\n",
              "1     4.0\n",
              "2    -5.0\n",
              "Name: Puntualidad1, dtype: float64"
            ]
          },
          "metadata": {},
          "execution_count": 448
        }
      ],
      "source": [
        "# Retraso\n",
        "df['Puntualidad1'] = (df['ATA'] - df['STA']) /  np.timedelta64(1, 'm') \n",
        "df['Puntualidad1'].head(3)"
      ]
    },
    {
      "cell_type": "code",
      "source": [
        "# Total pasajeros Boarding\n",
        "\n",
        "df['Total_PAX_Boarding'] = df['lag_ACT PAX'] +df['ACT PAX']\n",
        "\n",
        "df['Total_PAX_Boarding'] \n",
        "\n",
        "df['T_Medio_Boarding'] = round(df['Total_PAX_Boarding'] / df['T_RealTierra1'],1)\n",
        "df[['T_Medio_Boarding', 'Total_PAX_Boarding', 'T_RealTierra1']]\n",
        "#df['T_Medio_Boarding']"
      ],
      "metadata": {
        "id": "9K4AJRrNDQah",
        "outputId": "cee4e129-33ef-430a-bd22-8a1848908733",
        "colab": {
          "base_uri": "https://localhost:8080/",
          "height": 424
        }
      },
      "id": "9K4AJRrNDQah",
      "execution_count": 449,
      "outputs": [
        {
          "output_type": "execute_result",
          "data": {
            "text/plain": [
              "     T_Medio_Boarding  Total_PAX_Boarding  T_RealTierra1\n",
              "0                 6.6               206.0           31.0\n",
              "1                 4.4               135.0           31.0\n",
              "2                 2.1                78.0           38.0\n",
              "3                 3.6               202.0           56.0\n",
              "4                 7.5               276.0           37.0\n",
              "..                ...                 ...            ...\n",
              "217               5.9               328.0           56.0\n",
              "218               2.7               244.0           89.0\n",
              "219               5.4               152.0           28.0\n",
              "220              -0.1               101.0         -701.0\n",
              "221               NaN                 NaN            NaN\n",
              "\n",
              "[222 rows x 3 columns]"
            ],
            "text/html": [
              "\n",
              "  <div id=\"df-f45e4958-945e-45e1-abd8-86408d6efd55\">\n",
              "    <div class=\"colab-df-container\">\n",
              "      <div>\n",
              "<style scoped>\n",
              "    .dataframe tbody tr th:only-of-type {\n",
              "        vertical-align: middle;\n",
              "    }\n",
              "\n",
              "    .dataframe tbody tr th {\n",
              "        vertical-align: top;\n",
              "    }\n",
              "\n",
              "    .dataframe thead th {\n",
              "        text-align: right;\n",
              "    }\n",
              "</style>\n",
              "<table border=\"1\" class=\"dataframe\">\n",
              "  <thead>\n",
              "    <tr style=\"text-align: right;\">\n",
              "      <th></th>\n",
              "      <th>T_Medio_Boarding</th>\n",
              "      <th>Total_PAX_Boarding</th>\n",
              "      <th>T_RealTierra1</th>\n",
              "    </tr>\n",
              "  </thead>\n",
              "  <tbody>\n",
              "    <tr>\n",
              "      <th>0</th>\n",
              "      <td>6.6</td>\n",
              "      <td>206.0</td>\n",
              "      <td>31.0</td>\n",
              "    </tr>\n",
              "    <tr>\n",
              "      <th>1</th>\n",
              "      <td>4.4</td>\n",
              "      <td>135.0</td>\n",
              "      <td>31.0</td>\n",
              "    </tr>\n",
              "    <tr>\n",
              "      <th>2</th>\n",
              "      <td>2.1</td>\n",
              "      <td>78.0</td>\n",
              "      <td>38.0</td>\n",
              "    </tr>\n",
              "    <tr>\n",
              "      <th>3</th>\n",
              "      <td>3.6</td>\n",
              "      <td>202.0</td>\n",
              "      <td>56.0</td>\n",
              "    </tr>\n",
              "    <tr>\n",
              "      <th>4</th>\n",
              "      <td>7.5</td>\n",
              "      <td>276.0</td>\n",
              "      <td>37.0</td>\n",
              "    </tr>\n",
              "    <tr>\n",
              "      <th>...</th>\n",
              "      <td>...</td>\n",
              "      <td>...</td>\n",
              "      <td>...</td>\n",
              "    </tr>\n",
              "    <tr>\n",
              "      <th>217</th>\n",
              "      <td>5.9</td>\n",
              "      <td>328.0</td>\n",
              "      <td>56.0</td>\n",
              "    </tr>\n",
              "    <tr>\n",
              "      <th>218</th>\n",
              "      <td>2.7</td>\n",
              "      <td>244.0</td>\n",
              "      <td>89.0</td>\n",
              "    </tr>\n",
              "    <tr>\n",
              "      <th>219</th>\n",
              "      <td>5.4</td>\n",
              "      <td>152.0</td>\n",
              "      <td>28.0</td>\n",
              "    </tr>\n",
              "    <tr>\n",
              "      <th>220</th>\n",
              "      <td>-0.1</td>\n",
              "      <td>101.0</td>\n",
              "      <td>-701.0</td>\n",
              "    </tr>\n",
              "    <tr>\n",
              "      <th>221</th>\n",
              "      <td>NaN</td>\n",
              "      <td>NaN</td>\n",
              "      <td>NaN</td>\n",
              "    </tr>\n",
              "  </tbody>\n",
              "</table>\n",
              "<p>222 rows × 3 columns</p>\n",
              "</div>\n",
              "      <button class=\"colab-df-convert\" onclick=\"convertToInteractive('df-f45e4958-945e-45e1-abd8-86408d6efd55')\"\n",
              "              title=\"Convert this dataframe to an interactive table.\"\n",
              "              style=\"display:none;\">\n",
              "        \n",
              "  <svg xmlns=\"http://www.w3.org/2000/svg\" height=\"24px\"viewBox=\"0 0 24 24\"\n",
              "       width=\"24px\">\n",
              "    <path d=\"M0 0h24v24H0V0z\" fill=\"none\"/>\n",
              "    <path d=\"M18.56 5.44l.94 2.06.94-2.06 2.06-.94-2.06-.94-.94-2.06-.94 2.06-2.06.94zm-11 1L8.5 8.5l.94-2.06 2.06-.94-2.06-.94L8.5 2.5l-.94 2.06-2.06.94zm10 10l.94 2.06.94-2.06 2.06-.94-2.06-.94-.94-2.06-.94 2.06-2.06.94z\"/><path d=\"M17.41 7.96l-1.37-1.37c-.4-.4-.92-.59-1.43-.59-.52 0-1.04.2-1.43.59L10.3 9.45l-7.72 7.72c-.78.78-.78 2.05 0 2.83L4 21.41c.39.39.9.59 1.41.59.51 0 1.02-.2 1.41-.59l7.78-7.78 2.81-2.81c.8-.78.8-2.07 0-2.86zM5.41 20L4 18.59l7.72-7.72 1.47 1.35L5.41 20z\"/>\n",
              "  </svg>\n",
              "      </button>\n",
              "      \n",
              "  <style>\n",
              "    .colab-df-container {\n",
              "      display:flex;\n",
              "      flex-wrap:wrap;\n",
              "      gap: 12px;\n",
              "    }\n",
              "\n",
              "    .colab-df-convert {\n",
              "      background-color: #E8F0FE;\n",
              "      border: none;\n",
              "      border-radius: 50%;\n",
              "      cursor: pointer;\n",
              "      display: none;\n",
              "      fill: #1967D2;\n",
              "      height: 32px;\n",
              "      padding: 0 0 0 0;\n",
              "      width: 32px;\n",
              "    }\n",
              "\n",
              "    .colab-df-convert:hover {\n",
              "      background-color: #E2EBFA;\n",
              "      box-shadow: 0px 1px 2px rgba(60, 64, 67, 0.3), 0px 1px 3px 1px rgba(60, 64, 67, 0.15);\n",
              "      fill: #174EA6;\n",
              "    }\n",
              "\n",
              "    [theme=dark] .colab-df-convert {\n",
              "      background-color: #3B4455;\n",
              "      fill: #D2E3FC;\n",
              "    }\n",
              "\n",
              "    [theme=dark] .colab-df-convert:hover {\n",
              "      background-color: #434B5C;\n",
              "      box-shadow: 0px 1px 3px 1px rgba(0, 0, 0, 0.15);\n",
              "      filter: drop-shadow(0px 1px 2px rgba(0, 0, 0, 0.3));\n",
              "      fill: #FFFFFF;\n",
              "    }\n",
              "  </style>\n",
              "\n",
              "      <script>\n",
              "        const buttonEl =\n",
              "          document.querySelector('#df-f45e4958-945e-45e1-abd8-86408d6efd55 button.colab-df-convert');\n",
              "        buttonEl.style.display =\n",
              "          google.colab.kernel.accessAllowed ? 'block' : 'none';\n",
              "\n",
              "        async function convertToInteractive(key) {\n",
              "          const element = document.querySelector('#df-f45e4958-945e-45e1-abd8-86408d6efd55');\n",
              "          const dataTable =\n",
              "            await google.colab.kernel.invokeFunction('convertToInteractive',\n",
              "                                                     [key], {});\n",
              "          if (!dataTable) return;\n",
              "\n",
              "          const docLinkHtml = 'Like what you see? Visit the ' +\n",
              "            '<a target=\"_blank\" href=https://colab.research.google.com/notebooks/data_table.ipynb>data table notebook</a>'\n",
              "            + ' to learn more about interactive tables.';\n",
              "          element.innerHTML = '';\n",
              "          dataTable['output_type'] = 'display_data';\n",
              "          await google.colab.output.renderOutput(dataTable, element);\n",
              "          const docLink = document.createElement('div');\n",
              "          docLink.innerHTML = docLinkHtml;\n",
              "          element.appendChild(docLink);\n",
              "        }\n",
              "      </script>\n",
              "    </div>\n",
              "  </div>\n",
              "  "
            ]
          },
          "metadata": {},
          "execution_count": 449
        }
      ]
    },
    {
      "cell_type": "markdown",
      "source": [
        "# Calculo Tiempod e carga y descarga:\n",
        "Cojo solo las segundas secuencias que tengan el siguiente vuelo el mismo REG"
      ],
      "metadata": {
        "id": "aeD0_kWhI3AP"
      },
      "id": "aeD0_kWhI3AP"
    },
    {
      "cell_type": "markdown",
      "id": "9068a62c",
      "metadata": {
        "id": "9068a62c"
      },
      "source": [
        "# Creamos los LAG siguientes saltos"
      ]
    },
    {
      "cell_type": "code",
      "execution_count": 346,
      "id": "ce860987",
      "metadata": {
        "ExecuteTime": {
          "end_time": "2022-06-03T12:55:23.311809Z",
          "start_time": "2022-06-03T12:55:23.311809Z"
        },
        "colab": {
          "base_uri": "https://localhost:8080/"
        },
        "id": "ce860987",
        "outputId": "940f4300-3477-4bed-f813-d92f6924f20b"
      },
      "outputs": [
        {
          "output_type": "execute_result",
          "data": {
            "text/plain": [
              "Index(['DATE', 'FLT', 'REG', 'AC', 'DEP', 'ARR', 'STD', 'STA', 'TKof', 'TDwn',\n",
              "       'ATD', 'ATA', 'BLOCK', 'FLThr', 'DStand', 'AStand', 'ACT PAX', 'LF',\n",
              "       'Taxi-out', 'Taxi-In', 'SLOT', 'C1', 'DLY1', 'Sub1', 'C2', 'DLY2',\n",
              "       'Sub2', 'C3', 'DLY3', 'Sub3', 'C4', 'DLY4', 'Sub4', 'C1Arr', 'DLY1Arr',\n",
              "       'Close Pax Door', 'Close Cargo Door', 'Open Cargo/Pax Door',\n",
              "       'close pax door2', 'close cargo door2', 'open cargo/pax door2',\n",
              "       'Secuencia', 'Aeropuerto_Key', 'AeropuertoKey1', 'DuracionVueloTeorico',\n",
              "       'DuracionVueloReal', 'E_Duracion_Vuelo', 't_ClosePax',\n",
              "       't_Close_Cargo_Door', 't_Entre_Puertas', 'Trayecto', 'E_Despegue',\n",
              "       'lag_STD', 'lag_ATD', 'lag_STA', 'lag_ATA', 'lag_ACT PAX',\n",
              "       'T_teoricoTierra1', 'T_RealTierra1', 'E_tierra1', 'Puntualidad1'],\n",
              "      dtype='object')"
            ]
          },
          "metadata": {},
          "execution_count": 346
        }
      ],
      "source": [
        "df.columns"
      ]
    },
    {
      "cell_type": "code",
      "execution_count": 347,
      "id": "95a8ef79",
      "metadata": {
        "ExecuteTime": {
          "end_time": "2022-06-03T12:55:23.313791Z",
          "start_time": "2022-06-03T12:55:23.313791Z"
        },
        "id": "95a8ef79"
      },
      "outputs": [],
      "source": [
        "#Creamos los LAGs\n",
        "df[f'E_Despegue2']= df['E_Despegue'].shift(periods=-1) \n",
        "df[f'E_Despegue3']= df['E_Despegue'].shift(periods=-2) \n",
        "\n",
        "df[f'E_Duracion_Vuelo2']= df['E_Duracion_Vuelo'].shift(periods=-1) \n",
        "df[f'E_Duracion_Vuelo3']= df['E_Duracion_Vuelo'].shift(periods=-2) \n",
        "\n",
        "df[f'E_tierra2']= df['E_tierra1'].shift(periods=-1) \n",
        "df[f'E_tierra3']= df['E_tierra1'].shift(periods=-2) \n",
        "\n",
        "df[f'Aeropuerto_Key2']= df['Aeropuerto_Key'].shift(periods=-1) \n",
        "df[f'Aeropuerto_Key3']= df['Aeropuerto_Key'].shift(periods=-2) \n",
        "\n",
        "\n",
        "df[f'Puntualidad2']= df['Puntualidad1'].shift(periods=-1) \n",
        "df[f'Puntualidad3']= df['Puntualidad1'].shift(periods=-2) \n",
        "\n",
        "\n",
        "df[f'E_Despegue_Total'] = df[f'E_Despegue'] + df[f'E_Despegue2'] + df[f'E_Despegue3']\n",
        "df[f'E_Duracion_Vuelo_Total'] = df[f'E_Duracion_Vuelo'] + df[f'E_Duracion_Vuelo2'] + df[f'E_Duracion_Vuelo3']  \n",
        "df[f'E_tierra_Total'] = df[f'E_tierra1'] + df[f'E_tierra2'] + df[f'E_tierra3']    \n",
        "\n",
        "df['E_acumulado_Total'] = df[f'E_Despegue_Total'] + df[f'E_Duracion_Vuelo_Total'] + df[f'E_tierra_Total'] \n"
      ]
    },
    {
      "cell_type": "markdown",
      "id": "eee9b345",
      "metadata": {
        "id": "eee9b345"
      },
      "source": [
        "# Estudio en Tierra primer aterrizaje."
      ]
    },
    {
      "cell_type": "code",
      "execution_count": 265,
      "id": "84994c6b",
      "metadata": {
        "ExecuteTime": {
          "end_time": "2022-06-03T12:55:23.314788Z",
          "start_time": "2022-06-03T12:55:23.314788Z"
        },
        "colab": {
          "base_uri": "https://localhost:8080/",
          "height": 519
        },
        "id": "84994c6b",
        "outputId": "df0bdb04-fdbf-4a5d-851e-a9bd5e51c793"
      },
      "outputs": [
        {
          "output_type": "execute_result",
          "data": {
            "text/plain": [
              "<matplotlib.axes._subplots.AxesSubplot at 0x7f5da29a1f50>"
            ]
          },
          "metadata": {},
          "execution_count": 265
        },
        {
          "output_type": "display_data",
          "data": {
            "text/plain": [
              "<Figure size 1080x576 with 1 Axes>"
            ],
            "image/png": "[encoded data removed]"
          },
          "metadata": {}
        }
      ],
      "source": [
        "sns.histplot(data= df3.E_tierra1, kde= True)"
      ]
    },
    {
      "cell_type": "code",
      "execution_count": 266,
      "id": "e2ef1148",
      "metadata": {
        "ExecuteTime": {
          "end_time": "2022-06-03T12:55:23.315785Z",
          "start_time": "2022-06-03T12:55:23.315785Z"
        },
        "colab": {
          "base_uri": "https://localhost:8080/",
          "height": 554
        },
        "id": "e2ef1148",
        "outputId": "7eaccd12-f3a2-44c5-82f9-65acbc31f433"
      },
      "outputs": [
        {
          "output_type": "stream",
          "name": "stdout",
          "text": [
            "\n",
            "Media filtrada =  4.44 minutos\n"
          ]
        },
        {
          "output_type": "execute_result",
          "data": {
            "text/plain": [
              "<matplotlib.lines.Line2D at 0x7f5d9b454ed0>"
            ]
          },
          "metadata": {},
          "execution_count": 266
        },
        {
          "output_type": "display_data",
          "data": {
            "text/plain": [
              "<Figure size 1080x576 with 1 Axes>"
            ],
            "image/png": "[encoded data removed]"
          },
          "metadata": {}
        }
      ],
      "source": [
        "# Eliminar los outliers\n",
        "#df2=df1\n",
        "dfEliminarOutliers= ((df3['Secuencia']== 1) & (df3['E_tierra1']< 30) & (df3['E_tierra1']> -30))\n",
        "\n",
        "df3 = df3[dfEliminarOutliers]\n",
        "ax = sns.histplot(data= df3.E_tierra1, kde= True)\n",
        "print()\n",
        "print('Media filtrada = ', round(df3['E_tierra1'].mean(),2), 'minutos')\n",
        "\n",
        "media = round(df3['E_tierra1'].mean(),2)\n",
        "\n",
        "ax.axvline(media, color=\"red\", linestyle = '--', label=\"ooas\")       # Linea 0 verde\n",
        "ax.axvline(0, color=\"green\", linestyle = '--')"
      ]
    },
    {
      "cell_type": "code",
      "execution_count": 267,
      "id": "e1410825",
      "metadata": {
        "ExecuteTime": {
          "end_time": "2022-06-03T12:55:23.316783Z",
          "start_time": "2022-06-03T12:55:23.316783Z"
        },
        "colab": {
          "base_uri": "https://localhost:8080/",
          "height": 293
        },
        "id": "e1410825",
        "outputId": "9ab46e5f-893d-4347-9170-61c24540edb3"
      },
      "outputs": [
        {
          "output_type": "stream",
          "name": "stderr",
          "text": [
            "/usr/local/lib/python3.7/dist-packages/ipykernel_launcher.py:19: SettingWithCopyWarning: \n",
            "A value is trying to be set on a copy of a slice from a DataFrame.\n",
            "Try using .loc[row_indexer,col_indexer] = value instead\n",
            "\n",
            "See the caveats in the documentation: https://pandas.pydata.org/pandas-docs/stable/user_guide/indexing.html#returning-a-view-versus-a-copy\n"
          ]
        },
        {
          "output_type": "execute_result",
          "data": {
            "text/plain": [
              "     T_teoricoTierra1 t_boarding\n",
              "36               40.0     2.- 40\n",
              "66               35.0    1.- <40\n",
              "140              35.0    1.- <40\n",
              "154              35.0    1.- <40\n",
              "100              40.0     2.- 40"
            ],
            "text/html": [
              "\n",
              "  <div id=\"df-97117928-816f-4a3c-92cf-9cee6c1e27d6\">\n",
              "    <div class=\"colab-df-container\">\n",
              "      <div>\n",
              "<style scoped>\n",
              "    .dataframe tbody tr th:only-of-type {\n",
              "        vertical-align: middle;\n",
              "    }\n",
              "\n",
              "    .dataframe tbody tr th {\n",
              "        vertical-align: top;\n",
              "    }\n",
              "\n",
              "    .dataframe thead th {\n",
              "        text-align: right;\n",
              "    }\n",
              "</style>\n",
              "<table border=\"1\" class=\"dataframe\">\n",
              "  <thead>\n",
              "    <tr style=\"text-align: right;\">\n",
              "      <th></th>\n",
              "      <th>T_teoricoTierra1</th>\n",
              "      <th>t_boarding</th>\n",
              "    </tr>\n",
              "  </thead>\n",
              "  <tbody>\n",
              "    <tr>\n",
              "      <th>36</th>\n",
              "      <td>40.0</td>\n",
              "      <td>2.- 40</td>\n",
              "    </tr>\n",
              "    <tr>\n",
              "      <th>66</th>\n",
              "      <td>35.0</td>\n",
              "      <td>1.- &lt;40</td>\n",
              "    </tr>\n",
              "    <tr>\n",
              "      <th>140</th>\n",
              "      <td>35.0</td>\n",
              "      <td>1.- &lt;40</td>\n",
              "    </tr>\n",
              "    <tr>\n",
              "      <th>154</th>\n",
              "      <td>35.0</td>\n",
              "      <td>1.- &lt;40</td>\n",
              "    </tr>\n",
              "    <tr>\n",
              "      <th>100</th>\n",
              "      <td>40.0</td>\n",
              "      <td>2.- 40</td>\n",
              "    </tr>\n",
              "  </tbody>\n",
              "</table>\n",
              "</div>\n",
              "      <button class=\"colab-df-convert\" onclick=\"convertToInteractive('df-97117928-816f-4a3c-92cf-9cee6c1e27d6')\"\n",
              "              title=\"Convert this dataframe to an interactive table.\"\n",
              "              style=\"display:none;\">\n",
              "        \n",
              "  <svg xmlns=\"http://www.w3.org/2000/svg\" height=\"24px\"viewBox=\"0 0 24 24\"\n",
              "       width=\"24px\">\n",
              "    <path d=\"M0 0h24v24H0V0z\" fill=\"none\"/>\n",
              "    <path d=\"M18.56 5.44l.94 2.06.94-2.06 2.06-.94-2.06-.94-.94-2.06-.94 2.06-2.06.94zm-11 1L8.5 8.5l.94-2.06 2.06-.94-2.06-.94L8.5 2.5l-.94 2.06-2.06.94zm10 10l.94 2.06.94-2.06 2.06-.94-2.06-.94-.94-2.06-.94 2.06-2.06.94z\"/><path d=\"M17.41 7.96l-1.37-1.37c-.4-.4-.92-.59-1.43-.59-.52 0-1.04.2-1.43.59L10.3 9.45l-7.72 7.72c-.78.78-.78 2.05 0 2.83L4 21.41c.39.39.9.59 1.41.59.51 0 1.02-.2 1.41-.59l7.78-7.78 2.81-2.81c.8-.78.8-2.07 0-2.86zM5.41 20L4 18.59l7.72-7.72 1.47 1.35L5.41 20z\"/>\n",
              "  </svg>\n",
              "      </button>\n",
              "      \n",
              "  <style>\n",
              "    .colab-df-container {\n",
              "      display:flex;\n",
              "      flex-wrap:wrap;\n",
              "      gap: 12px;\n",
              "    }\n",
              "\n",
              "    .colab-df-convert {\n",
              "      background-color: #E8F0FE;\n",
              "      border: none;\n",
              "      border-radius: 50%;\n",
              "      cursor: pointer;\n",
              "      display: none;\n",
              "      fill: #1967D2;\n",
              "      height: 32px;\n",
              "      padding: 0 0 0 0;\n",
              "      width: 32px;\n",
              "    }\n",
              "\n",
              "    .colab-df-convert:hover {\n",
              "      background-color: #E2EBFA;\n",
              "      box-shadow: 0px 1px 2px rgba(60, 64, 67, 0.3), 0px 1px 3px 1px rgba(60, 64, 67, 0.15);\n",
              "      fill: #174EA6;\n",
              "    }\n",
              "\n",
              "    [theme=dark] .colab-df-convert {\n",
              "      background-color: #3B4455;\n",
              "      fill: #D2E3FC;\n",
              "    }\n",
              "\n",
              "    [theme=dark] .colab-df-convert:hover {\n",
              "      background-color: #434B5C;\n",
              "      box-shadow: 0px 1px 3px 1px rgba(0, 0, 0, 0.15);\n",
              "      filter: drop-shadow(0px 1px 2px rgba(0, 0, 0, 0.3));\n",
              "      fill: #FFFFFF;\n",
              "    }\n",
              "  </style>\n",
              "\n",
              "      <script>\n",
              "        const buttonEl =\n",
              "          document.querySelector('#df-97117928-816f-4a3c-92cf-9cee6c1e27d6 button.colab-df-convert');\n",
              "        buttonEl.style.display =\n",
              "          google.colab.kernel.accessAllowed ? 'block' : 'none';\n",
              "\n",
              "        async function convertToInteractive(key) {\n",
              "          const element = document.querySelector('#df-97117928-816f-4a3c-92cf-9cee6c1e27d6');\n",
              "          const dataTable =\n",
              "            await google.colab.kernel.invokeFunction('convertToInteractive',\n",
              "                                                     [key], {});\n",
              "          if (!dataTable) return;\n",
              "\n",
              "          const docLinkHtml = 'Like what you see? Visit the ' +\n",
              "            '<a target=\"_blank\" href=https://colab.research.google.com/notebooks/data_table.ipynb>data table notebook</a>'\n",
              "            + ' to learn more about interactive tables.';\n",
              "          element.innerHTML = '';\n",
              "          dataTable['output_type'] = 'display_data';\n",
              "          await google.colab.output.renderOutput(dataTable, element);\n",
              "          const docLink = document.createElement('div');\n",
              "          docLink.innerHTML = docLinkHtml;\n",
              "          element.appendChild(docLink);\n",
              "        }\n",
              "      </script>\n",
              "    </div>\n",
              "  </div>\n",
              "  "
            ]
          },
          "metadata": {},
          "execution_count": 267
        }
      ],
      "source": [
        "# Crear Subgrupos de tiempo de boarding:\n",
        "'''\n",
        "df3['t_boarding'] = pd.cut(df3['T_teoricoTierra1'], bins = [ -9000,0, 41, 46,51,60,100000], labels=['NEGATIVOS',\n",
        "                                                                                              '1.- >0 & <=41',\n",
        "                                                                                              '2.- >42 & <=46',\n",
        "                                                                                              '3.- >47 & <51',\n",
        "                                                                                              '4.- >52 & <60',\n",
        "                                                                                              '5.- >61'])\n",
        "'''\n",
        "\n",
        "df3['t_boarding'] = pd.cut(df3['T_teoricoTierra1'], bins = [ -9000, 0, 39, 40, 45, 50, 55, 60, 100000], labels=['NEGATIVOS',\n",
        "                                                                                                          \n",
        "                                                                                                          '1.- <40',\n",
        "                                                                                                          '2.- 40',\n",
        "                                                                                                          '3.- 45',\n",
        "                                                                                                          '4.- 50',\n",
        "                                                                                                          '5.- 55',\n",
        "                                                                                                          '6.- 60', \n",
        "                                                                                                          '7.- >60'])\n",
        "df3[['T_teoricoTierra1', 't_boarding']].head(5)"
      ]
    },
    {
      "cell_type": "code",
      "execution_count": 268,
      "id": "55a1a585",
      "metadata": {
        "ExecuteTime": {
          "end_time": "2022-06-03T12:55:23.317780Z",
          "start_time": "2022-06-03T12:55:23.317780Z"
        },
        "code_folding": [
          0
        ],
        "colab": {
          "base_uri": "https://localhost:8080/"
        },
        "id": "55a1a585",
        "outputId": "a136adad-5390-4ca3-eacb-e00537b9e0f9"
      },
      "outputs": [
        {
          "output_type": "stream",
          "name": "stdout",
          "text": [
            "Error en el aterrizaje de Barcelona  -4.5\n"
          ]
        }
      ],
      "source": [
        "# Para saber error primer boarding solo de Barcelona\n",
        "\n",
        "barcelonaTierra = (df3['ARR']== 'BCN')\n",
        "\n",
        "df4BarcelonaTierra = df3[barcelonaTierra]\n",
        "df4BarcelonaTierra .head()\n",
        "df4BarcelonaTierraError  = round((df4BarcelonaTierra ['E_tierra1'].mean()),2)\n",
        "print('Error en el aterrizaje de Barcelona ', df4BarcelonaTierraError)"
      ]
    },
    {
      "cell_type": "code",
      "execution_count": 269,
      "id": "53c924bd",
      "metadata": {
        "ExecuteTime": {
          "end_time": "2022-06-03T12:55:23.318779Z",
          "start_time": "2022-06-03T12:55:23.318779Z"
        },
        "colab": {
          "base_uri": "https://localhost:8080/",
          "height": 544
        },
        "id": "53c924bd",
        "outputId": "735301de-9bdc-4a8f-f55c-44af4fa18acd"
      },
      "outputs": [
        {
          "output_type": "execute_result",
          "data": {
            "text/plain": [
              "Text(0.5, 1.0, 'Error primer t. BOARDING principales aeropuertos:')"
            ]
          },
          "metadata": {},
          "execution_count": 269
        },
        {
          "output_type": "display_data",
          "data": {
            "text/plain": [
              "<Figure size 1080x576 with 1 Axes>"
            ],
            "image/png": "[encoded data removed]"
          },
          "metadata": {}
        }
      ],
      "source": [
        "# Intervalos de Confianza por aeropuerto\n",
        "\n",
        "sns.set_theme(style=\"darkgrid\")\n",
        "#tips = sns.df1(\"tips\")\n",
        "sns.set(rc = {'figure.figsize':(15,8)})      \n",
        "# Tamaño de la imagen\n",
        "ax = sns.pointplot(x='AeropuertoKey1', y = \"E_tierra1\", data= df3, scale=.1, kind = \"point\", capsize=0.13)\n",
        "\n",
        "ax.axhline(df4BarcelonaTierraError , color=\"red\", linestyle = '--', label=\"ooas\")       # Linea 0 verde\n",
        "ax.axhline(0, color=\"green\", linestyle = '--')\n",
        "\n",
        "\n",
        "textoBCN = \"BCN \"+ str(df4BarcelonaTierraError) + ' minut.'\n",
        "ax.text(df4BarcelonaTierraError  ,df4BarcelonaTierraError  , textoBCN, backgroundcolor='w')\n",
        "\n",
        "ax.set_title('Error primer t. BOARDING principales aeropuertos:', fontsize = 24)"
      ]
    },
    {
      "cell_type": "code",
      "execution_count": 270,
      "id": "9e94b87d",
      "metadata": {
        "ExecuteTime": {
          "end_time": "2022-06-03T12:55:23.320772Z",
          "start_time": "2022-06-03T12:55:23.320772Z"
        },
        "colab": {
          "base_uri": "https://localhost:8080/",
          "height": 220
        },
        "id": "9e94b87d",
        "outputId": "6586da55-adda-467f-d6d3-635b6b26bb73"
      },
      "outputs": [
        {
          "output_type": "execute_result",
          "data": {
            "text/plain": [
              "         DATE   FLT     REG   AC  DEP  ARR                 STD  \\\n",
              "42 2022-01-01  2114  EC-LLM  320  AGP  BCN 2022-01-01 07:40:00   \n",
              "21 2022-01-01  3909  EC-KDX  320  PMI  BCN 2022-01-01 17:35:00   \n",
              "\n",
              "                   STA                TKof                TDwn  ... E_tierra3  \\\n",
              "42 2022-01-01 09:15:00 2022-01-01 07:55:00 2022-01-01 09:09:00  ...      -7.0   \n",
              "21 2022-01-01 18:30:00 2022-01-01 17:45:00 2022-01-01 18:22:00  ...       9.0   \n",
              "\n",
              "   Aeropuerto_Key2 Aeropuerto_Key3 Puntualidad2 Puntualidad3 E_Despegue_Total  \\\n",
              "42             BCN             AGP        -14.0          6.0              0.0   \n",
              "21             BCN             PMI        -16.0        -12.0            -19.0   \n",
              "\n",
              "    E_Duracion_Vuelo_Total  E_tierra_Total E_acumulado_Total t_boarding  \n",
              "42                   -11.0             0.0             -11.0     3.- 45  \n",
              "21                    -8.0             7.0             -20.0     5.- 55  \n",
              "\n",
              "[2 rows x 75 columns]"
            ],
            "text/html": [
              "\n",
              "  <div id=\"df-c6dd034d-76f5-423a-84fc-311fe16c5ae7\">\n",
              "    <div class=\"colab-df-container\">\n",
              "      <div>\n",
              "<style scoped>\n",
              "    .dataframe tbody tr th:only-of-type {\n",
              "        vertical-align: middle;\n",
              "    }\n",
              "\n",
              "    .dataframe tbody tr th {\n",
              "        vertical-align: top;\n",
              "    }\n",
              "\n",
              "    .dataframe thead th {\n",
              "        text-align: right;\n",
              "    }\n",
              "</style>\n",
              "<table border=\"1\" class=\"dataframe\">\n",
              "  <thead>\n",
              "    <tr style=\"text-align: right;\">\n",
              "      <th></th>\n",
              "      <th>DATE</th>\n",
              "      <th>FLT</th>\n",
              "      <th>REG</th>\n",
              "      <th>AC</th>\n",
              "      <th>DEP</th>\n",
              "      <th>ARR</th>\n",
              "      <th>STD</th>\n",
              "      <th>STA</th>\n",
              "      <th>TKof</th>\n",
              "      <th>TDwn</th>\n",
              "      <th>...</th>\n",
              "      <th>E_tierra3</th>\n",
              "      <th>Aeropuerto_Key2</th>\n",
              "      <th>Aeropuerto_Key3</th>\n",
              "      <th>Puntualidad2</th>\n",
              "      <th>Puntualidad3</th>\n",
              "      <th>E_Despegue_Total</th>\n",
              "      <th>E_Duracion_Vuelo_Total</th>\n",
              "      <th>E_tierra_Total</th>\n",
              "      <th>E_acumulado_Total</th>\n",
              "      <th>t_boarding</th>\n",
              "    </tr>\n",
              "  </thead>\n",
              "  <tbody>\n",
              "    <tr>\n",
              "      <th>42</th>\n",
              "      <td>2022-01-01</td>\n",
              "      <td>2114</td>\n",
              "      <td>EC-LLM</td>\n",
              "      <td>320</td>\n",
              "      <td>AGP</td>\n",
              "      <td>BCN</td>\n",
              "      <td>2022-01-01 07:40:00</td>\n",
              "      <td>2022-01-01 09:15:00</td>\n",
              "      <td>2022-01-01 07:55:00</td>\n",
              "      <td>2022-01-01 09:09:00</td>\n",
              "      <td>...</td>\n",
              "      <td>-7.0</td>\n",
              "      <td>BCN</td>\n",
              "      <td>AGP</td>\n",
              "      <td>-14.0</td>\n",
              "      <td>6.0</td>\n",
              "      <td>0.0</td>\n",
              "      <td>-11.0</td>\n",
              "      <td>0.0</td>\n",
              "      <td>-11.0</td>\n",
              "      <td>3.- 45</td>\n",
              "    </tr>\n",
              "    <tr>\n",
              "      <th>21</th>\n",
              "      <td>2022-01-01</td>\n",
              "      <td>3909</td>\n",
              "      <td>EC-KDX</td>\n",
              "      <td>320</td>\n",
              "      <td>PMI</td>\n",
              "      <td>BCN</td>\n",
              "      <td>2022-01-01 17:35:00</td>\n",
              "      <td>2022-01-01 18:30:00</td>\n",
              "      <td>2022-01-01 17:45:00</td>\n",
              "      <td>2022-01-01 18:22:00</td>\n",
              "      <td>...</td>\n",
              "      <td>9.0</td>\n",
              "      <td>BCN</td>\n",
              "      <td>PMI</td>\n",
              "      <td>-16.0</td>\n",
              "      <td>-12.0</td>\n",
              "      <td>-19.0</td>\n",
              "      <td>-8.0</td>\n",
              "      <td>7.0</td>\n",
              "      <td>-20.0</td>\n",
              "      <td>5.- 55</td>\n",
              "    </tr>\n",
              "  </tbody>\n",
              "</table>\n",
              "<p>2 rows × 75 columns</p>\n",
              "</div>\n",
              "      <button class=\"colab-df-convert\" onclick=\"convertToInteractive('df-c6dd034d-76f5-423a-84fc-311fe16c5ae7')\"\n",
              "              title=\"Convert this dataframe to an interactive table.\"\n",
              "              style=\"display:none;\">\n",
              "        \n",
              "  <svg xmlns=\"http://www.w3.org/2000/svg\" height=\"24px\"viewBox=\"0 0 24 24\"\n",
              "       width=\"24px\">\n",
              "    <path d=\"M0 0h24v24H0V0z\" fill=\"none\"/>\n",
              "    <path d=\"M18.56 5.44l.94 2.06.94-2.06 2.06-.94-2.06-.94-.94-2.06-.94 2.06-2.06.94zm-11 1L8.5 8.5l.94-2.06 2.06-.94-2.06-.94L8.5 2.5l-.94 2.06-2.06.94zm10 10l.94 2.06.94-2.06 2.06-.94-2.06-.94-.94-2.06-.94 2.06-2.06.94z\"/><path d=\"M17.41 7.96l-1.37-1.37c-.4-.4-.92-.59-1.43-.59-.52 0-1.04.2-1.43.59L10.3 9.45l-7.72 7.72c-.78.78-.78 2.05 0 2.83L4 21.41c.39.39.9.59 1.41.59.51 0 1.02-.2 1.41-.59l7.78-7.78 2.81-2.81c.8-.78.8-2.07 0-2.86zM5.41 20L4 18.59l7.72-7.72 1.47 1.35L5.41 20z\"/>\n",
              "  </svg>\n",
              "      </button>\n",
              "      \n",
              "  <style>\n",
              "    .colab-df-container {\n",
              "      display:flex;\n",
              "      flex-wrap:wrap;\n",
              "      gap: 12px;\n",
              "    }\n",
              "\n",
              "    .colab-df-convert {\n",
              "      background-color: #E8F0FE;\n",
              "      border: none;\n",
              "      border-radius: 50%;\n",
              "      cursor: pointer;\n",
              "      display: none;\n",
              "      fill: #1967D2;\n",
              "      height: 32px;\n",
              "      padding: 0 0 0 0;\n",
              "      width: 32px;\n",
              "    }\n",
              "\n",
              "    .colab-df-convert:hover {\n",
              "      background-color: #E2EBFA;\n",
              "      box-shadow: 0px 1px 2px rgba(60, 64, 67, 0.3), 0px 1px 3px 1px rgba(60, 64, 67, 0.15);\n",
              "      fill: #174EA6;\n",
              "    }\n",
              "\n",
              "    [theme=dark] .colab-df-convert {\n",
              "      background-color: #3B4455;\n",
              "      fill: #D2E3FC;\n",
              "    }\n",
              "\n",
              "    [theme=dark] .colab-df-convert:hover {\n",
              "      background-color: #434B5C;\n",
              "      box-shadow: 0px 1px 3px 1px rgba(0, 0, 0, 0.15);\n",
              "      filter: drop-shadow(0px 1px 2px rgba(0, 0, 0, 0.3));\n",
              "      fill: #FFFFFF;\n",
              "    }\n",
              "  </style>\n",
              "\n",
              "      <script>\n",
              "        const buttonEl =\n",
              "          document.querySelector('#df-c6dd034d-76f5-423a-84fc-311fe16c5ae7 button.colab-df-convert');\n",
              "        buttonEl.style.display =\n",
              "          google.colab.kernel.accessAllowed ? 'block' : 'none';\n",
              "\n",
              "        async function convertToInteractive(key) {\n",
              "          const element = document.querySelector('#df-c6dd034d-76f5-423a-84fc-311fe16c5ae7');\n",
              "          const dataTable =\n",
              "            await google.colab.kernel.invokeFunction('convertToInteractive',\n",
              "                                                     [key], {});\n",
              "          if (!dataTable) return;\n",
              "\n",
              "          const docLinkHtml = 'Like what you see? Visit the ' +\n",
              "            '<a target=\"_blank\" href=https://colab.research.google.com/notebooks/data_table.ipynb>data table notebook</a>'\n",
              "            + ' to learn more about interactive tables.';\n",
              "          element.innerHTML = '';\n",
              "          dataTable['output_type'] = 'display_data';\n",
              "          await google.colab.output.renderOutput(dataTable, element);\n",
              "          const docLink = document.createElement('div');\n",
              "          docLink.innerHTML = docLinkHtml;\n",
              "          element.appendChild(docLink);\n",
              "        }\n",
              "      </script>\n",
              "    </div>\n",
              "  </div>\n",
              "  "
            ]
          },
          "metadata": {},
          "execution_count": 270
        }
      ],
      "source": [
        "df4BarcelonaTierra .head()"
      ]
    },
    {
      "cell_type": "code",
      "execution_count": 271,
      "id": "00572232",
      "metadata": {
        "ExecuteTime": {
          "end_time": "2022-06-03T12:55:23.321769Z",
          "start_time": "2022-06-03T12:55:23.321769Z"
        },
        "colab": {
          "base_uri": "https://localhost:8080/"
        },
        "id": "00572232",
        "outputId": "9c9e7b6a-2dcf-4080-f6f9-cf7d19edd65c"
      },
      "outputs": [
        {
          "output_type": "execute_result",
          "data": {
            "text/plain": [
              "1.- <40      15\n",
              "2.- 40       15\n",
              "3.- 45        7\n",
              "7.- >60       4\n",
              "4.- 50        2\n",
              "5.- 55        2\n",
              "NEGATIVOS     0\n",
              "6.- 60        0\n",
              "Name: t_boarding, dtype: int64"
            ]
          },
          "metadata": {},
          "execution_count": 271
        }
      ],
      "source": [
        "# Contabilizar elementos por grupo de boarding\n",
        "df5= df3['t_boarding'].value_counts()\n",
        "#df5['t_boarding']= df5.sort_values('t_boarding')\n",
        "df5.head()\n",
        "df5"
      ]
    },
    {
      "cell_type": "code",
      "execution_count": 272,
      "id": "8a35bd16",
      "metadata": {
        "ExecuteTime": {
          "end_time": "2022-06-03T12:55:23.322766Z",
          "start_time": "2022-06-03T12:55:23.322766Z"
        },
        "code_folding": [
          0
        ],
        "colab": {
          "base_uri": "https://localhost:8080/",
          "height": 544
        },
        "id": "8a35bd16",
        "outputId": "0501e3ee-9c2d-49b5-b89c-fafcaf3d943a"
      },
      "outputs": [
        {
          "output_type": "execute_result",
          "data": {
            "text/plain": [
              "Text(0.5, 1.0, 'Error boarding BCN:')"
            ]
          },
          "metadata": {},
          "execution_count": 272
        },
        {
          "output_type": "display_data",
          "data": {
            "text/plain": [
              "<Figure size 1080x576 with 1 Axes>"
            ],
            "image/png": "[encoded data removed]"
          },
          "metadata": {}
        }
      ],
      "source": [
        "# Intervalos de Confianza por grupo de boarding.\n",
        "\n",
        "sns.set_theme(style=\"darkgrid\")\n",
        "#tips = sns.df1(\"tips\")\n",
        "sns.set(rc = {'figure.figsize':(15,8)})      \n",
        "# Tamaño de la imagen\n",
        "ax = sns.pointplot(x='t_boarding', y = \"E_tierra1\", data= df4BarcelonaTierra, scale=.1, kind = \"point\", capsize=0.13)\n",
        "\n",
        "#ax.axhline(puntualidadBCN, color=\"red\", linestyle = '--', label=\"ooas\")       # Linea 0 verde\n",
        "ax.axhline(0, color=\"green\", linestyle = '--')\n",
        "\n",
        "\n",
        "textoBCN = \"BCN \"+ str(df4BarcelonaTierraError) + ' minut.'\n",
        "ax.text(df4BarcelonaTierraError  ,df4BarcelonaTierraError  , textoBCN, backgroundcolor='w')\n",
        "\n",
        "ax.set_title('Error boarding BCN:', fontsize = 24)"
      ]
    },
    {
      "cell_type": "code",
      "execution_count": 272,
      "id": "2beefa62",
      "metadata": {
        "id": "2beefa62"
      },
      "outputs": [],
      "source": [
        ""
      ]
    },
    {
      "cell_type": "markdown",
      "id": "3db1278a",
      "metadata": {
        "id": "3db1278a"
      },
      "source": [
        "# Guardar a EXCEL"
      ]
    },
    {
      "cell_type": "code",
      "execution_count": 273,
      "id": "e27c61c6",
      "metadata": {
        "ExecuteTime": {
          "end_time": "2022-06-03T12:55:23.382629Z",
          "start_time": "2022-06-03T12:55:23.370639Z"
        },
        "code_folding": [],
        "colab": {
          "base_uri": "https://localhost:8080/",
          "height": 35
        },
        "id": "e27c61c6",
        "outputId": "e416c8b6-1c68-4ecc-c1ed-1bf13c69a460"
      },
      "outputs": [
        {
          "output_type": "execute_result",
          "data": {
            "text/plain": [
              "\"\\nborrarColumnas = ['C1', 'DLY1', 'C2', 'DLY2',\\n       'C3', 'DLY3', 'C4', 'DLY4', 'C2A', 'DLY2A', 'C1Des', 'C2Des', 'C3Des',\\n       'C4Des', 'CADes', 'ID', 'STAND', 'MSN']\\ndf3 = df3.drop(borrarColumnas, axis=1)\\n\""
            ],
            "application/vnd.google.colaboratory.intrinsic+json": {
              "type": "string"
            }
          },
          "metadata": {},
          "execution_count": 273
        }
      ],
      "source": [
        "# Borro las columnas que no me interesan.\n",
        "\n",
        "'''\n",
        "borrarColumnas = ['C1', 'DLY1', 'C2', 'DLY2',\n",
        "       'C3', 'DLY3', 'C4', 'DLY4', 'C2A', 'DLY2A', 'C1Des', 'C2Des', 'C3Des',\n",
        "       'C4Des', 'CADes', 'ID', 'STAND', 'MSN']\n",
        "df3 = df3.drop(borrarColumnas, axis=1)\n",
        "'''"
      ]
    },
    {
      "cell_type": "code",
      "execution_count": 274,
      "id": "0147e718",
      "metadata": {
        "ExecuteTime": {
          "end_time": "2022-06-03T12:55:23.398592Z",
          "start_time": "2022-06-03T12:55:23.384602Z"
        },
        "colab": {
          "base_uri": "https://localhost:8080/"
        },
        "id": "0147e718",
        "outputId": "5072521b-a3f0-42dd-dbeb-f3020755b9d0"
      },
      "outputs": [
        {
          "output_type": "execute_result",
          "data": {
            "text/plain": [
              "Index(['DATE', 'FLT', 'REG', 'AC', 'DEP', 'ARR', 'STD', 'STA', 'TKof', 'TDwn',\n",
              "       'ATD', 'ATA', 'BLOCK', 'FLThr', 'DStand', 'AStand', 'ACT PAX', 'LF',\n",
              "       'Taxi-out', 'Taxi-In', 'SLOT', 'C1', 'DLY1', 'Sub1', 'C2', 'DLY2',\n",
              "       'Sub2', 'C3', 'DLY3', 'Sub3', 'C4', 'DLY4', 'Sub4', 'C1Arr', 'DLY1Arr',\n",
              "       'Close Pax Door', 'Close Cargo Door', 'Open Cargo/Pax Door',\n",
              "       'close pax door2', 'close cargo door2', 'open cargo/pax door2',\n",
              "       'Secuencia', 'Aeropuerto_Key', 'AeropuertoKey1', 'DuracionVueloTeorico',\n",
              "       'DuracionVueloReal', 'E_Duracion_Vuelo', 't_ClosePax',\n",
              "       't_Close_Cargo_Door', 't_Entre_Puertas', 'Trayecto', 'E_Despegue',\n",
              "       'lag_STD', 'lag_ATD', 'lag_STA', 'lag_ATA', 'T_teoricoTierra1',\n",
              "       'T_RealTierra1', 'E_tierra1', 'Puntualidad1', 'E_Despegue2',\n",
              "       'E_Despegue3', 'E_Duracion_Vuelo2', 'E_Duracion_Vuelo3', 'E_tierra2',\n",
              "       'E_tierra3', 'Aeropuerto_Key2', 'Aeropuerto_Key3', 'Puntualidad2',\n",
              "       'Puntualidad3', 'E_Despegue_Total', 'E_Duracion_Vuelo_Total',\n",
              "       'E_tierra_Total', 'E_acumulado_Total', 't_boarding'],\n",
              "      dtype='object')"
            ]
          },
          "metadata": {},
          "execution_count": 274
        }
      ],
      "source": [
        "df3.columns"
      ]
    },
    {
      "cell_type": "code",
      "execution_count": 275,
      "id": "bb7e533f",
      "metadata": {
        "ExecuteTime": {
          "end_time": "2022-06-03T12:55:23.399562Z",
          "start_time": "2022-06-03T12:55:23.399562Z"
        },
        "colab": {
          "base_uri": "https://localhost:8080/"
        },
        "id": "bb7e533f",
        "outputId": "8d3da8a7-da91-4b90-886e-d795ef5c0ab8"
      },
      "outputs": [
        {
          "output_type": "stream",
          "name": "stdout",
          "text": [
            "\n",
            "Guardado fichero : Vueling_Python.xlsx\n",
            "\n"
          ]
        }
      ],
      "source": [
        "# Guardar excel\n",
        "\n",
        "#df3.to_excel(r\"D:\\Documentos D\\02.- Datos Vueling\\Vueling_Python_MAR_\" + Hoja + \".xlsx\")\n",
        "print()\n",
        "print('Guardado fichero : Vueling_Python.xlsx')\n",
        "print()"
      ]
    },
    {
      "cell_type": "markdown",
      "id": "c69025f3",
      "metadata": {
        "id": "c69025f3"
      },
      "source": [
        "# Estudio de la duracion del vuelo"
      ]
    },
    {
      "cell_type": "code",
      "execution_count": 276,
      "id": "420d51b2",
      "metadata": {
        "ExecuteTime": {
          "end_time": "2022-06-03T12:55:23.507301Z",
          "start_time": "2022-06-03T12:55:23.469374Z"
        },
        "colab": {
          "base_uri": "https://localhost:8080/",
          "height": 144
        },
        "id": "420d51b2",
        "outputId": "a3ec35e9-91c2-42b9-bfe3-de299fe6cb21"
      },
      "outputs": [
        {
          "output_type": "execute_result",
          "data": {
            "text/plain": [
              "  Trayecto grupoTrayecto\n",
              "0  BCN-PMI       BCN-PMI\n",
              "1  BCN-SVQ       BCN-SVQ\n",
              "2  BCN-ORY       BCN-ORY"
            ],
            "text/html": [
              "\n",
              "  <div id=\"df-bbca550e-ce16-49f8-8bed-0cc4e7d2f111\">\n",
              "    <div class=\"colab-df-container\">\n",
              "      <div>\n",
              "<style scoped>\n",
              "    .dataframe tbody tr th:only-of-type {\n",
              "        vertical-align: middle;\n",
              "    }\n",
              "\n",
              "    .dataframe tbody tr th {\n",
              "        vertical-align: top;\n",
              "    }\n",
              "\n",
              "    .dataframe thead th {\n",
              "        text-align: right;\n",
              "    }\n",
              "</style>\n",
              "<table border=\"1\" class=\"dataframe\">\n",
              "  <thead>\n",
              "    <tr style=\"text-align: right;\">\n",
              "      <th></th>\n",
              "      <th>Trayecto</th>\n",
              "      <th>grupoTrayecto</th>\n",
              "    </tr>\n",
              "  </thead>\n",
              "  <tbody>\n",
              "    <tr>\n",
              "      <th>0</th>\n",
              "      <td>BCN-PMI</td>\n",
              "      <td>BCN-PMI</td>\n",
              "    </tr>\n",
              "    <tr>\n",
              "      <th>1</th>\n",
              "      <td>BCN-SVQ</td>\n",
              "      <td>BCN-SVQ</td>\n",
              "    </tr>\n",
              "    <tr>\n",
              "      <th>2</th>\n",
              "      <td>BCN-ORY</td>\n",
              "      <td>BCN-ORY</td>\n",
              "    </tr>\n",
              "  </tbody>\n",
              "</table>\n",
              "</div>\n",
              "      <button class=\"colab-df-convert\" onclick=\"convertToInteractive('df-bbca550e-ce16-49f8-8bed-0cc4e7d2f111')\"\n",
              "              title=\"Convert this dataframe to an interactive table.\"\n",
              "              style=\"display:none;\">\n",
              "        \n",
              "  <svg xmlns=\"http://www.w3.org/2000/svg\" height=\"24px\"viewBox=\"0 0 24 24\"\n",
              "       width=\"24px\">\n",
              "    <path d=\"M0 0h24v24H0V0z\" fill=\"none\"/>\n",
              "    <path d=\"M18.56 5.44l.94 2.06.94-2.06 2.06-.94-2.06-.94-.94-2.06-.94 2.06-2.06.94zm-11 1L8.5 8.5l.94-2.06 2.06-.94-2.06-.94L8.5 2.5l-.94 2.06-2.06.94zm10 10l.94 2.06.94-2.06 2.06-.94-2.06-.94-.94-2.06-.94 2.06-2.06.94z\"/><path d=\"M17.41 7.96l-1.37-1.37c-.4-.4-.92-.59-1.43-.59-.52 0-1.04.2-1.43.59L10.3 9.45l-7.72 7.72c-.78.78-.78 2.05 0 2.83L4 21.41c.39.39.9.59 1.41.59.51 0 1.02-.2 1.41-.59l7.78-7.78 2.81-2.81c.8-.78.8-2.07 0-2.86zM5.41 20L4 18.59l7.72-7.72 1.47 1.35L5.41 20z\"/>\n",
              "  </svg>\n",
              "      </button>\n",
              "      \n",
              "  <style>\n",
              "    .colab-df-container {\n",
              "      display:flex;\n",
              "      flex-wrap:wrap;\n",
              "      gap: 12px;\n",
              "    }\n",
              "\n",
              "    .colab-df-convert {\n",
              "      background-color: #E8F0FE;\n",
              "      border: none;\n",
              "      border-radius: 50%;\n",
              "      cursor: pointer;\n",
              "      display: none;\n",
              "      fill: #1967D2;\n",
              "      height: 32px;\n",
              "      padding: 0 0 0 0;\n",
              "      width: 32px;\n",
              "    }\n",
              "\n",
              "    .colab-df-convert:hover {\n",
              "      background-color: #E2EBFA;\n",
              "      box-shadow: 0px 1px 2px rgba(60, 64, 67, 0.3), 0px 1px 3px 1px rgba(60, 64, 67, 0.15);\n",
              "      fill: #174EA6;\n",
              "    }\n",
              "\n",
              "    [theme=dark] .colab-df-convert {\n",
              "      background-color: #3B4455;\n",
              "      fill: #D2E3FC;\n",
              "    }\n",
              "\n",
              "    [theme=dark] .colab-df-convert:hover {\n",
              "      background-color: #434B5C;\n",
              "      box-shadow: 0px 1px 3px 1px rgba(0, 0, 0, 0.15);\n",
              "      filter: drop-shadow(0px 1px 2px rgba(0, 0, 0, 0.3));\n",
              "      fill: #FFFFFF;\n",
              "    }\n",
              "  </style>\n",
              "\n",
              "      <script>\n",
              "        const buttonEl =\n",
              "          document.querySelector('#df-bbca550e-ce16-49f8-8bed-0cc4e7d2f111 button.colab-df-convert');\n",
              "        buttonEl.style.display =\n",
              "          google.colab.kernel.accessAllowed ? 'block' : 'none';\n",
              "\n",
              "        async function convertToInteractive(key) {\n",
              "          const element = document.querySelector('#df-bbca550e-ce16-49f8-8bed-0cc4e7d2f111');\n",
              "          const dataTable =\n",
              "            await google.colab.kernel.invokeFunction('convertToInteractive',\n",
              "                                                     [key], {});\n",
              "          if (!dataTable) return;\n",
              "\n",
              "          const docLinkHtml = 'Like what you see? Visit the ' +\n",
              "            '<a target=\"_blank\" href=https://colab.research.google.com/notebooks/data_table.ipynb>data table notebook</a>'\n",
              "            + ' to learn more about interactive tables.';\n",
              "          element.innerHTML = '';\n",
              "          dataTable['output_type'] = 'display_data';\n",
              "          await google.colab.output.renderOutput(dataTable, element);\n",
              "          const docLink = document.createElement('div');\n",
              "          docLink.innerHTML = docLinkHtml;\n",
              "          element.appendChild(docLink);\n",
              "        }\n",
              "      </script>\n",
              "    </div>\n",
              "  </div>\n",
              "  "
            ]
          },
          "metadata": {},
          "execution_count": 276
        }
      ],
      "source": [
        "# Identifico los Aeropuertos principales.\n",
        "\n",
        "\n",
        "path =(r\"/content/drive/MyDrive/Vueling_Trayectos_Duracion_Vuelo.xlsx\")\n",
        " \n",
        "#df_Aeropuertos = pd.read_excel(path, sheet_name='Aeropuertos')\n",
        "\n",
        "#path =(r\"D:\\Documentos D\\02.- Datos Vueling\\Vueling_Trayectos_Duracion_Vuelo.xlsx\")\n",
        "\n",
        "\n",
        "df_Trayectos = pd.read_excel(path, sheet_name='Trayectos')\n",
        "df_Trayectos = df_Trayectos.drop(['Borrar'], axis=1)\n",
        "df_Trayectos.head(3)"
      ]
    },
    {
      "cell_type": "code",
      "source": [
        "df.columns"
      ],
      "metadata": {
        "id": "KlZ6UQqd4RdW",
        "outputId": "7d5a40aa-97c6-42bb-bf2e-c6a81940c6fa",
        "colab": {
          "base_uri": "https://localhost:8080/"
        }
      },
      "id": "KlZ6UQqd4RdW",
      "execution_count": 277,
      "outputs": [
        {
          "output_type": "execute_result",
          "data": {
            "text/plain": [
              "Index(['DATE', 'FLT', 'REG', 'AC', 'DEP', 'ARR', 'STD', 'STA', 'TKof', 'TDwn',\n",
              "       'ATD', 'ATA', 'BLOCK', 'FLThr', 'DStand', 'AStand', 'ACT PAX', 'LF',\n",
              "       'Taxi-out', 'Taxi-In', 'SLOT', 'C1', 'DLY1', 'Sub1', 'C2', 'DLY2',\n",
              "       'Sub2', 'C3', 'DLY3', 'Sub3', 'C4', 'DLY4', 'Sub4', 'C1Arr', 'DLY1Arr',\n",
              "       'Close Pax Door', 'Close Cargo Door', 'Open Cargo/Pax Door',\n",
              "       'close pax door2', 'close cargo door2', 'open cargo/pax door2',\n",
              "       'Secuencia', 'Aeropuerto_Key', 'AeropuertoKey1', 'DuracionVueloTeorico',\n",
              "       'DuracionVueloReal', 'E_Duracion_Vuelo', 't_ClosePax',\n",
              "       't_Close_Cargo_Door', 't_Entre_Puertas', 'Trayecto', 'E_Despegue',\n",
              "       'lag_STD', 'lag_ATD', 'lag_STA', 'lag_ATA', 'T_teoricoTierra1',\n",
              "       'T_RealTierra1', 'E_tierra1', 'Puntualidad1', 'E_Despegue2',\n",
              "       'E_Despegue3', 'E_Duracion_Vuelo2', 'E_Duracion_Vuelo3', 'E_tierra2',\n",
              "       'E_tierra3', 'Aeropuerto_Key2', 'Aeropuerto_Key3', 'Puntualidad2',\n",
              "       'Puntualidad3', 'E_Despegue_Total', 'E_Duracion_Vuelo_Total',\n",
              "       'E_tierra_Total', 'E_acumulado_Total'],\n",
              "      dtype='object')"
            ]
          },
          "metadata": {},
          "execution_count": 277
        }
      ]
    },
    {
      "cell_type": "code",
      "execution_count": 278,
      "id": "8ef44025",
      "metadata": {
        "ExecuteTime": {
          "end_time": "2022-06-03T12:55:23.538191Z",
          "start_time": "2022-06-03T12:55:23.509268Z"
        },
        "colab": {
          "base_uri": "https://localhost:8080/",
          "height": 52
        },
        "id": "8ef44025",
        "outputId": "f98a71d1-240c-4c8e-86ca-04493cb9b84d"
      },
      "outputs": [
        {
          "output_type": "execute_result",
          "data": {
            "text/plain": [
              "\"\\ndf.columns\\ndf5 = df\\nborrarColumnas = ['Leg Code', 'Total DLY Dep', 'Close Pax Door',\\n                  'Close Cargo Door', 'Open Cargo/Pax Door', 'Stand Dep', 'Stand Arr',\\n                  'lag_STD', 'lag_ATD','t_ClosePax', 't_Close_Cargo_Door','T_teoricoTierra1',\\n                  'T_RealTierra1', 't_Entre_Puertas']\\n\\ndf5 = df5.drop(borrarColumnas, axis=1)\\ndf5.head(1)\\n\""
            ],
            "application/vnd.google.colaboratory.intrinsic+json": {
              "type": "string"
            }
          },
          "metadata": {},
          "execution_count": 278
        }
      ],
      "source": [
        "# Solo escojo los datos que necesito para le calculo volando\n",
        "'''\n",
        "df.columns\n",
        "df5 = df\n",
        "borrarColumnas = ['Leg Code', 'Total DLY Dep', 'Close Pax Door',\n",
        "                  'Close Cargo Door', 'Open Cargo/Pax Door', 'Stand Dep', 'Stand Arr',\n",
        "                  'lag_STD', 'lag_ATD','t_ClosePax', 't_Close_Cargo_Door','T_teoricoTierra1',\n",
        "                  'T_RealTierra1', 't_Entre_Puertas']\n",
        "\n",
        "df5 = df5.drop(borrarColumnas, axis=1)\n",
        "df5.head(1)\n",
        "'''"
      ]
    },
    {
      "cell_type": "code",
      "execution_count": 279,
      "id": "455f98c4",
      "metadata": {
        "ExecuteTime": {
          "end_time": "2022-06-03T12:55:23.540214Z",
          "start_time": "2022-06-03T12:55:23.540214Z"
        },
        "run_control": {
          "marked": true
        },
        "colab": {
          "base_uri": "https://localhost:8080/",
          "height": 269
        },
        "id": "455f98c4",
        "outputId": "3a4116ea-b6dd-4f6e-b065-75b152158aa2"
      },
      "outputs": [
        {
          "output_type": "execute_result",
          "data": {
            "text/plain": [
              "        DATE   FLT     REG   AC  DEP  ARR                 STD  \\\n",
              "0 2022-01-01  2506  EC-JSY  320  BIO  SVQ 2022-01-01 07:40:00   \n",
              "1 2022-01-01  2505  EC-JSY  320  SVQ  BIO 2022-01-01 09:40:00   \n",
              "2 2022-01-01  1386  EC-JSY  320  BIO  SCQ 2022-01-01 11:40:00   \n",
              "\n",
              "                  STA                TKof                TDwn  ... E_tierra3  \\\n",
              "0 2022-01-01 09:05:00 2022-01-01 08:10:00 2022-01-01 09:17:00  ...     -12.0   \n",
              "1 2022-01-01 11:05:00 2022-01-01 10:03:00 2022-01-01 11:07:00  ...      -9.0   \n",
              "2 2022-01-01 12:50:00 2022-01-01 11:50:00 2022-01-01 12:40:00  ...       8.0   \n",
              "\n",
              "  Aeropuerto_Key2 Aeropuerto_Key3 Puntualidad2 Puntualidad3 E_Despegue_Total  \\\n",
              "0             AGP             BIO         19.0          5.0             53.0   \n",
              "1             BIO             AGP         15.0         19.0             54.0   \n",
              "2             SCQ             BCN        -24.0         -9.0            -15.0   \n",
              "\n",
              "   E_Duracion_Vuelo_Total  E_tierra_Total E_acumulado_Total grupoTrayecto  \n",
              "0                   -14.0           -25.0              14.0          otro  \n",
              "1                   -16.0           -17.0              21.0          otro  \n",
              "2                   -23.0            22.0             -16.0          otro  \n",
              "\n",
              "[3 rows x 75 columns]"
            ],
            "text/html": [
              "\n",
              "  <div id=\"df-4f120eb2-dba0-4947-a4eb-aec4648f0fc8\">\n",
              "    <div class=\"colab-df-container\">\n",
              "      <div>\n",
              "<style scoped>\n",
              "    .dataframe tbody tr th:only-of-type {\n",
              "        vertical-align: middle;\n",
              "    }\n",
              "\n",
              "    .dataframe tbody tr th {\n",
              "        vertical-align: top;\n",
              "    }\n",
              "\n",
              "    .dataframe thead th {\n",
              "        text-align: right;\n",
              "    }\n",
              "</style>\n",
              "<table border=\"1\" class=\"dataframe\">\n",
              "  <thead>\n",
              "    <tr style=\"text-align: right;\">\n",
              "      <th></th>\n",
              "      <th>DATE</th>\n",
              "      <th>FLT</th>\n",
              "      <th>REG</th>\n",
              "      <th>AC</th>\n",
              "      <th>DEP</th>\n",
              "      <th>ARR</th>\n",
              "      <th>STD</th>\n",
              "      <th>STA</th>\n",
              "      <th>TKof</th>\n",
              "      <th>TDwn</th>\n",
              "      <th>...</th>\n",
              "      <th>E_tierra3</th>\n",
              "      <th>Aeropuerto_Key2</th>\n",
              "      <th>Aeropuerto_Key3</th>\n",
              "      <th>Puntualidad2</th>\n",
              "      <th>Puntualidad3</th>\n",
              "      <th>E_Despegue_Total</th>\n",
              "      <th>E_Duracion_Vuelo_Total</th>\n",
              "      <th>E_tierra_Total</th>\n",
              "      <th>E_acumulado_Total</th>\n",
              "      <th>grupoTrayecto</th>\n",
              "    </tr>\n",
              "  </thead>\n",
              "  <tbody>\n",
              "    <tr>\n",
              "      <th>0</th>\n",
              "      <td>2022-01-01</td>\n",
              "      <td>2506</td>\n",
              "      <td>EC-JSY</td>\n",
              "      <td>320</td>\n",
              "      <td>BIO</td>\n",
              "      <td>SVQ</td>\n",
              "      <td>2022-01-01 07:40:00</td>\n",
              "      <td>2022-01-01 09:05:00</td>\n",
              "      <td>2022-01-01 08:10:00</td>\n",
              "      <td>2022-01-01 09:17:00</td>\n",
              "      <td>...</td>\n",
              "      <td>-12.0</td>\n",
              "      <td>AGP</td>\n",
              "      <td>BIO</td>\n",
              "      <td>19.0</td>\n",
              "      <td>5.0</td>\n",
              "      <td>53.0</td>\n",
              "      <td>-14.0</td>\n",
              "      <td>-25.0</td>\n",
              "      <td>14.0</td>\n",
              "      <td>otro</td>\n",
              "    </tr>\n",
              "    <tr>\n",
              "      <th>1</th>\n",
              "      <td>2022-01-01</td>\n",
              "      <td>2505</td>\n",
              "      <td>EC-JSY</td>\n",
              "      <td>320</td>\n",
              "      <td>SVQ</td>\n",
              "      <td>BIO</td>\n",
              "      <td>2022-01-01 09:40:00</td>\n",
              "      <td>2022-01-01 11:05:00</td>\n",
              "      <td>2022-01-01 10:03:00</td>\n",
              "      <td>2022-01-01 11:07:00</td>\n",
              "      <td>...</td>\n",
              "      <td>-9.0</td>\n",
              "      <td>BIO</td>\n",
              "      <td>AGP</td>\n",
              "      <td>15.0</td>\n",
              "      <td>19.0</td>\n",
              "      <td>54.0</td>\n",
              "      <td>-16.0</td>\n",
              "      <td>-17.0</td>\n",
              "      <td>21.0</td>\n",
              "      <td>otro</td>\n",
              "    </tr>\n",
              "    <tr>\n",
              "      <th>2</th>\n",
              "      <td>2022-01-01</td>\n",
              "      <td>1386</td>\n",
              "      <td>EC-JSY</td>\n",
              "      <td>320</td>\n",
              "      <td>BIO</td>\n",
              "      <td>SCQ</td>\n",
              "      <td>2022-01-01 11:40:00</td>\n",
              "      <td>2022-01-01 12:50:00</td>\n",
              "      <td>2022-01-01 11:50:00</td>\n",
              "      <td>2022-01-01 12:40:00</td>\n",
              "      <td>...</td>\n",
              "      <td>8.0</td>\n",
              "      <td>SCQ</td>\n",
              "      <td>BCN</td>\n",
              "      <td>-24.0</td>\n",
              "      <td>-9.0</td>\n",
              "      <td>-15.0</td>\n",
              "      <td>-23.0</td>\n",
              "      <td>22.0</td>\n",
              "      <td>-16.0</td>\n",
              "      <td>otro</td>\n",
              "    </tr>\n",
              "  </tbody>\n",
              "</table>\n",
              "<p>3 rows × 75 columns</p>\n",
              "</div>\n",
              "      <button class=\"colab-df-convert\" onclick=\"convertToInteractive('df-4f120eb2-dba0-4947-a4eb-aec4648f0fc8')\"\n",
              "              title=\"Convert this dataframe to an interactive table.\"\n",
              "              style=\"display:none;\">\n",
              "        \n",
              "  <svg xmlns=\"http://www.w3.org/2000/svg\" height=\"24px\"viewBox=\"0 0 24 24\"\n",
              "       width=\"24px\">\n",
              "    <path d=\"M0 0h24v24H0V0z\" fill=\"none\"/>\n",
              "    <path d=\"M18.56 5.44l.94 2.06.94-2.06 2.06-.94-2.06-.94-.94-2.06-.94 2.06-2.06.94zm-11 1L8.5 8.5l.94-2.06 2.06-.94-2.06-.94L8.5 2.5l-.94 2.06-2.06.94zm10 10l.94 2.06.94-2.06 2.06-.94-2.06-.94-.94-2.06-.94 2.06-2.06.94z\"/><path d=\"M17.41 7.96l-1.37-1.37c-.4-.4-.92-.59-1.43-.59-.52 0-1.04.2-1.43.59L10.3 9.45l-7.72 7.72c-.78.78-.78 2.05 0 2.83L4 21.41c.39.39.9.59 1.41.59.51 0 1.02-.2 1.41-.59l7.78-7.78 2.81-2.81c.8-.78.8-2.07 0-2.86zM5.41 20L4 18.59l7.72-7.72 1.47 1.35L5.41 20z\"/>\n",
              "  </svg>\n",
              "      </button>\n",
              "      \n",
              "  <style>\n",
              "    .colab-df-container {\n",
              "      display:flex;\n",
              "      flex-wrap:wrap;\n",
              "      gap: 12px;\n",
              "    }\n",
              "\n",
              "    .colab-df-convert {\n",
              "      background-color: #E8F0FE;\n",
              "      border: none;\n",
              "      border-radius: 50%;\n",
              "      cursor: pointer;\n",
              "      display: none;\n",
              "      fill: #1967D2;\n",
              "      height: 32px;\n",
              "      padding: 0 0 0 0;\n",
              "      width: 32px;\n",
              "    }\n",
              "\n",
              "    .colab-df-convert:hover {\n",
              "      background-color: #E2EBFA;\n",
              "      box-shadow: 0px 1px 2px rgba(60, 64, 67, 0.3), 0px 1px 3px 1px rgba(60, 64, 67, 0.15);\n",
              "      fill: #174EA6;\n",
              "    }\n",
              "\n",
              "    [theme=dark] .colab-df-convert {\n",
              "      background-color: #3B4455;\n",
              "      fill: #D2E3FC;\n",
              "    }\n",
              "\n",
              "    [theme=dark] .colab-df-convert:hover {\n",
              "      background-color: #434B5C;\n",
              "      box-shadow: 0px 1px 3px 1px rgba(0, 0, 0, 0.15);\n",
              "      filter: drop-shadow(0px 1px 2px rgba(0, 0, 0, 0.3));\n",
              "      fill: #FFFFFF;\n",
              "    }\n",
              "  </style>\n",
              "\n",
              "      <script>\n",
              "        const buttonEl =\n",
              "          document.querySelector('#df-4f120eb2-dba0-4947-a4eb-aec4648f0fc8 button.colab-df-convert');\n",
              "        buttonEl.style.display =\n",
              "          google.colab.kernel.accessAllowed ? 'block' : 'none';\n",
              "\n",
              "        async function convertToInteractive(key) {\n",
              "          const element = document.querySelector('#df-4f120eb2-dba0-4947-a4eb-aec4648f0fc8');\n",
              "          const dataTable =\n",
              "            await google.colab.kernel.invokeFunction('convertToInteractive',\n",
              "                                                     [key], {});\n",
              "          if (!dataTable) return;\n",
              "\n",
              "          const docLinkHtml = 'Like what you see? Visit the ' +\n",
              "            '<a target=\"_blank\" href=https://colab.research.google.com/notebooks/data_table.ipynb>data table notebook</a>'\n",
              "            + ' to learn more about interactive tables.';\n",
              "          element.innerHTML = '';\n",
              "          dataTable['output_type'] = 'display_data';\n",
              "          await google.colab.output.renderOutput(dataTable, element);\n",
              "          const docLink = document.createElement('div');\n",
              "          docLink.innerHTML = docLinkHtml;\n",
              "          element.appendChild(docLink);\n",
              "        }\n",
              "      </script>\n",
              "    </div>\n",
              "  </div>\n",
              "  "
            ]
          },
          "metadata": {},
          "execution_count": 279
        }
      ],
      "source": [
        "# Agrupo por Trayecto\n",
        "\n",
        "df5 = df\n",
        "\n",
        "df5 = pd.merge(df5, df_Trayectos, left_on='Trayecto', right_on='Trayecto')\n",
        "\n",
        "\n",
        "df5 = df5.sort_values(['DATE', 'REG', 'STD'])\n",
        "df5 = df5.reset_index(drop=True) \n",
        "df5.head(3)"
      ]
    },
    {
      "cell_type": "code",
      "execution_count": 282,
      "id": "e148c358",
      "metadata": {
        "ExecuteTime": {
          "end_time": "2022-06-03T12:55:23.541183Z",
          "start_time": "2022-06-03T12:55:23.541183Z"
        },
        "colab": {
          "base_uri": "https://localhost:8080/"
        },
        "id": "e148c358",
        "outputId": "f484ae36-00dc-44f6-dcb8-293c0c0544c4"
      },
      "outputs": [
        {
          "output_type": "stream",
          "name": "stdout",
          "text": [
            "\n",
            "Guardado fichero : Vueling_Python_MAR_Vuelo.xlsx\n",
            "\n"
          ]
        }
      ],
      "source": [
        "#Save only the first secuence.\n",
        "from datetime import datetime\n",
        "fecha=datetime.now()\n",
        "\n",
        "dfRegistros1= (df5['Secuencia']== 1) \n",
        "\n",
        "df5 = df5[dfRegistros1]\n",
        "\n",
        "path = str(fecha) + Hoja + \".xlsx\"\n",
        "#df5.to_excel(r\"D:\\Documentos D\\02.- Datos Vueling\\Vueling_Python_MAR_Vuelo_\" + Hoja + \".xlsx\")\n",
        "\n",
        "df5.to_excel(path)\n",
        "print()\n",
        "print('Guardado fichero : Vueling_Python_MAR_Vuelo.xlsx')\n",
        "print()"
      ]
    },
    {
      "cell_type": "markdown",
      "source": [
        "# Calculo Tiempode carga y descarga de pasajeros"
      ],
      "metadata": {
        "id": "89SCWwrUBZYM"
      },
      "id": "89SCWwrUBZYM"
    },
    {
      "cell_type": "code",
      "source": [
        "\n",
        "\n",
        "df[f'lag_ATA']= df['ATA'].shift(periods=-1) "
      ],
      "metadata": {
        "id": "5PhE5RhsBS23"
      },
      "id": "5PhE5RhsBS23",
      "execution_count": null,
      "outputs": []
    }
  ],
  "metadata": {
    "hide_input": false,
    "kernelspec": {
      "display_name": "Python 3 (ipykernel)",
      "language": "python",
      "name": "python3"
    },
    "language_info": {
      "codemirror_mode": {
        "name": "ipython",
        "version": 3
      },
      "file_extension": ".py",
      "mimetype": "text/x-python",
      "name": "python",
      "nbconvert_exporter": "python",
      "pygments_lexer": "ipython3",
      "version": "3.8.8"
    },
    "toc": {
      "base_numbering": 1,
      "nav_menu": {},
      "number_sections": true,
      "sideBar": true,
      "skip_h1_title": false,
      "title_cell": "Table of Contents",
      "title_sidebar": "Contents",
      "toc_cell": false,
      "toc_position": {},
      "toc_section_display": true,
      "toc_window_display": true
    },
    "varInspector": {
      "cols": {
        "lenName": 16,
        "lenType": 16,
        "lenVar": 40
      },
      "kernels_config": {
        "python": {
          "delete_cmd_postfix": "",
          "delete_cmd_prefix": "del ",
          "library": "var_list.py",
          "varRefreshCmd": "print(var_dic_list())"
        },
        "r": {
          "delete_cmd_postfix": ") ",
          "delete_cmd_prefix": "rm(",
          "library": "var_list.r",
          "varRefreshCmd": "cat(var_dic_list()) "
        }
      },
      "types_to_exclude": [
        "module",
        "function",
        "builtin_function_or_method",
        "instance",
        "_Feature"
      ],
      "window_display": false
    },
    "colab": {
      "name": "Calculo Vueling 2022 con codigos Rev D.ipynb",
      "provenance": [],
      "toc_visible": true,
      "include_colab_link": true
    }
  },
  "nbformat": 4,
  "nbformat_minor": 5
}