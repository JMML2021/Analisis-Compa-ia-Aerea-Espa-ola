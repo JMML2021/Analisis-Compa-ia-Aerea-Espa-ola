{
 "cells": [
  {
   "cell_type": "code",
   "execution_count": 366,
   "id": "bd57345b",
   "metadata": {
    "ExecuteTime": {
     "end_time": "2022-06-03T12:55:21.902609Z",
     "start_time": "2022-06-03T12:55:21.896597Z"
    }
   },
   "outputs": [],
   "source": [
    "import numpy as np\n",
    "import matplotlib as plt\n",
    "import pandas as pd\n",
    "import csv\n",
    "import seaborn as sns\n",
    "import datetime\n",
    "from datetime import timedelta\n",
    "from colorama import init, Fore, Back, Style\n"
   ]
  },
  {
   "cell_type": "markdown",
   "id": "969d44c3",
   "metadata": {},
   "source": [
    "# Abrimos los ficheros "
   ]
  },
  {
   "cell_type": "code",
   "execution_count": 367,
   "id": "0d285d9f",
   "metadata": {
    "ExecuteTime": {
     "end_time": "2022-06-03T12:55:22.032637Z",
     "start_time": "2022-06-03T12:55:21.968404Z"
    }
   },
   "outputs": [
    {
     "ename": "ValueError",
     "evalue": "Worksheet named 'FLT_2022' not found",
     "output_type": "error",
     "traceback": [
      "\u001b[1;31m---------------------------------------------------------------------------\u001b[0m",
      "\u001b[1;31mValueError\u001b[0m                                Traceback (most recent call last)",
      "\u001b[1;32m~\\AppData\\Local\\Temp/ipykernel_14856/539766553.py\u001b[0m in \u001b[0;36m<module>\u001b[1;34m\u001b[0m\n\u001b[0;32m      6\u001b[0m \u001b[0mpath\u001b[0m \u001b[1;33m=\u001b[0m\u001b[1;33m(\u001b[0m\u001b[1;34mr\"D:\\Documentos D\\02.- Datos Vueling\\2022.06.03 2022_delay + cierre puertas CORTO.xlsx\"\u001b[0m\u001b[1;33m)\u001b[0m\u001b[1;33m\u001b[0m\u001b[1;33m\u001b[0m\u001b[0m\n\u001b[0;32m      7\u001b[0m \u001b[0mHoja\u001b[0m \u001b[1;33m=\u001b[0m \u001b[1;34m'FLT_2022'\u001b[0m\u001b[1;33m\u001b[0m\u001b[1;33m\u001b[0m\u001b[0m\n\u001b[1;32m----> 8\u001b[1;33m \u001b[0mdf\u001b[0m \u001b[1;33m=\u001b[0m \u001b[0mpd\u001b[0m\u001b[1;33m.\u001b[0m\u001b[0mread_excel\u001b[0m\u001b[1;33m(\u001b[0m\u001b[0mpath\u001b[0m\u001b[1;33m,\u001b[0m \u001b[0msheet_name\u001b[0m\u001b[1;33m=\u001b[0m\u001b[0mHoja\u001b[0m\u001b[1;33m)\u001b[0m\u001b[1;33m\u001b[0m\u001b[1;33m\u001b[0m\u001b[0m\n\u001b[0m",
      "\u001b[1;32m~\\anaconda3\\lib\\site-packages\\pandas\\util\\_decorators.py\u001b[0m in \u001b[0;36mwrapper\u001b[1;34m(*args, **kwargs)\u001b[0m\n\u001b[0;32m    309\u001b[0m                     \u001b[0mstacklevel\u001b[0m\u001b[1;33m=\u001b[0m\u001b[0mstacklevel\u001b[0m\u001b[1;33m,\u001b[0m\u001b[1;33m\u001b[0m\u001b[1;33m\u001b[0m\u001b[0m\n\u001b[0;32m    310\u001b[0m                 )\n\u001b[1;32m--> 311\u001b[1;33m             \u001b[1;32mreturn\u001b[0m \u001b[0mfunc\u001b[0m\u001b[1;33m(\u001b[0m\u001b[1;33m*\u001b[0m\u001b[0margs\u001b[0m\u001b[1;33m,\u001b[0m \u001b[1;33m**\u001b[0m\u001b[0mkwargs\u001b[0m\u001b[1;33m)\u001b[0m\u001b[1;33m\u001b[0m\u001b[1;33m\u001b[0m\u001b[0m\n\u001b[0m\u001b[0;32m    312\u001b[0m \u001b[1;33m\u001b[0m\u001b[0m\n\u001b[0;32m    313\u001b[0m         \u001b[1;32mreturn\u001b[0m \u001b[0mwrapper\u001b[0m\u001b[1;33m\u001b[0m\u001b[1;33m\u001b[0m\u001b[0m\n",
      "\u001b[1;32m~\\anaconda3\\lib\\site-packages\\pandas\\io\\excel\\_base.py\u001b[0m in \u001b[0;36mread_excel\u001b[1;34m(io, sheet_name, header, names, index_col, usecols, squeeze, dtype, engine, converters, true_values, false_values, skiprows, nrows, na_values, keep_default_na, na_filter, verbose, parse_dates, date_parser, thousands, comment, skipfooter, convert_float, mangle_dupe_cols, storage_options)\u001b[0m\n\u001b[0;32m    370\u001b[0m \u001b[1;33m\u001b[0m\u001b[0m\n\u001b[0;32m    371\u001b[0m     \u001b[1;32mtry\u001b[0m\u001b[1;33m:\u001b[0m\u001b[1;33m\u001b[0m\u001b[1;33m\u001b[0m\u001b[0m\n\u001b[1;32m--> 372\u001b[1;33m         data = io.parse(\n\u001b[0m\u001b[0;32m    373\u001b[0m             \u001b[0msheet_name\u001b[0m\u001b[1;33m=\u001b[0m\u001b[0msheet_name\u001b[0m\u001b[1;33m,\u001b[0m\u001b[1;33m\u001b[0m\u001b[1;33m\u001b[0m\u001b[0m\n\u001b[0;32m    374\u001b[0m             \u001b[0mheader\u001b[0m\u001b[1;33m=\u001b[0m\u001b[0mheader\u001b[0m\u001b[1;33m,\u001b[0m\u001b[1;33m\u001b[0m\u001b[1;33m\u001b[0m\u001b[0m\n",
      "\u001b[1;32m~\\anaconda3\\lib\\site-packages\\pandas\\io\\excel\\_base.py\u001b[0m in \u001b[0;36mparse\u001b[1;34m(self, sheet_name, header, names, index_col, usecols, squeeze, converters, true_values, false_values, skiprows, nrows, na_values, parse_dates, date_parser, thousands, comment, skipfooter, convert_float, mangle_dupe_cols, **kwds)\u001b[0m\n\u001b[0;32m   1270\u001b[0m             \u001b[0mDataFrame\u001b[0m \u001b[1;32mfrom\u001b[0m \u001b[0mthe\u001b[0m \u001b[0mpassed\u001b[0m \u001b[1;32min\u001b[0m \u001b[0mExcel\u001b[0m \u001b[0mfile\u001b[0m\u001b[1;33m.\u001b[0m\u001b[1;33m\u001b[0m\u001b[1;33m\u001b[0m\u001b[0m\n\u001b[0;32m   1271\u001b[0m         \"\"\"\n\u001b[1;32m-> 1272\u001b[1;33m         return self._reader.parse(\n\u001b[0m\u001b[0;32m   1273\u001b[0m             \u001b[0msheet_name\u001b[0m\u001b[1;33m=\u001b[0m\u001b[0msheet_name\u001b[0m\u001b[1;33m,\u001b[0m\u001b[1;33m\u001b[0m\u001b[1;33m\u001b[0m\u001b[0m\n\u001b[0;32m   1274\u001b[0m             \u001b[0mheader\u001b[0m\u001b[1;33m=\u001b[0m\u001b[0mheader\u001b[0m\u001b[1;33m,\u001b[0m\u001b[1;33m\u001b[0m\u001b[1;33m\u001b[0m\u001b[0m\n",
      "\u001b[1;32m~\\anaconda3\\lib\\site-packages\\pandas\\io\\excel\\_base.py\u001b[0m in \u001b[0;36mparse\u001b[1;34m(self, sheet_name, header, names, index_col, usecols, squeeze, dtype, true_values, false_values, skiprows, nrows, na_values, verbose, parse_dates, date_parser, thousands, comment, skipfooter, convert_float, mangle_dupe_cols, **kwds)\u001b[0m\n\u001b[0;32m    533\u001b[0m \u001b[1;33m\u001b[0m\u001b[0m\n\u001b[0;32m    534\u001b[0m             \u001b[1;32mif\u001b[0m \u001b[0misinstance\u001b[0m\u001b[1;33m(\u001b[0m\u001b[0masheetname\u001b[0m\u001b[1;33m,\u001b[0m \u001b[0mstr\u001b[0m\u001b[1;33m)\u001b[0m\u001b[1;33m:\u001b[0m\u001b[1;33m\u001b[0m\u001b[1;33m\u001b[0m\u001b[0m\n\u001b[1;32m--> 535\u001b[1;33m                 \u001b[0msheet\u001b[0m \u001b[1;33m=\u001b[0m \u001b[0mself\u001b[0m\u001b[1;33m.\u001b[0m\u001b[0mget_sheet_by_name\u001b[0m\u001b[1;33m(\u001b[0m\u001b[0masheetname\u001b[0m\u001b[1;33m)\u001b[0m\u001b[1;33m\u001b[0m\u001b[1;33m\u001b[0m\u001b[0m\n\u001b[0m\u001b[0;32m    536\u001b[0m             \u001b[1;32melse\u001b[0m\u001b[1;33m:\u001b[0m  \u001b[1;31m# assume an integer if not a string\u001b[0m\u001b[1;33m\u001b[0m\u001b[1;33m\u001b[0m\u001b[0m\n\u001b[0;32m    537\u001b[0m                 \u001b[0msheet\u001b[0m \u001b[1;33m=\u001b[0m \u001b[0mself\u001b[0m\u001b[1;33m.\u001b[0m\u001b[0mget_sheet_by_index\u001b[0m\u001b[1;33m(\u001b[0m\u001b[0masheetname\u001b[0m\u001b[1;33m)\u001b[0m\u001b[1;33m\u001b[0m\u001b[1;33m\u001b[0m\u001b[0m\n",
      "\u001b[1;32m~\\anaconda3\\lib\\site-packages\\pandas\\io\\excel\\_openpyxl.py\u001b[0m in \u001b[0;36mget_sheet_by_name\u001b[1;34m(self, name)\u001b[0m\n\u001b[0;32m    540\u001b[0m \u001b[1;33m\u001b[0m\u001b[0m\n\u001b[0;32m    541\u001b[0m     \u001b[1;32mdef\u001b[0m \u001b[0mget_sheet_by_name\u001b[0m\u001b[1;33m(\u001b[0m\u001b[0mself\u001b[0m\u001b[1;33m,\u001b[0m \u001b[0mname\u001b[0m\u001b[1;33m:\u001b[0m \u001b[0mstr\u001b[0m\u001b[1;33m)\u001b[0m\u001b[1;33m:\u001b[0m\u001b[1;33m\u001b[0m\u001b[1;33m\u001b[0m\u001b[0m\n\u001b[1;32m--> 542\u001b[1;33m         \u001b[0mself\u001b[0m\u001b[1;33m.\u001b[0m\u001b[0mraise_if_bad_sheet_by_name\u001b[0m\u001b[1;33m(\u001b[0m\u001b[0mname\u001b[0m\u001b[1;33m)\u001b[0m\u001b[1;33m\u001b[0m\u001b[1;33m\u001b[0m\u001b[0m\n\u001b[0m\u001b[0;32m    543\u001b[0m         \u001b[1;32mreturn\u001b[0m \u001b[0mself\u001b[0m\u001b[1;33m.\u001b[0m\u001b[0mbook\u001b[0m\u001b[1;33m[\u001b[0m\u001b[0mname\u001b[0m\u001b[1;33m]\u001b[0m\u001b[1;33m\u001b[0m\u001b[1;33m\u001b[0m\u001b[0m\n\u001b[0;32m    544\u001b[0m \u001b[1;33m\u001b[0m\u001b[0m\n",
      "\u001b[1;32m~\\anaconda3\\lib\\site-packages\\pandas\\io\\excel\\_base.py\u001b[0m in \u001b[0;36mraise_if_bad_sheet_by_name\u001b[1;34m(self, name)\u001b[0m\n\u001b[0;32m    472\u001b[0m     \u001b[1;32mdef\u001b[0m \u001b[0mraise_if_bad_sheet_by_name\u001b[0m\u001b[1;33m(\u001b[0m\u001b[0mself\u001b[0m\u001b[1;33m,\u001b[0m \u001b[0mname\u001b[0m\u001b[1;33m:\u001b[0m \u001b[0mstr\u001b[0m\u001b[1;33m)\u001b[0m \u001b[1;33m->\u001b[0m \u001b[1;32mNone\u001b[0m\u001b[1;33m:\u001b[0m\u001b[1;33m\u001b[0m\u001b[1;33m\u001b[0m\u001b[0m\n\u001b[0;32m    473\u001b[0m         \u001b[1;32mif\u001b[0m \u001b[0mname\u001b[0m \u001b[1;32mnot\u001b[0m \u001b[1;32min\u001b[0m \u001b[0mself\u001b[0m\u001b[1;33m.\u001b[0m\u001b[0msheet_names\u001b[0m\u001b[1;33m:\u001b[0m\u001b[1;33m\u001b[0m\u001b[1;33m\u001b[0m\u001b[0m\n\u001b[1;32m--> 474\u001b[1;33m             \u001b[1;32mraise\u001b[0m \u001b[0mValueError\u001b[0m\u001b[1;33m(\u001b[0m\u001b[1;34mf\"Worksheet named '{name}' not found\"\u001b[0m\u001b[1;33m)\u001b[0m\u001b[1;33m\u001b[0m\u001b[1;33m\u001b[0m\u001b[0m\n\u001b[0m\u001b[0;32m    475\u001b[0m \u001b[1;33m\u001b[0m\u001b[0m\n\u001b[0;32m    476\u001b[0m     def parse(\n",
      "\u001b[1;31mValueError\u001b[0m: Worksheet named 'FLT_2022' not found"
     ]
    }
   ],
   "source": [
    "# Abrimos el fichero:\n",
    "path =(r\"D:\\Documentos D\\02.- Datos Vueling\\2022.06.03 2022_delay + cierre puertas.xlsx\")\n",
    "\n",
    "\n",
    "# QUITAR # Para coger un fichero más pequeño\n",
    "path =(r\"D:\\Documentos D\\02.- Datos Vueling\\2022.06.03 2022_delay + cierre puertas CORTO.xlsx\")\n",
    "Hoja = 'FLT_2022'\n",
    "df = pd.read_excel(path, sheet_name=Hoja)"
   ]
  },
  {
   "cell_type": "code",
   "execution_count": null,
   "id": "f94d940b",
   "metadata": {
    "ExecuteTime": {
     "end_time": "2022-06-03T12:55:22.041613Z",
     "start_time": "2022-06-03T12:55:22.041613Z"
    }
   },
   "outputs": [],
   "source": [
    "df['Secuencia'] = df.groupby(['DATE', 'REG'])['STD'].rank()\n",
    "print(df[['Secuencia','STD', 'DEP']][0:4])"
   ]
  },
  {
   "cell_type": "code",
   "execution_count": null,
   "id": "475c0872",
   "metadata": {
    "ExecuteTime": {
     "end_time": "2022-06-03T12:55:22.044607Z",
     "start_time": "2022-06-03T12:55:22.044607Z"
    }
   },
   "outputs": [],
   "source": [
    "print(Style.BRIGHT +Fore.BLUE+'Hola' )\n",
    "print('LLLLLL')"
   ]
  },
  {
   "cell_type": "code",
   "execution_count": null,
   "id": "e5b256fe",
   "metadata": {
    "ExecuteTime": {
     "end_time": "2022-06-03T12:55:22.048596Z",
     "start_time": "2022-06-03T12:55:22.048596Z"
    }
   },
   "outputs": [],
   "source": [
    "print(Hoja)"
   ]
  },
  {
   "cell_type": "code",
   "execution_count": null,
   "id": "f8e5216e",
   "metadata": {
    "ExecuteTime": {
     "end_time": "2022-06-03T12:55:22.050590Z",
     "start_time": "2022-06-03T12:55:22.050590Z"
    }
   },
   "outputs": [],
   "source": [
    "# Identifico los Aeropuertos principales.\n",
    "\n",
    "\n",
    "path =(r\"D:\\Documentos D\\02.- Datos Vueling\\Flights Movement 2019-2022 MAR.xlsx\")\n",
    "df_Aeropuertos = pd.read_excel(path, sheet_name='Aeropuertos')\n",
    "df_Aeropuertos = df_Aeropuertos.drop(['Borrar'], axis=1)\n",
    "\n",
    "#df_Aeropuertos.head\n",
    "\n"
   ]
  },
  {
   "cell_type": "code",
   "execution_count": null,
   "id": "aa58a93f",
   "metadata": {
    "ExecuteTime": {
     "end_time": "2022-06-03T12:55:22.052584Z",
     "start_time": "2022-06-03T12:55:22.052584Z"
    }
   },
   "outputs": [],
   "source": [
    "#df.dtypes"
   ]
  },
  {
   "cell_type": "code",
   "execution_count": null,
   "id": "dd04b249",
   "metadata": {
    "ExecuteTime": {
     "end_time": "2022-06-03T12:55:22.053582Z",
     "start_time": "2022-06-03T12:55:22.053582Z"
    }
   },
   "outputs": [],
   "source": [
    "# Convierto todas las columnas de tiempo en un formato correcto\n",
    "\n",
    "formato = \"%H:%M:%S\"\n",
    "\n",
    "\n",
    "def convertirTiempo(clave):\n",
    "    df[clave] = pd.to_datetime(df[clave],\n",
    "                               format=formato,\n",
    "                               errors='coerce')\n",
    "\n",
    "\n",
    "columnasConvertir = ['DATE', 'STD', 'STA', 'Tkof', 'TDwn', 'ATD', 'ATA', 'BLOCK', 'FLThr', 'Taxi-out', 'Taxi-In',\n",
    "                     'DLY1Arr', 'Close Pax Door', 'Close Cargo Door', 'Open Cargo/Pax Door', 'close pax door2', 'close cargo door2', 'open cargo/pax door2',\n",
    "                     'SLOT', 'DLY1', 'DLY2']\n",
    "\n",
    "for x in columnasConvertir:\n",
    "    convertirTiempo(x)\n",
    "    # print(x)\n",
    "# df.dtypes\n",
    "df.head()"
   ]
  },
  {
   "cell_type": "code",
   "execution_count": null,
   "id": "21dc4bfc",
   "metadata": {
    "ExecuteTime": {
     "end_time": "2022-06-03T12:55:22.055576Z",
     "start_time": "2022-06-03T12:55:22.055576Z"
    }
   },
   "outputs": [],
   "source": [
    "#Subrutina que suma las fechas con las horas.\n",
    "def adecuarFechas(fecha, tiempoClave):\n",
    "    clave = \"Date_\" + tiempoClave\n",
    "    print('.....Clave: ',clave, '....', fecha, tiempoClave)     \n",
    "    df[tiempoClave] = pd.to_datetime(df[tiempoClave], format='%H:%M', errors='coerce')       \n",
    "    \n",
    "    df[tiempoClave] = pd.to_datetime( df[fecha].dt.strftime('%d/%m/%Y') + ' ' + df[tiempoClave].dt.strftime('%H:%M:%S'))"
   ]
  },
  {
   "cell_type": "code",
   "execution_count": null,
   "id": "09bb2275",
   "metadata": {
    "ExecuteTime": {
     "end_time": "2022-06-03T12:55:22.056574Z",
     "start_time": "2022-06-03T12:55:22.056574Z"
    }
   },
   "outputs": [],
   "source": [
    "#df1=df.copy()\n",
    "print(df['STD'].head())\n",
    "columnasAddDate= ['STD', 'STA', 'Tkof', 'TDwn', 'ATD', 'ATA', 'BLOCK', 'FLThr','Taxi-out',\n",
    "                  'Taxi-In','DLY1Arr',  'SLOT', 'DLY1', 'DLY2', 'close pax door2', 'close cargo door2']\n",
    " \n",
    "for x in columnasAddDate:    \n",
    "    adecuarFechas('DATE', x)\n"
   ]
  },
  {
   "cell_type": "code",
   "execution_count": null,
   "id": "d54f9651",
   "metadata": {
    "ExecuteTime": {
     "end_time": "2022-06-03T12:55:22.058568Z",
     "start_time": "2022-06-03T12:55:22.058568Z"
    }
   },
   "outputs": [],
   "source": [
    "#Agrupo por aeropuerto de Salida\n",
    "\n",
    "df1['MES'] = df['STD'].dt.month"
   ]
  },
  {
   "cell_type": "markdown",
   "id": "a59874f0",
   "metadata": {},
   "source": [
    "# Convierto todas las columnas de tiempo en un formato correcto"
   ]
  },
  {
   "cell_type": "markdown",
   "id": "752bd9f5",
   "metadata": {},
   "source": [
    "# Identificacion de los principales Aeropuertos"
   ]
  },
  {
   "cell_type": "code",
   "execution_count": 368,
   "id": "53b47249",
   "metadata": {
    "ExecuteTime": {
     "end_time": "2022-06-03T12:55:22.248061Z",
     "start_time": "2022-06-03T12:55:22.202185Z"
    }
   },
   "outputs": [
    {
     "data": {
      "text/html": [
       "<div><div id=43cfcd99-8a5a-49c1-87b2-62f0c168b142 style=\"display:none; background-color:#9D6CFF; color:white; width:200px; height:30px; padding-left:5px; border-radius:4px; flex-direction:row; justify-content:space-around; align-items:center;\" onmouseover=\"this.style.backgroundColor='#BA9BF8'\" onmouseout=\"this.style.backgroundColor='#9D6CFF'\" onclick=\"window.commands?.execute('create-mitosheet-from-dataframe-output');\">See Full Dataframe in Mito</div> <script> if (window.commands?.hasCommand('create-mitosheet-from-dataframe-output')) document.getElementById('43cfcd99-8a5a-49c1-87b2-62f0c168b142').style.display = 'flex' </script> <table border=\"1\" class=\"dataframe\">\n",
       "  <thead>\n",
       "    <tr style=\"text-align: right;\">\n",
       "      <th></th>\n",
       "      <th>DATE</th>\n",
       "      <th>FLT</th>\n",
       "      <th>REG</th>\n",
       "      <th>AC</th>\n",
       "      <th>DEP</th>\n",
       "      <th>ARR</th>\n",
       "      <th>STD</th>\n",
       "      <th>STA</th>\n",
       "      <th>Tkof</th>\n",
       "      <th>TDwn</th>\n",
       "      <th>...</th>\n",
       "      <th>Trayecto</th>\n",
       "      <th>E_Despegue</th>\n",
       "      <th>Aeropuerto_Key</th>\n",
       "      <th>Aeropuerto_Key</th>\n",
       "      <th>Aeropuerto_Key</th>\n",
       "      <th>Aeropuerto_Key</th>\n",
       "      <th>Aeropuerto_Key</th>\n",
       "      <th>Aeropuerto_Key</th>\n",
       "      <th>AeropuertoKey1</th>\n",
       "      <th>AeropuertoKey1</th>\n",
       "    </tr>\n",
       "  </thead>\n",
       "  <tbody>\n",
       "    <tr>\n",
       "      <th>0</th>\n",
       "      <td>2022-01-01</td>\n",
       "      <td>2506</td>\n",
       "      <td>EC-JSY</td>\n",
       "      <td>320</td>\n",
       "      <td>BIO</td>\n",
       "      <td>BCN</td>\n",
       "      <td>2022-01-01 07:40:00</td>\n",
       "      <td>2022-01-01 09:05:00</td>\n",
       "      <td>2022-01-01 08:10:00</td>\n",
       "      <td>2022-01-01 09:17:00</td>\n",
       "      <td>...</td>\n",
       "      <td>BCN-BIO</td>\n",
       "      <td>20.0</td>\n",
       "      <td>BIO</td>\n",
       "      <td>BCN</td>\n",
       "      <td>BIO</td>\n",
       "      <td>BCN</td>\n",
       "      <td>BIO</td>\n",
       "      <td>BCN</td>\n",
       "      <td>BIO</td>\n",
       "      <td>BCN</td>\n",
       "    </tr>\n",
       "    <tr>\n",
       "      <th>1</th>\n",
       "      <td>2022-01-01</td>\n",
       "      <td>2505</td>\n",
       "      <td>EC-JSY</td>\n",
       "      <td>320</td>\n",
       "      <td>BCN</td>\n",
       "      <td>BIO</td>\n",
       "      <td>2022-01-01 09:40:00</td>\n",
       "      <td>2022-01-01 11:05:00</td>\n",
       "      <td>2022-01-01 10:03:00</td>\n",
       "      <td>2022-01-01 11:07:00</td>\n",
       "      <td>...</td>\n",
       "      <td>BCN-BIO</td>\n",
       "      <td>11.0</td>\n",
       "      <td>BCN</td>\n",
       "      <td>BIO</td>\n",
       "      <td>BCN</td>\n",
       "      <td>BIO</td>\n",
       "      <td>BCN</td>\n",
       "      <td>BIO</td>\n",
       "      <td>BCN</td>\n",
       "      <td>BIO</td>\n",
       "    </tr>\n",
       "    <tr>\n",
       "      <th>2</th>\n",
       "      <td>2022-01-01</td>\n",
       "      <td>1386</td>\n",
       "      <td>EC-JSY</td>\n",
       "      <td>320</td>\n",
       "      <td>BIO</td>\n",
       "      <td>SCQ</td>\n",
       "      <td>2022-01-01 11:40:00</td>\n",
       "      <td>2022-01-01 12:50:00</td>\n",
       "      <td>2022-01-01 11:50:00</td>\n",
       "      <td>2022-01-01 12:40:00</td>\n",
       "      <td>...</td>\n",
       "      <td>BIO-SCQ</td>\n",
       "      <td>0.0</td>\n",
       "      <td>BIO</td>\n",
       "      <td>SCQ</td>\n",
       "      <td>BIO</td>\n",
       "      <td>SCQ</td>\n",
       "      <td>BIO</td>\n",
       "      <td>SCQ</td>\n",
       "      <td>BIO</td>\n",
       "      <td>SCQ</td>\n",
       "    </tr>\n",
       "    <tr>\n",
       "      <th>3</th>\n",
       "      <td>2022-01-01</td>\n",
       "      <td>1387</td>\n",
       "      <td>EC-JSY</td>\n",
       "      <td>320</td>\n",
       "      <td>SCQ</td>\n",
       "      <td>BIO</td>\n",
       "      <td>2022-01-01 13:30:00</td>\n",
       "      <td>2022-01-01 14:35:00</td>\n",
       "      <td>2022-01-01 13:30:00</td>\n",
       "      <td>2022-01-01 14:08:00</td>\n",
       "      <td>...</td>\n",
       "      <td>BIO-SCQ</td>\n",
       "      <td>-7.0</td>\n",
       "      <td>SCQ</td>\n",
       "      <td>BIO</td>\n",
       "      <td>SCQ</td>\n",
       "      <td>BIO</td>\n",
       "      <td>SCQ</td>\n",
       "      <td>BIO</td>\n",
       "      <td>SCQ</td>\n",
       "      <td>BIO</td>\n",
       "    </tr>\n",
       "  </tbody>\n",
       "</table></div>"
      ],
      "text/plain": [
       "        DATE   FLT     REG  AC   DEP  ARR                 STD  \\\n",
       "0 2022-01-01  2506  EC-JSY  320  BIO  BCN 2022-01-01 07:40:00   \n",
       "1 2022-01-01  2505  EC-JSY  320  BCN  BIO 2022-01-01 09:40:00   \n",
       "2 2022-01-01  1386  EC-JSY  320  BIO  SCQ 2022-01-01 11:40:00   \n",
       "3 2022-01-01  1387  EC-JSY  320  SCQ  BIO 2022-01-01 13:30:00   \n",
       "\n",
       "                  STA                Tkof                TDwn  ... Trayecto  \\\n",
       "0 2022-01-01 09:05:00 2022-01-01 08:10:00 2022-01-01 09:17:00  ...  BCN-BIO   \n",
       "1 2022-01-01 11:05:00 2022-01-01 10:03:00 2022-01-01 11:07:00  ...  BCN-BIO   \n",
       "2 2022-01-01 12:50:00 2022-01-01 11:50:00 2022-01-01 12:40:00  ...  BIO-SCQ   \n",
       "3 2022-01-01 14:35:00 2022-01-01 13:30:00 2022-01-01 14:08:00  ...  BIO-SCQ   \n",
       "\n",
       "  E_Despegue  Aeropuerto_Key  Aeropuerto_Key  Aeropuerto_Key  Aeropuerto_Key  \\\n",
       "0       20.0             BIO             BCN             BIO             BCN   \n",
       "1       11.0             BCN             BIO             BCN             BIO   \n",
       "2        0.0             BIO             SCQ             BIO             SCQ   \n",
       "3       -7.0             SCQ             BIO             SCQ             BIO   \n",
       "\n",
       "   Aeropuerto_Key  Aeropuerto_Key AeropuertoKey1 AeropuertoKey1  \n",
       "0             BIO             BCN            BIO            BCN  \n",
       "1             BCN             BIO            BCN            BIO  \n",
       "2             BIO             SCQ            BIO            SCQ  \n",
       "3             SCQ             BIO            SCQ            BIO  \n",
       "\n",
       "[4 rows x 60 columns]"
      ]
     },
     "execution_count": 368,
     "metadata": {},
     "output_type": "execute_result"
    }
   ],
   "source": [
    "df= pd.merge(df,df_Aeropuertos, left_on= 'DEP', right_on='Dep')\n",
    "\n",
    "df= pd.merge(df,df_Aeropuertos, left_on= 'ARR', right_on='Dep')\n",
    "\n",
    "\n",
    "df= df.rename({'AeropuertoKey1_x': 'Aeropuerto_Key', 'AeropuertoKey1_y': 'AeropuertoKey1'}, axis=1)\n",
    "\n",
    "df= df.sort_values(['DATE', 'REG', 'STD'])\n",
    "df= df.reset_index(drop=True)\n",
    "borrarColumnas = ['Dep_x', 'Dep_y']\n",
    "df = df.drop(borrarColumnas, axis=1)\n",
    "df.head(4)"
   ]
  },
  {
   "cell_type": "markdown",
   "id": "46ff0abb",
   "metadata": {
    "ExecuteTime": {
     "end_time": "2022-05-25T05:42:55.224452Z",
     "start_time": "2022-05-25T05:42:55.212482Z"
    }
   },
   "source": [
    "# Calculo tiempo en vuelo 1"
   ]
  },
  {
   "cell_type": "code",
   "execution_count": 369,
   "id": "e3a6b3fe",
   "metadata": {
    "ExecuteTime": {
     "end_time": "2022-06-03T12:55:22.295356Z",
     "start_time": "2022-06-03T12:55:22.276436Z"
    }
   },
   "outputs": [
    {
     "name": "stdout",
     "output_type": "stream",
     "text": [
      "0    2022-01-01 07:58:00\n",
      "1    2022-01-01 09:48:00\n",
      "2    2022-01-01 11:38:00\n",
      "3    2022-01-01 13:18:00\n",
      "4    2022-01-01 15:07:00\n",
      "5    2022-01-01 18:51:00\n",
      "6    2022-01-01 07:11:00\n",
      "7    2022-01-01 09:23:00\n",
      "8    2022-01-01 11:38:00\n",
      "9    2022-01-01 14:11:00\n",
      "10   2022-01-01 17:08:00\n",
      "11   2022-01-01 19:53:00\n",
      "12   2022-01-01 14:22:00\n",
      "13   2022-01-01 16:40:00\n",
      "14   2022-01-01 18:53:00\n",
      "15   2022-01-01 20:14:00\n",
      "16   2022-01-01 07:43:00\n",
      "17   2022-01-01 11:28:00\n",
      "18   2022-01-01 15:01:00\n",
      "19   2022-01-01 16:58:00\n",
      "Name: Close Pax Door, dtype: datetime64[ns]\n"
     ]
    }
   ],
   "source": [
    "df.columns\n",
    "print(df['Close Pax Door'])"
   ]
  },
  {
   "cell_type": "code",
   "execution_count": 370,
   "id": "655d0ec0",
   "metadata": {
    "ExecuteTime": {
     "end_time": "2022-06-03T12:55:22.311343Z",
     "start_time": "2022-06-03T12:55:22.297352Z"
    }
   },
   "outputs": [
    {
     "data": {
      "text/plain": [
       "0   -5.0\n",
       "1   -7.0\n",
       "2   -5.0\n",
       "Name: E_Duracion_Vuelo, dtype: float64"
      ]
     },
     "execution_count": 370,
     "metadata": {},
     "output_type": "execute_result"
    }
   ],
   "source": [
    "# Calulo tiempo de vuelo teorico Real y error\n",
    "df['DuracionVueloTeorico']= (df['STA'] - df['STD'])/  np.timedelta64(1, 'm') \n",
    "df['DuracionVueloReal'] = (df['ATA'] - df['ATD']) /  np.timedelta64(1, 'm') \n",
    "df['E_Duracion_Vuelo'] = (df['DuracionVueloReal'] - df['DuracionVueloTeorico']) #/  np.timedelta64(1, 'm') \n",
    "df['E_Duracion_Vuelo'].head(3)"
   ]
  },
  {
   "cell_type": "markdown",
   "id": "efea1c53",
   "metadata": {},
   "source": [
    "# Tiempo Close Pax y Close Cargo Door"
   ]
  },
  {
   "cell_type": "code",
   "execution_count": 371,
   "id": "71569ce9",
   "metadata": {
    "ExecuteTime": {
     "end_time": "2022-06-03T12:55:22.372180Z",
     "start_time": "2022-06-03T12:55:22.352205Z"
    }
   },
   "outputs": [
    {
     "data": {
      "text/plain": [
       "0    2022-01-01 07:58:00\n",
       "1    2022-01-01 09:48:00\n",
       "2    2022-01-01 11:38:00\n",
       "3    2022-01-01 13:18:00\n",
       "4    2022-01-01 15:07:00\n",
       "5    2022-01-01 18:51:00\n",
       "6    2022-01-01 07:11:00\n",
       "7    2022-01-01 09:23:00\n",
       "8    2022-01-01 11:38:00\n",
       "9    2022-01-01 14:11:00\n",
       "10   2022-01-01 17:08:00\n",
       "11   2022-01-01 19:53:00\n",
       "12   2022-01-01 14:22:00\n",
       "13   2022-01-01 16:40:00\n",
       "14   2022-01-01 18:53:00\n",
       "15   2022-01-01 20:14:00\n",
       "16   2022-01-01 07:43:00\n",
       "17   2022-01-01 11:28:00\n",
       "18   2022-01-01 15:01:00\n",
       "19   2022-01-01 16:58:00\n",
       "Name: Close Pax Door, dtype: datetime64[ns]"
      ]
     },
     "execution_count": 371,
     "metadata": {},
     "output_type": "execute_result"
    }
   ],
   "source": [
    "df['Close Pax Door']"
   ]
  },
  {
   "cell_type": "code",
   "execution_count": 372,
   "id": "c27804f1",
   "metadata": {
    "ExecuteTime": {
     "end_time": "2022-06-03T12:55:22.388137Z",
     "start_time": "2022-06-03T12:55:22.374146Z"
    }
   },
   "outputs": [
    {
     "name": "stdout",
     "output_type": "stream",
     "text": [
      "0   2022-01-01 07:58:00\n",
      "1   2022-01-01 09:48:00\n",
      "2   2022-01-01 11:38:00\n",
      "3   2022-01-01 13:18:00\n",
      "Name: Close Pax Door, dtype: datetime64[ns]\n",
      "-----------------\n",
      "0   2022-01-01 08:00:00\n",
      "1   2022-01-01 09:51:00\n",
      "2   2022-01-01 11:40:00\n",
      "3   2022-01-01 13:23:00\n",
      "Name: ATD, dtype: datetime64[ns]\n"
     ]
    }
   ],
   "source": [
    "df['Close Pax Door'] =pd.to_datetime(df['Close Pax Door'])\n",
    "print(df['Close Pax Door'].head(4))\n",
    "print('-----------------')\n",
    "print(df1['ATD'].head(4))"
   ]
  },
  {
   "cell_type": "code",
   "execution_count": 373,
   "id": "f9737a70",
   "metadata": {
    "ExecuteTime": {
     "end_time": "2022-06-03T12:55:22.404066Z",
     "start_time": "2022-06-03T12:55:22.389106Z"
    }
   },
   "outputs": [
    {
     "data": {
      "text/plain": [
       "0     -2.0\n",
       "1     -3.0\n",
       "2     -2.0\n",
       "3     -5.0\n",
       "4      0.0\n",
       "5      0.0\n",
       "6     -1.0\n",
       "7      0.0\n",
       "8     -1.0\n",
       "9     -3.0\n",
       "10     0.0\n",
       "11    -5.0\n",
       "12    -5.0\n",
       "13     0.0\n",
       "14    -1.0\n",
       "15    -2.0\n",
       "16   -30.0\n",
       "17    -2.0\n",
       "18     0.0\n",
       "19    -1.0\n",
       "Name: t_ClosePax, dtype: float64"
      ]
     },
     "execution_count": 373,
     "metadata": {},
     "output_type": "execute_result"
    }
   ],
   "source": [
    "df['Close Pax Door'] =pd.to_datetime(df['Close Pax Door'])\n",
    "df['t_ClosePax'] =   (df['Close Pax Door'] - df['ATD']) /  np.timedelta64(1, 'm') \n",
    "df['t_ClosePax']"
   ]
  },
  {
   "cell_type": "code",
   "execution_count": 374,
   "id": "9e124712",
   "metadata": {
    "ExecuteTime": {
     "end_time": "2022-06-03T12:55:22.435980Z",
     "start_time": "2022-06-03T12:55:22.406060Z"
    }
   },
   "outputs": [
    {
     "data": {
      "text/html": [
       "<div><div id=8505ffc4-fdfe-4265-bdd8-0ceff09d01cf style=\"display:none; background-color:#9D6CFF; color:white; width:200px; height:30px; padding-left:5px; border-radius:4px; flex-direction:row; justify-content:space-around; align-items:center;\" onmouseover=\"this.style.backgroundColor='#BA9BF8'\" onmouseout=\"this.style.backgroundColor='#9D6CFF'\" onclick=\"window.commands?.execute('create-mitosheet-from-dataframe-output');\">See Full Dataframe in Mito</div> <script> if (window.commands?.hasCommand('create-mitosheet-from-dataframe-output')) document.getElementById('8505ffc4-fdfe-4265-bdd8-0ceff09d01cf').style.display = 'flex' </script> <table border=\"1\" class=\"dataframe\">\n",
       "  <thead>\n",
       "    <tr style=\"text-align: right;\">\n",
       "      <th></th>\n",
       "      <th>t_ClosePax</th>\n",
       "      <th>t_Close_Cargo_Door</th>\n",
       "      <th>t_Entre_Puertas</th>\n",
       "    </tr>\n",
       "  </thead>\n",
       "  <tbody>\n",
       "    <tr>\n",
       "      <th>0</th>\n",
       "      <td>-2.0</td>\n",
       "      <td>-29.0</td>\n",
       "      <td>-27.0</td>\n",
       "    </tr>\n",
       "    <tr>\n",
       "      <th>1</th>\n",
       "      <td>-3.0</td>\n",
       "      <td>-5.0</td>\n",
       "      <td>-2.0</td>\n",
       "    </tr>\n",
       "    <tr>\n",
       "      <th>2</th>\n",
       "      <td>-2.0</td>\n",
       "      <td>-6.0</td>\n",
       "      <td>-4.0</td>\n",
       "    </tr>\n",
       "    <tr>\n",
       "      <th>3</th>\n",
       "      <td>-5.0</td>\n",
       "      <td>-17.0</td>\n",
       "      <td>-12.0</td>\n",
       "    </tr>\n",
       "  </tbody>\n",
       "</table></div>"
      ],
      "text/plain": [
       "   t_ClosePax  t_Close_Cargo_Door  t_Entre_Puertas\n",
       "0        -2.0               -29.0            -27.0\n",
       "1        -3.0                -5.0             -2.0\n",
       "2        -2.0                -6.0             -4.0\n",
       "3        -5.0               -17.0            -12.0"
      ]
     },
     "execution_count": 374,
     "metadata": {},
     "output_type": "execute_result"
    }
   ],
   "source": [
    "df ['Close Cargo Door']=pd.to_datetime(df ['Close Cargo Door'])\n",
    "df['t_Close_Cargo_Door'] = (df ['Close Cargo Door'] - df['ATD']) /  np.timedelta64(1, 'm') \n",
    "\n",
    "df['Close Pax Door'] =pd.to_datetime(df['Close Pax Door'])\n",
    "df ['Close Cargo Door']=pd.to_datetime(df ['Close Cargo Door'])\n",
    "\n",
    "df['t_Entre_Puertas'] = (df ['Close Cargo Door'] - df['Close Pax Door']) /  np.timedelta64(1, 'm') \n",
    "df[[ 't_ClosePax','t_Close_Cargo_Door', 't_Entre_Puertas'] ].head(4)"
   ]
  },
  {
   "cell_type": "code",
   "execution_count": 375,
   "id": "4c5b4de5",
   "metadata": {
    "ExecuteTime": {
     "end_time": "2022-06-03T12:55:22.451966Z",
     "start_time": "2022-06-03T12:55:22.437976Z"
    }
   },
   "outputs": [
    {
     "data": {
      "text/plain": [
       "0    2022-01-01 07:31:00\n",
       "1    2022-01-01 09:46:00\n",
       "2    2022-01-01 11:34:00\n",
       "3    2022-01-01 13:06:00\n",
       "4    2022-01-01 15:01:00\n",
       "5    2022-01-01 18:46:00\n",
       "6    2022-01-01 07:07:00\n",
       "7    2022-01-01 09:19:00\n",
       "8    2022-01-01 11:39:00\n",
       "9    2022-01-01 14:14:00\n",
       "10   2022-01-01 17:03:00\n",
       "11   2022-01-01 19:58:00\n",
       "12   2022-01-01 14:27:00\n",
       "13   2022-01-01 16:37:00\n",
       "14   2022-01-01 18:51:00\n",
       "15   2022-01-01 20:12:00\n",
       "16   2022-01-01 07:40:00\n",
       "17   2022-01-01 11:29:00\n",
       "18   2022-01-01 15:00:00\n",
       "19   2022-01-01 16:45:00\n",
       "Name: Close Cargo Door, dtype: datetime64[ns]"
      ]
     },
     "execution_count": 375,
     "metadata": {},
     "output_type": "execute_result"
    }
   ],
   "source": [
    "df ['Close Cargo Door']"
   ]
  },
  {
   "cell_type": "code",
   "execution_count": 376,
   "id": "b0f24ca1",
   "metadata": {
    "ExecuteTime": {
     "end_time": "2022-06-03T12:55:22.467923Z",
     "start_time": "2022-06-03T12:55:22.453932Z"
    }
   },
   "outputs": [
    {
     "data": {
      "text/plain": [
       "0    -29.0\n",
       "1     -5.0\n",
       "2     -6.0\n",
       "3    -17.0\n",
       "4     -6.0\n",
       "5     -5.0\n",
       "6     -5.0\n",
       "7     -4.0\n",
       "8      0.0\n",
       "9      0.0\n",
       "10    -5.0\n",
       "11     0.0\n",
       "12     0.0\n",
       "13    -3.0\n",
       "14    -3.0\n",
       "15    -4.0\n",
       "16   -33.0\n",
       "17    -1.0\n",
       "18    -1.0\n",
       "19   -14.0\n",
       "Name: t_Close_Cargo_Door, dtype: float64"
      ]
     },
     "execution_count": 376,
     "metadata": {},
     "output_type": "execute_result"
    }
   ],
   "source": [
    "df['t_Close_Cargo_Door']"
   ]
  },
  {
   "cell_type": "code",
   "execution_count": 377,
   "id": "4d361c29",
   "metadata": {
    "ExecuteTime": {
     "end_time": "2022-06-03T12:55:22.483853Z",
     "start_time": "2022-06-03T12:55:22.469889Z"
    }
   },
   "outputs": [
    {
     "data": {
      "text/plain": [
       "0    BCN-BIO\n",
       "1    BCN-BIO\n",
       "2    BIO-SCQ\n",
       "3    BIO-SCQ\n",
       "Name: Trayecto, dtype: object"
      ]
     },
     "execution_count": 377,
     "metadata": {},
     "output_type": "execute_result"
    }
   ],
   "source": [
    "# Estudio los trayectos.\n",
    "condicion = [(df['DEP'] < df['ARR']),  (df['ARR'] < df['DEP'])]\n",
    "\n",
    "valores = [  (df['DEP'] + '-' + df['ARR']),  (df['ARR'] + '-' + df['DEP'])]\n",
    "\n",
    "df['Trayecto'] = np.select(condicion, valores ) \n",
    "df['Trayecto'].head(4)\n",
    "\n",
    "#df5 = df.where('Departure' > 'Arrival',  'Departure' + 'Arrival',  'Arrival' +'Departure')"
   ]
  },
  {
   "cell_type": "code",
   "execution_count": 378,
   "id": "423c4e1b",
   "metadata": {
    "ExecuteTime": {
     "end_time": "2022-06-03T12:55:22.515800Z",
     "start_time": "2022-06-03T12:55:22.484880Z"
    }
   },
   "outputs": [
    {
     "data": {
      "text/html": [
       "<div><div id=d2a19006-7d18-4a47-8404-1bf1e3d77908 style=\"display:none; background-color:#9D6CFF; color:white; width:200px; height:30px; padding-left:5px; border-radius:4px; flex-direction:row; justify-content:space-around; align-items:center;\" onmouseover=\"this.style.backgroundColor='#BA9BF8'\" onmouseout=\"this.style.backgroundColor='#9D6CFF'\" onclick=\"window.commands?.execute('create-mitosheet-from-dataframe-output');\">See Full Dataframe in Mito</div> <script> if (window.commands?.hasCommand('create-mitosheet-from-dataframe-output')) document.getElementById('d2a19006-7d18-4a47-8404-1bf1e3d77908').style.display = 'flex' </script> <table border=\"1\" class=\"dataframe\">\n",
       "  <thead>\n",
       "    <tr style=\"text-align: right;\">\n",
       "      <th></th>\n",
       "      <th>DATE</th>\n",
       "      <th>FLT</th>\n",
       "      <th>REG</th>\n",
       "      <th>AC</th>\n",
       "      <th>DEP</th>\n",
       "      <th>ARR</th>\n",
       "      <th>STD</th>\n",
       "      <th>STA</th>\n",
       "      <th>Tkof</th>\n",
       "      <th>TDwn</th>\n",
       "      <th>...</th>\n",
       "      <th>Trayecto</th>\n",
       "      <th>E_Despegue</th>\n",
       "      <th>Aeropuerto_Key</th>\n",
       "      <th>Aeropuerto_Key</th>\n",
       "      <th>Aeropuerto_Key</th>\n",
       "      <th>Aeropuerto_Key</th>\n",
       "      <th>Aeropuerto_Key</th>\n",
       "      <th>Aeropuerto_Key</th>\n",
       "      <th>AeropuertoKey1</th>\n",
       "      <th>AeropuertoKey1</th>\n",
       "    </tr>\n",
       "  </thead>\n",
       "  <tbody>\n",
       "    <tr>\n",
       "      <th>0</th>\n",
       "      <td>2022-01-01</td>\n",
       "      <td>2506</td>\n",
       "      <td>EC-JSY</td>\n",
       "      <td>320</td>\n",
       "      <td>BIO</td>\n",
       "      <td>BCN</td>\n",
       "      <td>2022-01-01 07:40:00</td>\n",
       "      <td>2022-01-01 09:05:00</td>\n",
       "      <td>2022-01-01 08:10:00</td>\n",
       "      <td>2022-01-01 09:17:00</td>\n",
       "      <td>...</td>\n",
       "      <td>BCN-BIO</td>\n",
       "      <td>20.0</td>\n",
       "      <td>BIO</td>\n",
       "      <td>BCN</td>\n",
       "      <td>BIO</td>\n",
       "      <td>BCN</td>\n",
       "      <td>BIO</td>\n",
       "      <td>BCN</td>\n",
       "      <td>BIO</td>\n",
       "      <td>BCN</td>\n",
       "    </tr>\n",
       "    <tr>\n",
       "      <th>1</th>\n",
       "      <td>2022-01-01</td>\n",
       "      <td>2505</td>\n",
       "      <td>EC-JSY</td>\n",
       "      <td>320</td>\n",
       "      <td>BCN</td>\n",
       "      <td>BIO</td>\n",
       "      <td>2022-01-01 09:40:00</td>\n",
       "      <td>2022-01-01 11:05:00</td>\n",
       "      <td>2022-01-01 10:03:00</td>\n",
       "      <td>2022-01-01 11:07:00</td>\n",
       "      <td>...</td>\n",
       "      <td>BCN-BIO</td>\n",
       "      <td>11.0</td>\n",
       "      <td>BCN</td>\n",
       "      <td>BIO</td>\n",
       "      <td>BCN</td>\n",
       "      <td>BIO</td>\n",
       "      <td>BCN</td>\n",
       "      <td>BIO</td>\n",
       "      <td>BCN</td>\n",
       "      <td>BIO</td>\n",
       "    </tr>\n",
       "  </tbody>\n",
       "</table></div>"
      ],
      "text/plain": [
       "        DATE   FLT     REG  AC   DEP  ARR                 STD  \\\n",
       "0 2022-01-01  2506  EC-JSY  320  BIO  BCN 2022-01-01 07:40:00   \n",
       "1 2022-01-01  2505  EC-JSY  320  BCN  BIO 2022-01-01 09:40:00   \n",
       "\n",
       "                  STA                Tkof                TDwn  ... Trayecto  \\\n",
       "0 2022-01-01 09:05:00 2022-01-01 08:10:00 2022-01-01 09:17:00  ...  BCN-BIO   \n",
       "1 2022-01-01 11:05:00 2022-01-01 10:03:00 2022-01-01 11:07:00  ...  BCN-BIO   \n",
       "\n",
       "  E_Despegue  Aeropuerto_Key  Aeropuerto_Key  Aeropuerto_Key  Aeropuerto_Key  \\\n",
       "0       20.0             BIO             BCN             BIO             BCN   \n",
       "1       11.0             BCN             BIO             BCN             BIO   \n",
       "\n",
       "   Aeropuerto_Key  Aeropuerto_Key AeropuertoKey1 AeropuertoKey1  \n",
       "0             BIO             BCN            BIO            BCN  \n",
       "1             BCN             BIO            BCN            BIO  \n",
       "\n",
       "[2 rows x 60 columns]"
      ]
     },
     "execution_count": 378,
     "metadata": {},
     "output_type": "execute_result"
    }
   ],
   "source": [
    "# Creo la secuencia de vuelos de cada avión cada día\n",
    "\n",
    "df['Secuencia'] = df.groupby(['DATE', 'REG'])['STD'].rank()\n",
    "\n",
    "\n",
    "df1=df\n",
    "df1.head(2)\n",
    "\n"
   ]
  },
  {
   "cell_type": "code",
   "execution_count": 379,
   "id": "cde79d5f",
   "metadata": {
    "ExecuteTime": {
     "end_time": "2022-06-03T12:55:22.531725Z",
     "start_time": "2022-06-03T12:55:22.516764Z"
    }
   },
   "outputs": [],
   "source": [
    "# Analizo el retardo en el despegue:\n",
    "def dibujarScatter( ejeX, ejeY):\n",
    "    x= df1[ejeX]\n",
    "    y = df1[ejeY]    \n",
    "    ax = sns.scatterplot(x , y )\n",
    "\n"
   ]
  },
  {
   "cell_type": "markdown",
   "id": "82753f5b",
   "metadata": {},
   "source": [
    "# Puntualidad media primer despegue en el 2019!"
   ]
  },
  {
   "cell_type": "code",
   "execution_count": 380,
   "id": "85a1720f",
   "metadata": {
    "ExecuteTime": {
     "end_time": "2022-06-03T12:55:22.783087Z",
     "start_time": "2022-06-03T12:55:22.533719Z"
    }
   },
   "outputs": [
    {
     "name": "stderr",
     "output_type": "stream",
     "text": [
      "C:\\Users\\jmmat\\anaconda3\\lib\\site-packages\\seaborn\\_decorators.py:36: FutureWarning: Pass the following variables as keyword args: x, y. From version 0.12, the only valid positional argument will be `data`, and passing other arguments without an explicit keyword will result in an error or misinterpretation.\n",
      "  warnings.warn(\n"
     ]
    },
    {
     "data": {
      "image/png": "[encoded data removed]",
      "text/plain": [
       "<Figure size 1080x576 with 1 Axes>"
      ]
     },
     "metadata": {},
     "output_type": "display_data"
    }
   ],
   "source": [
    "ax = sns.scatterplot( df1['STD'], df1['ATD'])"
   ]
  },
  {
   "cell_type": "markdown",
   "id": "1373549b",
   "metadata": {},
   "source": [
    "# Calculo error del primer despegue."
   ]
  },
  {
   "cell_type": "code",
   "execution_count": 381,
   "id": "18c70c06",
   "metadata": {
    "ExecuteTime": {
     "end_time": "2022-06-03T12:55:22.803997Z",
     "start_time": "2022-06-03T12:55:22.785047Z"
    }
   },
   "outputs": [
    {
     "name": "stdout",
     "output_type": "stream",
     "text": [
      "         DATE     REG  Secuencia                 STD\n",
      "0  2022-01-01  EC-JSY        1.0 2022-01-01 07:40:00\n",
      "6  2022-01-01  EC-JZI        1.0 2022-01-01 07:30:00\n",
      "12 2022-01-01  EC-KDG        1.0 2022-01-01 14:20:00\n",
      "16 2022-01-01  EC-KDH        1.0 2022-01-01 07:50:00\n"
     ]
    }
   ],
   "source": [
    "# Filtro primer despegue\n",
    "\n",
    "vuelosPrimerDespegue= (df1['Secuencia']== 1)\n",
    "df2 = df1[vuelosPrimerDespegue]\n",
    "print(df2[['DATE','REG', 'Secuencia','STD']][0:8])\n"
   ]
  },
  {
   "cell_type": "code",
   "execution_count": 382,
   "id": "b65cc2ca",
   "metadata": {
    "ExecuteTime": {
     "end_time": "2022-06-03T12:55:22.828962Z",
     "start_time": "2022-06-03T12:55:22.806988Z"
    }
   },
   "outputs": [
    {
     "data": {
      "text/plain": [
       "\"\\nvuelosPrimerDespegue= (df1['Secuencia']== 1)\\ndf2 = df1[vuelosPrimerDespegue]\\n\\ndf2['E_Despegue'] = (df2['Date_ATD']- df2['Date_STD']) /  np.imedelta64(1, 'm')\\n\\n\\n#df2['E_Despegue']=df2['E_Despegue'].np.time\\n\\ndf2['E_Despegue'].head(8)\\nprint(df2[['DATE','REG', 'E_Despegue', 'Date_ATD', 'Date_STD']][0:8])\\n#sns.histplot(data= df1.E_Despegue, kde= True)\\n\""
      ]
     },
     "execution_count": 382,
     "metadata": {},
     "output_type": "execute_result"
    }
   ],
   "source": [
    "\n",
    "#Calculo error despegue:\n",
    "'''\n",
    "vuelosPrimerDespegue= (df1['Secuencia']== 1)\n",
    "df2 = df1[vuelosPrimerDespegue]\n",
    "\n",
    "df2['E_Despegue'] = (df2['Date_ATD']- df2['Date_STD']) /  np.imedelta64(1, 'm')\n",
    "\n",
    "\n",
    "#df2['E_Despegue']=df2['E_Despegue'].np.time\n",
    "\n",
    "df2['E_Despegue'].head(8)\n",
    "print(df2[['DATE','REG', 'E_Despegue', 'Date_ATD', 'Date_STD']][0:8])\n",
    "#sns.histplot(data= df1.E_Despegue, kde= True)\n",
    "'''"
   ]
  },
  {
   "cell_type": "code",
   "execution_count": 383,
   "id": "0170f31a",
   "metadata": {
    "ExecuteTime": {
     "end_time": "2022-06-03T12:55:22.844887Z",
     "start_time": "2022-06-03T12:55:22.830924Z"
    }
   },
   "outputs": [
    {
     "name": "stdout",
     "output_type": "stream",
     "text": [
      "         DATE     REG  Secuencia                 STD                 ATD\n",
      "0  2022-01-01  EC-JSY        1.0 2022-01-01 07:40:00 2022-01-01 08:00:00\n",
      "6  2022-01-01  EC-JZI        1.0 2022-01-01 07:30:00 2022-01-01 07:12:00\n",
      "12 2022-01-01  EC-KDG        1.0 2022-01-01 14:20:00 2022-01-01 14:27:00\n",
      "16 2022-01-01  EC-KDH        1.0 2022-01-01 07:50:00 2022-01-01 08:13:00\n",
      "Media =  -1.45\n"
     ]
    }
   ],
   "source": [
    "#Calculo error primer despegue despegue:\n",
    "\n",
    "df1['E_Despegue'] = (df1['ATD']- df1['STD']) /  np.timedelta64(1, 'm')\n",
    "\n",
    " \n",
    "df1['E_Despegue'].head()\n",
    " \n",
    "\n",
    "#print(df1['E_Despegue'][0], '-----', df1['Date_ATD'][0], '........', df1['Date_STD'][0])\n",
    "#print(df1[['DATE','REG', 'E_Despegue', 'Date_ATD', 'Date_STD']][0:8])\n",
    "\n",
    "print(df2[['DATE','REG', 'Secuencia','STD', 'ATD']][0:8])\n",
    "\n",
    "print('Media = ', df1['E_Despegue'].mean())"
   ]
  },
  {
   "cell_type": "code",
   "execution_count": 384,
   "id": "d08be5e9",
   "metadata": {
    "ExecuteTime": {
     "end_time": "2022-06-03T12:55:23.049526Z",
     "start_time": "2022-06-03T12:55:22.845884Z"
    }
   },
   "outputs": [
    {
     "data": {
      "text/plain": [
       "<AxesSubplot:xlabel='E_Despegue', ylabel='Count'>"
      ]
     },
     "execution_count": 384,
     "metadata": {},
     "output_type": "execute_result"
    },
    {
     "data": {
      "image/png": "[encoded data removed]",
      "text/plain": [
       "<Figure size 1080x576 with 1 Axes>"
      ]
     },
     "metadata": {},
     "output_type": "display_data"
    }
   ],
   "source": [
    "sns.histplot(data= df1.E_Despegue, kde= True)"
   ]
  },
  {
   "cell_type": "markdown",
   "id": "1ea80fcb",
   "metadata": {},
   "source": [
    "# Vemos que hay mucha dispersion hay que filtrar los datos a:\n",
    "## error de salida > 30 y < 30 y es el primer despegue"
   ]
  },
  {
   "cell_type": "code",
   "execution_count": 385,
   "id": "c48f08ae",
   "metadata": {
    "ExecuteTime": {
     "end_time": "2022-06-03T12:55:23.254980Z",
     "start_time": "2022-06-03T12:55:23.051493Z"
    },
    "hide_input": false
   },
   "outputs": [
    {
     "name": "stdout",
     "output_type": "stream",
     "text": [
      "\n",
      "Media filtrada =  -1.45 minutos\n",
      "    Secuencia  E_Despegue AeropuertoKey1 AeropuertoKey1\n",
      "0         1.0        20.0            BIO            BCN\n",
      "6         1.0       -18.0            SVQ            PMI\n",
      "12        1.0         7.0            BCN            AGP\n",
      "16        1.0        23.0            BIO           otro\n"
     ]
    },
    {
     "data": {
      "image/png": "[encoded data removed]",
      "text/plain": [
       "<Figure size 1080x576 with 1 Axes>"
      ]
     },
     "metadata": {},
     "output_type": "display_data"
    }
   ],
   "source": [
    "# Eliminar los outliers\n",
    "df2=df.copy()\n",
    "dfEliminarOutliers= ((df2['Secuencia']== 1) & (df2['E_Despegue']< 30) & (df2['E_Despegue']> -30))\n",
    "\n",
    "df2 = df[dfEliminarOutliers]\n",
    "sns.histplot(data= df2.E_Despegue, kde= True)\n",
    "print()\n",
    "print('Media filtrada = ', round(df1['E_Despegue'].mean(),2), 'minutos')\n",
    "print(df2[['Secuencia', 'E_Despegue', 'AeropuertoKey1' ]]) "
   ]
  },
  {
   "cell_type": "code",
   "execution_count": 392,
   "id": "8e6408db",
   "metadata": {
    "ExecuteTime": {
     "end_time": "2022-06-03T12:57:22.413439Z",
     "start_time": "2022-06-03T12:57:22.391498Z"
    }
   },
   "outputs": [
    {
     "ename": "KeyError",
     "evalue": "\"['AC'] not in index\"",
     "output_type": "error",
     "traceback": [
      "\u001b[1;31m---------------------------------------------------------------------------\u001b[0m",
      "\u001b[1;31mKeyError\u001b[0m                                  Traceback (most recent call last)",
      "\u001b[1;32m~\\AppData\\Local\\Temp/ipykernel_14856/845024593.py\u001b[0m in \u001b[0;36m<module>\u001b[1;34m\u001b[0m\n\u001b[0;32m      6\u001b[0m \u001b[1;31m#df2BarcelonaPuntualida.head()\u001b[0m\u001b[1;33m\u001b[0m\u001b[1;33m\u001b[0m\u001b[1;33m\u001b[0m\u001b[0m\n\u001b[0;32m      7\u001b[0m \u001b[1;31m#puntualidadBCN = round((df2BarcelonaPuntualida['E_Despegue'].mean()),2)\u001b[0m\u001b[1;33m\u001b[0m\u001b[1;33m\u001b[0m\u001b[1;33m\u001b[0m\u001b[0m\n\u001b[1;32m----> 8\u001b[1;33m \u001b[0mprint\u001b[0m\u001b[1;33m(\u001b[0m\u001b[0mdf2BarcelonaPuntualida\u001b[0m\u001b[1;33m[\u001b[0m\u001b[1;33m[\u001b[0m \u001b[1;34m'DATE'\u001b[0m\u001b[1;33m,\u001b[0m   \u001b[1;34m'FLT'\u001b[0m\u001b[1;33m,\u001b[0m     \u001b[1;34m'REG'\u001b[0m\u001b[1;33m,\u001b[0m  \u001b[1;34m'AC'\u001b[0m\u001b[1;33m,\u001b[0m \u001b[1;34m'DEP'\u001b[0m\u001b[1;33m,\u001b[0m  \u001b[1;34m'ARR'\u001b[0m\u001b[1;33m]\u001b[0m\u001b[1;33m]\u001b[0m \u001b[1;33m)\u001b[0m\u001b[1;33m\u001b[0m\u001b[1;33m\u001b[0m\u001b[0m\n\u001b[0m",
      "\u001b[1;32m~\\anaconda3\\lib\\site-packages\\pandas\\core\\frame.py\u001b[0m in \u001b[0;36m__getitem__\u001b[1;34m(self, key)\u001b[0m\n\u001b[0;32m   3462\u001b[0m             \u001b[1;32mif\u001b[0m \u001b[0mis_iterator\u001b[0m\u001b[1;33m(\u001b[0m\u001b[0mkey\u001b[0m\u001b[1;33m)\u001b[0m\u001b[1;33m:\u001b[0m\u001b[1;33m\u001b[0m\u001b[1;33m\u001b[0m\u001b[0m\n\u001b[0;32m   3463\u001b[0m                 \u001b[0mkey\u001b[0m \u001b[1;33m=\u001b[0m \u001b[0mlist\u001b[0m\u001b[1;33m(\u001b[0m\u001b[0mkey\u001b[0m\u001b[1;33m)\u001b[0m\u001b[1;33m\u001b[0m\u001b[1;33m\u001b[0m\u001b[0m\n\u001b[1;32m-> 3464\u001b[1;33m             \u001b[0mindexer\u001b[0m \u001b[1;33m=\u001b[0m \u001b[0mself\u001b[0m\u001b[1;33m.\u001b[0m\u001b[0mloc\u001b[0m\u001b[1;33m.\u001b[0m\u001b[0m_get_listlike_indexer\u001b[0m\u001b[1;33m(\u001b[0m\u001b[0mkey\u001b[0m\u001b[1;33m,\u001b[0m \u001b[0maxis\u001b[0m\u001b[1;33m=\u001b[0m\u001b[1;36m1\u001b[0m\u001b[1;33m)\u001b[0m\u001b[1;33m[\u001b[0m\u001b[1;36m1\u001b[0m\u001b[1;33m]\u001b[0m\u001b[1;33m\u001b[0m\u001b[1;33m\u001b[0m\u001b[0m\n\u001b[0m\u001b[0;32m   3465\u001b[0m \u001b[1;33m\u001b[0m\u001b[0m\n\u001b[0;32m   3466\u001b[0m         \u001b[1;31m# take() does not accept boolean indexers\u001b[0m\u001b[1;33m\u001b[0m\u001b[1;33m\u001b[0m\u001b[1;33m\u001b[0m\u001b[0m\n",
      "\u001b[1;32m~\\anaconda3\\lib\\site-packages\\pandas\\core\\indexing.py\u001b[0m in \u001b[0;36m_get_listlike_indexer\u001b[1;34m(self, key, axis)\u001b[0m\n\u001b[0;32m   1312\u001b[0m             \u001b[0mkeyarr\u001b[0m\u001b[1;33m,\u001b[0m \u001b[0mindexer\u001b[0m\u001b[1;33m,\u001b[0m \u001b[0mnew_indexer\u001b[0m \u001b[1;33m=\u001b[0m \u001b[0max\u001b[0m\u001b[1;33m.\u001b[0m\u001b[0m_reindex_non_unique\u001b[0m\u001b[1;33m(\u001b[0m\u001b[0mkeyarr\u001b[0m\u001b[1;33m)\u001b[0m\u001b[1;33m\u001b[0m\u001b[1;33m\u001b[0m\u001b[0m\n\u001b[0;32m   1313\u001b[0m \u001b[1;33m\u001b[0m\u001b[0m\n\u001b[1;32m-> 1314\u001b[1;33m         \u001b[0mself\u001b[0m\u001b[1;33m.\u001b[0m\u001b[0m_validate_read_indexer\u001b[0m\u001b[1;33m(\u001b[0m\u001b[0mkeyarr\u001b[0m\u001b[1;33m,\u001b[0m \u001b[0mindexer\u001b[0m\u001b[1;33m,\u001b[0m \u001b[0maxis\u001b[0m\u001b[1;33m)\u001b[0m\u001b[1;33m\u001b[0m\u001b[1;33m\u001b[0m\u001b[0m\n\u001b[0m\u001b[0;32m   1315\u001b[0m \u001b[1;33m\u001b[0m\u001b[0m\n\u001b[0;32m   1316\u001b[0m         if needs_i8_conversion(ax.dtype) or isinstance(\n",
      "\u001b[1;32m~\\anaconda3\\lib\\site-packages\\pandas\\core\\indexing.py\u001b[0m in \u001b[0;36m_validate_read_indexer\u001b[1;34m(self, key, indexer, axis)\u001b[0m\n\u001b[0;32m   1375\u001b[0m \u001b[1;33m\u001b[0m\u001b[0m\n\u001b[0;32m   1376\u001b[0m             \u001b[0mnot_found\u001b[0m \u001b[1;33m=\u001b[0m \u001b[0mlist\u001b[0m\u001b[1;33m(\u001b[0m\u001b[0mensure_index\u001b[0m\u001b[1;33m(\u001b[0m\u001b[0mkey\u001b[0m\u001b[1;33m)\u001b[0m\u001b[1;33m[\u001b[0m\u001b[0mmissing_mask\u001b[0m\u001b[1;33m.\u001b[0m\u001b[0mnonzero\u001b[0m\u001b[1;33m(\u001b[0m\u001b[1;33m)\u001b[0m\u001b[1;33m[\u001b[0m\u001b[1;36m0\u001b[0m\u001b[1;33m]\u001b[0m\u001b[1;33m]\u001b[0m\u001b[1;33m.\u001b[0m\u001b[0munique\u001b[0m\u001b[1;33m(\u001b[0m\u001b[1;33m)\u001b[0m\u001b[1;33m)\u001b[0m\u001b[1;33m\u001b[0m\u001b[1;33m\u001b[0m\u001b[0m\n\u001b[1;32m-> 1377\u001b[1;33m             \u001b[1;32mraise\u001b[0m \u001b[0mKeyError\u001b[0m\u001b[1;33m(\u001b[0m\u001b[1;34mf\"{not_found} not in index\"\u001b[0m\u001b[1;33m)\u001b[0m\u001b[1;33m\u001b[0m\u001b[1;33m\u001b[0m\u001b[0m\n\u001b[0m\u001b[0;32m   1378\u001b[0m \u001b[1;33m\u001b[0m\u001b[0m\n\u001b[0;32m   1379\u001b[0m \u001b[1;33m\u001b[0m\u001b[0m\n",
      "\u001b[1;31mKeyError\u001b[0m: \"['AC'] not in index\""
     ]
    }
   ],
   "source": [
    "# Para saber la puntualidad solo de Barcelona\n",
    "barcelonaPuntualidad = (df2['AeropuertoKey1']== 'BCN')\n",
    "barcelonaPuntualidad\n",
    "\n",
    "#df2BarcelonaPuntualida = df[barcelonaPuntualidad ]\n",
    "#df2BarcelonaPuntualida.head()\n",
    "#puntualidadBCN = round((df2BarcelonaPuntualida['E_Despegue'].mean()),2)\n",
    "print(df2BarcelonaPuntualida[[ 'DATE',   'FLT',     'REG',  'AC', 'DEP',  'ARR']] )"
   ]
  },
  {
   "cell_type": "code",
   "execution_count": 387,
   "id": "6f9c4323",
   "metadata": {
    "ExecuteTime": {
     "end_time": "2022-06-03T12:55:23.302849Z",
     "start_time": "2022-06-03T12:55:23.271903Z"
    }
   },
   "outputs": [
    {
     "ename": "ValueError",
     "evalue": "The truth value of a Series is ambiguous. Use a.empty, a.bool(), a.item(), a.any() or a.all().",
     "output_type": "error",
     "traceback": [
      "\u001b[1;31m---------------------------------------------------------------------------\u001b[0m",
      "\u001b[1;31mValueError\u001b[0m                                Traceback (most recent call last)",
      "\u001b[1;32m~\\AppData\\Local\\Temp/ipykernel_14856/3924751082.py\u001b[0m in \u001b[0;36m<module>\u001b[1;34m\u001b[0m\n\u001b[0;32m      4\u001b[0m \u001b[0msns\u001b[0m\u001b[1;33m.\u001b[0m\u001b[0mset\u001b[0m\u001b[1;33m(\u001b[0m\u001b[0mrc\u001b[0m \u001b[1;33m=\u001b[0m \u001b[1;33m{\u001b[0m\u001b[1;34m'figure.figsize'\u001b[0m\u001b[1;33m:\u001b[0m\u001b[1;33m(\u001b[0m\u001b[1;36m15\u001b[0m\u001b[1;33m,\u001b[0m\u001b[1;36m8\u001b[0m\u001b[1;33m)\u001b[0m\u001b[1;33m}\u001b[0m\u001b[1;33m)\u001b[0m\u001b[1;33m\u001b[0m\u001b[1;33m\u001b[0m\u001b[0m\n\u001b[0;32m      5\u001b[0m \u001b[1;31m# Tamaño de la imagen\u001b[0m\u001b[1;33m\u001b[0m\u001b[1;33m\u001b[0m\u001b[1;33m\u001b[0m\u001b[0m\n\u001b[1;32m----> 6\u001b[1;33m \u001b[0max\u001b[0m \u001b[1;33m=\u001b[0m \u001b[0msns\u001b[0m\u001b[1;33m.\u001b[0m\u001b[0mpointplot\u001b[0m\u001b[1;33m(\u001b[0m\u001b[0mx\u001b[0m\u001b[1;33m=\u001b[0m\u001b[1;34m'AeropuertoKey1'\u001b[0m\u001b[1;33m,\u001b[0m \u001b[0my\u001b[0m \u001b[1;33m=\u001b[0m \u001b[1;34m\"E_Despegue\"\u001b[0m\u001b[1;33m,\u001b[0m \u001b[0mdata\u001b[0m\u001b[1;33m=\u001b[0m \u001b[0mdf2\u001b[0m\u001b[1;33m,\u001b[0m \u001b[0mscale\u001b[0m\u001b[1;33m=\u001b[0m\u001b[1;36m.1\u001b[0m\u001b[1;33m,\u001b[0m \u001b[0mkind\u001b[0m \u001b[1;33m=\u001b[0m \u001b[1;34m\"point\"\u001b[0m\u001b[1;33m,\u001b[0m \u001b[0mcapsize\u001b[0m\u001b[1;33m=\u001b[0m\u001b[1;36m0.13\u001b[0m\u001b[1;33m)\u001b[0m\u001b[1;33m\u001b[0m\u001b[1;33m\u001b[0m\u001b[0m\n\u001b[0m\u001b[0;32m      7\u001b[0m \u001b[1;33m\u001b[0m\u001b[0m\n\u001b[0;32m      8\u001b[0m \u001b[0max\u001b[0m\u001b[1;33m.\u001b[0m\u001b[0maxhline\u001b[0m\u001b[1;33m(\u001b[0m\u001b[0mpuntualidadBCN\u001b[0m\u001b[1;33m,\u001b[0m \u001b[0mcolor\u001b[0m\u001b[1;33m=\u001b[0m\u001b[1;34m\"red\"\u001b[0m\u001b[1;33m,\u001b[0m \u001b[0mlinestyle\u001b[0m \u001b[1;33m=\u001b[0m \u001b[1;34m'--'\u001b[0m\u001b[1;33m,\u001b[0m \u001b[0mlabel\u001b[0m\u001b[1;33m=\u001b[0m\u001b[1;34m\"ooas\"\u001b[0m\u001b[1;33m)\u001b[0m       \u001b[1;31m# Linea 0 verde\u001b[0m\u001b[1;33m\u001b[0m\u001b[1;33m\u001b[0m\u001b[0m\n",
      "\u001b[1;32m~\\anaconda3\\lib\\site-packages\\seaborn\\_decorators.py\u001b[0m in \u001b[0;36minner_f\u001b[1;34m(*args, **kwargs)\u001b[0m\n\u001b[0;32m     44\u001b[0m             )\n\u001b[0;32m     45\u001b[0m         \u001b[0mkwargs\u001b[0m\u001b[1;33m.\u001b[0m\u001b[0mupdate\u001b[0m\u001b[1;33m(\u001b[0m\u001b[1;33m{\u001b[0m\u001b[0mk\u001b[0m\u001b[1;33m:\u001b[0m \u001b[0marg\u001b[0m \u001b[1;32mfor\u001b[0m \u001b[0mk\u001b[0m\u001b[1;33m,\u001b[0m \u001b[0marg\u001b[0m \u001b[1;32min\u001b[0m \u001b[0mzip\u001b[0m\u001b[1;33m(\u001b[0m\u001b[0msig\u001b[0m\u001b[1;33m.\u001b[0m\u001b[0mparameters\u001b[0m\u001b[1;33m,\u001b[0m \u001b[0margs\u001b[0m\u001b[1;33m)\u001b[0m\u001b[1;33m}\u001b[0m\u001b[1;33m)\u001b[0m\u001b[1;33m\u001b[0m\u001b[1;33m\u001b[0m\u001b[0m\n\u001b[1;32m---> 46\u001b[1;33m         \u001b[1;32mreturn\u001b[0m \u001b[0mf\u001b[0m\u001b[1;33m(\u001b[0m\u001b[1;33m**\u001b[0m\u001b[0mkwargs\u001b[0m\u001b[1;33m)\u001b[0m\u001b[1;33m\u001b[0m\u001b[1;33m\u001b[0m\u001b[0m\n\u001b[0m\u001b[0;32m     47\u001b[0m     \u001b[1;32mreturn\u001b[0m \u001b[0minner_f\u001b[0m\u001b[1;33m\u001b[0m\u001b[1;33m\u001b[0m\u001b[0m\n\u001b[0;32m     48\u001b[0m \u001b[1;33m\u001b[0m\u001b[0m\n",
      "\u001b[1;32m~\\anaconda3\\lib\\site-packages\\seaborn\\categorical.py\u001b[0m in \u001b[0;36mpointplot\u001b[1;34m(x, y, hue, data, order, hue_order, estimator, ci, n_boot, units, seed, markers, linestyles, dodge, join, scale, orient, color, palette, errwidth, capsize, ax, **kwargs)\u001b[0m\n\u001b[0;32m   3373\u001b[0m ):\n\u001b[0;32m   3374\u001b[0m \u001b[1;33m\u001b[0m\u001b[0m\n\u001b[1;32m-> 3375\u001b[1;33m     plotter = _PointPlotter(x, y, hue, data, order, hue_order,\n\u001b[0m\u001b[0;32m   3376\u001b[0m                             \u001b[0mestimator\u001b[0m\u001b[1;33m,\u001b[0m \u001b[0mci\u001b[0m\u001b[1;33m,\u001b[0m \u001b[0mn_boot\u001b[0m\u001b[1;33m,\u001b[0m \u001b[0munits\u001b[0m\u001b[1;33m,\u001b[0m \u001b[0mseed\u001b[0m\u001b[1;33m,\u001b[0m\u001b[1;33m\u001b[0m\u001b[1;33m\u001b[0m\u001b[0m\n\u001b[0;32m   3377\u001b[0m                             \u001b[0mmarkers\u001b[0m\u001b[1;33m,\u001b[0m \u001b[0mlinestyles\u001b[0m\u001b[1;33m,\u001b[0m \u001b[0mdodge\u001b[0m\u001b[1;33m,\u001b[0m \u001b[0mjoin\u001b[0m\u001b[1;33m,\u001b[0m \u001b[0mscale\u001b[0m\u001b[1;33m,\u001b[0m\u001b[1;33m\u001b[0m\u001b[1;33m\u001b[0m\u001b[0m\n",
      "\u001b[1;32m~\\anaconda3\\lib\\site-packages\\seaborn\\categorical.py\u001b[0m in \u001b[0;36m__init__\u001b[1;34m(self, x, y, hue, data, order, hue_order, estimator, ci, n_boot, units, seed, markers, linestyles, dodge, join, scale, orient, color, palette, errwidth, capsize)\u001b[0m\n\u001b[0;32m   1653\u001b[0m                  orient, color, palette, errwidth=None, capsize=None):\n\u001b[0;32m   1654\u001b[0m         \u001b[1;34m\"\"\"Initialize the plotter.\"\"\"\u001b[0m\u001b[1;33m\u001b[0m\u001b[1;33m\u001b[0m\u001b[0m\n\u001b[1;32m-> 1655\u001b[1;33m         self.establish_variables(x, y, hue, data, orient,\n\u001b[0m\u001b[0;32m   1656\u001b[0m                                  order, hue_order, units)\n\u001b[0;32m   1657\u001b[0m         \u001b[0mself\u001b[0m\u001b[1;33m.\u001b[0m\u001b[0mestablish_colors\u001b[0m\u001b[1;33m(\u001b[0m\u001b[0mcolor\u001b[0m\u001b[1;33m,\u001b[0m \u001b[0mpalette\u001b[0m\u001b[1;33m,\u001b[0m \u001b[1;36m1\u001b[0m\u001b[1;33m)\u001b[0m\u001b[1;33m\u001b[0m\u001b[1;33m\u001b[0m\u001b[0m\n",
      "\u001b[1;32m~\\anaconda3\\lib\\site-packages\\seaborn\\categorical.py\u001b[0m in \u001b[0;36mestablish_variables\u001b[1;34m(self, x, y, hue, data, orient, order, hue_order, units)\u001b[0m\n\u001b[0;32m    154\u001b[0m \u001b[1;33m\u001b[0m\u001b[0m\n\u001b[0;32m    155\u001b[0m             \u001b[1;31m# Figure out the plotting orientation\u001b[0m\u001b[1;33m\u001b[0m\u001b[1;33m\u001b[0m\u001b[1;33m\u001b[0m\u001b[0m\n\u001b[1;32m--> 156\u001b[1;33m             orient = infer_orient(\n\u001b[0m\u001b[0;32m    157\u001b[0m                 \u001b[0mx\u001b[0m\u001b[1;33m,\u001b[0m \u001b[0my\u001b[0m\u001b[1;33m,\u001b[0m \u001b[0morient\u001b[0m\u001b[1;33m,\u001b[0m \u001b[0mrequire_numeric\u001b[0m\u001b[1;33m=\u001b[0m\u001b[0mself\u001b[0m\u001b[1;33m.\u001b[0m\u001b[0mrequire_numeric\u001b[0m\u001b[1;33m\u001b[0m\u001b[1;33m\u001b[0m\u001b[0m\n\u001b[0;32m    158\u001b[0m             )\n",
      "\u001b[1;32m~\\anaconda3\\lib\\site-packages\\seaborn\\_core.py\u001b[0m in \u001b[0;36minfer_orient\u001b[1;34m(x, y, orient, require_numeric)\u001b[0m\n\u001b[0;32m   1309\u001b[0m     \"\"\"\n\u001b[0;32m   1310\u001b[0m \u001b[1;33m\u001b[0m\u001b[0m\n\u001b[1;32m-> 1311\u001b[1;33m     \u001b[0mx_type\u001b[0m \u001b[1;33m=\u001b[0m \u001b[1;32mNone\u001b[0m \u001b[1;32mif\u001b[0m \u001b[0mx\u001b[0m \u001b[1;32mis\u001b[0m \u001b[1;32mNone\u001b[0m \u001b[1;32melse\u001b[0m \u001b[0mvariable_type\u001b[0m\u001b[1;33m(\u001b[0m\u001b[0mx\u001b[0m\u001b[1;33m)\u001b[0m\u001b[1;33m\u001b[0m\u001b[1;33m\u001b[0m\u001b[0m\n\u001b[0m\u001b[0;32m   1312\u001b[0m     \u001b[0my_type\u001b[0m \u001b[1;33m=\u001b[0m \u001b[1;32mNone\u001b[0m \u001b[1;32mif\u001b[0m \u001b[0my\u001b[0m \u001b[1;32mis\u001b[0m \u001b[1;32mNone\u001b[0m \u001b[1;32melse\u001b[0m \u001b[0mvariable_type\u001b[0m\u001b[1;33m(\u001b[0m\u001b[0my\u001b[0m\u001b[1;33m)\u001b[0m\u001b[1;33m\u001b[0m\u001b[1;33m\u001b[0m\u001b[0m\n\u001b[0;32m   1313\u001b[0m \u001b[1;33m\u001b[0m\u001b[0m\n",
      "\u001b[1;32m~\\anaconda3\\lib\\site-packages\\seaborn\\_core.py\u001b[0m in \u001b[0;36mvariable_type\u001b[1;34m(vector, boolean_type)\u001b[0m\n\u001b[0;32m   1227\u001b[0m \u001b[1;33m\u001b[0m\u001b[0m\n\u001b[0;32m   1228\u001b[0m     \u001b[1;31m# Special-case all-na data, which is always \"numeric\"\u001b[0m\u001b[1;33m\u001b[0m\u001b[1;33m\u001b[0m\u001b[1;33m\u001b[0m\u001b[0m\n\u001b[1;32m-> 1229\u001b[1;33m     \u001b[1;32mif\u001b[0m \u001b[0mpd\u001b[0m\u001b[1;33m.\u001b[0m\u001b[0misna\u001b[0m\u001b[1;33m(\u001b[0m\u001b[0mvector\u001b[0m\u001b[1;33m)\u001b[0m\u001b[1;33m.\u001b[0m\u001b[0mall\u001b[0m\u001b[1;33m(\u001b[0m\u001b[1;33m)\u001b[0m\u001b[1;33m:\u001b[0m\u001b[1;33m\u001b[0m\u001b[1;33m\u001b[0m\u001b[0m\n\u001b[0m\u001b[0;32m   1230\u001b[0m         \u001b[1;32mreturn\u001b[0m \u001b[1;34m\"numeric\"\u001b[0m\u001b[1;33m\u001b[0m\u001b[1;33m\u001b[0m\u001b[0m\n\u001b[0;32m   1231\u001b[0m \u001b[1;33m\u001b[0m\u001b[0m\n",
      "\u001b[1;32m~\\anaconda3\\lib\\site-packages\\pandas\\core\\generic.py\u001b[0m in \u001b[0;36m__nonzero__\u001b[1;34m(self)\u001b[0m\n\u001b[0;32m   1535\u001b[0m     \u001b[1;33m@\u001b[0m\u001b[0mfinal\u001b[0m\u001b[1;33m\u001b[0m\u001b[1;33m\u001b[0m\u001b[0m\n\u001b[0;32m   1536\u001b[0m     \u001b[1;32mdef\u001b[0m \u001b[0m__nonzero__\u001b[0m\u001b[1;33m(\u001b[0m\u001b[0mself\u001b[0m\u001b[1;33m)\u001b[0m\u001b[1;33m:\u001b[0m\u001b[1;33m\u001b[0m\u001b[1;33m\u001b[0m\u001b[0m\n\u001b[1;32m-> 1537\u001b[1;33m         raise ValueError(\n\u001b[0m\u001b[0;32m   1538\u001b[0m             \u001b[1;34mf\"The truth value of a {type(self).__name__} is ambiguous. \"\u001b[0m\u001b[1;33m\u001b[0m\u001b[1;33m\u001b[0m\u001b[0m\n\u001b[0;32m   1539\u001b[0m             \u001b[1;34m\"Use a.empty, a.bool(), a.item(), a.any() or a.all().\"\u001b[0m\u001b[1;33m\u001b[0m\u001b[1;33m\u001b[0m\u001b[0m\n",
      "\u001b[1;31mValueError\u001b[0m: The truth value of a Series is ambiguous. Use a.empty, a.bool(), a.item(), a.any() or a.all()."
     ]
    }
   ],
   "source": [
    "# Intervalos de Confianza por aeropuerto\n",
    "sns.set_theme(style=\"darkgrid\")\n",
    "#tips = sns.df1(\"tips\")\n",
    "sns.set(rc = {'figure.figsize':(15,8)})      \n",
    "# Tamaño de la imagen\n",
    "ax = sns.pointplot(x='AeropuertoKey1', y = \"E_Despegue\", data= df2, scale=.1, kind = \"point\", capsize=0.13)\n",
    "\n",
    "ax.axhline(puntualidadBCN, color=\"red\", linestyle = '--', label=\"ooas\")       # Linea 0 verde\n",
    "ax.axhline(0, color=\"green\", linestyle = '--')\n",
    "\n",
    "\n",
    "textoBCN = \"BCN \"+ str(puntualidadBCN) + ' minut.'\n",
    "ax.text(puntualidadBCN ,puntualidadBCN , textoBCN, backgroundcolor='w')\n",
    "\n",
    "ax.set_title('Puntualidad principales aeropuertos:', fontsize = 24)"
   ]
  },
  {
   "cell_type": "markdown",
   "id": "213c6d98",
   "metadata": {},
   "source": [
    "# tiempo 'Close Cargo Door'  -   'Close Pax'"
   ]
  },
  {
   "cell_type": "code",
   "execution_count": null,
   "id": "7676a975",
   "metadata": {
    "ExecuteTime": {
     "end_time": "2022-06-03T12:55:23.304815Z",
     "start_time": "2022-06-03T12:55:23.304815Z"
    }
   },
   "outputs": [],
   "source": [
    "#t_Close_Cargo_Door\n",
    "\n",
    "dfEliminarOutliers= ((df1['Secuencia']== 1) & (df1['t_Close_Cargo_Door']< 30) & (df1['t_Close_Cargo_Door']> -30))\n",
    "\n",
    "df2 = df2[dfEliminarOutliers]\n",
    "#df2 = df2[dfEliminarOutliers]\n",
    "\n",
    "ax=sns.histplot(data= df2.t_Close_Cargo_Door, kde= True)\n",
    "\n",
    "media = round(df1['t_Close_Cargo_Door'].mean(),2)\n",
    "print()\n",
    "print('Media filtrada = ', media , 'minutos')\n",
    " \n",
    "ax.axvline(puntualidadBCN, color=\"red\", linestyle = '--', label=\"ooas\")       # Linea 0 verde\n",
    "ax.axvline(0, color=\"green\", linestyle = '--')\n"
   ]
  },
  {
   "cell_type": "markdown",
   "id": "64a0295e",
   "metadata": {},
   "source": [
    "# tiempo  'tiempo Close Pax'  -   'ATD'"
   ]
  },
  {
   "cell_type": "code",
   "execution_count": null,
   "id": "ac8853c6",
   "metadata": {
    "ExecuteTime": {
     "end_time": "2022-06-03T12:55:23.304815Z",
     "start_time": "2022-06-03T12:55:23.304815Z"
    }
   },
   "outputs": [],
   "source": [
    "#t_Close_Cargo_Door\n",
    "\n",
    "dfEliminarOutliers= ((df1['Secuencia']== 1) & (df1['t_ClosePax']< 30) & (df1['t_ClosePax']> -30))\n",
    "\n",
    "df2 = df2[dfEliminarOutliers] \n",
    "\n",
    "ax=sns.histplot(data= df2.t_Close_Cargo_Door, kde= True)\n",
    "\n",
    "media = round(df1['t_ClosePax'].mean(),2)\n",
    "print()\n",
    "print('Media filtrada = ', media , 'minutos')\n",
    " \n",
    "ax.axvline(puntualidadBCN, color=\"red\", linestyle = '--', label=\"ooas\")       # Linea 0 verde\n",
    "ax.axvline(0, color=\"green\", linestyle = '--')\n"
   ]
  },
  {
   "cell_type": "code",
   "execution_count": null,
   "id": "f6003ff6",
   "metadata": {
    "ExecuteTime": {
     "end_time": "2022-06-03T12:55:23.306810Z",
     "start_time": "2022-06-03T12:55:23.306810Z"
    }
   },
   "outputs": [],
   "source": [
    "ax=sns.histplot(data= df2BarcelonaPuntualida.E_Despegue, kde= True)\n",
    "\n",
    "ax.axvline(puntualidadBCN, color=\"red\", linestyle = '--', label=\"ooas\")       # Linea 0 verde\n",
    "ax.axvline(0, color=\"green\", linestyle = '--')\n"
   ]
  },
  {
   "cell_type": "markdown",
   "id": "6b15fbe7",
   "metadata": {},
   "source": [
    "# creamos los LAGs"
   ]
  },
  {
   "cell_type": "code",
   "execution_count": null,
   "id": "c541c43a",
   "metadata": {
    "ExecuteTime": {
     "end_time": "2022-06-03T12:55:23.308805Z",
     "start_time": "2022-06-03T12:55:23.308805Z"
    }
   },
   "outputs": [],
   "source": [
    "#Creamos los LAGs\n",
    "\n",
    "df[f'lag_STD']= df['STD'].shift(periods=-1)  \n",
    "#adecuarFechas('DATE', 'lag_STD')\n",
    "df[f'lag_ATD']= df['ATD'].shift(periods=-1)  \n",
    "\n",
    "df[f'lag_STA']= df['STA'].shift(periods=-1)  \n",
    "#adecuarFechas('DATE', 'lag_STD')\n",
    "df[f'lag_ATA']= df['ATA'].shift(periods=-1) \n",
    "\n",
    "\n",
    "#df"
   ]
  },
  {
   "cell_type": "markdown",
   "id": "302d4979",
   "metadata": {},
   "source": [
    "# Tiempo en tierra de una avion despues primer salto\n",
    "##df3 --> Calculo tiempo en tierra"
   ]
  },
  {
   "cell_type": "code",
   "execution_count": null,
   "id": "a7959df3",
   "metadata": {
    "ExecuteTime": {
     "end_time": "2022-06-03T12:55:23.309802Z",
     "start_time": "2022-06-03T12:55:23.309802Z"
    }
   },
   "outputs": [],
   "source": [
    "df= df.sort_values(['Flight Date', 'Tail', 'STD'])\n",
    "\n",
    "\n",
    "\n",
    "df['T_teoricoTierra1'] = (df['lag_STD']- df['STA']) /  np.timedelta64(1, 'm')\n",
    "df['T_RealTierra1'] = (df['lag_ATD']- df['ATA']) /  np.timedelta64(1, 'm')\n",
    "\n",
    "\n",
    "#df['T_teoricoTierra1'] = (df['lag_STD']- df['STA']) \n",
    "#df['T_RealTierra1'] = (df['lag_ATD']- df['ATA']) \n",
    "df['E_tierra1'] = df['T_RealTierra1'] -df['T_teoricoTierra1']\n",
    "\n",
    "\n",
    "#df[f'lag_STD']= df['STD'].shift(periods=-1)  \n",
    "\n",
    "\n",
    "df3=df\n",
    "#selecionoSecuencia_1= (df['Secuencia']== 1)\n",
    "#df3 = df[selecionoSecuencia_1]\n",
    "\n",
    "\n",
    "#print(df3[['DATE','REG', 'Secuencia']][0:8])\n",
    "\n",
    "print(df3[['Tail', 'Secuencia','STD', 'ATD', 'lag_STD', 'T_teoricoTierra1', 'E_tierra1']][0:4])\n",
    "print()\n",
    "print('Media filtrada = ', round(df3['E_tierra1'].mean(),2), 'minutos')\n"
   ]
  },
  {
   "cell_type": "code",
   "execution_count": null,
   "id": "a8786c2f",
   "metadata": {
    "ExecuteTime": {
     "end_time": "2022-06-03T12:55:23.310799Z",
     "start_time": "2022-06-03T12:55:23.310799Z"
    }
   },
   "outputs": [],
   "source": [
    "# Retraso\n",
    "df['Puntualidad1'] = (df['ATA'] - df['STA']) /  np.timedelta64(1, 'm') \n",
    "df['Puntualidad1'].head(3)"
   ]
  },
  {
   "cell_type": "markdown",
   "id": "9068a62c",
   "metadata": {},
   "source": [
    "# Creamos los LAG siguientes saltos"
   ]
  },
  {
   "cell_type": "code",
   "execution_count": null,
   "id": "ce860987",
   "metadata": {
    "ExecuteTime": {
     "end_time": "2022-06-03T12:55:23.311809Z",
     "start_time": "2022-06-03T12:55:23.311809Z"
    }
   },
   "outputs": [],
   "source": [
    "df.columns"
   ]
  },
  {
   "cell_type": "code",
   "execution_count": null,
   "id": "95a8ef79",
   "metadata": {
    "ExecuteTime": {
     "end_time": "2022-06-03T12:55:23.313791Z",
     "start_time": "2022-06-03T12:55:23.313791Z"
    }
   },
   "outputs": [],
   "source": [
    "#Creamos los LAGs\n",
    "df[f'E_Despegue2']= df['E_Despegue'].shift(periods=-1) \n",
    "df[f'E_Despegue3']= df['E_Despegue'].shift(periods=-2) \n",
    "\n",
    "df[f'E_Duracion_Vuelo2']= df['E_Duracion_Vuelo'].shift(periods=-1) \n",
    "df[f'E_Duracion_Vuelo3']= df['E_Duracion_Vuelo'].shift(periods=-2) \n",
    "\n",
    "df[f'E_tierra2']= df['E_tierra1'].shift(periods=-1) \n",
    "df[f'E_tierra3']= df['E_tierra1'].shift(periods=-2) \n",
    "\n",
    "df[f'Aeropuerto_Key2']= df['Aeropuerto_Key'].shift(periods=-1) \n",
    "df[f'Aeropuerto_Key3']= df['Aeropuerto_Key'].shift(periods=-2) \n",
    "\n",
    "\n",
    "df[f'Puntualidad2']= df['Puntualidad1'].shift(periods=-1) \n",
    "df[f'Puntualidad3']= df['Puntualidad1'].shift(periods=-2) \n",
    "\n",
    "\n",
    "df[f'E_Despegue_Total'] = df[f'E_Despegue'] + df[f'E_Despegue2'] + df[f'E_Despegue3']\n",
    "df[f'E_Duracion_Vuelo_Total'] = df[f'E_Duracion_Vuelo'] + df[f'E_Duracion_Vuelo2'] + df[f'E_Duracion_Vuelo3']  \n",
    "df[f'E_tierra_Total'] = df[f'E_tierra1'] + df[f'E_tierra2'] + df[f'E_tierra3']    \n",
    "\n",
    "df['E_acumulado_Total'] = df[f'E_Despegue_Total'] + df[f'E_Duracion_Vuelo_Total'] + df[f'E_tierra_Total'] \n"
   ]
  },
  {
   "cell_type": "markdown",
   "id": "eee9b345",
   "metadata": {},
   "source": [
    "# Estudio en Tierra primer aterrizaje."
   ]
  },
  {
   "cell_type": "code",
   "execution_count": null,
   "id": "84994c6b",
   "metadata": {
    "ExecuteTime": {
     "end_time": "2022-06-03T12:55:23.314788Z",
     "start_time": "2022-06-03T12:55:23.314788Z"
    }
   },
   "outputs": [],
   "source": [
    "sns.histplot(data= df3.E_tierra1, kde= True)"
   ]
  },
  {
   "cell_type": "code",
   "execution_count": null,
   "id": "e2ef1148",
   "metadata": {
    "ExecuteTime": {
     "end_time": "2022-06-03T12:55:23.315785Z",
     "start_time": "2022-06-03T12:55:23.315785Z"
    }
   },
   "outputs": [],
   "source": [
    "# Eliminar los outliers\n",
    "#df2=df1\n",
    "dfEliminarOutliers= ((df3['Secuencia']== 1) & (df3['E_tierra1']< 30) & (df3['E_tierra1']> -30))\n",
    "\n",
    "df3 = df3[dfEliminarOutliers]\n",
    "ax = sns.histplot(data= df3.E_tierra1, kde= True)\n",
    "print()\n",
    "print('Media filtrada = ', round(df3['E_tierra1'].mean(),2), 'minutos')\n",
    "\n",
    "media = round(df3['E_tierra1'].mean(),2)\n",
    "\n",
    "ax.axvline(media, color=\"red\", linestyle = '--', label=\"ooas\")       # Linea 0 verde\n",
    "ax.axvline(0, color=\"green\", linestyle = '--')"
   ]
  },
  {
   "cell_type": "code",
   "execution_count": null,
   "id": "e1410825",
   "metadata": {
    "ExecuteTime": {
     "end_time": "2022-06-03T12:55:23.316783Z",
     "start_time": "2022-06-03T12:55:23.316783Z"
    }
   },
   "outputs": [],
   "source": [
    "# Crear Subgrupos de tiempo de boarding:\n",
    "'''\n",
    "df3['t_boarding'] = pd.cut(df3['T_teoricoTierra1'], bins = [ -9000,0, 41, 46,51,60,100000], labels=['NEGATIVOS',\n",
    "                                                                                              '1.- >0 & <=41',\n",
    "                                                                                              '2.- >42 & <=46',\n",
    "                                                                                              '3.- >47 & <51',\n",
    "                                                                                              '4.- >52 & <60',\n",
    "                                                                                              '5.- >61'])\n",
    "'''\n",
    "\n",
    "df3['t_boarding'] = pd.cut(df3['T_teoricoTierra1'], bins = [ -9000, 0, 39, 40, 45, 50, 55, 60, 100000], labels=['NEGATIVOS',\n",
    "                                                                                                          \n",
    "                                                                                                          '1.- <40',\n",
    "                                                                                                          '2.- 40',\n",
    "                                                                                                          '3.- 45',\n",
    "                                                                                                          '4.- 50',\n",
    "                                                                                                          '5.- 55',\n",
    "                                                                                                          '6.- 60', \n",
    "                                                                                                          '7.- >60'])\n",
    "df3[['T_teoricoTierra1', 't_boarding']].head(5)"
   ]
  },
  {
   "cell_type": "code",
   "execution_count": null,
   "id": "55a1a585",
   "metadata": {
    "ExecuteTime": {
     "end_time": "2022-06-03T12:55:23.317780Z",
     "start_time": "2022-06-03T12:55:23.317780Z"
    },
    "code_folding": [
     0
    ]
   },
   "outputs": [],
   "source": [
    "# Para saber error primer boarding solo de Barcelona\n",
    "\n",
    "barcelonaTierra = (df3['Arrival']== 'BCN')\n",
    "\n",
    "df4BarcelonaTierra = df3[barcelonaTierra]\n",
    "df4BarcelonaTierra .head()\n",
    "df4BarcelonaTierraError  = round((df4BarcelonaTierra ['E_tierra1'].mean()),2)\n",
    "print('Error en el aterrizaje de Barcelona ', df4BarcelonaTierraError)"
   ]
  },
  {
   "cell_type": "code",
   "execution_count": null,
   "id": "53c924bd",
   "metadata": {
    "ExecuteTime": {
     "end_time": "2022-06-03T12:55:23.318779Z",
     "start_time": "2022-06-03T12:55:23.318779Z"
    }
   },
   "outputs": [],
   "source": [
    "# Intervalos de Confianza por aeropuerto\n",
    "\n",
    "sns.set_theme(style=\"darkgrid\")\n",
    "#tips = sns.df1(\"tips\")\n",
    "sns.set(rc = {'figure.figsize':(15,8)})      \n",
    "# Tamaño de la imagen\n",
    "ax = sns.pointplot(x='AeropuertoKey1', y = \"E_tierra1\", data= df3, scale=.1, kind = \"point\", capsize=0.13)\n",
    "\n",
    "ax.axhline(df4BarcelonaTierraError , color=\"red\", linestyle = '--', label=\"ooas\")       # Linea 0 verde\n",
    "ax.axhline(0, color=\"green\", linestyle = '--')\n",
    "\n",
    "\n",
    "textoBCN = \"BCN \"+ str(df4BarcelonaTierraError) + ' minut.'\n",
    "ax.text(df4BarcelonaTierraError  ,df4BarcelonaTierraError  , textoBCN, backgroundcolor='w')\n",
    "\n",
    "ax.set_title('Error primer t. BOARDING principales aeropuertos:', fontsize = 24)"
   ]
  },
  {
   "cell_type": "code",
   "execution_count": null,
   "id": "9e94b87d",
   "metadata": {
    "ExecuteTime": {
     "end_time": "2022-06-03T12:55:23.320772Z",
     "start_time": "2022-06-03T12:55:23.320772Z"
    }
   },
   "outputs": [],
   "source": [
    "df4BarcelonaTierra .head()"
   ]
  },
  {
   "cell_type": "code",
   "execution_count": null,
   "id": "00572232",
   "metadata": {
    "ExecuteTime": {
     "end_time": "2022-06-03T12:55:23.321769Z",
     "start_time": "2022-06-03T12:55:23.321769Z"
    }
   },
   "outputs": [],
   "source": [
    "# Contabilizar elementos por grupo de boarding\n",
    "df5= df3['t_boarding'].value_counts()\n",
    "#df5['t_boarding']= df5.sort_values('t_boarding')\n",
    "df5.head()\n",
    "df5"
   ]
  },
  {
   "cell_type": "code",
   "execution_count": null,
   "id": "8a35bd16",
   "metadata": {
    "ExecuteTime": {
     "end_time": "2022-06-03T12:55:23.322766Z",
     "start_time": "2022-06-03T12:55:23.322766Z"
    },
    "code_folding": [
     0
    ]
   },
   "outputs": [],
   "source": [
    "# Intervalos de Confianza por grupo de boarding.\n",
    "\n",
    "sns.set_theme(style=\"darkgrid\")\n",
    "#tips = sns.df1(\"tips\")\n",
    "sns.set(rc = {'figure.figsize':(15,8)})      \n",
    "# Tamaño de la imagen\n",
    "ax = sns.pointplot(x='t_boarding', y = \"E_tierra1\", data= df4BarcelonaTierra, scale=.1, kind = \"point\", capsize=0.13)\n",
    "\n",
    "#ax.axhline(puntualidadBCN, color=\"red\", linestyle = '--', label=\"ooas\")       # Linea 0 verde\n",
    "ax.axhline(0, color=\"green\", linestyle = '--')\n",
    "\n",
    "\n",
    "textoBCN = \"BCN \"+ str(df4BarcelonaTierraError) + ' minut.'\n",
    "ax.text(df4BarcelonaTierraError  ,df4BarcelonaTierraError  , textoBCN, backgroundcolor='w')\n",
    "\n",
    "ax.set_title('Error boarding BCN:', fontsize = 24)"
   ]
  },
  {
   "cell_type": "code",
   "execution_count": null,
   "id": "2beefa62",
   "metadata": {},
   "outputs": [],
   "source": []
  },
  {
   "cell_type": "markdown",
   "id": "3db1278a",
   "metadata": {},
   "source": [
    "# Guardar a EXCEL"
   ]
  },
  {
   "cell_type": "code",
   "execution_count": 388,
   "id": "e27c61c6",
   "metadata": {
    "ExecuteTime": {
     "end_time": "2022-06-03T12:55:23.382629Z",
     "start_time": "2022-06-03T12:55:23.370639Z"
    },
    "code_folding": []
   },
   "outputs": [
    {
     "data": {
      "text/plain": [
       "\"\\nborrarColumnas = ['C1', 'DLY1', 'C2', 'DLY2',\\n       'C3', 'DLY3', 'C4', 'DLY4', 'C2A', 'DLY2A', 'C1Des', 'C2Des', 'C3Des',\\n       'C4Des', 'CADes', 'ID', 'STAND', 'MSN']\\ndf3 = df3.drop(borrarColumnas, axis=1)\\n\""
      ]
     },
     "execution_count": 388,
     "metadata": {},
     "output_type": "execute_result"
    }
   ],
   "source": [
    "# Borro las columnas que no me interesan.\n",
    "\n",
    "'''\n",
    "borrarColumnas = ['C1', 'DLY1', 'C2', 'DLY2',\n",
    "       'C3', 'DLY3', 'C4', 'DLY4', 'C2A', 'DLY2A', 'C1Des', 'C2Des', 'C3Des',\n",
    "       'C4Des', 'CADes', 'ID', 'STAND', 'MSN']\n",
    "df3 = df3.drop(borrarColumnas, axis=1)\n",
    "'''"
   ]
  },
  {
   "cell_type": "code",
   "execution_count": 389,
   "id": "0147e718",
   "metadata": {
    "ExecuteTime": {
     "end_time": "2022-06-03T12:55:23.398592Z",
     "start_time": "2022-06-03T12:55:23.384602Z"
    }
   },
   "outputs": [
    {
     "ename": "NameError",
     "evalue": "name 'df3' is not defined",
     "output_type": "error",
     "traceback": [
      "\u001b[1;31m---------------------------------------------------------------------------\u001b[0m",
      "\u001b[1;31mNameError\u001b[0m                                 Traceback (most recent call last)",
      "\u001b[1;32m~\\AppData\\Local\\Temp/ipykernel_14856/3096692924.py\u001b[0m in \u001b[0;36m<module>\u001b[1;34m\u001b[0m\n\u001b[1;32m----> 1\u001b[1;33m \u001b[0mdf3\u001b[0m\u001b[1;33m.\u001b[0m\u001b[0mcolumns\u001b[0m\u001b[1;33m\u001b[0m\u001b[1;33m\u001b[0m\u001b[0m\n\u001b[0m",
      "\u001b[1;31mNameError\u001b[0m: name 'df3' is not defined"
     ]
    }
   ],
   "source": [
    "df3.columns"
   ]
  },
  {
   "cell_type": "code",
   "execution_count": null,
   "id": "bb7e533f",
   "metadata": {
    "ExecuteTime": {
     "end_time": "2022-06-03T12:55:23.399562Z",
     "start_time": "2022-06-03T12:55:23.399562Z"
    }
   },
   "outputs": [],
   "source": [
    "# Guardar excel\n",
    "\n",
    "#df3.to_excel(r\"D:\\Documentos D\\02.- Datos Vueling\\Vueling_Python_MAR_\" + Hoja + \".xlsx\")\n",
    "print()\n",
    "print('Guardado fichero : Vueling_Python.xlsx')\n",
    "print()"
   ]
  },
  {
   "cell_type": "markdown",
   "id": "c69025f3",
   "metadata": {},
   "source": [
    "# Estudio de la duracion del vuelo"
   ]
  },
  {
   "cell_type": "code",
   "execution_count": 390,
   "id": "420d51b2",
   "metadata": {
    "ExecuteTime": {
     "end_time": "2022-06-03T12:55:23.507301Z",
     "start_time": "2022-06-03T12:55:23.469374Z"
    }
   },
   "outputs": [
    {
     "data": {
      "text/html": [
       "<div><div id=1482dafc-3f88-4795-a7c5-8623400cc9ea style=\"display:none; background-color:#9D6CFF; color:white; width:200px; height:30px; padding-left:5px; border-radius:4px; flex-direction:row; justify-content:space-around; align-items:center;\" onmouseover=\"this.style.backgroundColor='#BA9BF8'\" onmouseout=\"this.style.backgroundColor='#9D6CFF'\" onclick=\"window.commands?.execute('create-mitosheet-from-dataframe-output');\">See Full Dataframe in Mito</div> <script> if (window.commands?.hasCommand('create-mitosheet-from-dataframe-output')) document.getElementById('1482dafc-3f88-4795-a7c5-8623400cc9ea').style.display = 'flex' </script> <table border=\"1\" class=\"dataframe\">\n",
       "  <thead>\n",
       "    <tr style=\"text-align: right;\">\n",
       "      <th></th>\n",
       "      <th>Trayecto</th>\n",
       "      <th>grupoTrayecto</th>\n",
       "    </tr>\n",
       "  </thead>\n",
       "  <tbody>\n",
       "    <tr>\n",
       "      <th>0</th>\n",
       "      <td>BCN-PMI</td>\n",
       "      <td>BCN-PMI</td>\n",
       "    </tr>\n",
       "    <tr>\n",
       "      <th>1</th>\n",
       "      <td>BCN-SVQ</td>\n",
       "      <td>BCN-SVQ</td>\n",
       "    </tr>\n",
       "    <tr>\n",
       "      <th>2</th>\n",
       "      <td>BCN-ORY</td>\n",
       "      <td>BCN-ORY</td>\n",
       "    </tr>\n",
       "  </tbody>\n",
       "</table></div>"
      ],
      "text/plain": [
       "  Trayecto grupoTrayecto\n",
       "0  BCN-PMI       BCN-PMI\n",
       "1  BCN-SVQ       BCN-SVQ\n",
       "2  BCN-ORY       BCN-ORY"
      ]
     },
     "execution_count": 390,
     "metadata": {},
     "output_type": "execute_result"
    }
   ],
   "source": [
    "# Identifico los Aeropuertos principales.\n",
    "\n",
    "\n",
    "path =(r\"D:\\Documentos D\\02.- Datos Vueling\\Vueling_Trayectos_Duracion_Vuelo.xlsx\")\n",
    "df_Trayectos = pd.read_excel(path, sheet_name='Trayectos')\n",
    "df_Trayectos = df_Trayectos.drop(['Borrar'], axis=1)\n",
    "df_Trayectos.head(3)"
   ]
  },
  {
   "cell_type": "code",
   "execution_count": 391,
   "id": "8ef44025",
   "metadata": {
    "ExecuteTime": {
     "end_time": "2022-06-03T12:55:23.538191Z",
     "start_time": "2022-06-03T12:55:23.509268Z"
    }
   },
   "outputs": [
    {
     "ename": "KeyError",
     "evalue": "\"['Leg Code' 'Total DLY Dep' 'Close Pax Door' 'Close Cargo Door'\\n 'Open Cargo/Pax Door' 'Stand Dep' 'Stand Arr' 'lag_STD' 'lag_ATD'\\n 't_ClosePax' 't_Close_Cargo_Door' 'T_teoricoTierra1' 'T_RealTierra1'\\n 't_Entre_Puertas'] not found in axis\"",
     "output_type": "error",
     "traceback": [
      "\u001b[1;31m---------------------------------------------------------------------------\u001b[0m",
      "\u001b[1;31mKeyError\u001b[0m                                  Traceback (most recent call last)",
      "\u001b[1;32m~\\AppData\\Local\\Temp/ipykernel_14856/3376717725.py\u001b[0m in \u001b[0;36m<module>\u001b[1;34m\u001b[0m\n\u001b[0;32m      9\u001b[0m                   'T_RealTierra1', 't_Entre_Puertas']\n\u001b[0;32m     10\u001b[0m \u001b[1;33m\u001b[0m\u001b[0m\n\u001b[1;32m---> 11\u001b[1;33m \u001b[0mdf5\u001b[0m \u001b[1;33m=\u001b[0m \u001b[0mdf5\u001b[0m\u001b[1;33m.\u001b[0m\u001b[0mdrop\u001b[0m\u001b[1;33m(\u001b[0m\u001b[0mborrarColumnas\u001b[0m\u001b[1;33m,\u001b[0m \u001b[0maxis\u001b[0m\u001b[1;33m=\u001b[0m\u001b[1;36m1\u001b[0m\u001b[1;33m)\u001b[0m\u001b[1;33m\u001b[0m\u001b[1;33m\u001b[0m\u001b[0m\n\u001b[0m\u001b[0;32m     12\u001b[0m \u001b[0mdf5\u001b[0m\u001b[1;33m.\u001b[0m\u001b[0mhead\u001b[0m\u001b[1;33m(\u001b[0m\u001b[1;36m1\u001b[0m\u001b[1;33m)\u001b[0m\u001b[1;33m\u001b[0m\u001b[1;33m\u001b[0m\u001b[0m\n",
      "\u001b[1;32m~\\anaconda3\\lib\\site-packages\\pandas\\util\\_decorators.py\u001b[0m in \u001b[0;36mwrapper\u001b[1;34m(*args, **kwargs)\u001b[0m\n\u001b[0;32m    309\u001b[0m                     \u001b[0mstacklevel\u001b[0m\u001b[1;33m=\u001b[0m\u001b[0mstacklevel\u001b[0m\u001b[1;33m,\u001b[0m\u001b[1;33m\u001b[0m\u001b[1;33m\u001b[0m\u001b[0m\n\u001b[0;32m    310\u001b[0m                 )\n\u001b[1;32m--> 311\u001b[1;33m             \u001b[1;32mreturn\u001b[0m \u001b[0mfunc\u001b[0m\u001b[1;33m(\u001b[0m\u001b[1;33m*\u001b[0m\u001b[0margs\u001b[0m\u001b[1;33m,\u001b[0m \u001b[1;33m**\u001b[0m\u001b[0mkwargs\u001b[0m\u001b[1;33m)\u001b[0m\u001b[1;33m\u001b[0m\u001b[1;33m\u001b[0m\u001b[0m\n\u001b[0m\u001b[0;32m    312\u001b[0m \u001b[1;33m\u001b[0m\u001b[0m\n\u001b[0;32m    313\u001b[0m         \u001b[1;32mreturn\u001b[0m \u001b[0mwrapper\u001b[0m\u001b[1;33m\u001b[0m\u001b[1;33m\u001b[0m\u001b[0m\n",
      "\u001b[1;32m~\\anaconda3\\lib\\site-packages\\pandas\\core\\frame.py\u001b[0m in \u001b[0;36mdrop\u001b[1;34m(self, labels, axis, index, columns, level, inplace, errors)\u001b[0m\n\u001b[0;32m   4904\u001b[0m                 \u001b[0mweight\u001b[0m  \u001b[1;36m1.0\u001b[0m     \u001b[1;36m0.8\u001b[0m\u001b[1;33m\u001b[0m\u001b[1;33m\u001b[0m\u001b[0m\n\u001b[0;32m   4905\u001b[0m         \"\"\"\n\u001b[1;32m-> 4906\u001b[1;33m         return super().drop(\n\u001b[0m\u001b[0;32m   4907\u001b[0m             \u001b[0mlabels\u001b[0m\u001b[1;33m=\u001b[0m\u001b[0mlabels\u001b[0m\u001b[1;33m,\u001b[0m\u001b[1;33m\u001b[0m\u001b[1;33m\u001b[0m\u001b[0m\n\u001b[0;32m   4908\u001b[0m             \u001b[0maxis\u001b[0m\u001b[1;33m=\u001b[0m\u001b[0maxis\u001b[0m\u001b[1;33m,\u001b[0m\u001b[1;33m\u001b[0m\u001b[1;33m\u001b[0m\u001b[0m\n",
      "\u001b[1;32m~\\anaconda3\\lib\\site-packages\\pandas\\core\\generic.py\u001b[0m in \u001b[0;36mdrop\u001b[1;34m(self, labels, axis, index, columns, level, inplace, errors)\u001b[0m\n\u001b[0;32m   4148\u001b[0m         \u001b[1;32mfor\u001b[0m \u001b[0maxis\u001b[0m\u001b[1;33m,\u001b[0m \u001b[0mlabels\u001b[0m \u001b[1;32min\u001b[0m \u001b[0maxes\u001b[0m\u001b[1;33m.\u001b[0m\u001b[0mitems\u001b[0m\u001b[1;33m(\u001b[0m\u001b[1;33m)\u001b[0m\u001b[1;33m:\u001b[0m\u001b[1;33m\u001b[0m\u001b[1;33m\u001b[0m\u001b[0m\n\u001b[0;32m   4149\u001b[0m             \u001b[1;32mif\u001b[0m \u001b[0mlabels\u001b[0m \u001b[1;32mis\u001b[0m \u001b[1;32mnot\u001b[0m \u001b[1;32mNone\u001b[0m\u001b[1;33m:\u001b[0m\u001b[1;33m\u001b[0m\u001b[1;33m\u001b[0m\u001b[0m\n\u001b[1;32m-> 4150\u001b[1;33m                 \u001b[0mobj\u001b[0m \u001b[1;33m=\u001b[0m \u001b[0mobj\u001b[0m\u001b[1;33m.\u001b[0m\u001b[0m_drop_axis\u001b[0m\u001b[1;33m(\u001b[0m\u001b[0mlabels\u001b[0m\u001b[1;33m,\u001b[0m \u001b[0maxis\u001b[0m\u001b[1;33m,\u001b[0m \u001b[0mlevel\u001b[0m\u001b[1;33m=\u001b[0m\u001b[0mlevel\u001b[0m\u001b[1;33m,\u001b[0m \u001b[0merrors\u001b[0m\u001b[1;33m=\u001b[0m\u001b[0merrors\u001b[0m\u001b[1;33m)\u001b[0m\u001b[1;33m\u001b[0m\u001b[1;33m\u001b[0m\u001b[0m\n\u001b[0m\u001b[0;32m   4151\u001b[0m \u001b[1;33m\u001b[0m\u001b[0m\n\u001b[0;32m   4152\u001b[0m         \u001b[1;32mif\u001b[0m \u001b[0minplace\u001b[0m\u001b[1;33m:\u001b[0m\u001b[1;33m\u001b[0m\u001b[1;33m\u001b[0m\u001b[0m\n",
      "\u001b[1;32m~\\anaconda3\\lib\\site-packages\\pandas\\core\\generic.py\u001b[0m in \u001b[0;36m_drop_axis\u001b[1;34m(self, labels, axis, level, errors)\u001b[0m\n\u001b[0;32m   4212\u001b[0m                 \u001b[0mlabels_missing\u001b[0m \u001b[1;33m=\u001b[0m \u001b[1;33m(\u001b[0m\u001b[0maxis\u001b[0m\u001b[1;33m.\u001b[0m\u001b[0mget_indexer_for\u001b[0m\u001b[1;33m(\u001b[0m\u001b[0mlabels\u001b[0m\u001b[1;33m)\u001b[0m \u001b[1;33m==\u001b[0m \u001b[1;33m-\u001b[0m\u001b[1;36m1\u001b[0m\u001b[1;33m)\u001b[0m\u001b[1;33m.\u001b[0m\u001b[0many\u001b[0m\u001b[1;33m(\u001b[0m\u001b[1;33m)\u001b[0m\u001b[1;33m\u001b[0m\u001b[1;33m\u001b[0m\u001b[0m\n\u001b[0;32m   4213\u001b[0m                 \u001b[1;32mif\u001b[0m \u001b[0merrors\u001b[0m \u001b[1;33m==\u001b[0m \u001b[1;34m\"raise\"\u001b[0m \u001b[1;32mand\u001b[0m \u001b[0mlabels_missing\u001b[0m\u001b[1;33m:\u001b[0m\u001b[1;33m\u001b[0m\u001b[1;33m\u001b[0m\u001b[0m\n\u001b[1;32m-> 4214\u001b[1;33m                     \u001b[1;32mraise\u001b[0m \u001b[0mKeyError\u001b[0m\u001b[1;33m(\u001b[0m\u001b[1;34mf\"{labels} not found in axis\"\u001b[0m\u001b[1;33m)\u001b[0m\u001b[1;33m\u001b[0m\u001b[1;33m\u001b[0m\u001b[0m\n\u001b[0m\u001b[0;32m   4215\u001b[0m \u001b[1;33m\u001b[0m\u001b[0m\n\u001b[0;32m   4216\u001b[0m             \u001b[0mslicer\u001b[0m \u001b[1;33m=\u001b[0m \u001b[1;33m[\u001b[0m\u001b[0mslice\u001b[0m\u001b[1;33m(\u001b[0m\u001b[1;32mNone\u001b[0m\u001b[1;33m)\u001b[0m\u001b[1;33m]\u001b[0m \u001b[1;33m*\u001b[0m \u001b[0mself\u001b[0m\u001b[1;33m.\u001b[0m\u001b[0mndim\u001b[0m\u001b[1;33m\u001b[0m\u001b[1;33m\u001b[0m\u001b[0m\n",
      "\u001b[1;31mKeyError\u001b[0m: \"['Leg Code' 'Total DLY Dep' 'Close Pax Door' 'Close Cargo Door'\\n 'Open Cargo/Pax Door' 'Stand Dep' 'Stand Arr' 'lag_STD' 'lag_ATD'\\n 't_ClosePax' 't_Close_Cargo_Door' 'T_teoricoTierra1' 'T_RealTierra1'\\n 't_Entre_Puertas'] not found in axis\""
     ]
    }
   ],
   "source": [
    "# Solo escojo los datos que necesito para le calculo volando\n",
    "\n",
    "df.columns\n",
    "df5 = df\n",
    "borrarColumnas = ['Leg Code', 'Total DLY Dep', 'Close Pax Door',\n",
    "                  'Close Cargo Door', 'Open Cargo/Pax Door', 'Stand Dep', 'Stand Arr',\n",
    "                  'lag_STD', 'lag_ATD',                  't_ClosePax', 't_Close_Cargo_Door',\n",
    "                  'T_teoricoTierra1',\n",
    "                  'T_RealTierra1', 't_Entre_Puertas']\n",
    "\n",
    "df5 = df5.drop(borrarColumnas, axis=1)\n",
    "df5.head(1)"
   ]
  },
  {
   "cell_type": "code",
   "execution_count": null,
   "id": "455f98c4",
   "metadata": {
    "ExecuteTime": {
     "end_time": "2022-06-03T12:55:23.540214Z",
     "start_time": "2022-06-03T12:55:23.540214Z"
    },
    "run_control": {
     "marked": true
    }
   },
   "outputs": [],
   "source": [
    "# Agrupo por Trayecto\n",
    "\n",
    "df5 = pd.merge(df5, df_Trayectos, left_on='Trayecto', right_on='Trayecto')\n",
    "\n",
    "\n",
    "df5 = df5.sort_values(['Flight Date', 'Tail', 'STD'])\n",
    "df5 = df5.reset_index(drop=True) \n",
    "df5.head(3)"
   ]
  },
  {
   "cell_type": "code",
   "execution_count": null,
   "id": "e148c358",
   "metadata": {
    "ExecuteTime": {
     "end_time": "2022-06-03T12:55:23.541183Z",
     "start_time": "2022-06-03T12:55:23.541183Z"
    }
   },
   "outputs": [],
   "source": [
    "#Save only the first secuence.\n",
    "\n",
    "dfRegistros1= (df5['Secuencia']== 1) \n",
    "\n",
    "df5 = df5[dfRegistros1]\n",
    "\n",
    "\n",
    "df5.to_excel(r\"D:\\Documentos D\\02.- Datos Vueling\\Vueling_Python_MAR_Vuelo_\" + Hoja + \".xlsx\")\n",
    "print()\n",
    "print('Guardado fichero : Vueling_Python_MAR_Vuelo.xlsx')\n",
    "print()"
   ]
  },
  {
   "cell_type": "code",
   "execution_count": null,
   "id": "f9942e0d",
   "metadata": {},
   "outputs": [],
   "source": []
  }
 ],
 "metadata": {
  "hide_input": false,
  "kernelspec": {
   "display_name": "Python 3 (ipykernel)",
   "language": "python",
   "name": "python3"
  },
  "language_info": {
   "codemirror_mode": {
    "name": "ipython",
    "version": 3
   },
   "file_extension": ".py",
   "mimetype": "text/x-python",
   "name": "python",
   "nbconvert_exporter": "python",
   "pygments_lexer": "ipython3",
   "version": "3.8.8"
  },
  "toc": {
   "base_numbering": 1,
   "nav_menu": {},
   "number_sections": true,
   "sideBar": true,
   "skip_h1_title": false,
   "title_cell": "Table of Contents",
   "title_sidebar": "Contents",
   "toc_cell": false,
   "toc_position": {},
   "toc_section_display": true,
   "toc_window_display": true
  },
  "varInspector": {
   "cols": {
    "lenName": 16,
    "lenType": 16,
    "lenVar": 40
   },
   "kernels_config": {
    "python": {
     "delete_cmd_postfix": "",
     "delete_cmd_prefix": "del ",
     "library": "var_list.py",
     "varRefreshCmd": "print(var_dic_list())"
    },
    "r": {
     "delete_cmd_postfix": ") ",
     "delete_cmd_prefix": "rm(",
     "library": "var_list.r",
     "varRefreshCmd": "cat(var_dic_list()) "
    }
   },
   "types_to_exclude": [
    "module",
    "function",
    "builtin_function_or_method",
    "instance",
    "_Feature"
   ],
   "window_display": false
  }
 },
 "nbformat": 4,
 "nbformat_minor": 5
}
